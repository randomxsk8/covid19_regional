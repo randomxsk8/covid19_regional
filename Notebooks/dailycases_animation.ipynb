{
 "cells": [
  {
   "cell_type": "markdown",
   "metadata": {},
   "source": [
    "## Drawing daily cases on a map by country"
   ]
  },
  {
   "cell_type": "markdown",
   "metadata": {},
   "source": [
    "For this notebook i followed this tutorial:\n",
    "    https://opensource.com/article/20/4/python-map-covid-19"
   ]
  },
  {
   "cell_type": "code",
   "execution_count": 1,
   "metadata": {},
   "outputs": [],
   "source": [
    "import pycountry\n",
    "import plotly.express as px\n",
    "import pandas as pd"
   ]
  },
  {
   "cell_type": "code",
   "execution_count": 14,
   "metadata": {},
   "outputs": [],
   "source": [
    "my_df = pd.read_csv(\"../csv_final/World_cases_by_region.csv\", sep = \",\").drop(columns=\"Unnamed: 0\")\n",
    "di = {'Bolivia' :'Bolivia, Plurinational State of','United States of America':'United States',\n",
    "     'Czech Republic':'Czechia','Deutschland':'Germany','New Zeland':'New Zealand', 'Korea':'Korea, Republic of', 'Thai':'Thailand'}\n",
    "df_dailycases = my_df.replace({\"state\": di})\n",
    "df_dailycases = df_dailycases.groupby([\"state\",\"date\"]).sum().reset_index().rename(columns={'dailycases':'Cases'}).sort_values(by=['date'])\n",
    "df_dailycases = df_dailycases[df_dailycases.Cases > 0] "
   ]
  },
  {
   "cell_type": "code",
   "execution_count": 44,
   "metadata": {},
   "outputs": [],
   "source": [
    "list_countries = df_dailycases['state'].unique().tolist()\n",
    "d_country_code = {} \n",
    "for country in list_countries:\n",
    "        country_data = pycountry.countries.search_fuzzy(country)\n",
    "        country_code = country_data[0].alpha_3\n",
    "        d_country_code.update({country: country_code})\n",
    "    \n",
    "for k, v in d_country_code.items():\n",
    "    df_dailycases.loc[(df_dailycases.state == k), 'iso_alpha'] = v"
   ]
  },
  {
   "cell_type": "code",
   "execution_count": 49,
   "metadata": {},
   "outputs": [
    {
     "data": {
      "application/vnd.plotly.v1+json": {
       "config": {
        "plotlyServerURL": "https://plot.ly"
       },
       "data": [
        {
         "coloraxis": "coloraxis",
         "geo": "geo",
         "hovertemplate": "<b>%{hovertext}</b><br><br>date=2020-01-04<br>iso_alpha=%{location}<br>Cases=%{z}<extra></extra>",
         "hovertext": [
          "Thailand"
         ],
         "locations": [
          "THA"
         ],
         "name": "",
         "type": "choropleth",
         "z": [
          52
         ]
        }
       ],
       "frames": [
        {
         "data": [
          {
           "coloraxis": "coloraxis",
           "geo": "geo",
           "hovertemplate": "<b>%{hovertext}</b><br><br>date=2020-01-04<br>iso_alpha=%{location}<br>Cases=%{z}<extra></extra>",
           "hovertext": [
            "Thailand"
           ],
           "locations": [
            "THA"
           ],
           "name": "",
           "type": "choropleth",
           "z": [
            52
           ]
          }
         ],
         "name": "2020-01-04"
        },
        {
         "data": [
          {
           "coloraxis": "coloraxis",
           "geo": "geo",
           "hovertemplate": "<b>%{hovertext}</b><br><br>date=2020-01-05<br>iso_alpha=%{location}<br>Cases=%{z}<extra></extra>",
           "hovertext": [
            "Thailand"
           ],
           "locations": [
            "THA"
           ],
           "name": "",
           "type": "choropleth",
           "z": [
            6
           ]
          }
         ],
         "name": "2020-01-05"
        },
        {
         "data": [
          {
           "coloraxis": "coloraxis",
           "geo": "geo",
           "hovertemplate": "<b>%{hovertext}</b><br><br>date=2020-01-15<br>iso_alpha=%{location}<br>Cases=%{z}<extra></extra>",
           "hovertext": [
            "Japan"
           ],
           "locations": [
            "JPN"
           ],
           "name": "",
           "type": "choropleth",
           "z": [
            1
           ]
          }
         ],
         "name": "2020-01-15"
        },
        {
         "data": [
          {
           "coloraxis": "coloraxis",
           "geo": "geo",
           "hovertemplate": "<b>%{hovertext}</b><br><br>date=2020-01-20<br>iso_alpha=%{location}<br>Cases=%{z}<extra></extra>",
           "hovertext": [
            "Korea, Republic of"
           ],
           "locations": [
            "KOR"
           ],
           "name": "",
           "type": "choropleth",
           "z": [
            1
           ]
          }
         ],
         "name": "2020-01-20"
        },
        {
         "data": [
          {
           "coloraxis": "coloraxis",
           "geo": "geo",
           "hovertemplate": "<b>%{hovertext}</b><br><br>date=2020-01-21<br>iso_alpha=%{location}<br>Cases=%{z}<extra></extra>",
           "hovertext": [
            "United States",
            "China"
           ],
           "locations": [
            "USA",
            "CHN"
           ],
           "name": "",
           "type": "choropleth",
           "z": [
            1,
            278
           ]
          }
         ],
         "name": "2020-01-21"
        },
        {
         "data": [
          {
           "coloraxis": "coloraxis",
           "geo": "geo",
           "hovertemplate": "<b>%{hovertext}</b><br><br>date=2020-01-22<br>iso_alpha=%{location}<br>Cases=%{z}<extra></extra>",
           "hovertext": [
            "China"
           ],
           "locations": [
            "CHN"
           ],
           "name": "",
           "type": "choropleth",
           "z": [
            31
           ]
          }
         ],
         "name": "2020-01-22"
        },
        {
         "data": [
          {
           "coloraxis": "coloraxis",
           "geo": "geo",
           "hovertemplate": "<b>%{hovertext}</b><br><br>date=2020-01-23<br>iso_alpha=%{location}<br>Cases=%{z}<extra></extra>",
           "hovertext": [
            "China"
           ],
           "locations": [
            "CHN"
           ],
           "name": "",
           "type": "choropleth",
           "z": [
            134
           ]
          }
         ],
         "name": "2020-01-23"
        },
        {
         "data": [
          {
           "coloraxis": "coloraxis",
           "geo": "geo",
           "hovertemplate": "<b>%{hovertext}</b><br><br>date=2020-01-24<br>iso_alpha=%{location}<br>Cases=%{z}<extra></extra>",
           "hovertext": [
            "United States",
            "Korea, Republic of",
            "China",
            "Japan"
           ],
           "locations": [
            "USA",
            "KOR",
            "CHN",
            "JPN"
           ],
           "name": "",
           "type": "choropleth",
           "z": [
            1,
            1,
            8,
            1
           ]
          }
         ],
         "name": "2020-01-24"
        },
        {
         "data": [
          {
           "coloraxis": "coloraxis",
           "geo": "geo",
           "hovertemplate": "<b>%{hovertext}</b><br><br>date=2020-01-25<br>iso_alpha=%{location}<br>Cases=%{z}<extra></extra>",
           "hovertext": [
            "China",
            "Japan",
            "United States",
            "Canada",
            "Australia"
           ],
           "locations": [
            "CHN",
            "JPN",
            "USA",
            "CAN",
            "AUS"
           ],
           "name": "",
           "type": "choropleth",
           "z": [
            5,
            1,
            1,
            1,
            4
           ]
          }
         ],
         "name": "2020-01-25"
        },
        {
         "data": [
          {
           "coloraxis": "coloraxis",
           "geo": "geo",
           "hovertemplate": "<b>%{hovertext}</b><br><br>date=2020-01-26<br>iso_alpha=%{location}<br>Cases=%{z}<extra></extra>",
           "hovertext": [
            "United States",
            "Korea, Republic of",
            "Japan"
           ],
           "locations": [
            "USA",
            "KOR",
            "JPN"
           ],
           "name": "",
           "type": "choropleth",
           "z": [
            2,
            1,
            1
           ]
          }
         ],
         "name": "2020-01-26"
        },
        {
         "data": [
          {
           "coloraxis": "coloraxis",
           "geo": "geo",
           "hovertemplate": "<b>%{hovertext}</b><br><br>date=2020-01-27<br>iso_alpha=%{location}<br>Cases=%{z}<extra></extra>",
           "hovertext": [
            "Korea, Republic of",
            "China",
            "Canada",
            "Australia"
           ],
           "locations": [
            "KOR",
            "CHN",
            "CAN",
            "AUS"
           ],
           "name": "",
           "type": "choropleth",
           "z": [
            1,
            7,
            1,
            1
           ]
          }
         ],
         "name": "2020-01-27"
        },
        {
         "data": [
          {
           "coloraxis": "coloraxis",
           "geo": "geo",
           "hovertemplate": "<b>%{hovertext}</b><br><br>date=2020-01-28<br>iso_alpha=%{location}<br>Cases=%{z}<extra></extra>",
           "hovertext": [
            "Canada",
            "China",
            "Japan",
            "Germany"
           ],
           "locations": [
            "CAN",
            "CHN",
            "JPN",
            "DEU"
           ],
           "name": "",
           "type": "choropleth",
           "z": [
            1,
            5,
            3,
            4
           ]
          }
         ],
         "name": "2020-01-28"
        },
        {
         "data": [
          {
           "coloraxis": "coloraxis",
           "geo": "geo",
           "hovertemplate": "<b>%{hovertext}</b><br><br>date=2020-01-29<br>iso_alpha=%{location}<br>Cases=%{z}<extra></extra>",
           "hovertext": [
            "Australia",
            "Japan",
            "China",
            "Germany"
           ],
           "locations": [
            "AUS",
            "JPN",
            "CHN",
            "DEU"
           ],
           "name": "",
           "type": "choropleth",
           "z": [
            4,
            1,
            1,
            2
           ]
          }
         ],
         "name": "2020-01-29"
        },
        {
         "data": [
          {
           "coloraxis": "coloraxis",
           "geo": "geo",
           "hovertemplate": "<b>%{hovertext}</b><br><br>date=2020-01-30<br>iso_alpha=%{location}<br>Cases=%{z}<extra></extra>",
           "hovertext": [
            "United States",
            "Korea, Republic of",
            "Japan",
            "United Kingdom",
            "China",
            "India"
           ],
           "locations": [
            "USA",
            "KOR",
            "JPN",
            "GBR",
            "CHN",
            "IND"
           ],
           "name": "",
           "type": "choropleth",
           "z": [
            1,
            3,
            3,
            1,
            2,
            1
           ]
          }
         ],
         "name": "2020-01-30"
        },
        {
         "data": [
          {
           "coloraxis": "coloraxis",
           "geo": "geo",
           "hovertemplate": "<b>%{hovertext}</b><br><br>date=2020-01-31<br>iso_alpha=%{location}<br>Cases=%{z}<extra></extra>",
           "hovertext": [
            "Germany",
            "Korea, Republic of",
            "Canada",
            "Japan",
            "United Kingdom",
            "China",
            "United States"
           ],
           "locations": [
            "DEU",
            "KOR",
            "CAN",
            "JPN",
            "GBR",
            "CHN",
            "USA"
           ],
           "name": "",
           "type": "choropleth",
           "z": [
            3,
            4,
            1,
            1,
            4,
            3,
            1
           ]
          }
         ],
         "name": "2020-01-31"
        },
        {
         "data": [
          {
           "coloraxis": "coloraxis",
           "geo": "geo",
           "hovertemplate": "<b>%{hovertext}</b><br><br>date=2020-02-01<br>iso_alpha=%{location}<br>Cases=%{z}<extra></extra>",
           "hovertext": [
            "Korea, Republic of",
            "Australia",
            "China",
            "United States"
           ],
           "locations": [
            "KOR",
            "AUS",
            "CHN",
            "USA"
           ],
           "name": "",
           "type": "choropleth",
           "z": [
            1,
            1,
            11347,
            1
           ]
          }
         ],
         "name": "2020-02-01"
        },
        {
         "data": [
          {
           "coloraxis": "coloraxis",
           "geo": "geo",
           "hovertemplate": "<b>%{hovertext}</b><br><br>date=2020-02-02<br>iso_alpha=%{location}<br>Cases=%{z}<extra></extra>",
           "hovertext": [
            "Australia",
            "China",
            "United States",
            "India",
            "Korea, Republic of"
           ],
           "locations": [
            "AUS",
            "CHN",
            "USA",
            "IND",
            "KOR"
           ],
           "name": "",
           "type": "choropleth",
           "z": [
            2,
            2590,
            3,
            1,
            3
           ]
          }
         ],
         "name": "2020-02-02"
        },
        {
         "data": [
          {
           "coloraxis": "coloraxis",
           "geo": "geo",
           "hovertemplate": "<b>%{hovertext}</b><br><br>date=2020-02-03<br>iso_alpha=%{location}<br>Cases=%{z}<extra></extra>",
           "hovertext": [
            "India",
            "United Kingdom",
            "Germany",
            "China"
           ],
           "locations": [
            "IND",
            "GBR",
            "DEU",
            "CHN"
           ],
           "name": "",
           "type": "choropleth",
           "z": [
            1,
            8,
            1,
            2827
           ]
          }
         ],
         "name": "2020-02-03"
        },
        {
         "data": [
          {
           "coloraxis": "coloraxis",
           "geo": "geo",
           "hovertemplate": "<b>%{hovertext}</b><br><br>date=2020-02-04<br>iso_alpha=%{location}<br>Cases=%{z}<extra></extra>",
           "hovertext": [
            "Germany",
            "Thailand",
            "Canada",
            "China",
            "Korea, Republic of",
            "Japan",
            "Australia"
           ],
           "locations": [
            "DEU",
            "THA",
            "CAN",
            "CHN",
            "KOR",
            "JPN",
            "AUS"
           ],
           "name": "",
           "type": "choropleth",
           "z": [
            5,
            38,
            1,
            3233,
            1,
            2,
            1
           ]
          }
         ],
         "name": "2020-02-04"
        },
        {
         "data": [
          {
           "coloraxis": "coloraxis",
           "geo": "geo",
           "hovertemplate": "<b>%{hovertext}</b><br><br>date=2020-02-05<br>iso_alpha=%{location}<br>Cases=%{z}<extra></extra>",
           "hovertext": [
            "Korea, Republic of",
            "Japan",
            "Thailand",
            "Australia",
            "China",
            "United States",
            "United Kingdom"
           ],
           "locations": [
            "KOR",
            "JPN",
            "THA",
            "AUS",
            "CHN",
            "USA",
            "GBR"
           ],
           "name": "",
           "type": "choropleth",
           "z": [
            5,
            2,
            6,
            1,
            3892,
            1,
            1
           ]
          }
         ],
         "name": "2020-02-05"
        },
        {
         "data": [
          {
           "coloraxis": "coloraxis",
           "geo": "geo",
           "hovertemplate": "<b>%{hovertext}</b><br><br>date=2020-02-06<br>iso_alpha=%{location}<br>Cases=%{z}<extra></extra>",
           "hovertext": [
            "Australia",
            "Canada",
            "Germany",
            "Korea, Republic of",
            "China"
           ],
           "locations": [
            "AUS",
            "CAN",
            "DEU",
            "KOR",
            "CHN"
           ],
           "name": "",
           "type": "choropleth",
           "z": [
            1,
            2,
            1,
            3,
            3697
           ]
          }
         ],
         "name": "2020-02-06"
        },
        {
         "data": [
          {
           "coloraxis": "coloraxis",
           "geo": "geo",
           "hovertemplate": "<b>%{hovertext}</b><br><br>date=2020-02-07<br>iso_alpha=%{location}<br>Cases=%{z}<extra></extra>",
           "hovertext": [
            "Germany",
            "China"
           ],
           "locations": [
            "DEU",
            "CHN"
           ],
           "name": "",
           "type": "choropleth",
           "z": [
            1,
            3166
           ]
          }
         ],
         "name": "2020-02-07"
        },
        {
         "data": [
          {
           "coloraxis": "coloraxis",
           "geo": "geo",
           "hovertemplate": "<b>%{hovertext}</b><br><br>date=2020-02-08<br>iso_alpha=%{location}<br>Cases=%{z}<extra></extra>",
           "hovertext": [
            "Thailand",
            "China",
            "United Kingdom"
           ],
           "locations": [
            "THA",
            "CHN",
            "GBR"
           ],
           "name": "",
           "type": "choropleth",
           "z": [
            1,
            3385,
            3
           ]
          }
         ],
         "name": "2020-02-08"
        },
        {
         "data": [
          {
           "coloraxis": "coloraxis",
           "geo": "geo",
           "hovertemplate": "<b>%{hovertext}</b><br><br>date=2020-02-09<br>iso_alpha=%{location}<br>Cases=%{z}<extra></extra>",
           "hovertext": [
            "China",
            "United Kingdom",
            "Korea, Republic of"
           ],
           "locations": [
            "CHN",
            "GBR",
            "KOR"
           ],
           "name": "",
           "type": "choropleth",
           "z": [
            2653,
            1,
            3
           ]
          }
         ],
         "name": "2020-02-09"
        },
        {
         "data": [
          {
           "coloraxis": "coloraxis",
           "geo": "geo",
           "hovertemplate": "<b>%{hovertext}</b><br><br>date=2020-02-10<br>iso_alpha=%{location}<br>Cases=%{z}<extra></extra>",
           "hovertext": [
            "United States",
            "China",
            "Korea, Republic of"
           ],
           "locations": [
            "USA",
            "CHN",
            "KOR"
           ],
           "name": "",
           "type": "choropleth",
           "z": [
            1,
            2984,
            1
           ]
          }
         ],
         "name": "2020-02-10"
        },
        {
         "data": [
          {
           "coloraxis": "coloraxis",
           "geo": "geo",
           "hovertemplate": "<b>%{hovertext}</b><br><br>date=2020-02-11<br>iso_alpha=%{location}<br>Cases=%{z}<extra></extra>",
           "hovertext": [
            "China",
            "Germany"
           ],
           "locations": [
            "CHN",
            "DEU"
           ],
           "name": "",
           "type": "choropleth",
           "z": [
            2473,
            3
           ]
          }
         ],
         "name": "2020-02-11"
        },
        {
         "data": [
          {
           "coloraxis": "coloraxis",
           "geo": "geo",
           "hovertemplate": "<b>%{hovertext}</b><br><br>date=2020-02-12<br>iso_alpha=%{location}<br>Cases=%{z}<extra></extra>",
           "hovertext": [
            "United Kingdom",
            "China",
            "Germany",
            "United States"
           ],
           "locations": [
            "GBR",
            "CHN",
            "DEU",
            "USA"
           ],
           "name": "",
           "type": "choropleth",
           "z": [
            1,
            2022,
            2,
            1
           ]
          }
         ],
         "name": "2020-02-12"
        },
        {
         "data": [
          {
           "coloraxis": "coloraxis",
           "geo": "geo",
           "hovertemplate": "<b>%{hovertext}</b><br><br>date=2020-02-13<br>iso_alpha=%{location}<br>Cases=%{z}<extra></extra>",
           "hovertext": [
            "Japan",
            "United States",
            "China"
           ],
           "locations": [
            "JPN",
            "USA",
            "CHN"
           ],
           "name": "",
           "type": "choropleth",
           "z": [
            4,
            1,
            1820
           ]
          }
         ],
         "name": "2020-02-13"
        },
        {
         "data": [
          {
           "coloraxis": "coloraxis",
           "geo": "geo",
           "hovertemplate": "<b>%{hovertext}</b><br><br>date=2020-02-14<br>iso_alpha=%{location}<br>Cases=%{z}<extra></extra>",
           "hovertext": [
            "China",
            "Japan",
            "Canada"
           ],
           "locations": [
            "CHN",
            "JPN",
            "CAN"
           ],
           "name": "",
           "type": "choropleth",
           "z": [
            17364,
            6,
            1
           ]
          }
         ],
         "name": "2020-02-14"
        },
        {
         "data": [
          {
           "coloraxis": "coloraxis",
           "geo": "geo",
           "hovertemplate": "<b>%{hovertext}</b><br><br>date=2020-02-15<br>iso_alpha=%{location}<br>Cases=%{z}<extra></extra>",
           "hovertext": [
            "Japan",
            "China"
           ],
           "locations": [
            "JPN",
            "CHN"
           ],
           "name": "",
           "type": "choropleth",
           "z": [
            12,
            2663
           ]
          }
         ],
         "name": "2020-02-15"
        },
        {
         "data": [
          {
           "coloraxis": "coloraxis",
           "geo": "geo",
           "hovertemplate": "<b>%{hovertext}</b><br><br>date=2020-02-16<br>iso_alpha=%{location}<br>Cases=%{z}<extra></extra>",
           "hovertext": [
            "Japan",
            "China",
            "Korea, Republic of"
           ],
           "locations": [
            "JPN",
            "CHN",
            "KOR"
           ],
           "name": "",
           "type": "choropleth",
           "z": [
            6,
            2006,
            2
           ]
          }
         ],
         "name": "2020-02-16"
        },
        {
         "data": [
          {
           "coloraxis": "coloraxis",
           "geo": "geo",
           "hovertemplate": "<b>%{hovertext}</b><br><br>date=2020-02-17<br>iso_alpha=%{location}<br>Cases=%{z}<extra></extra>",
           "hovertext": [
            "Mexico",
            "China",
            "Japan",
            "United States"
           ],
           "locations": [
            "MEX",
            "CHN",
            "JPN",
            "USA"
           ],
           "name": "",
           "type": "choropleth",
           "z": [
            2,
            2052,
            6,
            10
           ]
          }
         ],
         "name": "2020-02-17"
        },
        {
         "data": [
          {
           "coloraxis": "coloraxis",
           "geo": "geo",
           "hovertemplate": "<b>%{hovertext}</b><br><br>date=2020-02-18<br>iso_alpha=%{location}<br>Cases=%{z}<extra></extra>",
           "hovertext": [
            "China",
            "Japan",
            "Korea, Republic of"
           ],
           "locations": [
            "CHN",
            "JPN",
            "KOR"
           ],
           "name": "",
           "type": "choropleth",
           "z": [
            1893,
            8,
            1
           ]
          }
         ],
         "name": "2020-02-18"
        },
        {
         "data": [
          {
           "coloraxis": "coloraxis",
           "geo": "geo",
           "hovertemplate": "<b>%{hovertext}</b><br><br>date=2020-02-19<br>iso_alpha=%{location}<br>Cases=%{z}<extra></extra>",
           "hovertext": [
            "Mexico",
            "Japan",
            "China",
            "Korea, Republic of"
           ],
           "locations": [
            "MEX",
            "JPN",
            "CHN",
            "KOR"
           ],
           "name": "",
           "type": "choropleth",
           "z": [
            2,
            9,
            1751,
            20
           ]
          }
         ],
         "name": "2020-02-19"
        },
        {
         "data": [
          {
           "coloraxis": "coloraxis",
           "geo": "geo",
           "hovertemplate": "<b>%{hovertext}</b><br><br>date=2020-02-20<br>iso_alpha=%{location}<br>Cases=%{z}<extra></extra>",
           "hovertext": [
            "Canada",
            "Japan",
            "United States",
            "Germany",
            "China",
            "Korea, Republic of"
           ],
           "locations": [
            "CAN",
            "JPN",
            "USA",
            "DEU",
            "CHN",
            "KOR"
           ],
           "name": "",
           "type": "choropleth",
           "z": [
            1,
            8,
            2,
            2,
            402,
            53
           ]
          }
         ],
         "name": "2020-02-20"
        },
        {
         "data": [
          {
           "coloraxis": "coloraxis",
           "geo": "geo",
           "hovertemplate": "<b>%{hovertext}</b><br><br>date=2020-02-21<br>iso_alpha=%{location}<br>Cases=%{z}<extra></extra>",
           "hovertext": [
            "Lebanon",
            "Australia",
            "Korea, Republic of",
            "China",
            "Japan",
            "United Kingdom",
            "United States",
            "Mexico"
           ],
           "locations": [
            "LBN",
            "AUS",
            "KOR",
            "CHN",
            "JPN",
            "GBR",
            "USA",
            "MEX"
           ],
           "name": "",
           "type": "choropleth",
           "z": [
            1,
            4,
            100,
            894,
            15,
            2,
            3,
            1
           ]
          }
         ],
         "name": "2020-02-21"
        },
        {
         "data": [
          {
           "coloraxis": "coloraxis",
           "geo": "geo",
           "hovertemplate": "<b>%{hovertext}</b><br><br>date=2020-02-22<br>iso_alpha=%{location}<br>Cases=%{z}<extra></extra>",
           "hovertext": [
            "Mexico",
            "Australia",
            "Germany",
            "Japan",
            "China",
            "Korea, Republic of"
           ],
           "locations": [
            "MEX",
            "AUS",
            "DEU",
            "JPN",
            "CHN",
            "KOR"
           ],
           "name": "",
           "type": "choropleth",
           "z": [
            2,
            1,
            1,
            26,
            823,
            229
           ]
          }
         ],
         "name": "2020-02-22"
        },
        {
         "data": [
          {
           "coloraxis": "coloraxis",
           "geo": "geo",
           "hovertemplate": "<b>%{hovertext}</b><br><br>date=2020-02-23<br>iso_alpha=%{location}<br>Cases=%{z}<extra></extra>",
           "hovertext": [
            "United Kingdom",
            "Mexico",
            "Japan",
            "Canada",
            "Korea, Republic of",
            "China"
           ],
           "locations": [
            "GBR",
            "MEX",
            "JPN",
            "CAN",
            "KOR",
            "CHN"
           ],
           "name": "",
           "type": "choropleth",
           "z": [
            2,
            2,
            12,
            1,
            169,
            650
           ]
          }
         ],
         "name": "2020-02-23"
        },
        {
         "data": [
          {
           "coloraxis": "coloraxis",
           "geo": "geo",
           "hovertemplate": "<b>%{hovertext}</b><br><br>date=2020-02-24<br>iso_alpha=%{location}<br>Cases=%{z}<extra></extra>",
           "hovertext": [
            "Canada",
            "United Kingdom",
            "United States",
            "Germany",
            "China",
            "Italy",
            "Bahrain",
            "Korea, Republic of",
            "Japan"
           ],
           "locations": [
            "CAN",
            "GBR",
            "USA",
            "DEU",
            "CHN",
            "ITA",
            "BHR",
            "KOR",
            "JPN"
           ],
           "name": "",
           "type": "choropleth",
           "z": [
            1,
            2,
            13,
            2,
            224,
            221,
            1,
            231,
            11
           ]
          }
         ],
         "name": "2020-02-24"
        },
        {
         "data": [
          {
           "coloraxis": "coloraxis",
           "geo": "geo",
           "hovertemplate": "<b>%{hovertext}</b><br><br>date=2020-02-25<br>iso_alpha=%{location}<br>Cases=%{z}<extra></extra>",
           "hovertext": [
            "United States",
            "Korea, Republic of",
            "Japan",
            "United Kingdom",
            "Mexico",
            "China",
            "Italy",
            "Sweden",
            "Germany",
            "Algeria",
            "Bahrain",
            "Austria"
           ],
           "locations": [
            "USA",
            "KOR",
            "JPN",
            "GBR",
            "MEX",
            "CHN",
            "ITA",
            "SWE",
            "DEU",
            "DZA",
            "BHR",
            "AUT"
           ],
           "name": "",
           "type": "choropleth",
           "z": [
            2,
            144,
            11,
            4,
            2,
            518,
            89,
            1,
            2,
            1,
            22,
            2
           ]
          }
         ],
         "name": "2020-02-25"
        },
        {
         "data": [
          {
           "coloraxis": "coloraxis",
           "geo": "geo",
           "hovertemplate": "<b>%{hovertext}</b><br><br>date=2020-02-26<br>iso_alpha=%{location}<br>Cases=%{z}<extra></extra>",
           "hovertext": [
            "Germany",
            "New Zealand",
            "China",
            "Sweden",
            "Japan",
            "Mexico",
            "Bahrain",
            "Thailand",
            "Italy",
            "Korea, Republic of",
            "Canada",
            "United States",
            "Lebanon",
            "United Kingdom"
           ],
           "locations": [
            "DEU",
            "NZL",
            "CHN",
            "SWE",
            "JPN",
            "MEX",
            "BHR",
            "THA",
            "ITA",
            "KOR",
            "CAN",
            "USA",
            "LBN",
            "GBR"
           ],
           "name": "",
           "type": "choropleth",
           "z": [
            7,
            1,
            411,
            1,
            18,
            1,
            10,
            3,
            79,
            284,
            1,
            15,
            1,
            1
           ]
          }
         ],
         "name": "2020-02-26"
        },
        {
         "data": [
          {
           "coloraxis": "coloraxis",
           "geo": "geo",
           "hovertemplate": "<b>%{hovertext}</b><br><br>date=2020-02-27<br>iso_alpha=%{location}<br>Cases=%{z}<extra></extra>",
           "hovertext": [
            "Germany",
            "Canada",
            "Spain",
            "United Kingdom",
            "Australia",
            "Austria",
            "Netherlands",
            "Mexico",
            "Italy",
            "Korea, Republic of",
            "Sweden",
            "Japan",
            "China"
           ],
           "locations": [
            "DEU",
            "CAN",
            "ESP",
            "GBR",
            "AUS",
            "AUT",
            "NLD",
            "MEX",
            "ITA",
            "KOR",
            "SWE",
            "JPN",
            "CHN"
           ],
           "name": "",
           "type": "choropleth",
           "z": [
            23,
            1,
            21,
            7,
            3,
            1,
            1,
            1,
            251,
            505,
            5,
            24,
            439
           ]
          }
         ],
         "name": "2020-02-27"
        },
        {
         "data": [
          {
           "coloraxis": "coloraxis",
           "geo": "geo",
           "hovertemplate": "<b>%{hovertext}</b><br><br>date=2020-02-28<br>iso_alpha=%{location}<br>Cases=%{z}<extra></extra>",
           "hovertext": [
            "Korea, Republic of",
            "Bahrain",
            "Mexico",
            "Netherlands",
            "Spain",
            "United Kingdom",
            "China",
            "Germany",
            "United States",
            "Japan",
            "Canada",
            "Sweden",
            "Italy",
            "Australia",
            "Austria"
           ],
           "locations": [
            "KOR",
            "BHR",
            "MEX",
            "NLD",
            "ESP",
            "GBR",
            "CHN",
            "DEU",
            "USA",
            "JPN",
            "CAN",
            "SWE",
            "ITA",
            "AUS",
            "AUT"
           ],
           "name": "",
           "type": "choropleth",
           "z": [
            571,
            3,
            2,
            1,
            10,
            10,
            331,
            47,
            5,
            18,
            2,
            4,
            239,
            2,
            2
           ]
          }
         ],
         "name": "2020-02-28"
        },
        {
         "data": [
          {
           "coloraxis": "coloraxis",
           "geo": "geo",
           "hovertemplate": "<b>%{hovertext}</b><br><br>date=2020-02-29<br>iso_alpha=%{location}<br>Cases=%{z}<extra></extra>",
           "hovertext": [
            "Brazil",
            "Japan",
            "Spain",
            "Mexico",
            "Sweden",
            "Bahrain",
            "Czechia",
            "Canada",
            "Austria",
            "United Kingdom",
            "Luxembourg",
            "Netherlands",
            "United States",
            "Lebanon",
            "Italy",
            "Korea, Republic of",
            "Germany",
            "Qatar",
            "China"
           ],
           "locations": [
            "BRA",
            "JPN",
            "ESP",
            "MEX",
            "SWE",
            "BHR",
            "CZE",
            "CAN",
            "AUT",
            "GBR",
            "LUX",
            "NLD",
            "USA",
            "LBN",
            "ITA",
            "KOR",
            "DEU",
            "QAT",
            "CHN"
           ],
           "name": "",
           "type": "choropleth",
           "z": [
            1,
            9,
            17,
            2,
            2,
            5,
            3,
            4,
            2,
            3,
            1,
            5,
            5,
            2,
            245,
            814,
            22,
            1,
            433
           ]
          }
         ],
         "name": "2020-02-29"
        },
        {
         "data": [
          {
           "coloraxis": "coloraxis",
           "geo": "geo",
           "hovertemplate": "<b>%{hovertext}</b><br><br>date=2020-03-01<br>iso_alpha=%{location}<br>Cases=%{z}<extra></extra>",
           "hovertext": [
            "Qatar",
            "Canada",
            "Sweden",
            "Algeria",
            "Japan",
            "United Kingdom",
            "Australia",
            "Bahrain",
            "Belgium",
            "Netherlands",
            "China",
            "Korea, Republic of",
            "Lebanon",
            "Czechia",
            "United States",
            "Austria",
            "Mexico",
            "Spain",
            "Germany",
            "Italy"
           ],
           "locations": [
            "QAT",
            "CAN",
            "SWE",
            "DZA",
            "JPN",
            "GBR",
            "AUS",
            "BHR",
            "BEL",
            "NLD",
            "CHN",
            "KOR",
            "LBN",
            "CZE",
            "USA",
            "AUT",
            "MEX",
            "ESP",
            "DEU",
            "ITA"
           ],
           "name": "",
           "type": "choropleth",
           "z": [
            2,
            4,
            1,
            2,
            14,
            31,
            3,
            6,
            17,
            2,
            574,
            586,
            6,
            1,
            18,
            3,
            6,
            14,
            38,
            586
           ]
          }
         ],
         "name": "2020-03-01"
        },
        {
         "data": [
          {
           "coloraxis": "coloraxis",
           "geo": "geo",
           "hovertemplate": "<b>%{hovertext}</b><br><br>date=2020-03-02<br>iso_alpha=%{location}<br>Cases=%{z}<extra></extra>",
           "hovertext": [
            "Colombia",
            "Spain",
            "Australia",
            "Mexico",
            "China",
            "Korea, Republic of",
            "Germany",
            "Lebanon",
            "Argentina",
            "India",
            "Senegal",
            "Belgium",
            "United Kingdom",
            "United States",
            "Austria",
            "Japan",
            "New Zealand",
            "Algeria",
            "Italy",
            "Bahrain",
            "Sweden"
           ],
           "locations": [
            "COL",
            "ESP",
            "AUS",
            "MEX",
            "CHN",
            "KOR",
            "DEU",
            "LBN",
            "ARG",
            "IND",
            "SEN",
            "BEL",
            "GBR",
            "USA",
            "AUT",
            "JPN",
            "NZL",
            "DZA",
            "ITA",
            "BHR",
            "SWE"
           ],
           "name": "",
           "type": "choropleth",
           "z": [
            1,
            48,
            4,
            7,
            206,
            476,
            41,
            3,
            1,
            2,
            1,
            17,
            25,
            16,
            4,
            18,
            1,
            2,
            353,
            2,
            1
           ]
          }
         ],
         "name": "2020-03-02"
        },
        {
         "data": [
          {
           "coloraxis": "coloraxis",
           "geo": "geo",
           "hovertemplate": "<b>%{hovertext}</b><br><br>date=2020-03-03<br>iso_alpha=%{location}<br>Cases=%{z}<extra></extra>",
           "hovertext": [
            "United States",
            "India",
            "Senegal",
            "China",
            "United Kingdom",
            "Qatar",
            "Korea, Republic of",
            "Canada",
            "Netherlands",
            "Italy",
            "Czechia",
            "Germany",
            "Belgium",
            "Austria",
            "Mexico",
            "Japan",
            "Sweden",
            "Chile",
            "Spain",
            "Australia"
           ],
           "locations": [
            "USA",
            "IND",
            "SEN",
            "CHN",
            "GBR",
            "QAT",
            "KOR",
            "CAN",
            "NLD",
            "ITA",
            "CZE",
            "DEU",
            "BEL",
            "AUT",
            "MEX",
            "JPN",
            "SWE",
            "CHL",
            "ESP",
            "AUS"
           ],
           "name": "",
           "type": "choropleth",
           "z": [
            21,
            1,
            1,
            130,
            60,
            4,
            600,
            9,
            14,
            482,
            3,
            83,
            36,
            4,
            4,
            19,
            15,
            1,
            54,
            8
           ]
          }
         ],
         "name": "2020-03-03"
        },
        {
         "data": [
          {
           "coloraxis": "coloraxis",
           "geo": "geo",
           "hovertemplate": "<b>%{hovertext}</b><br><br>date=2020-03-04<br>iso_alpha=%{location}<br>Cases=%{z}<extra></extra>",
           "hovertext": [
            "Australia",
            "Germany",
            "Italy",
            "Netherlands",
            "Brazil",
            "Bahrain",
            "Japan",
            "Belgium",
            "Sweden",
            "United States",
            "New Zealand",
            "Thailand",
            "China",
            "Korea, Republic of",
            "Mexico",
            "United Kingdom",
            "Czechia",
            "Qatar",
            "India",
            "Austria",
            "Senegal",
            "Algeria",
            "Spain",
            "Canada",
            "Chile"
           ],
           "locations": [
            "AUS",
            "DEU",
            "ITA",
            "NLD",
            "BRA",
            "BHR",
            "JPN",
            "BEL",
            "SWE",
            "USA",
            "NZL",
            "THA",
            "CHN",
            "KOR",
            "MEX",
            "GBR",
            "CZE",
            "QAT",
            "IND",
            "AUT",
            "SEN",
            "DZA",
            "ESP",
            "CAN",
            "CHL"
           ],
           "name": "",
           "type": "choropleth",
           "z": [
            11,
            158,
            590,
            12,
            1,
            3,
            35,
            49,
            22,
            36,
            2,
            48,
            119,
            516,
            7,
            39,
            3,
            1,
            22,
            11,
            2,
            7,
            69,
            1,
            2
           ]
          }
         ],
         "name": "2020-03-04"
        },
        {
         "data": [
          {
           "coloraxis": "coloraxis",
           "geo": "geo",
           "hovertemplate": "<b>%{hovertext}</b><br><br>date=2020-03-05<br>iso_alpha=%{location}<br>Cases=%{z}<extra></extra>",
           "hovertext": [
            "Chile",
            "Bahrain",
            "Japan",
            "Sweden",
            "Lebanon",
            "Austria",
            "Italy",
            "Canada",
            "Korea, Republic of",
            "United States",
            "Brazil",
            "Argentina",
            "India",
            "United Kingdom",
            "Czechia",
            "Algeria",
            "Spain",
            "China",
            "South Africa",
            "Australia",
            "Germany",
            "Netherlands",
            "Thailand",
            "Belgium",
            "New Zealand",
            "Mexico"
           ],
           "locations": [
            "CHL",
            "BHR",
            "JPN",
            "SWE",
            "LBN",
            "AUT",
            "ITA",
            "CAN",
            "KOR",
            "USA",
            "BRA",
            "ARG",
            "IND",
            "GBR",
            "CZE",
            "DZA",
            "ESP",
            "CHN",
            "ZAF",
            "AUS",
            "DEU",
            "NLD",
            "THA",
            "BEL",
            "NZL",
            "MEX"
           ],
           "name": "",
           "type": "choropleth",
           "z": [
            1,
            3,
            31,
            42,
            3,
            11,
            799,
            11,
            440,
            67,
            4,
            1,
            2,
            47,
            3,
            7,
            96,
            142,
            1,
            8,
            190,
            37,
            3,
            81,
            2,
            7
           ]
          }
         ],
         "name": "2020-03-05"
        },
        {
         "data": [
          {
           "coloraxis": "coloraxis",
           "geo": "geo",
           "hovertemplate": "<b>%{hovertext}</b><br><br>date=2020-03-06<br>iso_alpha=%{location}<br>Cases=%{z}<extra></extra>",
           "hovertext": [
            "Mexico",
            "Chile",
            "Colombia",
            "Lebanon",
            "United Kingdom",
            "Canada",
            "China",
            "Brazil",
            "Thailand",
            "Germany",
            "New Zealand",
            "Poland",
            "Italy",
            "Czechia",
            "Sweden",
            "Australia",
            "United States",
            "Korea, Republic of",
            "Netherlands",
            "Luxembourg",
            "Austria",
            "Japan",
            "Bahrain",
            "Belgium",
            "India",
            "Spain"
           ],
           "locations": [
            "MEX",
            "CHL",
            "COL",
            "LBN",
            "GBR",
            "CAN",
            "CHN",
            "BRA",
            "THA",
            "DEU",
            "NZL",
            "POL",
            "ITA",
            "CZE",
            "SWE",
            "AUS",
            "USA",
            "KOR",
            "NLD",
            "LUX",
            "AUT",
            "JPN",
            "BHR",
            "BEL",
            "IND",
            "ESP"
           ],
           "name": "",
           "type": "choropleth",
           "z": [
            9,
            1,
            1,
            6,
            67,
            7,
            147,
            6,
            1,
            188,
            1,
            4,
            788,
            5,
            43,
            4,
            83,
            519,
            40,
            1,
            14,
            55,
            5,
            109,
            1,
            147
           ]
          }
         ],
         "name": "2020-03-06"
        },
        {
         "data": [
          {
           "coloraxis": "coloraxis",
           "geo": "geo",
           "hovertemplate": "<b>%{hovertext}</b><br><br>date=2020-03-07<br>iso_alpha=%{location}<br>Cases=%{z}<extra></extra>",
           "hovertext": [
            "Poland",
            "Colombia",
            "Germany",
            "China",
            "Japan",
            "Sweden",
            "Paraguay",
            "India",
            "Belgium",
            "Spain",
            "Italy",
            "Austria",
            "Thailand",
            "United Kingdom",
            "Netherlands",
            "Korea, Republic of",
            "Chile",
            "Brazil",
            "United States",
            "Mexico",
            "Australia",
            "Canada",
            "Czechia",
            "Bahrain",
            "South Africa"
           ],
           "locations": [
            "POL",
            "COL",
            "DEU",
            "CHN",
            "JPN",
            "SWE",
            "PRY",
            "IND",
            "BEL",
            "ESP",
            "ITA",
            "AUT",
            "THA",
            "GBR",
            "NLD",
            "KOR",
            "CHL",
            "BRA",
            "USA",
            "MEX",
            "AUS",
            "CAN",
            "CZE",
            "BHR",
            "ZAF"
           ],
           "name": "",
           "type": "choropleth",
           "z": [
            1,
            1,
            139,
            102,
            44,
            24,
            1,
            3,
            27,
            256,
            1255,
            24,
            1,
            35,
            53,
            483,
            2,
            6,
            117,
            18,
            10,
            6,
            9,
            25,
            1
           ]
          }
         ],
         "name": "2020-03-07"
        },
        {
         "data": [
          {
           "coloraxis": "coloraxis",
           "geo": "geo",
           "hovertemplate": "<b>%{hovertext}</b><br><br>date=2020-03-08<br>iso_alpha=%{location}<br>Cases=%{z}<extra></extra>",
           "hovertext": [
            "Sweden",
            "Luxembourg",
            "Belgium",
            "India",
            "Korea, Republic of",
            "Qatar",
            "Netherlands",
            "Canada",
            "Australia",
            "Italy",
            "Colombia",
            "South Africa",
            "Czechia",
            "Austria",
            "Lebanon",
            "Poland",
            "United States",
            "Mexico",
            "Argentina",
            "Spain",
            "Chile",
            "United Kingdom",
            "Germany",
            "China",
            "Japan",
            "Brazil"
           ],
           "locations": [
            "SWE",
            "LUX",
            "BEL",
            "IND",
            "KOR",
            "QAT",
            "NLD",
            "CAN",
            "AUS",
            "ITA",
            "COL",
            "ZAF",
            "CZE",
            "AUT",
            "LBN",
            "POL",
            "USA",
            "MEX",
            "ARG",
            "ESP",
            "CHL",
            "GBR",
            "DEU",
            "CHN",
            "JPN",
            "BRA"
           ],
           "name": "",
           "type": "choropleth",
           "z": [
            42,
            1,
            64,
            5,
            367,
            7,
            73,
            6,
            7,
            1501,
            2,
            1,
            9,
            23,
            10,
            6,
            119,
            21,
            8,
            297,
            3,
            39,
            101,
            46,
            33,
            6
           ]
          }
         ],
         "name": "2020-03-08"
        },
        {
         "data": [
          {
           "coloraxis": "coloraxis",
           "geo": "geo",
           "hovertemplate": "<b>%{hovertext}</b><br><br>date=2020-03-09<br>iso_alpha=%{location}<br>Cases=%{z}<extra></extra>",
           "hovertext": [
            "Chile",
            "Bahrain",
            "Netherlands",
            "Australia",
            "Belgium",
            "India",
            "Sweden",
            "Italy",
            "Germany",
            "Spain",
            "Poland",
            "Austria",
            "Japan",
            "Argentina",
            "Czechia",
            "United States",
            "Brazil",
            "South Africa",
            "Korea, Republic of",
            "China",
            "Qatar",
            "Canada",
            "United Kingdom",
            "Colombia",
            "Mexico"
           ],
           "locations": [
            "CHL",
            "BHR",
            "NLD",
            "AUS",
            "BEL",
            "IND",
            "SWE",
            "ITA",
            "DEU",
            "ESP",
            "POL",
            "AUT",
            "JPN",
            "ARG",
            "CZE",
            "USA",
            "BRA",
            "ZAF",
            "KOR",
            "CHN",
            "QAT",
            "CAN",
            "GBR",
            "COL",
            "MEX"
           ],
           "name": "",
           "type": "choropleth",
           "z": [
            3,
            10,
            49,
            12,
            91,
            9,
            57,
            1801,
            344,
            356,
            5,
            29,
            28,
            9,
            8,
            201,
            5,
            4,
            249,
            45,
            3,
            18,
            105,
            3,
            56
           ]
          }
         ],
         "name": "2020-03-09"
        },
        {
         "data": [
          {
           "coloraxis": "coloraxis",
           "geo": "geo",
           "hovertemplate": "<b>%{hovertext}</b><br><br>date=2020-03-10<br>iso_alpha=%{location}<br>Cases=%{z}<extra></extra>",
           "hovertext": [
            "Bahrain",
            "Australia",
            "India",
            "China",
            "Sweden",
            "Colombia",
            "Spain",
            "Germany",
            "United Kingdom",
            "Austria",
            "Japan",
            "Thailand",
            "Czechia",
            "Qatar",
            "Korea, Republic of",
            "Italy",
            "Luxembourg",
            "Lebanon",
            "Chile",
            "United States",
            "Brazil",
            "Mexico",
            "Paraguay",
            "Canada",
            "Argentina",
            "Poland",
            "Belgium",
            "Netherlands"
           ],
           "locations": [
            "BHR",
            "AUS",
            "IND",
            "CHN",
            "SWE",
            "COL",
            "ESP",
            "DEU",
            "GBR",
            "AUT",
            "JPN",
            "THA",
            "CZE",
            "QAT",
            "KOR",
            "ITA",
            "LUX",
            "LBN",
            "CHL",
            "USA",
            "BRA",
            "MEX",
            "PRY",
            "CAN",
            "ARG",
            "POL",
            "BEL",
            "NLD"
           ],
           "name": "",
           "type": "choropleth",
           "z": [
            15,
            20,
            15,
            20,
            96,
            4,
            694,
            594,
            172,
            51,
            59,
            1,
            16,
            6,
            132,
            960,
            2,
            9,
            4,
            270,
            4,
            47,
            4,
            9,
            2,
            3,
            92,
            55
           ]
          }
         ],
         "name": "2020-03-10"
        },
        {
         "data": [
          {
           "coloraxis": "coloraxis",
           "geo": "geo",
           "hovertemplate": "<b>%{hovertext}</b><br><br>date=2020-03-11<br>iso_alpha=%{location}<br>Cases=%{z}<extra></extra>",
           "hovertext": [
            "Poland",
            "United States",
            "Algeria",
            "Brazil",
            "Bahrain",
            "Korea, Republic of",
            "Spain",
            "Lebanon",
            "Austria",
            "China",
            "Argentina",
            "Germany",
            "Qatar",
            "Sweden",
            "Australia",
            "Cuba",
            "Senegal",
            "India",
            "Chile",
            "Czechia",
            "Colombia",
            "Canada",
            "Belgium",
            "South Africa",
            "United Kingdom",
            "Mexico",
            "Japan",
            "Netherlands",
            "Italy",
            "Luxembourg"
           ],
           "locations": [
            "POL",
            "USA",
            "DZA",
            "BRA",
            "BHR",
            "KOR",
            "ESP",
            "LBN",
            "AUT",
            "CHN",
            "ARG",
            "DEU",
            "QAT",
            "SWE",
            "AUS",
            "CUB",
            "SEN",
            "IND",
            "CHL",
            "CZE",
            "COL",
            "CAN",
            "BEL",
            "ZAF",
            "GBR",
            "MEX",
            "JPN",
            "NLD",
            "ITA",
            "LUX"
           ],
           "name": "",
           "type": "choropleth",
           "z": [
            7,
            245,
            1,
            18,
            85,
            242,
            986,
            20,
            62,
            31,
            2,
            746,
            238,
            144,
            15,
            3,
            2,
            8,
            6,
            31,
            7,
            17,
            171,
            6,
            253,
            48,
            53,
            106,
            2287,
            2
           ]
          }
         ],
         "name": "2020-03-11"
        },
        {
         "data": [
          {
           "coloraxis": "coloraxis",
           "geo": "geo",
           "hovertemplate": "<b>%{hovertext}</b><br><br>date=2020-03-12<br>iso_alpha=%{location}<br>Cases=%{z}<extra></extra>",
           "hovertext": [
            "Japan",
            "Senegal",
            "Netherlands",
            "Paraguay",
            "Germany",
            "United Kingdom",
            "New Zealand",
            "India",
            "Luxembourg",
            "Korea, Republic of",
            "South Africa",
            "Austria",
            "Czechia",
            "Spain",
            "Algeria",
            "Italy",
            "Poland",
            "Sweden",
            "China",
            "Colombia",
            "Brazil",
            "Australia",
            "Argentina",
            "Canada",
            "Belgium",
            "Chile",
            "Mexico",
            "Ghana",
            "United States",
            "Thailand"
           ],
           "locations": [
            "JPN",
            "SEN",
            "NLD",
            "PRY",
            "DEU",
            "GBR",
            "NZL",
            "IND",
            "LUX",
            "KOR",
            "ZAF",
            "AUT",
            "CZE",
            "ESP",
            "DZA",
            "ITA",
            "POL",
            "SWE",
            "CHN",
            "COL",
            "BRA",
            "AUS",
            "ARG",
            "CAN",
            "BEL",
            "CHL",
            "MEX",
            "GHA",
            "USA",
            "THA"
           ],
           "name": "",
           "type": "choropleth",
           "z": [
            56,
            4,
            97,
            1,
            982,
            404,
            1,
            10,
            12,
            114,
            3,
            115,
            29,
            1376,
            6,
            2605,
            22,
            187,
            26,
            11,
            25,
            30,
            10,
            31,
            247,
            10,
            54,
            2,
            405,
            3
           ]
          }
         ],
         "name": "2020-03-12"
        },
        {
         "data": [
          {
           "coloraxis": "coloraxis",
           "geo": "geo",
           "hovertemplate": "<b>%{hovertext}</b><br><br>date=2020-03-13<br>iso_alpha=%{location}<br>Cases=%{z}<extra></extra>",
           "hovertext": [
            "Korea, Republic of",
            "Mexico",
            "Sweden",
            "Colombia",
            "Peru",
            "Spain",
            "India",
            "Lebanon",
            "Qatar",
            "Germany",
            "Paraguay",
            "United Kingdom",
            "Ghana",
            "Cuba",
            "Italy",
            "Canada",
            "Luxembourg",
            "Belgium",
            "Ethiopia",
            "Netherlands",
            "Brazil",
            "Czechia",
            "United States",
            "Malaysia",
            "Poland",
            "Austria",
            "Australia",
            "Algeria",
            "Argentina",
            "South Africa",
            "China",
            "Chile",
            "Japan",
            "New Zealand",
            "Senegal"
           ],
           "locations": [
            "KOR",
            "MEX",
            "SWE",
            "COL",
            "PER",
            "ESP",
            "IND",
            "LBN",
            "QAT",
            "DEU",
            "PRY",
            "GBR",
            "GHA",
            "CUB",
            "ITA",
            "CAN",
            "LUX",
            "BEL",
            "ETH",
            "NLD",
            "BRA",
            "CZE",
            "USA",
            "MYS",
            "POL",
            "AUT",
            "AUS",
            "DZA",
            "ARG",
            "ZAF",
            "CHN",
            "CHL",
            "JPN",
            "NZL",
            "SEN"
           ],
           "name": "",
           "type": "choropleth",
           "z": [
            110,
            80,
            132,
            13,
            38,
            1748,
            10,
            16,
            58,
            1434,
            1,
            392,
            2,
            1,
            2473,
            41,
            15,
            319,
            1,
            152,
            21,
            38,
            553,
            197,
            17,
            142,
            41,
            11,
            3,
            8,
            10,
            10,
            33,
            1,
            11
           ]
          }
         ],
         "name": "2020-03-13"
        },
        {
         "data": [
          {
           "coloraxis": "coloraxis",
           "geo": "geo",
           "hovertemplate": "<b>%{hovertext}</b><br><br>date=2020-03-14<br>iso_alpha=%{location}<br>Cases=%{z}<extra></extra>",
           "hovertext": [
            "Bahrain",
            "Chile",
            "Czechia",
            "Sweden",
            "Mexico",
            "New Zealand",
            "Thailand",
            "Belgium",
            "Peru",
            "Malaysia",
            "United States",
            "Canada",
            "United Kingdom",
            "Italy",
            "South Africa",
            "Luxembourg",
            "Brazil",
            "Lebanon",
            "Netherlands",
            "Colombia",
            "China",
            "Korea, Republic of",
            "Austria",
            "India",
            "Poland",
            "Germany",
            "Australia",
            "Japan",
            "Ghana",
            "Senegal",
            "Qatar",
            "Spain",
            "Argentina"
           ],
           "locations": [
            "BHR",
            "CHL",
            "CZE",
            "SWE",
            "MEX",
            "NZL",
            "THA",
            "BEL",
            "PER",
            "MYS",
            "USA",
            "CAN",
            "GBR",
            "ITA",
            "ZAF",
            "LUX",
            "BRA",
            "LBN",
            "NLD",
            "COL",
            "CHN",
            "KOR",
            "AUT",
            "IND",
            "POL",
            "DEU",
            "AUS",
            "JPN",
            "GHA",
            "SEN",
            "QAT",
            "ESP",
            "ARG"
           ],
           "name": "",
           "type": "choropleth",
           "z": [
            21,
            18,
            63,
            144,
            85,
            1,
            1,
            172,
            5,
            41,
            672,
            50,
            256,
            3473,
            14,
            17,
            23,
            16,
            130,
            19,
            30,
            107,
            150,
            11,
            33,
            1308,
            51,
            61,
            2,
            3,
            17,
            1830,
            11
           ]
          }
         ],
         "name": "2020-03-14"
        },
        {
         "data": [
          {
           "coloraxis": "coloraxis",
           "geo": "geo",
           "hovertemplate": "<b>%{hovertext}</b><br><br>date=2020-03-15<br>iso_alpha=%{location}<br>Cases=%{z}<extra></extra>",
           "hovertext": [
            "Senegal",
            "South Africa",
            "Austria",
            "Italy",
            "Korea, Republic of",
            "United States",
            "Costa Rica",
            "Czechia",
            "Qatar",
            "Poland",
            "Netherlands",
            "New Zealand",
            "Germany",
            "Spain",
            "Mexico",
            "Ethiopia",
            "Argentina",
            "Canada",
            "Brazil",
            "Japan",
            "Colombia",
            "India",
            "Lebanon",
            "Sweden",
            "China",
            "Algeria",
            "Australia",
            "Chile",
            "Bahrain",
            "United Kingdom",
            "Thailand",
            "Luxembourg",
            "Belgium",
            "Paraguay",
            "Peru"
           ],
           "locations": [
            "SEN",
            "ZAF",
            "AUT",
            "ITA",
            "KOR",
            "USA",
            "CRI",
            "CZE",
            "QAT",
            "POL",
            "NLD",
            "NZL",
            "DEU",
            "ESP",
            "MEX",
            "ETH",
            "ARG",
            "CAN",
            "BRA",
            "JPN",
            "COL",
            "IND",
            "LBN",
            "SWE",
            "CHN",
            "DZA",
            "AUS",
            "CHL",
            "BHR",
            "GBR",
            "THA",
            "LUX",
            "BEL",
            "PRY",
            "PER"
           ],
           "name": "",
           "type": "choropleth",
           "z": [
            1,
            13,
            204,
            3479,
            76,
            698,
            15,
            80,
            64,
            21,
            129,
            1,
            972,
            2276,
            89,
            4,
            12,
            69,
            79,
            29,
            18,
            10,
            17,
            69,
            27,
            17,
            48,
            14,
            4,
            322,
            1,
            8,
            203,
            1,
            28
           ]
          }
         ],
         "name": "2020-03-15"
        },
        {
         "data": [
          {
           "coloraxis": "coloraxis",
           "geo": "geo",
           "hovertemplate": "<b>%{hovertext}</b><br><br>date=2020-03-16<br>iso_alpha=%{location}<br>Cases=%{z}<extra></extra>",
           "hovertext": [
            "Thailand",
            "Cuba",
            "Germany",
            "Luxembourg",
            "India",
            "Korea, Republic of",
            "Colombia",
            "South Africa",
            "New Zealand",
            "Paraguay",
            "Algeria",
            "Poland",
            "Netherlands",
            "Argentina",
            "Brazil",
            "Malaysia",
            "Czechia",
            "Chile",
            "Belgium",
            "United States",
            "Australia",
            "Canada",
            "Spain",
            "Peru",
            "Japan",
            "Italy",
            "Sweden",
            "Qatar",
            "United Kingdom",
            "Mexico",
            "Costa Rica",
            "Austria"
           ],
           "locations": [
            "THA",
            "CUB",
            "DEU",
            "LUX",
            "IND",
            "KOR",
            "COL",
            "ZAF",
            "NZL",
            "PRY",
            "DZA",
            "POL",
            "NLD",
            "ARG",
            "BRA",
            "MYS",
            "CZE",
            "CHL",
            "BEL",
            "USA",
            "AUS",
            "CAN",
            "ESP",
            "PER",
            "JPN",
            "ITA",
            "SWE",
            "QAT",
            "GBR",
            "MEX",
            "CRI",
            "AUT"
           ],
           "name": "",
           "type": "choropleth",
           "z": [
            3,
            1,
            2052,
            18,
            14,
            70,
            27,
            11,
            7,
            1,
            6,
            49,
            239,
            9,
            34,
            316,
            94,
            81,
            378,
            906,
            79,
            85,
            2332,
            15,
            17,
            3241,
            89,
            38,
            463,
            119,
            6,
            144
           ]
          }
         ],
         "name": "2020-03-16"
        },
        {
         "data": [
          {
           "coloraxis": "coloraxis",
           "geo": "geo",
           "hovertemplate": "<b>%{hovertext}</b><br><br>date=2020-03-17<br>iso_alpha=%{location}<br>Cases=%{z}<extra></extra>",
           "hovertext": [
            "Poland",
            "Peru",
            "Korea, Republic of",
            "Belgium",
            "Bahrain",
            "Colombia",
            "Mexico",
            "Australia",
            "Netherlands",
            "India",
            "United Kingdom",
            "Malaysia",
            "Italy",
            "Sweden",
            "Brazil",
            "Algeria",
            "New Zealand",
            "Canada",
            "Chile",
            "Cuba",
            "Luxembourg",
            "Costa Rica",
            "Argentina",
            "Japan",
            "United States",
            "Ghana",
            "Germany",
            "Paraguay",
            "Ethiopia",
            "South Africa",
            "Thailand",
            "Czechia",
            "Lebanon",
            "Austria",
            "Spain"
           ],
           "locations": [
            "POL",
            "PER",
            "KOR",
            "BEL",
            "BHR",
            "COL",
            "MEX",
            "AUS",
            "NLD",
            "IND",
            "GBR",
            "MYS",
            "ITA",
            "SWE",
            "BRA",
            "DZA",
            "NZL",
            "CAN",
            "CHL",
            "CUB",
            "LUX",
            "CRI",
            "ARG",
            "JPN",
            "USA",
            "GHA",
            "DEU",
            "PRY",
            "ETH",
            "ZAF",
            "THA",
            "CZE",
            "LBN",
            "AUT",
            "ESP"
           ],
           "name": "",
           "type": "choropleth",
           "z": [
            56,
            31,
            82,
            407,
            14,
            42,
            101,
            78,
            239,
            20,
            514,
            120,
            3456,
            75,
            57,
            2,
            12,
            131,
            45,
            2,
            63,
            9,
            13,
            44,
            1399,
            1,
            3035,
            2,
            1,
            23,
            1,
            94,
            21,
            307,
            2821
           ]
          }
         ],
         "name": "2020-03-17"
        },
        {
         "data": [
          {
           "coloraxis": "coloraxis",
           "geo": "geo",
           "hovertemplate": "<b>%{hovertext}</b><br><br>date=2020-03-18<br>iso_alpha=%{location}<br>Cases=%{z}<extra></extra>",
           "hovertext": [
            "Italy",
            "South Africa",
            "Australia",
            "Brazil",
            "Peru",
            "Malaysia",
            "Chile",
            "United Kingdom",
            "Luxembourg",
            "Costa Rica",
            "Japan",
            "Bahrain",
            "Indonesia",
            "Czechia",
            "Belgium",
            "Netherlands",
            "Mexico",
            "New Zealand",
            "Ghana",
            "Argentina",
            "Cuba",
            "Germany",
            "Lebanon",
            "Austria",
            "Qatar",
            "United States",
            "Korea, Republic of",
            "Colombia",
            "Poland",
            "India",
            "Thailand",
            "Spain",
            "Canada",
            "Sweden",
            "Algeria"
           ],
           "locations": [
            "ITA",
            "ZAF",
            "AUS",
            "BRA",
            "PER",
            "MYS",
            "CHL",
            "GBR",
            "LUX",
            "CRI",
            "JPN",
            "BHR",
            "IDN",
            "CZE",
            "BEL",
            "NLD",
            "MEX",
            "NZL",
            "GHA",
            "ARG",
            "CUB",
            "DEU",
            "LBN",
            "AUT",
            "QAT",
            "USA",
            "KOR",
            "COL",
            "POL",
            "IND",
            "THA",
            "ESP",
            "CAN",
            "SWE",
            "DZA"
           ],
           "name": "",
           "type": "choropleth",
           "z": [
            4093,
            31,
            113,
            137,
            28,
            117,
            37,
            770,
            63,
            18,
            40,
            28,
            224,
            103,
            529,
            284,
            115,
            5,
            2,
            19,
            4,
            3591,
            13,
            300,
            13,
            2438,
            88,
            42,
            40,
            25,
            3,
            4200,
            110,
            99,
            10
           ]
          }
         ],
         "name": "2020-03-18"
        },
        {
         "data": [
          {
           "coloraxis": "coloraxis",
           "geo": "geo",
           "hovertemplate": "<b>%{hovertext}</b><br><br>date=2020-03-19<br>iso_alpha=%{location}<br>Cases=%{z}<extra></extra>",
           "hovertext": [
            "Spain",
            "Austria",
            "Thailand",
            "Costa Rica",
            "Japan",
            "Germany",
            "Paraguay",
            "Cuba",
            "Luxembourg",
            "Italy",
            "Lebanon",
            "Ghana",
            "South Africa",
            "Mexico",
            "Canada",
            "Indonesia",
            "Algeria",
            "Brazil",
            "Argentina",
            "Malaysia",
            "India",
            "Belgium",
            "United Kingdom",
            "Niger",
            "Colombia",
            "Bahrain",
            "Poland",
            "Sweden",
            "Korea, Republic of",
            "Netherlands",
            "New Zealand",
            "Chile",
            "Australia",
            "Qatar",
            "Czechia",
            "Peru",
            "Ethiopia",
            "United States"
           ],
           "locations": [
            "ESP",
            "AUT",
            "THA",
            "CRI",
            "JPN",
            "DEU",
            "PRY",
            "CUB",
            "LUX",
            "ITA",
            "LBN",
            "GHA",
            "ZAF",
            "MEX",
            "CAN",
            "IDN",
            "DZA",
            "BRA",
            "ARG",
            "MYS",
            "IND",
            "BEL",
            "GBR",
            "NGA",
            "COL",
            "BHR",
            "POL",
            "SWE",
            "KOR",
            "NLD",
            "NZL",
            "CHL",
            "AUS",
            "QAT",
            "CZE",
            "PER",
            "ETH",
            "USA"
           ],
           "name": "",
           "type": "choropleth",
           "z": [
            4549,
            358,
            3,
            20,
            39,
            4069,
            2,
            5,
            132,
            5073,
            24,
            7,
            34,
            106,
            118,
            80,
            22,
            193,
            30,
            110,
            27,
            680,
            849,
            1,
            67,
            22,
            60,
            148,
            147,
            342,
            18,
            104,
            142,
            8,
            113,
            89,
            3,
            4038
           ]
          }
         ],
         "name": "2020-03-19"
        },
        {
         "data": [
          {
           "coloraxis": "coloraxis",
           "geo": "geo",
           "hovertemplate": "<b>%{hovertext}</b><br><br>date=2020-03-20<br>iso_alpha=%{location}<br>Cases=%{z}<extra></extra>",
           "hovertext": [
            "Peru",
            "Netherlands",
            "New Zealand",
            "Germany",
            "Italy",
            "Sweden",
            "Ghana",
            "Austria",
            "Belgium",
            "India",
            "Spain",
            "Indonesia",
            "Paraguay",
            "United States",
            "Thailand",
            "Czechia",
            "Colombia",
            "Korea, Republic of",
            "Bahrain",
            "Malaysia",
            "Qatar",
            "Australia",
            "Brazil",
            "Costa Rica",
            "South Africa",
            "Canada",
            "Algeria",
            "Argentina",
            "Mexico",
            "Chile",
            "Cuba",
            "Luxembourg",
            "Lebanon",
            "United Kingdom",
            "Japan",
            "Poland"
           ],
           "locations": [
            "PER",
            "NLD",
            "NZL",
            "DEU",
            "ITA",
            "SWE",
            "GHA",
            "AUT",
            "BEL",
            "IND",
            "ESP",
            "IDN",
            "PRY",
            "USA",
            "THA",
            "CZE",
            "COL",
            "KOR",
            "BHR",
            "MYS",
            "QAT",
            "AUS",
            "BRA",
            "CRI",
            "ZAF",
            "CAN",
            "DZA",
            "ARG",
            "MEX",
            "CHL",
            "CUB",
            "LUX",
            "LBN",
            "GBR",
            "JPN",
            "POL"
           ],
           "name": "",
           "type": "choropleth",
           "z": [
            29,
            1035,
            11,
            4048,
            5771,
            208,
            3,
            354,
            652,
            58,
            5477,
            49,
            5,
            5595,
            11,
            117,
            72,
            86,
            7,
            130,
            10,
            167,
            283,
            22,
            52,
            194,
            5,
            29,
            167,
            92,
            9,
            149,
            6,
            1001,
            50,
            55
           ]
          }
         ],
         "name": "2020-03-20"
        },
        {
         "data": [
          {
           "coloraxis": "coloraxis",
           "geo": "geo",
           "hovertemplate": "<b>%{hovertext}</b><br><br>date=2020-03-21<br>iso_alpha=%{location}<br>Cases=%{z}<extra></extra>",
           "hovertext": [
            "Sweden",
            "Ireland",
            "Algeria",
            "New Zealand",
            "India",
            "Qatar",
            "Lebanon",
            "Cuba",
            "Netherlands",
            "Mexico",
            "Austria",
            "Brazil",
            "Argentina",
            "Malaysia",
            "Bahrain",
            "Chile",
            "Niger",
            "Spain",
            "Thailand",
            "Paraguay",
            "Japan",
            "Australia",
            "United Kingdom",
            "Luxembourg",
            "Germany",
            "Bolivia, Plurinational State of",
            "Czechia",
            "Canada",
            "Belgium",
            "South Africa",
            "Peru",
            "Poland",
            "Indonesia",
            "Costa Rica",
            "Colombia",
            "Korea, Republic of",
            "United States",
            "Italy"
           ],
           "locations": [
            "SWE",
            "IRL",
            "DZA",
            "NZL",
            "IND",
            "QAT",
            "LBN",
            "CUB",
            "NLD",
            "MEX",
            "AUT",
            "BRA",
            "ARG",
            "MYS",
            "BHR",
            "CHL",
            "NGA",
            "ESP",
            "THA",
            "PRY",
            "JPN",
            "AUS",
            "GBR",
            "LUX",
            "DEU",
            "BOL",
            "CZE",
            "CAN",
            "BEL",
            "ZAF",
            "PER",
            "POL",
            "IDN",
            "CRI",
            "COL",
            "KOR",
            "USA",
            "ITA"
           ],
           "name": "",
           "type": "choropleth",
           "z": [
            134,
            841,
            40,
            24,
            78,
            11,
            24,
            10,
            269,
            118,
            414,
            224,
            67,
            153,
            20,
            103,
            1,
            5840,
            15,
            4,
            35,
            196,
            932,
            186,
            3338,
            20,
            105,
            201,
            456,
            38,
            55,
            94,
            85,
            14,
            70,
            141,
            6517,
            6206
           ]
          }
         ],
         "name": "2020-03-21"
        },
        {
         "data": [
          {
           "coloraxis": "coloraxis",
           "geo": "geo",
           "hovertemplate": "<b>%{hovertext}</b><br><br>date=2020-03-22<br>iso_alpha=%{location}<br>Cases=%{z}<extra></extra>",
           "hovertext": [
            "Niger",
            "Mexico",
            "United Kingdom",
            "India",
            "Austria",
            "New Zealand",
            "Lebanon",
            "Colombia",
            "Belgium",
            "Germany",
            "Australia",
            "Korea, Republic of",
            "Bolivia, Plurinational State of",
            "Brazil",
            "Spain",
            "Thailand",
            "Japan",
            "Luxembourg",
            "Canada",
            "United States",
            "South Africa",
            "Peru",
            "Indonesia",
            "Chile",
            "Costa Rica",
            "Czechia",
            "Qatar",
            "Ethiopia",
            "Cuba",
            "Poland",
            "Sweden",
            "Malaysia",
            "Bahrain",
            "Italy",
            "Netherlands",
            "Algeria",
            "Ireland",
            "Argentina"
           ],
           "locations": [
            "NGA",
            "MEX",
            "GBR",
            "IND",
            "AUT",
            "NZL",
            "LBN",
            "COL",
            "BEL",
            "DEU",
            "AUS",
            "KOR",
            "BOL",
            "BRA",
            "ESP",
            "THA",
            "JPN",
            "LUX",
            "CAN",
            "USA",
            "ZAF",
            "PER",
            "IDN",
            "CHL",
            "CRI",
            "CZE",
            "QAT",
            "ETH",
            "CUB",
            "POL",
            "SWE",
            "MYS",
            "BHR",
            "ITA",
            "NLD",
            "DZA",
            "IRL",
            "ARG"
           ],
           "name": "",
           "type": "choropleth",
           "z": [
            1,
            127,
            1155,
            69,
            408,
            44,
            61,
            76,
            474,
            2281,
            281,
            87,
            7,
            418,
            4597,
            33,
            46,
            128,
            102,
            8512,
            34,
            43,
            68,
            95,
            17,
            92,
            13,
            2,
            5,
            93,
            145,
            123,
            29,
            5264,
            478,
            62,
            128,
            39
           ]
          }
         ],
         "name": "2020-03-22"
        },
        {
         "data": [
          {
           "coloraxis": "coloraxis",
           "geo": "geo",
           "hovertemplate": "<b>%{hovertext}</b><br><br>date=2020-03-23<br>iso_alpha=%{location}<br>Cases=%{z}<extra></extra>",
           "hovertext": [
            "Italy",
            "Canada",
            "Sweden",
            "Lebanon",
            "United Kingdom",
            "Poland",
            "Germany",
            "Bahrain",
            "Costa Rica",
            "Mexico",
            "Chile",
            "Czechia",
            "Qatar",
            "Netherlands",
            "Malaysia",
            "South Africa",
            "Brazil",
            "Cuba",
            "Algeria",
            "Argentina",
            "Ireland",
            "Paraguay",
            "Indonesia",
            "Spain",
            "Luxembourg",
            "Australia",
            "Thailand",
            "Belgium",
            "Peru",
            "Japan",
            "Bolivia, Plurinational State of",
            "United States",
            "New Zealand",
            "Korea, Republic of",
            "Austria",
            "India",
            "Colombia"
           ],
           "locations": [
            "ITA",
            "CAN",
            "SWE",
            "LBN",
            "GBR",
            "POL",
            "DEU",
            "BHR",
            "CRI",
            "MEX",
            "CHL",
            "CZE",
            "QAT",
            "NLD",
            "MYS",
            "ZAF",
            "BRA",
            "CUB",
            "DZA",
            "ARG",
            "IRL",
            "PRY",
            "IDN",
            "ESP",
            "LUX",
            "AUS",
            "THA",
            "BEL",
            "PER",
            "JPN",
            "BOL",
            "USA",
            "NZL",
            "KOR",
            "AUT",
            "IND",
            "COL"
           ],
           "name": "",
           "type": "choropleth",
           "z": [
            4555,
            211,
            129,
            19,
            1974,
            106,
            3719,
            43,
            24,
            188,
            114,
            141,
            7,
            462,
            212,
            127,
            345,
            8,
            29,
            37,
            196,
            5,
            63,
            5131,
            77,
            328,
            37,
            1316,
            35,
            38,
            1,
            10427,
            42,
            51,
            663,
            94,
            81
           ]
          }
         ],
         "name": "2020-03-23"
        },
        {
         "data": [
          {
           "coloraxis": "coloraxis",
           "geo": "geo",
           "hovertemplate": "<b>%{hovertext}</b><br><br>date=2020-03-24<br>iso_alpha=%{location}<br>Cases=%{z}<extra></extra>",
           "hovertext": [
            "Indonesia",
            "Sweden",
            "Chile",
            "Luxembourg",
            "Australia",
            "United Kingdom",
            "Ireland",
            "Spain",
            "Poland",
            "India",
            "Lebanon",
            "Colombia",
            "Belgium",
            "Malaysia",
            "Algeria",
            "Thailand",
            "Niger",
            "Peru",
            "New Zealand",
            "Korea, Republic of",
            "Austria",
            "Bolivia, Plurinational State of",
            "Mexico",
            "Argentina",
            "Brazil",
            "Netherlands",
            "Qatar",
            "Ethiopia",
            "Czechia",
            "United States",
            "South Africa",
            "Japan",
            "Cuba",
            "Germany",
            "Paraguay",
            "Bahrain",
            "Canada",
            "Costa Rica",
            "Italy"
           ],
           "locations": [
            "IDN",
            "SWE",
            "CHL",
            "LUX",
            "AUS",
            "GBR",
            "IRL",
            "ESP",
            "POL",
            "IND",
            "LBN",
            "COL",
            "BEL",
            "MYS",
            "DZA",
            "THA",
            "NGA",
            "PER",
            "NZL",
            "KOR",
            "AUT",
            "BOL",
            "MEX",
            "ARG",
            "BRA",
            "NLD",
            "QAT",
            "ETH",
            "CZE",
            "USA",
            "ZAF",
            "JPN",
            "CUB",
            "DEU",
            "PRY",
            "BHR",
            "CAN",
            "CRI",
            "ITA"
           ],
           "name": "",
           "type": "choropleth",
           "z": [
            109,
            240,
            176,
            224,
            370,
            1986,
            218,
            7390,
            144,
            74,
            51,
            116,
            1188,
            106,
            34,
            22,
            5,
            21,
            58,
            56,
            933,
            4,
            154,
            84,
            310,
            702,
            25,
            1,
            220,
            10413,
            134,
            72,
            9,
            4861,
            10,
            15,
            316,
            20,
            4986
           ]
          }
         ],
         "name": "2020-03-24"
        },
        {
         "data": [
          {
           "coloraxis": "coloraxis",
           "geo": "geo",
           "hovertemplate": "<b>%{hovertext}</b><br><br>date=2020-03-25<br>iso_alpha=%{location}<br>Cases=%{z}<extra></extra>",
           "hovertext": [
            "Mexico",
            "India",
            "Malaysia",
            "Canada",
            "Bolivia, Plurinational State of",
            "Spain",
            "Ireland",
            "United Kingdom",
            "Argentina",
            "Brazil",
            "Algeria",
            "Costa Rica",
            "Qatar",
            "Thailand",
            "Czechia",
            "United States",
            "Indonesia",
            "Sweden",
            "South Africa",
            "Chile",
            "Luxembourg",
            "Japan",
            "Netherlands",
            "New Zealand",
            "Austria",
            "Poland",
            "Cuba",
            "Belgium",
            "Australia",
            "Korea, Republic of",
            "Bahrain",
            "Paraguay",
            "Peru",
            "Lebanon",
            "Italy",
            "Germany",
            "Colombia"
           ],
           "locations": [
            "MEX",
            "IND",
            "MYS",
            "CAN",
            "BOL",
            "ESP",
            "IRL",
            "GBR",
            "ARG",
            "BRA",
            "DZA",
            "CRI",
            "QAT",
            "THA",
            "CZE",
            "USA",
            "IDN",
            "SWE",
            "ZAF",
            "CHL",
            "LUX",
            "JPN",
            "NLD",
            "NZL",
            "AUT",
            "POL",
            "CUB",
            "BEL",
            "AUS",
            "KOR",
            "BHR",
            "PRY",
            "PER",
            "LBN",
            "ITA",
            "DEU",
            "COL"
           ],
           "name": "",
           "type": "choropleth",
           "z": [
            162,
            86,
            172,
            291,
            7,
            8347,
            257,
            2273,
            117,
            232,
            38,
            24,
            11,
            36,
            237,
            14594,
            87,
            232,
            110,
            220,
            234,
            91,
            738,
            83,
            664,
            146,
            10,
            1186,
            380,
            66,
            27,
            4,
            64,
            15,
            4836,
            5701,
            136
           ]
          }
         ],
         "name": "2020-03-25"
        },
        {
         "data": [
          {
           "coloraxis": "coloraxis",
           "geo": "geo",
           "hovertemplate": "<b>%{hovertext}</b><br><br>date=2020-03-26<br>iso_alpha=%{location}<br>Cases=%{z}<extra></extra>",
           "hovertext": [
            "Lebanon",
            "Brazil",
            "Indonesia",
            "Luxembourg",
            "Italy",
            "Algeria",
            "Netherlands",
            "Bahrain",
            "Costa Rica",
            "Australia",
            "Chile",
            "Czechia",
            "Germany",
            "Qatar",
            "United States",
            "Norway",
            "Argentina",
            "South Africa",
            "Paraguay",
            "New Zealand",
            "Colombia",
            "Poland",
            "Thailand",
            "Sweden",
            "Peru",
            "Canada",
            "Niger",
            "Austria",
            "India",
            "Cuba",
            "Malaysia",
            "Bolivia, Plurinational State of",
            "United Kingdom",
            "Spain",
            "Japan",
            "Ireland",
            "Belgium",
            "Mexico",
            "Korea, Republic of"
           ],
           "locations": [
            "LBN",
            "BRA",
            "IDN",
            "LUX",
            "ITA",
            "DZA",
            "NLD",
            "BHR",
            "CRI",
            "AUS",
            "CHL",
            "CZE",
            "DEU",
            "QAT",
            "USA",
            "NOR",
            "ARG",
            "ZAF",
            "PRY",
            "NZL",
            "COL",
            "POL",
            "THA",
            "SWE",
            "PER",
            "CAN",
            "NGA",
            "AUT",
            "IND",
            "CUB",
            "MYS",
            "BOL",
            "GBR",
            "ESP",
            "JPN",
            "IRL",
            "BEL",
            "MEX",
            "KOR"
           ],
           "name": "",
           "type": "choropleth",
           "z": [
            35,
            482,
            97,
            120,
            5867,
            65,
            870,
            39,
            30,
            374,
            164,
            239,
            5890,
            12,
            16998,
            3048,
            86,
            204,
            11,
            79,
            110,
            172,
            25,
            324,
            100,
            344,
            2,
            816,
            73,
            13,
            235,
            22,
            2967,
            9189,
            93,
            265,
            1346,
            204,
            74
           ]
          }
         ],
         "name": "2020-03-26"
        },
        {
         "data": [
          {
           "coloraxis": "coloraxis",
           "geo": "geo",
           "hovertemplate": "<b>%{hovertext}</b><br><br>date=2020-03-27<br>iso_alpha=%{location}<br>Cases=%{z}<extra></extra>",
           "hovertext": [
            "Paraguay",
            "Luxembourg",
            "Japan",
            "New Zealand",
            "Australia",
            "Lebanon",
            "Netherlands",
            "Peru",
            "Korea, Republic of",
            "Mexico",
            "Ireland",
            "Spain",
            "Norway",
            "Malaysia",
            "Poland",
            "Qatar",
            "Italy",
            "Indonesia",
            "Austria",
            "United States",
            "Colombia",
            "Argentina",
            "Cuba",
            "Algeria",
            "Brazil",
            "Bolivia, Plurinational State of",
            "Bahrain",
            "Canada",
            "Czechia",
            "United Kingdom",
            "Germany",
            "Ethiopia",
            "Sweden",
            "Belgium",
            "Ghana",
            "India",
            "Thailand",
            "Costa Rica",
            "Chile"
           ],
           "locations": [
            "PRY",
            "LUX",
            "JPN",
            "NZL",
            "AUS",
            "LBN",
            "NLD",
            "PER",
            "KOR",
            "MEX",
            "IRL",
            "ESP",
            "NOR",
            "MYS",
            "POL",
            "QAT",
            "ITA",
            "IDN",
            "AUT",
            "USA",
            "COL",
            "ARG",
            "CUB",
            "DZA",
            "BRA",
            "BOL",
            "BHR",
            "CAN",
            "CZE",
            "GBR",
            "DEU",
            "ETH",
            "SWE",
            "BEL",
            "GHA",
            "IND",
            "THA",
            "CRI",
            "CHL"
           ],
           "name": "",
           "type": "choropleth",
           "z": [
            4,
            152,
            116,
            75,
            374,
            23,
            1006,
            55,
            78,
            221,
            310,
            8938,
            521,
            116,
            143,
            13,
            5518,
            140,
            982,
            17250,
            99,
            102,
            39,
            42,
            502,
            13,
            8,
            322,
            298,
            2700,
            5996,
            4,
            214,
            1494,
            1,
            153,
            29,
            34,
            304
           ]
          }
         ],
         "name": "2020-03-27"
        },
        {
         "data": [
          {
           "coloraxis": "coloraxis",
           "geo": "geo",
           "hovertemplate": "<b>%{hovertext}</b><br><br>date=2020-03-28<br>iso_alpha=%{location}<br>Cases=%{z}<extra></extra>",
           "hovertext": [
            "Costa Rica",
            "India",
            "Indonesia",
            "Germany",
            "Paraguay",
            "Niger",
            "Korea, Republic of",
            "Norway",
            "Lebanon",
            "Italy",
            "Cuba",
            "Australia",
            "Ireland",
            "Mexico",
            "Bahrain",
            "Sweden",
            "Canada",
            "United Kingdom",
            "Brazil",
            "Poland",
            "Japan",
            "Spain",
            "Algeria",
            "Czechia",
            "Malaysia",
            "Austria",
            "Qatar",
            "New Zealand",
            "Luxembourg",
            "Netherlands",
            "Ethiopia",
            "Argentina",
            "Bolivia, Plurinational State of",
            "Belgium",
            "Peru",
            "Chile",
            "Thailand",
            "Colombia",
            "United States",
            "South Africa"
           ],
           "locations": [
            "CRI",
            "IND",
            "IDN",
            "DEU",
            "PRY",
            "NGA",
            "KOR",
            "NOR",
            "LBN",
            "ITA",
            "CUB",
            "AUS",
            "IRL",
            "MEX",
            "BHR",
            "SWE",
            "CAN",
            "GBR",
            "BRA",
            "POL",
            "JPN",
            "ESP",
            "DZA",
            "CZE",
            "MYS",
            "AUT",
            "QAT",
            "NZL",
            "LUX",
            "NLD",
            "ETH",
            "ARG",
            "BOL",
            "BEL",
            "PER",
            "CHL",
            "THA",
            "COL",
            "USA",
            "ZAF"
           ],
           "name": "",
           "type": "choropleth",
           "z": [
            31,
            136,
            107,
            4751,
            3,
            11,
            122,
            275,
            21,
            5579,
            20,
            461,
            260,
            214,
            10,
            391,
            421,
            2670,
            487,
            178,
            200,
            7924,
            45,
            224,
            173,
            559,
            28,
            72,
            226,
            999,
            3,
            54,
            7,
            831,
            36,
            299,
            32,
            108,
            20867,
            222
           ]
          }
         ],
         "name": "2020-03-28"
        },
        {
         "data": [
          {
           "coloraxis": "coloraxis",
           "geo": "geo",
           "hovertemplate": "<b>%{hovertext}</b><br><br>date=2020-03-29<br>iso_alpha=%{location}<br>Cases=%{z}<extra></extra>",
           "hovertext": [
            "Bolivia, Plurinational State of",
            "Czechia",
            "South Africa",
            "Sweden",
            "Ghana",
            "Canada",
            "Thailand",
            "Ethiopia",
            "India",
            "Bahrain",
            "Japan",
            "New Zealand",
            "Netherlands",
            "Italy",
            "Brazil",
            "Argentina",
            "Korea, Republic of",
            "Peru",
            "Niger",
            "United States",
            "Cuba",
            "Germany",
            "Austria",
            "Qatar",
            "Mexico",
            "Norway",
            "Ireland",
            "Costa Rica",
            "Algeria",
            "Poland",
            "Australia",
            "Chile",
            "Malaysia",
            "United Kingdom",
            "Paraguay",
            "Luxembourg",
            "Spain",
            "Belgium",
            "Colombia",
            "Lebanon",
            "Indonesia"
           ],
           "locations": [
            "BOL",
            "CZE",
            "ZAF",
            "SWE",
            "GHA",
            "CAN",
            "THA",
            "ETH",
            "IND",
            "BHR",
            "JPN",
            "NZL",
            "NLD",
            "ITA",
            "BRA",
            "ARG",
            "KOR",
            "PER",
            "NGA",
            "USA",
            "CUB",
            "DEU",
            "AUT",
            "QAT",
            "MEX",
            "NOR",
            "IRL",
            "CRI",
            "DZA",
            "POL",
            "AUS",
            "CHL",
            "MYS",
            "GBR",
            "PRY",
            "LUX",
            "ESP",
            "BEL",
            "COL",
            "LBN",
            "IDN"
           ],
           "name": "",
           "type": "choropleth",
           "z": [
            15,
            139,
            110,
            259,
            11,
            323,
            28,
            2,
            120,
            23,
            173,
            74,
            925,
            4972,
            352,
            75,
            84,
            181,
            1,
            18642,
            31,
            3103,
            541,
            44,
            175,
            262,
            203,
            22,
            57,
            203,
            344,
            230,
            150,
            2623,
            5,
            119,
            5904,
            670,
            68,
            26,
            127
           ]
          }
         ],
         "name": "2020-03-29"
        },
        {
         "data": [
          {
           "coloraxis": "coloraxis",
           "geo": "geo",
           "hovertemplate": "<b>%{hovertext}</b><br><br>date=2020-03-30<br>iso_alpha=%{location}<br>Cases=%{z}<extra></extra>",
           "hovertext": [
            "Colombia",
            "Indonesia",
            "Austria",
            "Cuba",
            "Paraguay",
            "Niger",
            "Korea, Republic of",
            "Brazil",
            "Germany",
            "United States",
            "Netherlands",
            "Peru",
            "Japan",
            "Thailand",
            "South Africa",
            "Luxembourg",
            "Ethiopia",
            "Czechia",
            "Spain",
            "Belgium",
            "Qatar",
            "Bolivia, Plurinational State of",
            "Malaysia",
            "New Zealand",
            "Italy",
            "Argentina",
            "Chile",
            "Lebanon",
            "Algeria",
            "Canada",
            "Bahrain",
            "Mexico",
            "Costa Rica",
            "Ireland",
            "Sweden",
            "Poland",
            "India",
            "Norway",
            "United Kingdom",
            "Australia"
           ],
           "locations": [
            "COL",
            "IDN",
            "AUT",
            "CUB",
            "PRY",
            "NGA",
            "KOR",
            "BRA",
            "DEU",
            "USA",
            "NLD",
            "PER",
            "JPN",
            "THA",
            "ZAF",
            "LUX",
            "ETH",
            "CZE",
            "ESP",
            "BEL",
            "QAT",
            "BOL",
            "MYS",
            "NZL",
            "ITA",
            "ARG",
            "CHL",
            "LBN",
            "DZA",
            "CAN",
            "BHR",
            "MEX",
            "CRI",
            "IRL",
            "SWE",
            "POL",
            "IND",
            "NOR",
            "GBR",
            "AUS"
           ],
           "name": "",
           "type": "choropleth",
           "z": [
            114,
            129,
            819,
            16,
            1,
            5,
            65,
            323,
            4072,
            21410,
            783,
            103,
            73,
            25,
            54,
            38,
            2,
            298,
            6067,
            1710,
            59,
            11,
            156,
            52,
            3698,
            146,
            310,
            8,
            73,
            538,
            16,
            216,
            17,
            313,
            394,
            182,
            187,
            119,
            4154,
            266
           ]
          }
         ],
         "name": "2020-03-30"
        },
        {
         "data": [
          {
           "coloraxis": "coloraxis",
           "geo": "geo",
           "hovertemplate": "<b>%{hovertext}</b><br><br>date=2020-03-31<br>iso_alpha=%{location}<br>Cases=%{z}<extra></extra>",
           "hovertext": [
            "United States",
            "Ireland",
            "Australia",
            "Poland",
            "Austria",
            "Bahrain",
            "Colombia",
            "Germany",
            "Czechia",
            "Peru",
            "Qatar",
            "Spain",
            "Bolivia, Plurinational State of",
            "Chile",
            "Argentina",
            "Sweden",
            "Netherlands",
            "Malaysia",
            "Costa Rica",
            "New Zealand",
            "Indonesia",
            "Korea, Republic of",
            "Japan",
            "Lebanon",
            "Italy",
            "Thailand",
            "Brazil",
            "South Africa",
            "Canada",
            "Algeria",
            "Paraguay",
            "United Kingdom",
            "Luxembourg",
            "Mexico",
            "Norway",
            "Belgium",
            "India",
            "Cuba",
            "Ethiopia"
           ],
           "locations": [
            "USA",
            "IRL",
            "AUS",
            "POL",
            "AUT",
            "BHR",
            "COL",
            "DEU",
            "CZE",
            "PER",
            "QAT",
            "ESP",
            "BOL",
            "CHL",
            "ARG",
            "SWE",
            "NLD",
            "MYS",
            "CRI",
            "NZL",
            "IDN",
            "KOR",
            "JPN",
            "LBN",
            "ITA",
            "THA",
            "BRA",
            "ZAF",
            "CAN",
            "DZA",
            "PRY",
            "GBR",
            "LUX",
            "MEX",
            "NOR",
            "BEL",
            "IND",
            "CUB",
            "ETH"
           ],
           "name": "",
           "type": "choropleth",
           "z": [
            24406,
            292,
            311,
            238,
            585,
            52,
            103,
            6058,
            300,
            115,
            88,
            7642,
            8,
            289,
            88,
            412,
            748,
            140,
            20,
            77,
            118,
            110,
            237,
            24,
            3809,
            36,
            1138,
            33,
            411,
            132,
            4,
            4217,
            190,
            186,
            221,
            1664,
            309,
            26,
            4
           ]
          }
         ],
         "name": "2020-03-31"
        },
        {
         "data": [
          {
           "coloraxis": "coloraxis",
           "geo": "geo",
           "hovertemplate": "<b>%{hovertext}</b><br><br>date=2020-04-01<br>iso_alpha=%{location}<br>Cases=%{z}<extra></extra>",
           "hovertext": [
            "Japan",
            "Netherlands",
            "Sweden",
            "Australia",
            "Chile",
            "Canada",
            "Algeria",
            "South Africa",
            "India",
            "Ethiopia",
            "Qatar",
            "Luxembourg",
            "Bolivia, Plurinational State of",
            "Czechia",
            "Argentina",
            "United Kingdom",
            "Bahrain",
            "Italy",
            "Brazil",
            "Lebanon",
            "Korea, Republic of",
            "Paraguay",
            "Niger",
            "Mexico",
            "Colombia",
            "Cuba",
            "New Zealand",
            "Norway",
            "Indonesia",
            "Costa Rica",
            "Austria",
            "Belgium",
            "United States",
            "Poland",
            "Ireland",
            "Peru",
            "Malaysia",
            "Spain",
            "Germany"
           ],
           "locations": [
            "JPN",
            "NLD",
            "SWE",
            "AUS",
            "CHL",
            "CAN",
            "DZA",
            "ZAF",
            "IND",
            "ETH",
            "QAT",
            "LUX",
            "BOL",
            "CZE",
            "ARG",
            "GBR",
            "BHR",
            "ITA",
            "BRA",
            "LBN",
            "KOR",
            "PRY",
            "NGA",
            "MEX",
            "COL",
            "CUB",
            "NZL",
            "NOR",
            "IDN",
            "CRI",
            "AUT",
            "BEL",
            "USA",
            "POL",
            "IRL",
            "PER",
            "MYS",
            "ESP",
            "DEU"
           ],
           "name": "",
           "type": "choropleth",
           "z": [
            263,
            872,
            484,
            303,
            293,
            1150,
            131,
            27,
            424,
            3,
            54,
            141,
            8,
            266,
            79,
            4608,
            2,
            4442,
            1119,
            9,
            94,
            8,
            45,
            183,
            106,
            21,
            73,
            207,
            145,
            30,
            488,
            1480,
            26689,
            235,
            373,
            258,
            142,
            7227,
            6311
           ]
          }
         ],
         "name": "2020-04-01"
        },
        {
         "data": [
          {
           "coloraxis": "coloraxis",
           "geo": "geo",
           "hovertemplate": "<b>%{hovertext}</b><br><br>date=2020-04-02<br>iso_alpha=%{location}<br>Cases=%{z}<extra></extra>",
           "hovertext": [
            "Canada",
            "Brazil",
            "Netherlands",
            "Malaysia",
            "Argentina",
            "Algeria",
            "Luxembourg",
            "Japan",
            "South Africa",
            "Chile",
            "Korea, Republic of",
            "Cuba",
            "Mexico",
            "Colombia",
            "United Kingdom",
            "Poland",
            "Costa Rica",
            "United States",
            "Czechia",
            "Qatar",
            "Lebanon",
            "Australia",
            "Bahrain",
            "Norway",
            "Spain",
            "Indonesia",
            "Belgium",
            "Ireland",
            "New Zealand",
            "Italy",
            "Bolivia, Plurinational State of",
            "Germany",
            "Paraguay",
            "Peru",
            "Sweden",
            "India",
            "Austria"
           ],
           "locations": [
            "CAN",
            "BRA",
            "NLD",
            "MYS",
            "ARG",
            "DZA",
            "LUX",
            "JPN",
            "ZAF",
            "CHL",
            "KOR",
            "CUB",
            "MEX",
            "COL",
            "GBR",
            "POL",
            "CRI",
            "USA",
            "CZE",
            "QAT",
            "LBN",
            "AUS",
            "BHR",
            "NOR",
            "ESP",
            "IDN",
            "BEL",
            "IRL",
            "NZL",
            "ITA",
            "BOL",
            "DEU",
            "PRY",
            "PER",
            "SWE",
            "IND",
            "AUT"
           ],
           "name": "",
           "type": "choropleth",
           "z": [
            681,
            1074,
            948,
            208,
            132,
            139,
            168,
            278,
            78,
            373,
            71,
            36,
            143,
            68,
            4289,
            368,
            22,
            29414,
            293,
            114,
            15,
            272,
            74,
            280,
            6806,
            114,
            1431,
            360,
            82,
            4292,
            9,
            6558,
            15,
            91,
            558,
            486,
            478
           ]
          }
         ],
         "name": "2020-04-02"
        },
        {
         "data": [
          {
           "coloraxis": "coloraxis",
           "geo": "geo",
           "hovertemplate": "<b>%{hovertext}</b><br><br>date=2020-04-03<br>iso_alpha=%{location}<br>Cases=%{z}<extra></extra>",
           "hovertext": [
            "Czechia",
            "Lebanon",
            "Belgium",
            "Indonesia",
            "Paraguay",
            "Ethiopia",
            "Poland",
            "Malaysia",
            "Spain",
            "Norway",
            "Chile",
            "Colombia",
            "New Zealand",
            "Netherlands",
            "Sweden",
            "Canada",
            "Qatar",
            "United States",
            "Australia",
            "Luxembourg",
            "India",
            "Mexico",
            "Bolivia, Plurinational State of",
            "Bahrain",
            "Italy",
            "Korea, Republic of",
            "United Kingdom",
            "Brazil",
            "Algeria",
            "Austria",
            "Argentina",
            "Peru",
            "South Africa",
            "Cuba",
            "Germany",
            "Costa Rica",
            "Ireland",
            "Japan"
           ],
           "locations": [
            "CZE",
            "LBN",
            "BEL",
            "IDN",
            "PRY",
            "ETH",
            "POL",
            "MYS",
            "ESP",
            "NOR",
            "CHL",
            "COL",
            "NZL",
            "NLD",
            "SWE",
            "CAN",
            "QAT",
            "USA",
            "AUS",
            "LUX",
            "IND",
            "MEX",
            "BOL",
            "BHR",
            "ITA",
            "KOR",
            "GBR",
            "BRA",
            "DZA",
            "AUT",
            "ARG",
            "PER",
            "ZAF",
            "CUB",
            "DEU",
            "CRI",
            "IRL",
            "JPN"
           ],
           "name": "",
           "type": "choropleth",
           "z": [
            325,
            14,
            1665,
            193,
            4,
            6,
            412,
            217,
            6499,
            273,
            333,
            102,
            75,
            890,
            560,
            619,
            126,
            32578,
            222,
            125,
            560,
            142,
            7,
            29,
            4278,
            64,
            4618,
            1146,
            185,
            412,
            88,
            183,
            43,
            19,
            6209,
            22,
            429,
            353
           ]
          }
         ],
         "name": "2020-04-03"
        },
        {
         "data": [
          {
           "coloraxis": "coloraxis",
           "geo": "geo",
           "hovertemplate": "<b>%{hovertext}</b><br><br>date=2020-04-04<br>iso_alpha=%{location}<br>Cases=%{z}<extra></extra>",
           "hovertext": [
            "Brazil",
            "Italy",
            "Spain",
            "Pakistan",
            "New Zealand",
            "Mexico",
            "Korea, Republic of",
            "Malaysia",
            "United States",
            "Austria",
            "Belgium",
            "Costa Rica",
            "Indonesia",
            "Cuba",
            "Norway",
            "Poland",
            "Sweden",
            "United Kingdom",
            "India",
            "Argentina",
            "Paraguay",
            "Canada",
            "Ethiopia",
            "Ireland",
            "South Africa",
            "Algeria",
            "Thailand",
            "Czechia",
            "Australia",
            "Bahrain",
            "Japan",
            "Peru",
            "Colombia",
            "Netherlands",
            "Chile",
            "Germany",
            "Qatar",
            "Luxembourg",
            "Bolivia, Plurinational State of",
            "Lebanon"
           ],
           "locations": [
            "BRA",
            "ITA",
            "ESP",
            "PAK",
            "NZL",
            "MEX",
            "KOR",
            "MYS",
            "USA",
            "AUT",
            "BEL",
            "CRI",
            "IDN",
            "CUB",
            "NOR",
            "POL",
            "SWE",
            "GBR",
            "IND",
            "ARG",
            "PRY",
            "CAN",
            "ETH",
            "IRL",
            "ZAF",
            "DZA",
            "THA",
            "CZE",
            "AUS",
            "BHR",
            "JPN",
            "PER",
            "COL",
            "NLD",
            "CHL",
            "DEU",
            "QAT",
            "LUX",
            "BOL",
            "LBN"
           ],
           "name": "",
           "type": "choropleth",
           "z": [
            1222,
            4534,
            6089,
            339,
            77,
            98,
            79,
            150,
            35089,
            276,
            901,
            20,
            100,
            32,
            309,
            356,
            434,
            3790,
            579,
            98,
            8,
            533,
            3,
            473,
            111,
            80,
            32,
            222,
            194,
            16,
            368,
            151,
            70,
            785,
            424,
            4314,
            250,
            117,
            18,
            12
           ]
          }
         ],
         "name": "2020-04-04"
        },
        {
         "data": [
          {
           "coloraxis": "coloraxis",
           "geo": "geo",
           "hovertemplate": "<b>%{hovertext}</b><br><br>date=2020-04-05<br>iso_alpha=%{location}<br>Cases=%{z}<extra></extra>",
           "hovertext": [
            "Costa Rica",
            "Belgium",
            "Luxembourg",
            "Ireland",
            "India",
            "Austria",
            "Canada",
            "Bolivia, Plurinational State of",
            "Bahrain",
            "Italy",
            "Colombia",
            "Japan",
            "Brazil",
            "Mexico",
            "Peru",
            "United Kingdom",
            "Korea, Republic of",
            "Cuba",
            "Germany",
            "Australia",
            "South Africa",
            "Argentina",
            "Lebanon",
            "Spain",
            "Netherlands",
            "United States",
            "New Zealand",
            "Ethiopia",
            "Norway",
            "Czechia",
            "Qatar",
            "Indonesia",
            "Paraguay",
            "Poland",
            "Chile",
            "Malaysia",
            "Sweden"
           ],
           "locations": [
            "CRI",
            "BEL",
            "LUX",
            "IRL",
            "IND",
            "AUT",
            "CAN",
            "BOL",
            "BHR",
            "ITA",
            "COL",
            "JPN",
            "BRA",
            "MEX",
            "PER",
            "GBR",
            "KOR",
            "CUB",
            "DEU",
            "AUS",
            "ZAF",
            "ARG",
            "LBN",
            "ESP",
            "NLD",
            "USA",
            "NZL",
            "ETH",
            "NOR",
            "CZE",
            "QAT",
            "IDN",
            "PRY",
            "POL",
            "CHL",
            "MYS",
            "SWE"
           ],
           "name": "",
           "type": "choropleth",
           "z": [
            19,
            642,
            75,
            677,
            609,
            233,
            559,
            26,
            12,
            4121,
            43,
            352,
            852,
            74,
            535,
            3612,
            57,
            30,
            2548,
            141,
            56,
            103,
            7,
            4215,
            1039,
            25396,
            70,
            5,
            126,
            159,
            279,
            175,
            9,
            380,
            320,
            179,
            427
           ]
          }
         ],
         "name": "2020-04-05"
        },
        {
         "data": [
          {
           "coloraxis": "coloraxis",
           "geo": "geo",
           "hovertemplate": "<b>%{hovertext}</b><br><br>date=2020-04-06<br>iso_alpha=%{location}<br>Cases=%{z}<extra></extra>",
           "hovertext": [
            "Mexico",
            "Australia",
            "Ireland",
            "Norway",
            "Lebanon",
            "Germany",
            "Austria",
            "Paraguay",
            "Costa Rica",
            "Indonesia",
            "Colombia",
            "Canada",
            "India",
            "Chile",
            "Japan",
            "Malaysia",
            "New Zealand",
            "United States",
            "Argentina",
            "Spain",
            "Qatar",
            "Netherlands",
            "Bahrain",
            "Pakistan",
            "Thailand",
            "South Africa",
            "Ethiopia",
            "Czechia",
            "Bolivia, Plurinational State of",
            "Sweden",
            "Poland",
            "Luxembourg",
            "Cuba",
            "Korea, Republic of",
            "Peru",
            "Italy",
            "Brazil",
            "Belgium",
            "United Kingdom"
           ],
           "locations": [
            "MEX",
            "AUS",
            "IRL",
            "NOR",
            "LBN",
            "DEU",
            "AUT",
            "PRY",
            "CRI",
            "IDN",
            "COL",
            "CAN",
            "IND",
            "CHL",
            "JPN",
            "MYS",
            "NZL",
            "USA",
            "ARG",
            "ESP",
            "QAT",
            "NLD",
            "BHR",
            "PAK",
            "THA",
            "ZAF",
            "ETH",
            "CZE",
            "BOL",
            "SWE",
            "POL",
            "LUX",
            "CUB",
            "KOR",
            "PER",
            "ITA",
            "BRA",
            "BEL",
            "GBR"
           ],
           "name": "",
           "type": "choropleth",
           "z": [
            57,
            107,
            388,
            117,
            14,
            3672,
            290,
            2,
            13,
            220,
            39,
            614,
            484,
            344,
            239,
            131,
            53,
            29569,
            73,
            3964,
            228,
            857,
            56,
            596,
            33,
            31,
            1,
            235,
            11,
            352,
            305,
            39,
            46,
            40,
            280,
            3374,
            926,
            1880,
            5249
           ]
          }
         ],
         "name": "2020-04-06"
        },
        {
         "data": [
          {
           "coloraxis": "coloraxis",
           "geo": "geo",
           "hovertemplate": "<b>%{hovertext}</b><br><br>date=2020-04-07<br>iso_alpha=%{location}<br>Cases=%{z}<extra></extra>",
           "hovertext": [
            "Pakistan",
            "Ethiopia",
            "Lebanon",
            "Brazil",
            "Czechia",
            "Mexico",
            "Bolivia, Plurinational State of",
            "Netherlands",
            "Paraguay",
            "Bahrain",
            "Luxembourg",
            "India",
            "Argentina",
            "Ireland",
            "Korea, Republic of",
            "Australia",
            "Austria",
            "Cuba",
            "Peru",
            "Sweden",
            "Poland",
            "Colombia",
            "Belgium",
            "Malaysia",
            "New Zealand",
            "Germany",
            "Norway",
            "United Kingdom",
            "Italy",
            "Spain",
            "Japan",
            "Canada",
            "Chile",
            "Indonesia",
            "Qatar",
            "Costa Rica",
            "United States"
           ],
           "locations": [
            "PAK",
            "ETH",
            "LBN",
            "BRA",
            "CZE",
            "MEX",
            "BOL",
            "NLD",
            "PRY",
            "BHR",
            "LUX",
            "IND",
            "ARG",
            "IRL",
            "KOR",
            "AUS",
            "AUT",
            "CUB",
            "PER",
            "SWE",
            "POL",
            "COL",
            "BEL",
            "MYS",
            "NZL",
            "DEU",
            "NOR",
            "GBR",
            "ITA",
            "ESP",
            "JPN",
            "CAN",
            "CHL",
            "IDN",
            "QAT",
            "CRI",
            "USA"
           ],
           "name": "",
           "type": "choropleth",
           "z": [
            483,
            8,
            7,
            1661,
            222,
            14,
            16,
            688,
            4,
            55,
            127,
            573,
            88,
            463,
            33,
            119,
            300,
            61,
            393,
            497,
            437,
            54,
            1470,
            170,
            37,
            5209,
            108,
            5200,
            2747,
            4984,
            368,
            637,
            301,
            248,
            225,
            16,
            31714
           ]
          }
         ],
         "name": "2020-04-07"
        },
        {
         "data": [
          {
           "coloraxis": "coloraxis",
           "geo": "geo",
           "hovertemplate": "<b>%{hovertext}</b><br><br>date=2020-04-08<br>iso_alpha=%{location}<br>Cases=%{z}<extra></extra>",
           "hovertext": [
            "Luxembourg",
            "Colombia",
            "Austria",
            "Bahrain",
            "Argentina",
            "Pakistan",
            "Lebanon",
            "Chile",
            "Spain",
            "Malaysia",
            "Poland",
            "United Kingdom",
            "Indonesia",
            "India",
            "Peru",
            "Czechia",
            "South Africa",
            "Germany",
            "United States",
            "Mexico",
            "Belgium",
            "Norway",
            "Ethiopia",
            "Australia",
            "Qatar",
            "Thailand",
            "Costa Rica",
            "Brazil",
            "Paraguay",
            "Netherlands",
            "Korea, Republic of",
            "Italy",
            "Bolivia, Plurinational State of",
            "Ireland",
            "Canada",
            "Cuba",
            "Japan",
            "Sweden",
            "New Zealand"
           ],
           "locations": [
            "LUX",
            "COL",
            "AUT",
            "BHR",
            "ARG",
            "PAK",
            "LBN",
            "CHL",
            "ESP",
            "MYS",
            "POL",
            "GBR",
            "IDN",
            "IND",
            "PER",
            "CZE",
            "ZAF",
            "DEU",
            "USA",
            "MEX",
            "BEL",
            "NOR",
            "ETH",
            "AUS",
            "QAT",
            "THA",
            "CRI",
            "BRA",
            "PRY",
            "NLD",
            "KOR",
            "ITA",
            "BOL",
            "IRL",
            "CAN",
            "CUB",
            "JPN",
            "SWE",
            "NZL"
           ],
           "name": "",
           "type": "choropleth",
           "z": [
            64,
            44,
            321,
            12,
            80,
            257,
            28,
            430,
            5205,
            156,
            410,
            4906,
            218,
            565,
            1388,
            308,
            226,
            5284,
            31632,
            5,
            1549,
            147,
            3,
            105,
            153,
            54,
            20,
            2210,
            5,
            833,
            39,
            3588,
            54,
            627,
            600,
            58,
            513,
            733,
            28
           ]
          }
         ],
         "name": "2020-04-08"
        },
        {
         "data": [
          {
           "coloraxis": "coloraxis",
           "geo": "geo",
           "hovertemplate": "<b>%{hovertext}</b><br><br>date=2020-04-09<br>iso_alpha=%{location}<br>Cases=%{z}<extra></extra>",
           "hovertext": [
            "Sweden",
            "Poland",
            "Malaysia",
            "Cuba",
            "New Zealand",
            "Colombia",
            "United States",
            "Spain",
            "Chile",
            "Ethiopia",
            "Thailand",
            "Czechia",
            "Pakistan",
            "Indonesia",
            "Netherlands",
            "Bolivia, Plurinational State of",
            "Peru",
            "Japan",
            "South Africa",
            "Belgium",
            "Argentina",
            "United Kingdom",
            "Paraguay",
            "Brazil",
            "India",
            "Austria",
            "Costa Rica",
            "Ireland",
            "Germany",
            "Canada",
            "Korea, Republic of",
            "Australia",
            "Italy",
            "Norway"
           ],
           "locations": [
            "SWE",
            "POL",
            "MYS",
            "CUB",
            "NZL",
            "COL",
            "USA",
            "ESP",
            "CHL",
            "ETH",
            "THA",
            "CZE",
            "PAK",
            "IDN",
            "NLD",
            "BOL",
            "PER",
            "JPN",
            "ZAF",
            "BEL",
            "ARG",
            "GBR",
            "PRY",
            "BRA",
            "IND",
            "AUT",
            "CRI",
            "IRL",
            "DEU",
            "CAN",
            "KOR",
            "AUS",
            "ITA",
            "NOR"
           ],
           "name": "",
           "type": "choropleth",
           "z": [
            683,
            400,
            109,
            49,
            44,
            61,
            34493,
            5538,
            426,
            1,
            33,
            250,
            213,
            337,
            1028,
            4,
            915,
            580,
            90,
            2178,
            98,
            4736,
            5,
            1930,
            813,
            274,
            38,
            716,
            4907,
            669,
            29,
            85,
            3890,
            145
           ]
          }
         ],
         "name": "2020-04-09"
        },
        {
         "data": [
          {
           "coloraxis": "coloraxis",
           "geo": "geo",
           "hovertemplate": "<b>%{hovertext}</b><br><br>date=2020-04-10<br>iso_alpha=%{location}<br>Cases=%{z}<extra></extra>",
           "hovertext": [
            "Pakistan",
            "Norway",
            "Paraguay",
            "Australia",
            "Thailand",
            "India",
            "Indonesia",
            "Netherlands",
            "Bolivia, Plurinational State of",
            "Ireland",
            "Peru",
            "Japan",
            "Canada",
            "Czechia",
            "United Kingdom",
            "Ethiopia",
            "Chile",
            "Italy",
            "Cuba",
            "Korea, Republic of",
            "Austria",
            "Colombia",
            "Malaysia",
            "Sweden",
            "Brazil",
            "New Zealand",
            "Belgium",
            "Poland",
            "South Africa",
            "Spain",
            "Argentina",
            "Germany",
            "United States",
            "Costa Rica"
           ],
           "locations": [
            "PAK",
            "NOR",
            "PRY",
            "AUS",
            "THA",
            "IND",
            "IDN",
            "NLD",
            "BOL",
            "IRL",
            "PER",
            "JPN",
            "CAN",
            "CZE",
            "GBR",
            "ETH",
            "CHL",
            "ITA",
            "CUB",
            "KOR",
            "AUT",
            "COL",
            "MYS",
            "SWE",
            "BRA",
            "NZL",
            "BEL",
            "POL",
            "ZAF",
            "ESP",
            "ARG",
            "DEU",
            "USA",
            "CRI"
           ],
           "name": "",
           "type": "choropleth",
           "z": [
            206,
            87,
            4,
            106,
            32,
            871,
            220,
            1190,
            7,
            709,
            641,
            642,
            547,
            210,
            4375,
            9,
            529,
            3707,
            56,
            23,
            346,
            42,
            118,
            533,
            1781,
            27,
            2274,
            387,
            70,
            4710,
            81,
            3336,
            33389,
            20
           ]
          }
         ],
         "name": "2020-04-10"
        },
        {
         "data": [
          {
           "coloraxis": "coloraxis",
           "geo": "geo",
           "hovertemplate": "<b>%{hovertext}</b><br><br>date=2020-04-11<br>iso_alpha=%{location}<br>Cases=%{z}<extra></extra>",
           "hovertext": [
            "Canada",
            "Brazil",
            "Peru",
            "Pakistan",
            "Bolivia, Plurinational State of",
            "Netherlands",
            "United States",
            "Norway",
            "Paraguay",
            "Belgium",
            "New Zealand",
            "Poland",
            "Malaysia",
            "Colombia",
            "United Kingdom",
            "Chile",
            "Japan",
            "Ethiopia",
            "Cuba",
            "Korea, Republic of",
            "South Africa",
            "Costa Rica",
            "Argentina",
            "Thailand",
            "Italy",
            "Sweden",
            "India",
            "Austria",
            "Indonesia",
            "Spain",
            "Germany",
            "Ireland",
            "Czechia",
            "Australia"
           ],
           "locations": [
            "CAN",
            "BRA",
            "PER",
            "PAK",
            "BOL",
            "NLD",
            "USA",
            "NOR",
            "PRY",
            "BEL",
            "NZL",
            "POL",
            "MYS",
            "COL",
            "GBR",
            "CHL",
            "JPN",
            "ETH",
            "CUB",
            "KOR",
            "ZAF",
            "CRI",
            "ARG",
            "THA",
            "ITA",
            "SWE",
            "IND",
            "AUT",
            "IDN",
            "ESP",
            "DEU",
            "IRL",
            "CZE",
            "AUS"
           ],
           "name": "",
           "type": "choropleth",
           "z": [
            632,
            1089,
            951,
            316,
            25,
            1110,
            31545,
            76,
            1,
            1004,
            25,
            400,
            184,
            95,
            3493,
            426,
            691,
            4,
            49,
            24,
            26,
            18,
            167,
            23,
            4464,
            516,
            854,
            275,
            330,
            3859,
            2914,
            988,
            151,
            88
           ]
          }
         ],
         "name": "2020-04-11"
        },
        {
         "data": [
          {
           "coloraxis": "coloraxis",
           "geo": "geo",
           "hovertemplate": "<b>%{hovertext}</b><br><br>date=2020-04-12<br>iso_alpha=%{location}<br>Cases=%{z}<extra></extra>",
           "hovertext": [
            "Costa Rica",
            "Canada",
            "Colombia",
            "Australia",
            "Cuba",
            "Thailand",
            "Argentina",
            "Korea, Republic of",
            "Brazil",
            "Chile",
            "Netherlands",
            "Pakistan",
            "Spain",
            "India",
            "Ireland",
            "Paraguay",
            "Norway",
            "Germany",
            "Italy",
            "Sweden",
            "Belgium",
            "New Zealand",
            "South Africa",
            "United States",
            "Ethiopia",
            "Austria",
            "Peru",
            "Bolivia, Plurinational State of",
            "Czechia",
            "Japan",
            "Indonesia",
            "United Kingdom",
            "Malaysia",
            "Poland"
           ],
           "locations": [
            "CRI",
            "CAN",
            "COL",
            "AUS",
            "CUB",
            "THA",
            "ARG",
            "KOR",
            "BRA",
            "CHL",
            "NLD",
            "PAK",
            "ESP",
            "IND",
            "IRL",
            "PRY",
            "NOR",
            "DEU",
            "ITA",
            "SWE",
            "BEL",
            "NZL",
            "ZAF",
            "USA",
            "ETH",
            "AUT",
            "PER",
            "BOL",
            "CZE",
            "JPN",
            "IDN",
            "GBR",
            "MYS",
            "POL"
           ],
           "name": "",
           "type": "choropleth",
           "z": [
            19,
            544,
            48,
            26,
            57,
            18,
            67,
            14,
            1442,
            286,
            1003,
            219,
            3416,
            758,
            901,
            13,
            92,
            1839,
            3785,
            346,
            499,
            20,
            140,
            27154,
            2,
            169,
            677,
            30,
            123,
            507,
            399,
            3376,
            153,
            346
           ]
          }
         ],
         "name": "2020-04-12"
        },
        {
         "data": [
          {
           "coloraxis": "coloraxis",
           "geo": "geo",
           "hovertemplate": "<b>%{hovertext}</b><br><br>date=2020-04-13<br>iso_alpha=%{location}<br>Cases=%{z}<extra></extra>",
           "hovertext": [
            "Austria",
            "Argentina",
            "Poland",
            "Costa Rica",
            "Korea, Republic of",
            "Cuba",
            "Thailand",
            "Czechia",
            "Netherlands",
            "Bolivia, Plurinational State of",
            "Peru",
            "Japan",
            "Ethiopia",
            "United States",
            "New Zealand",
            "Sweden",
            "Belgium",
            "Italy",
            "Germany",
            "Norway",
            "Paraguay",
            "Ireland",
            "India",
            "Spain",
            "Chile",
            "Pakistan",
            "Indonesia",
            "South Africa",
            "Brazil",
            "Malaysia",
            "Canada",
            "United Kingdom",
            "Colombia",
            "Australia"
           ],
           "locations": [
            "AUT",
            "ARG",
            "POL",
            "CRI",
            "KOR",
            "CUB",
            "THA",
            "CZE",
            "NLD",
            "BOL",
            "PER",
            "JPN",
            "ETH",
            "USA",
            "NZL",
            "SWE",
            "BEL",
            "ITA",
            "DEU",
            "NOR",
            "PRY",
            "IRL",
            "IND",
            "ESP",
            "CHL",
            "PAK",
            "IDN",
            "ZAF",
            "BRA",
            "MYS",
            "CAN",
            "GBR",
            "COL",
            "AUS"
           ],
           "name": "",
           "type": "choropleth",
           "z": [
            112,
            69,
            283,
            17,
            19,
            40,
            10,
            62,
            822,
            24,
            2265,
            301,
            3,
            25749,
            11,
            399,
            522,
            2938,
            1592,
            73,
            12,
            876,
            1243,
            3015,
            312,
            266,
            313,
            97,
            1261,
            134,
            657,
            4034,
            58,
            41
           ]
          }
         ],
         "name": "2020-04-13"
        },
        {
         "data": [
          {
           "coloraxis": "coloraxis",
           "geo": "geo",
           "hovertemplate": "<b>%{hovertext}</b><br><br>date=2020-04-14<br>iso_alpha=%{location}<br>Cases=%{z}<extra></extra>",
           "hovertext": [
            "Chile",
            "Spain",
            "Sweden",
            "Belgium",
            "Ethiopia",
            "Czechia",
            "Cuba",
            "Paraguay",
            "Malaysia",
            "United Kingdom",
            "Australia",
            "Korea, Republic of",
            "Ireland",
            "Thailand",
            "Italy",
            "Netherlands",
            "Costa Rica",
            "Canada",
            "Indonesia",
            "Japan",
            "Norway",
            "Bolivia, Plurinational State of",
            "United States",
            "Brazil",
            "Colombia",
            "Peru",
            "South Africa",
            "Argentina",
            "Pakistan",
            "Germany",
            "Poland",
            "India",
            "New Zealand"
           ],
           "locations": [
            "CHL",
            "ESP",
            "SWE",
            "BEL",
            "ETH",
            "CZE",
            "CUB",
            "PRY",
            "MYS",
            "GBR",
            "AUS",
            "KOR",
            "IRL",
            "THA",
            "ITA",
            "NLD",
            "CRI",
            "CAN",
            "IDN",
            "JPN",
            "NOR",
            "BOL",
            "USA",
            "BRA",
            "COL",
            "PER",
            "ZAF",
            "ARG",
            "PAK",
            "DEU",
            "POL",
            "IND",
            "NZL"
           ],
           "name": "",
           "type": "choropleth",
           "z": [
            392,
            3829,
            504,
            1460,
            8,
            95,
            48,
            2,
            170,
            3976,
            49,
            20,
            1164,
            25,
            2833,
            780,
            8,
            769,
            291,
            479,
            77,
            43,
            26651,
            1832,
            128,
            522,
            142,
            165,
            341,
            2481,
            307,
            1031,
            16
           ]
          }
         ],
         "name": "2020-04-14"
        },
        {
         "data": [
          {
           "coloraxis": "coloraxis",
           "geo": "geo",
           "hovertemplate": "<b>%{hovertext}</b><br><br>date=2020-04-15<br>iso_alpha=%{location}<br>Cases=%{z}<extra></extra>",
           "hovertext": [
            "United States",
            "Ethiopia",
            "India",
            "United Kingdom",
            "Chile",
            "Spain",
            "Netherlands",
            "Czechia",
            "Malaysia",
            "Bolivia, Plurinational State of",
            "Peru",
            "Thailand",
            "Pakistan",
            "South Africa",
            "Belgium",
            "Costa Rica",
            "Italy",
            "Germany",
            "Argentina",
            "Paraguay",
            "Indonesia",
            "Brazil",
            "Ireland",
            "Canada",
            "Korea, Republic of",
            "Australia",
            "Cuba",
            "Norway",
            "Japan",
            "Colombia",
            "Sweden",
            "New Zealand",
            "Poland"
           ],
           "locations": [
            "USA",
            "ETH",
            "IND",
            "GBR",
            "CHL",
            "ESP",
            "NLD",
            "CZE",
            "MYS",
            "BOL",
            "PER",
            "THA",
            "PAK",
            "ZAF",
            "BEL",
            "CRI",
            "ITA",
            "DEU",
            "ARG",
            "PRY",
            "IDN",
            "BRA",
            "IRL",
            "CAN",
            "KOR",
            "AUS",
            "CUB",
            "NOR",
            "JPN",
            "COL",
            "SWE",
            "NZL",
            "POL"
           ],
           "name": "",
           "type": "choropleth",
           "z": [
            29942,
            3,
            886,
            5025,
            356,
            4382,
            656,
            142,
            85,
            44,
            1173,
            15,
            546,
            92,
            1568,
            8,
            2501,
            3308,
            128,
            13,
            298,
            3058,
            587,
            734,
            23,
            34,
            48,
            110,
            543,
            61,
            488,
            11,
            443
           ]
          }
         ],
         "name": "2020-04-15"
        },
        {
         "data": [
          {
           "coloraxis": "coloraxis",
           "geo": "geo",
           "hovertemplate": "<b>%{hovertext}</b><br><br>date=2020-04-16<br>iso_alpha=%{location}<br>Cases=%{z}<extra></extra>",
           "hovertext": [
            "Norway",
            "Peru",
            "Germany",
            "Malaysia",
            "India",
            "Canada",
            "United States",
            "Italy",
            "Sweden",
            "Belgium",
            "Paraguay",
            "Chile",
            "Ireland",
            "New Zealand",
            "South Africa",
            "Ethiopia",
            "Colombia",
            "United Kingdom",
            "Czechia",
            "Japan",
            "Argentina",
            "Indonesia",
            "Cuba",
            "Thailand",
            "Pakistan",
            "Brazil",
            "Netherlands",
            "Spain",
            "Australia",
            "Costa Rica",
            "Korea, Republic of",
            "Bolivia, Plurinational State of",
            "Poland"
           ],
           "locations": [
            "NOR",
            "PER",
            "DEU",
            "MYS",
            "IND",
            "CAN",
            "USA",
            "ITA",
            "SWE",
            "BEL",
            "PRY",
            "CHL",
            "IRL",
            "NZL",
            "ZAF",
            "ETH",
            "COL",
            "GBR",
            "CZE",
            "JPN",
            "ARG",
            "IDN",
            "CUB",
            "THA",
            "PAK",
            "BRA",
            "NLD",
            "ESP",
            "AUS",
            "CRI",
            "KOR",
            "BOL",
            "POL"
           ],
           "name": "",
           "type": "choropleth",
           "z": [
            111,
            1019,
            3412,
            110,
            1061,
            735,
            31497,
            3558,
            665,
            1625,
            25,
            534,
            734,
            17,
            101,
            7,
            128,
            4427,
            137,
            579,
            99,
            380,
            61,
            12,
            536,
            2105,
            918,
            4617,
            30,
            16,
            18,
            24,
            389
           ]
          }
         ],
         "name": "2020-04-16"
        },
        {
         "data": [
          {
           "coloraxis": "coloraxis",
           "geo": "geo",
           "hovertemplate": "<b>%{hovertext}</b><br><br>date=2020-04-17<br>iso_alpha=%{location}<br>Cases=%{z}<extra></extra>",
           "hovertext": [
            "South Africa",
            "Bolivia, Plurinational State of",
            "Colombia",
            "Paraguay",
            "Canada",
            "United States",
            "Korea, Republic of",
            "Ireland",
            "Argentina",
            "Ethiopia",
            "Sweden",
            "Pakistan",
            "New Zealand",
            "United Kingdom",
            "Poland",
            "Cuba",
            "Chile",
            "Belgium",
            "Indonesia",
            "Australia",
            "Norway",
            "Thailand",
            "Netherlands",
            "Czechia",
            "Costa Rica",
            "Germany",
            "Malaysia",
            "Italy",
            "India",
            "Spain",
            "Brazil",
            "Japan",
            "Peru"
           ],
           "locations": [
            "ZAF",
            "BOL",
            "COL",
            "PRY",
            "CAN",
            "USA",
            "KOR",
            "IRL",
            "ARG",
            "ETH",
            "SWE",
            "PAK",
            "NZL",
            "GBR",
            "POL",
            "CUB",
            "CHL",
            "BEL",
            "IDN",
            "AUS",
            "NOR",
            "THA",
            "NLD",
            "CZE",
            "CRI",
            "DEU",
            "MYS",
            "ITA",
            "IND",
            "ESP",
            "BRA",
            "JPN",
            "PER"
           ],
           "name": "",
           "type": "choropleth",
           "z": [
            172,
            28,
            61,
            3,
            942,
            31465,
            11,
            867,
            89,
            4,
            633,
            121,
            12,
            4348,
            505,
            63,
            445,
            1349,
            406,
            47,
            106,
            14,
            1100,
            125,
            8,
            3043,
            69,
            3312,
            922,
            5051,
            3257,
            555,
            998
           ]
          }
         ],
         "name": "2020-04-17"
        },
        {
         "data": [
          {
           "coloraxis": "coloraxis",
           "geo": "geo",
           "hovertemplate": "<b>%{hovertext}</b><br><br>date=2020-04-18<br>iso_alpha=%{location}<br>Cases=%{z}<extra></extra>",
           "hovertext": [
            "Poland",
            "Brazil",
            "New Zealand",
            "Germany",
            "Indonesia",
            "Norway",
            "Costa Rica",
            "Korea, Republic of",
            "Italy",
            "Ireland",
            "Belgium",
            "Paraguay",
            "Australia",
            "Spain",
            "Japan",
            "South Africa",
            "Malaysia",
            "India",
            "Peru",
            "Netherlands",
            "Czechia",
            "Argentina",
            "United Kingdom",
            "Colombia",
            "Thailand",
            "Ethiopia",
            "Bolivia, Plurinational State of",
            "Chile",
            "United States",
            "Cuba",
            "Pakistan",
            "Canada",
            "Sweden"
           ],
           "locations": [
            "POL",
            "BRA",
            "NZL",
            "DEU",
            "IDN",
            "NOR",
            "CRI",
            "KOR",
            "ITA",
            "IRL",
            "BEL",
            "PRY",
            "AUS",
            "ESP",
            "JPN",
            "ZAF",
            "MYS",
            "IND",
            "PER",
            "NLD",
            "CZE",
            "ARG",
            "GBR",
            "COL",
            "THA",
            "ETH",
            "BOL",
            "CHL",
            "USA",
            "CUB",
            "PAK",
            "CAN",
            "SWE"
           ],
           "name": "",
           "type": "choropleth",
           "z": [
            393,
            2917,
            10,
            2083,
            322,
            92,
            6,
            15,
            3275,
            573,
            690,
            4,
            42,
            3666,
            585,
            241,
            54,
            1371,
            931,
            989,
            114,
            81,
            3279,
            71,
            11,
            9,
            27,
            478,
            28320,
            49,
            613,
            808,
            652
           ]
          }
         ],
         "name": "2020-04-18"
        },
        {
         "data": [
          {
           "coloraxis": "coloraxis",
           "geo": "geo",
           "hovertemplate": "<b>%{hovertext}</b><br><br>date=2020-04-19<br>iso_alpha=%{location}<br>Cases=%{z}<extra></extra>",
           "hovertext": [
            "Pakistan",
            "Netherlands",
            "Norway",
            "Chile",
            "Ireland",
            "India",
            "Argentina",
            "Malaysia",
            "Cuba",
            "Peru",
            "Germany",
            "Poland",
            "Japan",
            "Brazil",
            "Czechia",
            "Australia",
            "Canada",
            "Italy",
            "Bolivia, Plurinational State of",
            "United States",
            "Korea, Republic of",
            "Ethiopia",
            "Belgium",
            "Thailand",
            "Indonesia",
            "New Zealand",
            "South Africa",
            "United Kingdom",
            "Paraguay",
            "Sweden",
            "Costa Rica",
            "Colombia"
           ],
           "locations": [
            "PAK",
            "NLD",
            "NOR",
            "CHL",
            "IRL",
            "IND",
            "ARG",
            "MYS",
            "CUB",
            "PER",
            "DEU",
            "POL",
            "JPN",
            "BRA",
            "CZE",
            "AUS",
            "CAN",
            "ITA",
            "BOL",
            "USA",
            "KOR",
            "ETH",
            "BEL",
            "THA",
            "IDN",
            "NZL",
            "ZAF",
            "GBR",
            "PRY",
            "SWE",
            "CRI",
            "COL"
           ],
           "name": "",
           "type": "choropleth",
           "z": [
            710,
            919,
            84,
            358,
            279,
            1580,
            102,
            84,
            52,
            1208,
            1393,
            600,
            375,
            2055,
            64,
            42,
            800,
            2760,
            44,
            25256,
            6,
            3,
            440,
            11,
            327,
            10,
            116,
            2665,
            2,
            521,
            5,
            98
           ]
          }
         ],
         "name": "2020-04-19"
        },
        {
         "data": [
          {
           "coloraxis": "coloraxis",
           "geo": "geo",
           "hovertemplate": "<b>%{hovertext}</b><br><br>date=2020-04-20<br>iso_alpha=%{location}<br>Cases=%{z}<extra></extra>",
           "hovertext": [
            "India",
            "Canada",
            "Indonesia",
            "Norway",
            "Ethiopia",
            "Japan",
            "Malaysia",
            "Argentina",
            "Ireland",
            "Peru",
            "Colombia",
            "Czechia",
            "Thailand",
            "Bolivia, Plurinational State of",
            "Sweden",
            "New Zealand",
            "South Africa",
            "Netherlands",
            "United States",
            "Poland",
            "Cuba",
            "Korea, Republic of",
            "Germany",
            "Chile",
            "Brazil",
            "Italy",
            "Costa Rica",
            "Australia",
            "United Kingdom",
            "Belgium"
           ],
           "locations": [
            "IND",
            "CAN",
            "IDN",
            "NOR",
            "ETH",
            "JPN",
            "MYS",
            "ARG",
            "IRL",
            "PER",
            "COL",
            "CZE",
            "THA",
            "BOL",
            "SWE",
            "NZL",
            "ZAF",
            "NLD",
            "USA",
            "POL",
            "CUB",
            "KOR",
            "DEU",
            "CHL",
            "BRA",
            "ITA",
            "CRI",
            "AUS",
            "GBR",
            "BEL"
           ],
           "name": "",
           "type": "choropleth",
           "z": [
            1239,
            882,
            182,
            44,
            3,
            342,
            36,
            90,
            407,
            697,
            98,
            98,
            9,
            34,
            364,
            3,
            141,
            656,
            27243,
            390,
            50,
            9,
            1738,
            419,
            1927,
            2131,
            1,
            13,
            3865,
            1228
           ]
          }
         ],
         "name": "2020-04-20"
        },
        {
         "data": [
          {
           "coloraxis": "coloraxis",
           "geo": "geo",
           "hovertemplate": "<b>%{hovertext}</b><br><br>date=2020-04-21<br>iso_alpha=%{location}<br>Cases=%{z}<extra></extra>",
           "hovertext": [
            "Costa Rica",
            "Bolivia, Plurinational State of",
            "Korea, Republic of",
            "Indonesia",
            "Cuba",
            "Australia",
            "Poland",
            "Malaysia",
            "Pakistan",
            "Japan",
            "Brazil",
            "Thailand",
            "Argentina",
            "Ireland",
            "India",
            "Germany",
            "Chile",
            "Norway",
            "Italy",
            "Paraguay",
            "United Kingdom",
            "Belgium",
            "United States",
            "Canada",
            "New Zealand",
            "South Africa",
            "Ethiopia",
            "Sweden",
            "Czechia",
            "Colombia",
            "Peru",
            "Netherlands"
           ],
           "locations": [
            "CRI",
            "BOL",
            "KOR",
            "IDN",
            "CUB",
            "AUS",
            "POL",
            "MYS",
            "PAK",
            "JPN",
            "BRA",
            "THA",
            "ARG",
            "IRL",
            "IND",
            "DEU",
            "CHL",
            "NOR",
            "ITA",
            "PRY",
            "GBR",
            "BEL",
            "USA",
            "CAN",
            "NZL",
            "ZAF",
            "ETH",
            "SWE",
            "CZE",
            "COL",
            "PER",
            "NLD"
           ],
           "name": "",
           "type": "choropleth",
           "z": [
            7,
            11,
            6,
            372,
            52,
            22,
            358,
            57,
            1217,
            389,
            2498,
            12,
            113,
            568,
            1537,
            2202,
            325,
            51,
            2592,
            5,
            3868,
            1213,
            25784,
            725,
            6,
            168,
            3,
            499,
            116,
            83,
            1517,
            651
           ]
          }
         ],
         "name": "2020-04-21"
        },
        {
         "data": [
          {
           "coloraxis": "coloraxis",
           "geo": "geo",
           "hovertemplate": "<b>%{hovertext}</b><br><br>date=2020-04-22<br>iso_alpha=%{location}<br>Cases=%{z}<extra></extra>",
           "hovertext": [
            "South Africa",
            "United States",
            "Sweden",
            "Poland",
            "Argentina",
            "United Kingdom",
            "Thailand",
            "Peru",
            "Korea, Republic of",
            "Colombia",
            "Belgium",
            "Ethiopia",
            "Brazil",
            "Norway",
            "Italy",
            "Cuba",
            "Australia",
            "New Zealand",
            "Indonesia",
            "Costa Rica",
            "Malaysia",
            "Ireland",
            "Germany",
            "Czechia",
            "Canada",
            "Japan",
            "Chile",
            "Netherlands",
            "Bolivia, Plurinational State of",
            "India"
           ],
           "locations": [
            "ZAF",
            "USA",
            "SWE",
            "POL",
            "ARG",
            "GBR",
            "THA",
            "PER",
            "KOR",
            "COL",
            "BEL",
            "ETH",
            "BRA",
            "NOR",
            "ITA",
            "CUB",
            "AUS",
            "NZL",
            "IDN",
            "CRI",
            "MYS",
            "IRL",
            "DEU",
            "CZE",
            "CAN",
            "JPN",
            "CHL",
            "NLD",
            "BOL",
            "IND"
           ],
           "name": "",
           "type": "choropleth",
           "z": [
            213,
            28709,
            718,
            379,
            143,
            3784,
            6,
            1413,
            9,
            74,
            750,
            2,
            2678,
            85,
            3198,
            46,
            7,
            5,
            284,
            11,
            50,
            981,
            2499,
            114,
            1132,
            406,
            464,
            621,
            63,
            1292
           ]
          }
         ],
         "name": "2020-04-22"
        },
        {
         "data": [
          {
           "coloraxis": "coloraxis",
           "geo": "geo",
           "hovertemplate": "<b>%{hovertext}</b><br><br>date=2020-04-23<br>iso_alpha=%{location}<br>Cases=%{z}<extra></extra>",
           "hovertext": [
            "Peru",
            "Indonesia",
            "India",
            "United Kingdom",
            "New Zealand",
            "Italy",
            "Ireland",
            "Belgium",
            "Australia",
            "Costa Rica",
            "South Africa",
            "Colombia",
            "Bolivia, Plurinational State of",
            "Japan",
            "Korea, Republic of",
            "United States",
            "Cuba",
            "Chile",
            "Malaysia",
            "Sweden",
            "Brazil",
            "Poland",
            "Norway",
            "Paraguay",
            "Czechia",
            "Netherlands",
            "Germany",
            "Thailand",
            "Canada",
            "Argentina"
           ],
           "locations": [
            "PER",
            "IDN",
            "IND",
            "GBR",
            "NZL",
            "ITA",
            "IRL",
            "BEL",
            "AUS",
            "CRI",
            "ZAF",
            "COL",
            "BOL",
            "JPN",
            "KOR",
            "USA",
            "CUB",
            "CHL",
            "MYS",
            "SWE",
            "BRA",
            "POL",
            "NOR",
            "PRY",
            "CZE",
            "NLD",
            "DEU",
            "THA",
            "CAN",
            "ARG"
           ],
           "name": "",
           "type": "choropleth",
           "z": [
            1678,
            357,
            1667,
            3495,
            5,
            2381,
            559,
            940,
            8,
            5,
            318,
            91,
            31,
            421,
            6,
            33405,
            50,
            516,
            71,
            743,
            3735,
            464,
            97,
            7,
            118,
            791,
            2086,
            8,
            990,
            147
           ]
          }
         ],
         "name": "2020-04-23"
        },
        {
         "data": [
          {
           "coloraxis": "coloraxis",
           "geo": "geo",
           "hovertemplate": "<b>%{hovertext}</b><br><br>date=2020-04-24<br>iso_alpha=%{location}<br>Cases=%{z}<extra></extra>",
           "hovertext": [
            "New Zealand",
            "South Africa",
            "Netherlands",
            "Canada",
            "Colombia",
            "Australia",
            "Costa Rica",
            "Bolivia, Plurinational State of",
            "Korea, Republic of",
            "Malaysia",
            "Thailand",
            "Chile",
            "Czechia",
            "Japan",
            "Cuba",
            "Belgium",
            "Argentina",
            "United States",
            "Germany",
            "India",
            "Ethiopia",
            "Sweden",
            "Indonesia",
            "United Kingdom",
            "Poland",
            "Paraguay",
            "Norway",
            "Ireland",
            "Brazil",
            "Italy",
            "Peru"
           ],
           "locations": [
            "NZL",
            "ZAF",
            "NLD",
            "CAN",
            "COL",
            "AUS",
            "CRI",
            "BOL",
            "KOR",
            "MYS",
            "THA",
            "CHL",
            "CZE",
            "JPN",
            "CUB",
            "BEL",
            "ARG",
            "USA",
            "DEU",
            "IND",
            "ETH",
            "SWE",
            "IDN",
            "GBR",
            "POL",
            "PRY",
            "NOR",
            "IRL",
            "BRA",
            "ITA",
            "PER"
           ],
           "name": "",
           "type": "choropleth",
           "z": [
            6,
            268,
            689,
            850,
            101,
            17,
            1,
            104,
            5,
            88,
            7,
            494,
            104,
            399,
            52,
            771,
            173,
            36661,
            1890,
            1408,
            1,
            844,
            435,
            3652,
            499,
            3,
            63,
            456,
            3503,
            2906,
            734
           ]
          }
         ],
         "name": "2020-04-24"
        },
        {
         "data": [
          {
           "coloraxis": "coloraxis",
           "geo": "geo",
           "hovertemplate": "<b>%{hovertext}</b><br><br>date=2020-04-25<br>iso_alpha=%{location}<br>Cases=%{z}<extra></extra>",
           "hovertext": [
            "Australia",
            "Netherlands",
            "Poland",
            "United States",
            "Malaysia",
            "Colombia",
            "Korea, Republic of",
            "Argentina",
            "Peru",
            "United Kingdom",
            "Belgium",
            "India",
            "Canada",
            "Czechia",
            "Brazil",
            "Sweden",
            "Norway",
            "Paraguay",
            "Ethiopia",
            "Germany",
            "Cuba",
            "Thailand",
            "Indonesia",
            "Costa Rica",
            "Ireland",
            "Chile",
            "Italy",
            "New Zealand",
            "Japan",
            "Bolivia, Plurinational State of",
            "South Africa"
           ],
           "locations": [
            "AUS",
            "NLD",
            "POL",
            "USA",
            "MYS",
            "COL",
            "KOR",
            "ARG",
            "PER",
            "GBR",
            "BEL",
            "IND",
            "CAN",
            "CZE",
            "BRA",
            "SWE",
            "NOR",
            "PRY",
            "ETH",
            "DEU",
            "CUB",
            "THA",
            "IDN",
            "CRI",
            "IRL",
            "CHL",
            "ITA",
            "NZL",
            "JPN",
            "BOL",
            "ZAF"
           ],
           "name": "",
           "type": "choropleth",
           "z": [
            18,
            572,
            445,
            34240,
            51,
            137,
            6,
            173,
            3683,
            2574,
            377,
            1835,
            766,
            89,
            5514,
            595,
            58,
            5,
            5,
            1303,
            32,
            9,
            394,
            10,
            668,
            552,
            2214,
            6,
            324,
            59,
            136
           ]
          }
         ],
         "name": "2020-04-25"
        },
        {
         "data": [
          {
           "coloraxis": "coloraxis",
           "geo": "geo",
           "hovertemplate": "<b>%{hovertext}</b><br><br>date=2020-04-26<br>iso_alpha=%{location}<br>Cases=%{z}<extra></extra>",
           "hovertext": [
            "Japan",
            "Korea, Republic of",
            "Czechia",
            "Brazil",
            "Malaysia",
            "Colombia",
            "Sweden",
            "Bolivia, Plurinational State of",
            "Poland",
            "United States",
            "Ethiopia",
            "Australia",
            "Argentina",
            "Germany",
            "Cuba",
            "South Africa",
            "Canada",
            "India",
            "Indonesia",
            "Costa Rica",
            "Italy",
            "Ireland",
            "Belgium",
            "Thailand",
            "Netherlands",
            "Norway",
            "Peru",
            "Chile",
            "New Zealand",
            "United Kingdom"
           ],
           "locations": [
            "JPN",
            "KOR",
            "CZE",
            "BRA",
            "MYS",
            "COL",
            "SWE",
            "BOL",
            "POL",
            "USA",
            "ETH",
            "AUS",
            "ARG",
            "DEU",
            "CUB",
            "ZAF",
            "CAN",
            "IND",
            "IDN",
            "CRI",
            "ITA",
            "IRL",
            "BEL",
            "THA",
            "NLD",
            "NOR",
            "PER",
            "CHL",
            "NZL",
            "GBR"
           ],
           "name": "",
           "type": "choropleth",
           "z": [
            217,
            9,
            49,
            3379,
            38,
            89,
            486,
            84,
            433,
            26541,
            1,
            19,
            112,
            697,
            20,
            192,
            747,
            1607,
            272,
            2,
            2231,
            291,
            198,
            8,
            569,
            38,
            2186,
            473,
            3,
            2017
           ]
          }
         ],
         "name": "2020-04-26"
        },
        {
         "data": [
          {
           "coloraxis": "coloraxis",
           "geo": "geo",
           "hovertemplate": "<b>%{hovertext}</b><br><br>date=2020-04-27<br>iso_alpha=%{location}<br>Cases=%{z}<extra></extra>",
           "hovertext": [
            "Poland",
            "Norway",
            "Paraguay",
            "Ethiopia",
            "United States",
            "Germany",
            "Cuba",
            "Costa Rica",
            "Argentina",
            "Ireland",
            "Chile",
            "Sweden",
            "Australia",
            "Italy",
            "Colombia",
            "Canada",
            "South Africa",
            "Korea, Republic of",
            "Peru",
            "Bolivia, Plurinational State of",
            "Japan",
            "Belgium",
            "United Kingdom",
            "New Zealand",
            "Indonesia",
            "Brazil",
            "Czechia",
            "Malaysia",
            "Netherlands",
            "Thailand"
           ],
           "locations": [
            "POL",
            "NOR",
            "PRY",
            "ETH",
            "USA",
            "DEU",
            "CUB",
            "CRI",
            "ARG",
            "IRL",
            "CHL",
            "SWE",
            "AUS",
            "ITA",
            "COL",
            "CAN",
            "ZAF",
            "KOR",
            "PER",
            "BOL",
            "JPN",
            "BEL",
            "GBR",
            "NZL",
            "IDN",
            "BRA",
            "CZE",
            "MYS",
            "NLD",
            "THA"
           ],
           "name": "",
           "type": "choropleth",
           "z": [
            393,
            28,
            2,
            1,
            23203,
            1122,
            48,
            2,
            111,
            342,
            482,
            275,
            7,
            1539,
            89,
            762,
            250,
            5,
            1189,
            64,
            173,
            717,
            2946,
            3,
            214,
            4613,
            39,
            40,
            356,
            7
           ]
          }
         ],
         "name": "2020-04-27"
        },
        {
         "data": [
          {
           "coloraxis": "coloraxis",
           "geo": "geo",
           "hovertemplate": "<b>%{hovertext}</b><br><br>date=2020-04-28<br>iso_alpha=%{location}<br>Cases=%{z}<extra></extra>",
           "hovertext": [
            "United Kingdom",
            "South Africa",
            "United States",
            "Germany",
            "Bolivia, Plurinational State of",
            "Cuba",
            "Netherlands",
            "Canada",
            "Ireland",
            "Costa Rica",
            "Brazil",
            "Korea, Republic of",
            "Indonesia",
            "Peru",
            "Thailand",
            "Colombia",
            "Argentina",
            "New Zealand",
            "Czechia",
            "Paraguay",
            "Japan",
            "Australia",
            "Norway",
            "Belgium",
            "Chile",
            "Ethiopia",
            "Italy",
            "Sweden",
            "Malaysia",
            "Poland"
           ],
           "locations": [
            "GBR",
            "ZAF",
            "USA",
            "DEU",
            "BOL",
            "CUB",
            "NLD",
            "CAN",
            "IRL",
            "CRI",
            "BRA",
            "KOR",
            "IDN",
            "PER",
            "THA",
            "COL",
            "ARG",
            "NZL",
            "CZE",
            "PRY",
            "JPN",
            "AUS",
            "NOR",
            "BEL",
            "CHL",
            "ETH",
            "ITA",
            "SWE",
            "MYS",
            "POL"
           ],
           "name": "",
           "type": "choropleth",
           "z": [
            2980,
            204,
            24639,
            1452,
            39,
            30,
            167,
            689,
            388,
            8,
            5385,
            11,
            404,
            2496,
            5,
            166,
            124,
            1,
            55,
            9,
            279,
            12,
            72,
            543,
            552,
            2,
            2032,
            707,
            31,
            562
           ]
          }
         ],
         "name": "2020-04-28"
        },
        {
         "data": [
          {
           "coloraxis": "coloraxis",
           "geo": "geo",
           "hovertemplate": "<b>%{hovertext}</b><br><br>date=2020-04-29<br>iso_alpha=%{location}<br>Cases=%{z}<extra></extra>",
           "hovertext": [
            "Brazil",
            "Peru",
            "United States",
            "Canada",
            "Korea, Republic of",
            "Czechia",
            "Australia",
            "Ireland",
            "South Africa",
            "Italy",
            "New Zealand",
            "Chile",
            "Colombia",
            "Malaysia",
            "Cuba",
            "Paraguay",
            "Argentina",
            "Ethiopia",
            "United Kingdom",
            "Norway",
            "Poland",
            "Germany",
            "Bolivia, Plurinational State of",
            "Sweden",
            "Costa Rica",
            "Belgium",
            "Indonesia",
            "Netherlands",
            "Thailand",
            "Japan"
           ],
           "locations": [
            "BRA",
            "PER",
            "USA",
            "CAN",
            "KOR",
            "CZE",
            "AUS",
            "IRL",
            "ZAF",
            "ITA",
            "NZL",
            "CHL",
            "COL",
            "MYS",
            "CUB",
            "PRY",
            "ARG",
            "ETH",
            "GBR",
            "NOR",
            "POL",
            "DEU",
            "BOL",
            "SWE",
            "CRI",
            "BEL",
            "IDN",
            "NLD",
            "THA",
            "JPN"
           ],
           "name": "",
           "type": "choropleth",
           "z": [
            6276,
            2741,
            26631,
            850,
            6,
            52,
            13,
            399,
            352,
            1984,
            2,
            520,
            63,
            94,
            34,
            10,
            158,
            4,
            3001,
            62,
            578,
            1435,
            57,
            646,
            6,
            495,
            259,
            346,
            7,
            220
           ]
          }
         ],
         "name": "2020-04-29"
        },
        {
         "data": [
          {
           "coloraxis": "coloraxis",
           "geo": "geo",
           "hovertemplate": "<b>%{hovertext}</b><br><br>date=2020-04-30<br>iso_alpha=%{location}<br>Cases=%{z}<extra></extra>",
           "hovertext": [
            "Japan",
            "United States",
            "Colombia",
            "United Kingdom",
            "Bolivia, Plurinational State of",
            "Thailand",
            "South Africa",
            "Canada",
            "Ireland",
            "Italy",
            "Netherlands",
            "Poland",
            "Norway",
            "Malaysia",
            "Sweden",
            "Ethiopia",
            "Paraguay",
            "Cuba",
            "Germany",
            "Costa Rica",
            "Indonesia",
            "Belgium",
            "Chile",
            "Peru",
            "Australia",
            "Brazil",
            "Czechia",
            "New Zealand",
            "Argentina"
           ],
           "locations": [
            "JPN",
            "USA",
            "COL",
            "GBR",
            "BOL",
            "THA",
            "ZAF",
            "CAN",
            "IRL",
            "ITA",
            "NLD",
            "POL",
            "NOR",
            "MYS",
            "SWE",
            "ETH",
            "PRY",
            "CUB",
            "DEU",
            "CRI",
            "IDN",
            "BEL",
            "CHL",
            "PER",
            "AUS",
            "BRA",
            "CZE",
            "NZL",
            "ARG"
           ],
           "name": "",
           "type": "choropleth",
           "z": [
            199,
            30342,
            143,
            2771,
            57,
            3,
            297,
            626,
            232,
            1767,
            458,
            482,
            43,
            57,
            804,
            1,
            17,
            36,
            1466,
            7,
            347,
            542,
            1138,
            3045,
            9,
            7218,
            56,
            3,
            142
           ]
          }
         ],
         "name": "2020-04-30"
        },
        {
         "data": [
          {
           "coloraxis": "coloraxis",
           "geo": "geo",
           "hovertemplate": "<b>%{hovertext}</b><br><br>date=2020-05-01<br>iso_alpha=%{location}<br>Cases=%{z}<extra></extra>",
           "hovertext": [
            "Indonesia",
            "Belgium",
            "Japan",
            "Norway",
            "Brazil",
            "Sweden",
            "Ethiopia",
            "Paraguay",
            "United Kingdom",
            "Cuba",
            "Czechia",
            "Italy",
            "Costa Rica",
            "Bolivia, Plurinational State of",
            "Canada",
            "New Zealand",
            "Ireland",
            "Germany",
            "South Africa",
            "Poland",
            "Colombia",
            "Peru",
            "Argentina",
            "United States",
            "Malaysia",
            "Chile",
            "Netherlands",
            "Australia",
            "Korea, Republic of"
           ],
           "locations": [
            "IDN",
            "BEL",
            "JPN",
            "NOR",
            "BRA",
            "SWE",
            "ETH",
            "PRY",
            "GBR",
            "CUB",
            "CZE",
            "ITA",
            "CRI",
            "BOL",
            "CAN",
            "NZL",
            "IRL",
            "DEU",
            "ZAF",
            "POL",
            "COL",
            "PER",
            "ARG",
            "USA",
            "MYS",
            "CHL",
            "NLD",
            "AUS",
            "KOR"
           ],
           "name": "",
           "type": "choropleth",
           "z": [
            424,
            228,
            265,
            48,
            5919,
            447,
            2,
            67,
            2578,
            74,
            57,
            1896,
            5,
            62,
            846,
            6,
            324,
            912,
            305,
            367,
            151,
            3483,
            104,
            33923,
            69,
            985,
            424,
            12,
            5
           ]
          }
         ],
         "name": "2020-05-01"
        },
        {
         "data": [
          {
           "coloraxis": "coloraxis",
           "geo": "geo",
           "hovertemplate": "<b>%{hovertext}</b><br><br>date=2020-05-02<br>iso_alpha=%{location}<br>Cases=%{z}<extra></extra>",
           "hovertext": [
            "Sweden",
            "Malaysia",
            "Australia",
            "Bolivia, Plurinational State of",
            "Netherlands",
            "Canada",
            "Belgium",
            "United Kingdom",
            "South Africa",
            "Poland",
            "Paraguay",
            "Germany",
            "Italy",
            "Argentina",
            "Peru",
            "Indonesia",
            "Ireland",
            "Korea, Republic of",
            "Cuba",
            "Norway",
            "Czechia",
            "United States",
            "Colombia",
            "Chile",
            "Japan"
           ],
           "locations": [
            "SWE",
            "MYS",
            "AUS",
            "BOL",
            "NLD",
            "CAN",
            "BEL",
            "GBR",
            "ZAF",
            "POL",
            "PRY",
            "DEU",
            "ITA",
            "ARG",
            "PER",
            "IDN",
            "IRL",
            "KOR",
            "CUB",
            "NOR",
            "CZE",
            "USA",
            "COL",
            "CHL",
            "JPN"
           ],
           "name": "",
           "type": "choropleth",
           "z": [
            531,
            105,
            16,
            241,
            412,
            570,
            270,
            1682,
            385,
            398,
            37,
            622,
            1796,
            148,
            2075,
            284,
            373,
            3,
            38,
            20,
            31,
            29284,
            105,
            1427,
            302
           ]
          }
         ],
         "name": "2020-05-02"
        },
        {
         "data": [
          {
           "coloraxis": "coloraxis",
           "geo": "geo",
           "hovertemplate": "<b>%{hovertext}</b><br><br>date=2020-05-03<br>iso_alpha=%{location}<br>Cases=%{z}<extra></extra>",
           "hovertext": [
            "Ethiopia",
            "South Africa",
            "Chile",
            "Poland",
            "Cuba",
            "Paraguay",
            "Bolivia, Plurinational State of",
            "Germany",
            "Canada",
            "Argentina",
            "Italy",
            "Thailand",
            "United States",
            "Peru",
            "Indonesia",
            "Ireland",
            "Belgium",
            "Czechia",
            "Korea, Republic of",
            "New Zealand",
            "Japan",
            "Malaysia",
            "Norway",
            "Australia",
            "United Kingdom",
            "Netherlands",
            "Colombia",
            "Sweden"
           ],
           "locations": [
            "ETH",
            "ZAF",
            "CHL",
            "POL",
            "CUB",
            "PRY",
            "BOL",
            "DEU",
            "CAN",
            "ARG",
            "ITA",
            "THA",
            "USA",
            "PER",
            "IDN",
            "IRL",
            "BEL",
            "CZE",
            "KOR",
            "NZL",
            "JPN",
            "MYS",
            "NOR",
            "AUS",
            "GBR",
            "NLD",
            "COL",
            "SWE"
           ],
           "name": "",
           "type": "choropleth",
           "z": [
            2,
            447,
            1228,
            435,
            19,
            26,
            124,
            427,
            357,
            103,
            1292,
            1,
            26019,
            3394,
            348,
            225,
            124,
            17,
            8,
            1,
            201,
            122,
            62,
            18,
            2484,
            293,
            126,
            250
           ]
          }
         ],
         "name": "2020-05-03"
        },
        {
         "data": [
          {
           "coloraxis": "coloraxis",
           "geo": "geo",
           "hovertemplate": "<b>%{hovertext}</b><br><br>date=2020-05-04<br>iso_alpha=%{location}<br>Cases=%{z}<extra></extra>",
           "hovertext": [
            "Malaysia",
            "Germany",
            "Czechia",
            "Peru",
            "Argentina",
            "Canada",
            "Norway",
            "Thailand",
            "Italy",
            "Australia",
            "United States",
            "Bolivia, Plurinational State of",
            "Belgium",
            "Colombia",
            "Paraguay",
            "Sweden",
            "Indonesia",
            "Ethiopia",
            "Netherlands",
            "Ireland",
            "Chile",
            "Poland",
            "South Africa",
            "United Kingdom",
            "Korea, Republic of",
            "Japan",
            "Cuba"
           ],
           "locations": [
            "MYS",
            "DEU",
            "CZE",
            "PER",
            "ARG",
            "CAN",
            "NOR",
            "THA",
            "ITA",
            "AUS",
            "USA",
            "BOL",
            "BEL",
            "COL",
            "PRY",
            "SWE",
            "IDN",
            "ETH",
            "NLD",
            "IRL",
            "CHL",
            "POL",
            "ZAF",
            "GBR",
            "KOR",
            "JPN",
            "CUB"
           ],
           "name": "",
           "type": "choropleth",
           "z": [
            55,
            730,
            44,
            1444,
            104,
            724,
            37,
            55,
            1223,
            26,
            21883,
            87,
            469,
            63,
            19,
            370,
            397,
            5,
            178,
            249,
            980,
            472,
            428,
            2128,
            4,
            175,
            17
           ]
          }
         ],
         "name": "2020-05-04"
        },
        {
         "data": [
          {
           "coloraxis": "coloraxis",
           "geo": "geo",
           "hovertemplate": "<b>%{hovertext}</b><br><br>date=2020-05-05<br>iso_alpha=%{location}<br>Cases=%{z}<extra></extra>",
           "hovertext": [
            "Indonesia",
            "Sweden",
            "Czechia",
            "Canada",
            "Argentina",
            "Paraguay",
            "United States",
            "Norway",
            "Malaysia",
            "Ethiopia",
            "Chile",
            "Poland",
            "New Zealand",
            "Cuba",
            "Germany",
            "South Africa",
            "Netherlands",
            "United Kingdom",
            "Korea, Republic of",
            "Peru",
            "Australia",
            "Colombia",
            "Belgium",
            "Japan",
            "Italy",
            "Bolivia, Plurinational State of"
           ],
           "locations": [
            "IDN",
            "SWE",
            "CZE",
            "CAN",
            "ARG",
            "PRY",
            "USA",
            "NOR",
            "MYS",
            "ETH",
            "CHL",
            "POL",
            "NZL",
            "CUB",
            "DEU",
            "ZAF",
            "NLD",
            "GBR",
            "KOR",
            "PER",
            "AUS",
            "COL",
            "BEL",
            "JPN",
            "ITA",
            "BOL"
           ],
           "name": "",
           "type": "choropleth",
           "z": [
            478,
            539,
            74,
            473,
            134,
            16,
            23655,
            56,
            30,
            5,
            1373,
            552,
            2,
            18,
            1097,
            362,
            292,
            2173,
            1,
            3817,
            26,
            286,
            127,
            119,
            1062,
            121
           ]
          }
         ],
         "name": "2020-05-05"
        },
        {
         "data": [
          {
           "coloraxis": "coloraxis",
           "geo": "geo",
           "hovertemplate": "<b>%{hovertext}</b><br><br>date=2020-05-06<br>iso_alpha=%{location}<br>Cases=%{z}<extra></extra>",
           "hovertext": [
            "Chile",
            "Norway",
            "United States",
            "Belgium",
            "Colombia",
            "Canada",
            "Poland",
            "South Africa",
            "Netherlands",
            "Paraguay",
            "Bolivia, Plurinational State of",
            "Germany",
            "Argentina",
            "Ethiopia",
            "Italy",
            "Malaysia",
            "Peru",
            "Australia",
            "Indonesia",
            "Czechia",
            "Sweden",
            "Japan",
            "New Zealand",
            "United Kingdom",
            "Cuba"
           ],
           "locations": [
            "CHL",
            "NOR",
            "USA",
            "BEL",
            "COL",
            "CAN",
            "POL",
            "ZAF",
            "NLD",
            "PRY",
            "BOL",
            "DEU",
            "ARG",
            "ETH",
            "ITA",
            "MYS",
            "PER",
            "AUS",
            "IDN",
            "CZE",
            "SWE",
            "JPN",
            "NZL",
            "GBR",
            "CUB"
           ],
           "name": "",
           "type": "choropleth",
           "z": [
            1032,
            51,
            24460,
            6,
            138,
            577,
            458,
            196,
            224,
            9,
            84,
            1204,
            188,
            17,
            1404,
            45,
            3754,
            24,
            366,
            72,
            691,
            102,
            2,
            2009,
            26
           ]
          }
         ],
         "name": "2020-05-06"
        },
        {
         "data": [
          {
           "coloraxis": "coloraxis",
           "geo": "geo",
           "hovertemplate": "<b>%{hovertext}</b><br><br>date=2020-05-07<br>iso_alpha=%{location}<br>Cases=%{z}<extra></extra>",
           "hovertext": [
            "Japan",
            "Bolivia, Plurinational State of",
            "Czechia",
            "Thailand",
            "United States",
            "Colombia",
            "Malaysia",
            "Netherlands",
            "Chile",
            "Sweden",
            "Australia",
            "South Africa",
            "Korea, Republic of",
            "United Kingdom",
            "Germany",
            "Poland",
            "Norway",
            "Italy",
            "Cuba",
            "Paraguay",
            "New Zealand",
            "Argentina",
            "Peru",
            "Indonesia",
            "Canada"
           ],
           "locations": [
            "JPN",
            "BOL",
            "CZE",
            "THA",
            "USA",
            "COL",
            "MYS",
            "NLD",
            "CHL",
            "SWE",
            "AUS",
            "ZAF",
            "KOR",
            "GBR",
            "DEU",
            "POL",
            "NOR",
            "ITA",
            "CUB",
            "PRY",
            "NZL",
            "ARG",
            "PER",
            "IDN",
            "CAN"
           ],
           "name": "",
           "type": "choropleth",
           "z": [
            94,
            195,
            60,
            21,
            28431,
            182,
            39,
            402,
            1533,
            711,
            21,
            464,
            3,
            1961,
            1184,
            462,
            41,
            1367,
            12,
            22,
            1,
            163,
            3714,
            323,
            595
           ]
          }
         ],
         "name": "2020-05-07"
        },
        {
         "data": [
          {
           "coloraxis": "coloraxis",
           "geo": "geo",
           "hovertemplate": "<b>%{hovertext}</b><br><br>date=2020-05-08<br>iso_alpha=%{location}<br>Cases=%{z}<extra></extra>",
           "hovertext": [
            "South Africa",
            "Italy",
            "Cuba",
            "United States",
            "Australia",
            "Sweden",
            "Canada",
            "Netherlands",
            "Colombia",
            "New Zealand",
            "Thailand",
            "Czechia",
            "Japan",
            "Malaysia",
            "Norway",
            "Indonesia",
            "Poland",
            "Germany",
            "Peru",
            "Argentina",
            "Chile",
            "Paraguay",
            "Korea, Republic of",
            "Bolivia, Plurinational State of",
            "United Kingdom"
           ],
           "locations": [
            "ZAF",
            "ITA",
            "CUB",
            "USA",
            "AUS",
            "SWE",
            "CAN",
            "NLD",
            "COL",
            "NZL",
            "THA",
            "CZE",
            "JPN",
            "MYS",
            "NOR",
            "IDN",
            "POL",
            "DEU",
            "PER",
            "ARG",
            "CHL",
            "PRY",
            "KOR",
            "BOL",
            "GBR"
           ],
           "name": "",
           "type": "choropleth",
           "z": [
            664,
            1305,
            13,
            27532,
            17,
            667,
            555,
            281,
            222,
            1,
            3,
            53,
            88,
            68,
            38,
            331,
            456,
            983,
            3321,
            240,
            1391,
            101,
            9,
            185,
            1439
           ]
          }
         ],
         "name": "2020-05-08"
        },
        {
         "data": [
          {
           "coloraxis": "coloraxis",
           "geo": "geo",
           "hovertemplate": "<b>%{hovertext}</b><br><br>date=2020-05-09<br>iso_alpha=%{location}<br>Cases=%{z}<extra></extra>",
           "hovertext": [
            "United States",
            "Czechia",
            "Peru",
            "Bolivia, Plurinational State of",
            "Thailand",
            "United Kingdom",
            "Colombia",
            "Japan",
            "New Zealand",
            "Paraguay",
            "Malaysia",
            "Argentina",
            "Sweden",
            "Norway",
            "Poland",
            "Australia",
            "Cuba",
            "South Africa",
            "Italy",
            "Indonesia",
            "Korea, Republic of",
            "Canada",
            "Germany",
            "Netherlands",
            "Chile"
           ],
           "locations": [
            "USA",
            "CZE",
            "PER",
            "BOL",
            "THA",
            "GBR",
            "COL",
            "JPN",
            "NZL",
            "PRY",
            "MYS",
            "ARG",
            "SWE",
            "NOR",
            "POL",
            "AUS",
            "CUB",
            "ZAF",
            "ITA",
            "IDN",
            "KOR",
            "CAN",
            "DEU",
            "NLD",
            "CHL"
           ],
           "name": "",
           "type": "choropleth",
           "z": [
            24819,
            30,
            3168,
            171,
            3,
            1213,
            230,
            113,
            1,
            126,
            54,
            165,
            586,
            36,
            457,
            14,
            12,
            526,
            1040,
            530,
            18,
            406,
            671,
            257,
            1247
           ]
          }
         ],
         "name": "2020-05-09"
        },
        {
         "data": [
          {
           "coloraxis": "coloraxis",
           "geo": "geo",
           "hovertemplate": "<b>%{hovertext}</b><br><br>date=2020-05-10<br>iso_alpha=%{location}<br>Cases=%{z}<extra></extra>",
           "hovertext": [
            "Colombia",
            "Germany",
            "Malaysia",
            "Sweden",
            "Japan",
            "United Kingdom",
            "South Africa",
            "United States",
            "Paraguay",
            "Peru",
            "Argentina",
            "Poland",
            "Cuba",
            "Norway",
            "Italy",
            "New Zealand",
            "Australia",
            "Thailand",
            "Canada",
            "Chile",
            "Netherlands",
            "Bolivia, Plurinational State of",
            "Indonesia",
            "Czechia",
            "Korea, Republic of"
           ],
           "locations": [
            "COL",
            "DEU",
            "MYS",
            "SWE",
            "JPN",
            "GBR",
            "ZAF",
            "USA",
            "PRY",
            "PER",
            "ARG",
            "POL",
            "CUB",
            "NOR",
            "ITA",
            "NZL",
            "AUS",
            "THA",
            "CAN",
            "CHL",
            "NLD",
            "BOL",
            "IDN",
            "CZE",
            "KOR"
           ],
           "name": "",
           "type": "choropleth",
           "z": [
            67,
            339,
            67,
            418,
            68,
            1095,
            595,
            20286,
            24,
            2292,
            258,
            407,
            17,
            30,
            790,
            3,
            12,
            2,
            432,
            1647,
            226,
            119,
            380,
            23,
            28
           ]
          }
         ],
         "name": "2020-05-10"
        },
        {
         "data": [
          {
           "coloraxis": "coloraxis",
           "geo": "geo",
           "hovertemplate": "<b>%{hovertext}</b><br><br>date=2020-05-11<br>iso_alpha=%{location}<br>Cases=%{z}<extra></extra>",
           "hovertext": [
            "Norway",
            "Cuba",
            "Canada",
            "United States",
            "Malaysia",
            "Indonesia",
            "Korea, Republic of",
            "United Kingdom",
            "Paraguay",
            "Bolivia, Plurinational State of",
            "Argentina",
            "Germany",
            "Chile",
            "Japan",
            "South Africa",
            "Peru",
            "Italy",
            "Colombia",
            "Sweden",
            "Netherlands",
            "Australia",
            "Thailand",
            "Czechia",
            "Poland"
           ],
           "locations": [
            "NOR",
            "CUB",
            "CAN",
            "USA",
            "MYS",
            "IDN",
            "KOR",
            "GBR",
            "PRY",
            "BOL",
            "ARG",
            "DEU",
            "CHL",
            "JPN",
            "ZAF",
            "PER",
            "ITA",
            "COL",
            "SWE",
            "NLD",
            "AUS",
            "THA",
            "CZE",
            "POL"
           ],
           "name": "",
           "type": "choropleth",
           "z": [
            6,
            21,
            439,
            17557,
            70,
            227,
            32,
            1763,
            11,
            275,
            244,
            686,
            1197,
            43,
            637,
            1515,
            715,
            112,
            393,
            156,
            7,
            3,
            47,
            446
           ]
          }
         ],
         "name": "2020-05-11"
        },
        {
         "data": [
          {
           "coloraxis": "coloraxis",
           "geo": "geo",
           "hovertemplate": "<b>%{hovertext}</b><br><br>date=2020-05-12<br>iso_alpha=%{location}<br>Cases=%{z}<extra></extra>",
           "hovertext": [
            "Colombia",
            "Canada",
            "United Kingdom",
            "Indonesia",
            "Sweden",
            "Korea, Republic of",
            "Germany",
            "Poland",
            "South Africa",
            "Malaysia",
            "Australia",
            "Peru",
            "Netherlands",
            "Cuba",
            "Argentina",
            "Japan",
            "Bolivia, Plurinational State of",
            "Czechia",
            "Paraguay",
            "Norway",
            "Italy",
            "United States"
           ],
           "locations": [
            "COL",
            "CAN",
            "GBR",
            "IDN",
            "SWE",
            "KOR",
            "DEU",
            "POL",
            "ZAF",
            "MYS",
            "AUS",
            "PER",
            "NLD",
            "CUB",
            "ARG",
            "JPN",
            "BOL",
            "CZE",
            "PRY",
            "NOR",
            "ITA",
            "USA"
           ],
           "name": "",
           "type": "choropleth",
           "z": [
            80,
            402,
            1557,
            474,
            581,
            26,
            842,
            793,
            698,
            16,
            22,
            3237,
            178,
            6,
            285,
            79,
            133,
            42,
            13,
            28,
            1397,
            22248
           ]
          }
         ],
         "name": "2020-05-12"
        },
        {
         "data": [
          {
           "coloraxis": "coloraxis",
           "geo": "geo",
           "hovertemplate": "<b>%{hovertext}</b><br><br>date=2020-05-13<br>iso_alpha=%{location}<br>Cases=%{z}<extra></extra>",
           "hovertext": [
            "Colombia",
            "Australia",
            "Italy",
            "Japan",
            "Cuba",
            "Poland",
            "Malaysia",
            "Peru",
            "Netherlands",
            "United States",
            "United Kingdom",
            "Paraguay",
            "Norway",
            "Canada",
            "Argentina",
            "South Africa",
            "Korea, Republic of",
            "Indonesia",
            "Germany",
            "Sweden",
            "Czechia",
            "Bolivia, Plurinational State of"
           ],
           "locations": [
            "COL",
            "AUS",
            "ITA",
            "JPN",
            "CUB",
            "POL",
            "MYS",
            "PER",
            "NLD",
            "USA",
            "GBR",
            "PRY",
            "NOR",
            "CAN",
            "ARG",
            "ZAF",
            "KOR",
            "IDN",
            "DEU",
            "SWE",
            "CZE",
            "BOL"
           ],
           "name": "",
           "type": "choropleth",
           "z": [
            97,
            12,
            866,
            52,
            20,
            532,
            35,
            4247,
            200,
            21102,
            1503,
            3,
            23,
            444,
            316,
            724,
            25,
            677,
            895,
            641,
            42,
            184
           ]
          }
         ],
         "name": "2020-05-13"
        },
        {
         "data": [
          {
           "coloraxis": "coloraxis",
           "geo": "geo",
           "hovertemplate": "<b>%{hovertext}</b><br><br>date=2020-05-14<br>iso_alpha=%{location}<br>Cases=%{z}<extra></extra>",
           "hovertext": [
            "South Africa",
            "Korea, Republic of",
            "Germany",
            "Czechia",
            "Poland",
            "Malaysia",
            "Norway",
            "Argentina",
            "Paraguay",
            "Peru",
            "Netherlands",
            "United States",
            "New Zealand",
            "Sweden",
            "Australia",
            "United Kingdom",
            "Japan",
            "Colombia",
            "Bolivia, Plurinational State of",
            "Canada",
            "Cuba",
            "Indonesia",
            "Italy"
           ],
           "locations": [
            "ZAF",
            "KOR",
            "DEU",
            "CZE",
            "POL",
            "MYS",
            "NOR",
            "ARG",
            "PRY",
            "PER",
            "NLD",
            "USA",
            "NZL",
            "SWE",
            "AUS",
            "GBR",
            "JPN",
            "COL",
            "BOL",
            "CAN",
            "CUB",
            "IDN",
            "ITA"
           ],
           "name": "",
           "type": "choropleth",
           "z": [
            665,
            29,
            801,
            83,
            605,
            40,
            17,
            255,
            14,
            4298,
            242,
            26856,
            1,
            677,
            14,
            1228,
            99,
            168,
            224,
            433,
            10,
            565,
            975
           ]
          }
         ],
         "name": "2020-05-14"
        },
        {
         "data": [
          {
           "coloraxis": "coloraxis",
           "geo": "geo",
           "hovertemplate": "<b>%{hovertext}</b><br><br>date=2020-05-15<br>iso_alpha=%{location}<br>Cases=%{z}<extra></extra>",
           "hovertext": [
            "Peru",
            "Argentina",
            "Netherlands",
            "South Africa",
            "Malaysia",
            "Colombia",
            "Sweden",
            "Italy",
            "Czechia",
            "Canada",
            "Paraguay",
            "United States",
            "Bolivia, Plurinational State of",
            "Germany",
            "Cuba",
            "New Zealand",
            "Australia",
            "Korea, Republic of",
            "Poland",
            "Japan",
            "Norway",
            "United Kingdom"
           ],
           "locations": [
            "PER",
            "ARG",
            "NLD",
            "ZAF",
            "MYS",
            "COL",
            "SWE",
            "ITA",
            "CZE",
            "CAN",
            "PRY",
            "USA",
            "BOL",
            "DEU",
            "CUB",
            "NZL",
            "AUS",
            "KOR",
            "POL",
            "JPN",
            "NOR",
            "GBR"
           ],
           "name": "",
           "type": "choropleth",
           "z": [
            3891,
            346,
            184,
            785,
            36,
            118,
            658,
            771,
            43,
            482,
            5,
            26109,
            205,
            696,
            22,
            1,
            31,
            26,
            651,
            48,
            21,
            1257
           ]
          }
         ],
         "name": "2020-05-15"
        },
        {
         "data": [
          {
           "coloraxis": "coloraxis",
           "geo": "geo",
           "hovertemplate": "<b>%{hovertext}</b><br><br>date=2020-05-16<br>iso_alpha=%{location}<br>Cases=%{z}<extra></extra>",
           "hovertext": [
            "Paraguay",
            "South Africa",
            "United Kingdom",
            "Netherlands",
            "Czechia",
            "United States",
            "Canada",
            "Norway",
            "Colombia",
            "Peru",
            "Argentina",
            "Malaysia",
            "Italy",
            "Cuba",
            "Korea, Republic of",
            "Germany",
            "Bolivia, Plurinational State of",
            "Japan",
            "Australia",
            "Sweden",
            "Poland"
           ],
           "locations": [
            "PRY",
            "ZAF",
            "GBR",
            "NLD",
            "CZE",
            "USA",
            "CAN",
            "NOR",
            "COL",
            "PER",
            "ARG",
            "MYS",
            "ITA",
            "CUB",
            "KOR",
            "DEU",
            "BOL",
            "JPN",
            "AUS",
            "SWE",
            "POL"
           ],
           "name": "",
           "type": "choropleth",
           "z": [
            19,
            831,
            942,
            177,
            55,
            23602,
            470,
            23,
            62,
            4046,
            327,
            19,
            866,
            10,
            11,
            459,
            249,
            54,
            17,
            457,
            330
           ]
          }
         ],
         "name": "2020-05-16"
        },
        {
         "data": [
          {
           "coloraxis": "coloraxis",
           "geo": "geo",
           "hovertemplate": "<b>%{hovertext}</b><br><br>date=2020-05-17<br>iso_alpha=%{location}<br>Cases=%{z}<extra></extra>",
           "hovertext": [
            "Norway",
            "United Kingdom",
            "Cuba",
            "Malaysia",
            "United States",
            "South Africa",
            "Colombia",
            "Italy",
            "Japan",
            "Australia",
            "Bolivia, Plurinational State of",
            "Germany",
            "Korea, Republic of",
            "Poland",
            "Argentina",
            "Peru",
            "Sweden",
            "Czechia",
            "Netherlands",
            "Canada"
           ],
           "locations": [
            "NOR",
            "GBR",
            "CUB",
            "MYS",
            "USA",
            "ZAF",
            "COL",
            "ITA",
            "JPN",
            "AUS",
            "BOL",
            "DEU",
            "KOR",
            "POL",
            "ARG",
            "PER",
            "SWE",
            "CZE",
            "NLD",
            "CAN"
           ],
           "name": "",
           "type": "choropleth",
           "z": [
            16,
            928,
            9,
            22,
            18942,
            1160,
            45,
            666,
            23,
            9,
            262,
            310,
            9,
            421,
            263,
            3732,
            423,
            21,
            113,
            391
           ]
          }
         ],
         "name": "2020-05-17"
        },
        {
         "data": [
          {
           "coloraxis": "coloraxis",
           "geo": "geo",
           "hovertemplate": "<b>%{hovertext}</b><br><br>date=2020-05-18<br>iso_alpha=%{location}<br>Cases=%{z}<extra></extra>",
           "hovertext": [
            "Bolivia, Plurinational State of",
            "United States",
            "Norway",
            "South Africa",
            "Czechia",
            "Germany",
            "Canada",
            "Cuba",
            "Italy",
            "Japan",
            "Colombia",
            "United Kingdom",
            "Poland",
            "Australia",
            "Sweden",
            "Argentina",
            "Netherlands",
            "Malaysia",
            "Peru"
           ],
           "locations": [
            "BOL",
            "USA",
            "NOR",
            "ZAF",
            "CZE",
            "DEU",
            "CAN",
            "CUB",
            "ITA",
            "JPN",
            "COL",
            "GBR",
            "POL",
            "AUS",
            "SWE",
            "ARG",
            "NLD",
            "MYS",
            "PER"
           ],
           "name": "",
           "type": "choropleth",
           "z": [
            175,
            21763,
            12,
            918,
            65,
            531,
            367,
            6,
            427,
            31,
            84,
            1370,
            594,
            9,
            264,
            304,
            132,
            47,
            2677
           ]
          }
         ],
         "name": "2020-05-18"
        },
        {
         "data": [
          {
           "coloraxis": "coloraxis",
           "geo": "geo",
           "hovertemplate": "<b>%{hovertext}</b><br><br>date=2020-05-19<br>iso_alpha=%{location}<br>Cases=%{z}<extra></extra>",
           "hovertext": [
            "United States",
            "Netherlands",
            "Germany",
            "Norway",
            "South Africa",
            "Poland",
            "Japan",
            "Australia",
            "Bolivia, Plurinational State of",
            "Argentina",
            "Malaysia",
            "Italy",
            "Peru",
            "Canada",
            "Colombia",
            "United Kingdom",
            "Czechia",
            "Cuba"
           ],
           "locations": [
            "USA",
            "NLD",
            "DEU",
            "NOR",
            "ZAF",
            "POL",
            "JPN",
            "AUS",
            "BOL",
            "ARG",
            "MYS",
            "ITA",
            "PER",
            "CAN",
            "COL",
            "GBR",
            "CZE",
            "CUB"
           ],
           "name": "",
           "type": "choropleth",
           "z": [
            20857,
            99,
            727,
            9,
            767,
            408,
            27,
            8,
            218,
            438,
            37,
            781,
            4556,
            545,
            62,
            1616,
            80,
            13
           ]
          }
         ],
         "name": "2020-05-19"
        },
        {
         "data": [
          {
           "coloraxis": "coloraxis",
           "geo": "geo",
           "hovertemplate": "<b>%{hovertext}</b><br><br>date=2020-05-20<br>iso_alpha=%{location}<br>Cases=%{z}<extra></extra>",
           "hovertext": [
            "Czechia",
            "Poland",
            "Australia",
            "Argentina",
            "Canada",
            "Germany",
            "Cuba",
            "Italy",
            "Peru",
            "United States",
            "Bolivia, Plurinational State of",
            "United Kingdom",
            "Japan",
            "Netherlands",
            "South Africa",
            "Colombia",
            "Malaysia"
           ],
           "locations": [
            "CZE",
            "POL",
            "AUS",
            "ARG",
            "CAN",
            "DEU",
            "CUB",
            "ITA",
            "PER",
            "USA",
            "BOL",
            "GBR",
            "JPN",
            "NLD",
            "ZAF",
            "COL",
            "MYS"
           ],
           "name": "",
           "type": "choropleth",
           "z": [
            62,
            602,
            11,
            476,
            501,
            787,
            8,
            632,
            4537,
            22802,
            438,
            1111,
            38,
            166,
            804,
            59,
            32
           ]
          }
         ],
         "name": "2020-05-20"
        },
        {
         "data": [
          {
           "coloraxis": "coloraxis",
           "geo": "geo",
           "hovertemplate": "<b>%{hovertext}</b><br><br>date=2020-05-21<br>iso_alpha=%{location}<br>Cases=%{z}<extra></extra>",
           "hovertext": [
            "Czechia",
            "Poland",
            "Colombia",
            "Japan",
            "Italy",
            "Argentina",
            "United Kingdom",
            "Australia",
            "United States",
            "Netherlands",
            "Canada",
            "Bolivia, Plurinational State of",
            "South Africa",
            "Peru",
            "Malaysia",
            "Cuba",
            "Germany"
           ],
           "locations": [
            "CZE",
            "POL",
            "COL",
            "JPN",
            "ITA",
            "ARG",
            "GBR",
            "AUS",
            "USA",
            "NLD",
            "CAN",
            "BOL",
            "ZAF",
            "PER",
            "MYS",
            "CUB",
            "DEU"
           ],
           "name": "",
           "type": "choropleth",
           "z": [
            53,
            79,
            72,
            37,
            626,
            646,
            702,
            2,
            25775,
            201,
            453,
            268,
            1135,
            4750,
            50,
            8,
            416
           ]
          }
         ],
         "name": "2020-05-21"
        },
        {
         "data": [
          {
           "coloraxis": "coloraxis",
           "geo": "geo",
           "hovertemplate": "<b>%{hovertext}</b><br><br>date=2020-05-22<br>iso_alpha=%{location}<br>Cases=%{z}<extra></extra>",
           "hovertext": [
            "Argentina",
            "Peru",
            "Canada",
            "Malaysia",
            "Netherlands",
            "United Kingdom",
            "Australia",
            "Japan",
            "South Africa",
            "Colombia",
            "Cuba",
            "Germany",
            "Czechia",
            "United States",
            "Italy",
            "Bolivia, Plurinational State of"
           ],
           "locations": [
            "ARG",
            "PER",
            "CAN",
            "MYS",
            "NLD",
            "GBR",
            "AUS",
            "JPN",
            "ZAF",
            "COL",
            "CUB",
            "DEU",
            "CZE",
            "USA",
            "ITA",
            "BOL"
           ],
           "name": "",
           "type": "choropleth",
           "z": [
            718,
            2929,
            566,
            78,
            170,
            362,
            14,
            23,
            989,
            35,
            15,
            510,
            37,
            23772,
            604,
            392
           ]
          }
         ],
         "name": "2020-05-22"
        },
        {
         "data": [
          {
           "coloraxis": "coloraxis",
           "geo": "geo",
           "hovertemplate": "<b>%{hovertext}</b><br><br>date=2020-05-23<br>iso_alpha=%{location}<br>Cases=%{z}<extra></extra>",
           "hovertext": [
            "Cuba",
            "Peru",
            "Bolivia, Plurinational State of",
            "United Kingdom",
            "Germany",
            "Netherlands",
            "United States",
            "South Africa",
            "Colombia",
            "Italy",
            "Czechia",
            "Argentina",
            "Australia",
            "Japan",
            "Canada"
           ],
           "locations": [
            "CUB",
            "PER",
            "BOL",
            "GBR",
            "DEU",
            "NLD",
            "USA",
            "ZAF",
            "COL",
            "ITA",
            "CZE",
            "ARG",
            "AUS",
            "JPN",
            "CAN"
           ],
           "name": "",
           "type": "choropleth",
           "z": [
            10,
            4134,
            336,
            73,
            263,
            166,
            22117,
            1219,
            171,
            652,
            60,
            704,
            16,
            24,
            503
           ]
          }
         ],
         "name": "2020-05-23"
        },
        {
         "data": [
          {
           "coloraxis": "coloraxis",
           "geo": "geo",
           "hovertemplate": "<b>%{hovertext}</b><br><br>date=2020-05-24<br>iso_alpha=%{location}<br>Cases=%{z}<extra></extra>",
           "hovertext": [
            "Czechia",
            "Bolivia, Plurinational State of",
            "Netherlands",
            "Japan",
            "Canada",
            "Peru",
            "Germany",
            "South Africa",
            "Italy",
            "Australia",
            "United Kingdom"
           ],
           "locations": [
            "CZE",
            "BOL",
            "NLD",
            "JPN",
            "CAN",
            "PER",
            "DEU",
            "ZAF",
            "ITA",
            "AUS",
            "GBR"
           ],
           "name": "",
           "type": "choropleth",
           "z": [
            31,
            348,
            133,
            39,
            383,
            4205,
            160,
            1240,
            517,
            3,
            26
           ]
          }
         ],
         "name": "2020-05-24"
        },
        {
         "data": [
          {
           "coloraxis": "coloraxis",
           "geo": "geo",
           "hovertemplate": "<b>%{hovertext}</b><br><br>date=2020-05-25<br>iso_alpha=%{location}<br>Cases=%{z}<extra></extra>",
           "hovertext": [
            "Japan",
            "Czechia"
           ],
           "locations": [
            "JPN",
            "CZE"
           ],
           "name": "",
           "type": "choropleth",
           "z": [
            16,
            2
           ]
          }
         ],
         "name": "2020-05-25"
        }
       ],
       "layout": {
        "coloraxis": {
         "cmax": 1000,
         "cmin": 0,
         "colorbar": {
          "title": {
           "text": "Cases"
          }
         },
         "colorscale": [
          [
           0,
           "rgb(49,54,149)"
          ],
          [
           0.1,
           "rgb(69,117,180)"
          ],
          [
           0.2,
           "rgb(116,173,209)"
          ],
          [
           0.3,
           "rgb(171,217,233)"
          ],
          [
           0.4,
           "rgb(224,243,248)"
          ],
          [
           0.5,
           "rgb(255,255,191)"
          ],
          [
           0.6,
           "rgb(254,224,144)"
          ],
          [
           0.7,
           "rgb(253,174,97)"
          ],
          [
           0.8,
           "rgb(244,109,67)"
          ],
          [
           0.9,
           "rgb(215,48,39)"
          ],
          [
           1,
           "rgb(165,0,38)"
          ]
         ]
        },
        "geo": {
         "center": {},
         "domain": {
          "x": [
           0,
           1
          ],
          "y": [
           0,
           1
          ]
         }
        },
        "legend": {
         "tracegroupgap": 0
        },
        "margin": {
         "t": 60
        },
        "sliders": [
         {
          "active": 0,
          "currentvalue": {
           "prefix": "date="
          },
          "len": 0.9,
          "pad": {
           "b": 10,
           "t": 60
          },
          "steps": [
           {
            "args": [
             [
              "2020-01-04"
             ],
             {
              "frame": {
               "duration": 0,
               "redraw": true
              },
              "fromcurrent": true,
              "mode": "immediate",
              "transition": {
               "duration": 0,
               "easing": "linear"
              }
             }
            ],
            "label": "2020-01-04",
            "method": "animate"
           },
           {
            "args": [
             [
              "2020-01-05"
             ],
             {
              "frame": {
               "duration": 0,
               "redraw": true
              },
              "fromcurrent": true,
              "mode": "immediate",
              "transition": {
               "duration": 0,
               "easing": "linear"
              }
             }
            ],
            "label": "2020-01-05",
            "method": "animate"
           },
           {
            "args": [
             [
              "2020-01-15"
             ],
             {
              "frame": {
               "duration": 0,
               "redraw": true
              },
              "fromcurrent": true,
              "mode": "immediate",
              "transition": {
               "duration": 0,
               "easing": "linear"
              }
             }
            ],
            "label": "2020-01-15",
            "method": "animate"
           },
           {
            "args": [
             [
              "2020-01-20"
             ],
             {
              "frame": {
               "duration": 0,
               "redraw": true
              },
              "fromcurrent": true,
              "mode": "immediate",
              "transition": {
               "duration": 0,
               "easing": "linear"
              }
             }
            ],
            "label": "2020-01-20",
            "method": "animate"
           },
           {
            "args": [
             [
              "2020-01-21"
             ],
             {
              "frame": {
               "duration": 0,
               "redraw": true
              },
              "fromcurrent": true,
              "mode": "immediate",
              "transition": {
               "duration": 0,
               "easing": "linear"
              }
             }
            ],
            "label": "2020-01-21",
            "method": "animate"
           },
           {
            "args": [
             [
              "2020-01-22"
             ],
             {
              "frame": {
               "duration": 0,
               "redraw": true
              },
              "fromcurrent": true,
              "mode": "immediate",
              "transition": {
               "duration": 0,
               "easing": "linear"
              }
             }
            ],
            "label": "2020-01-22",
            "method": "animate"
           },
           {
            "args": [
             [
              "2020-01-23"
             ],
             {
              "frame": {
               "duration": 0,
               "redraw": true
              },
              "fromcurrent": true,
              "mode": "immediate",
              "transition": {
               "duration": 0,
               "easing": "linear"
              }
             }
            ],
            "label": "2020-01-23",
            "method": "animate"
           },
           {
            "args": [
             [
              "2020-01-24"
             ],
             {
              "frame": {
               "duration": 0,
               "redraw": true
              },
              "fromcurrent": true,
              "mode": "immediate",
              "transition": {
               "duration": 0,
               "easing": "linear"
              }
             }
            ],
            "label": "2020-01-24",
            "method": "animate"
           },
           {
            "args": [
             [
              "2020-01-25"
             ],
             {
              "frame": {
               "duration": 0,
               "redraw": true
              },
              "fromcurrent": true,
              "mode": "immediate",
              "transition": {
               "duration": 0,
               "easing": "linear"
              }
             }
            ],
            "label": "2020-01-25",
            "method": "animate"
           },
           {
            "args": [
             [
              "2020-01-26"
             ],
             {
              "frame": {
               "duration": 0,
               "redraw": true
              },
              "fromcurrent": true,
              "mode": "immediate",
              "transition": {
               "duration": 0,
               "easing": "linear"
              }
             }
            ],
            "label": "2020-01-26",
            "method": "animate"
           },
           {
            "args": [
             [
              "2020-01-27"
             ],
             {
              "frame": {
               "duration": 0,
               "redraw": true
              },
              "fromcurrent": true,
              "mode": "immediate",
              "transition": {
               "duration": 0,
               "easing": "linear"
              }
             }
            ],
            "label": "2020-01-27",
            "method": "animate"
           },
           {
            "args": [
             [
              "2020-01-28"
             ],
             {
              "frame": {
               "duration": 0,
               "redraw": true
              },
              "fromcurrent": true,
              "mode": "immediate",
              "transition": {
               "duration": 0,
               "easing": "linear"
              }
             }
            ],
            "label": "2020-01-28",
            "method": "animate"
           },
           {
            "args": [
             [
              "2020-01-29"
             ],
             {
              "frame": {
               "duration": 0,
               "redraw": true
              },
              "fromcurrent": true,
              "mode": "immediate",
              "transition": {
               "duration": 0,
               "easing": "linear"
              }
             }
            ],
            "label": "2020-01-29",
            "method": "animate"
           },
           {
            "args": [
             [
              "2020-01-30"
             ],
             {
              "frame": {
               "duration": 0,
               "redraw": true
              },
              "fromcurrent": true,
              "mode": "immediate",
              "transition": {
               "duration": 0,
               "easing": "linear"
              }
             }
            ],
            "label": "2020-01-30",
            "method": "animate"
           },
           {
            "args": [
             [
              "2020-01-31"
             ],
             {
              "frame": {
               "duration": 0,
               "redraw": true
              },
              "fromcurrent": true,
              "mode": "immediate",
              "transition": {
               "duration": 0,
               "easing": "linear"
              }
             }
            ],
            "label": "2020-01-31",
            "method": "animate"
           },
           {
            "args": [
             [
              "2020-02-01"
             ],
             {
              "frame": {
               "duration": 0,
               "redraw": true
              },
              "fromcurrent": true,
              "mode": "immediate",
              "transition": {
               "duration": 0,
               "easing": "linear"
              }
             }
            ],
            "label": "2020-02-01",
            "method": "animate"
           },
           {
            "args": [
             [
              "2020-02-02"
             ],
             {
              "frame": {
               "duration": 0,
               "redraw": true
              },
              "fromcurrent": true,
              "mode": "immediate",
              "transition": {
               "duration": 0,
               "easing": "linear"
              }
             }
            ],
            "label": "2020-02-02",
            "method": "animate"
           },
           {
            "args": [
             [
              "2020-02-03"
             ],
             {
              "frame": {
               "duration": 0,
               "redraw": true
              },
              "fromcurrent": true,
              "mode": "immediate",
              "transition": {
               "duration": 0,
               "easing": "linear"
              }
             }
            ],
            "label": "2020-02-03",
            "method": "animate"
           },
           {
            "args": [
             [
              "2020-02-04"
             ],
             {
              "frame": {
               "duration": 0,
               "redraw": true
              },
              "fromcurrent": true,
              "mode": "immediate",
              "transition": {
               "duration": 0,
               "easing": "linear"
              }
             }
            ],
            "label": "2020-02-04",
            "method": "animate"
           },
           {
            "args": [
             [
              "2020-02-05"
             ],
             {
              "frame": {
               "duration": 0,
               "redraw": true
              },
              "fromcurrent": true,
              "mode": "immediate",
              "transition": {
               "duration": 0,
               "easing": "linear"
              }
             }
            ],
            "label": "2020-02-05",
            "method": "animate"
           },
           {
            "args": [
             [
              "2020-02-06"
             ],
             {
              "frame": {
               "duration": 0,
               "redraw": true
              },
              "fromcurrent": true,
              "mode": "immediate",
              "transition": {
               "duration": 0,
               "easing": "linear"
              }
             }
            ],
            "label": "2020-02-06",
            "method": "animate"
           },
           {
            "args": [
             [
              "2020-02-07"
             ],
             {
              "frame": {
               "duration": 0,
               "redraw": true
              },
              "fromcurrent": true,
              "mode": "immediate",
              "transition": {
               "duration": 0,
               "easing": "linear"
              }
             }
            ],
            "label": "2020-02-07",
            "method": "animate"
           },
           {
            "args": [
             [
              "2020-02-08"
             ],
             {
              "frame": {
               "duration": 0,
               "redraw": true
              },
              "fromcurrent": true,
              "mode": "immediate",
              "transition": {
               "duration": 0,
               "easing": "linear"
              }
             }
            ],
            "label": "2020-02-08",
            "method": "animate"
           },
           {
            "args": [
             [
              "2020-02-09"
             ],
             {
              "frame": {
               "duration": 0,
               "redraw": true
              },
              "fromcurrent": true,
              "mode": "immediate",
              "transition": {
               "duration": 0,
               "easing": "linear"
              }
             }
            ],
            "label": "2020-02-09",
            "method": "animate"
           },
           {
            "args": [
             [
              "2020-02-10"
             ],
             {
              "frame": {
               "duration": 0,
               "redraw": true
              },
              "fromcurrent": true,
              "mode": "immediate",
              "transition": {
               "duration": 0,
               "easing": "linear"
              }
             }
            ],
            "label": "2020-02-10",
            "method": "animate"
           },
           {
            "args": [
             [
              "2020-02-11"
             ],
             {
              "frame": {
               "duration": 0,
               "redraw": true
              },
              "fromcurrent": true,
              "mode": "immediate",
              "transition": {
               "duration": 0,
               "easing": "linear"
              }
             }
            ],
            "label": "2020-02-11",
            "method": "animate"
           },
           {
            "args": [
             [
              "2020-02-12"
             ],
             {
              "frame": {
               "duration": 0,
               "redraw": true
              },
              "fromcurrent": true,
              "mode": "immediate",
              "transition": {
               "duration": 0,
               "easing": "linear"
              }
             }
            ],
            "label": "2020-02-12",
            "method": "animate"
           },
           {
            "args": [
             [
              "2020-02-13"
             ],
             {
              "frame": {
               "duration": 0,
               "redraw": true
              },
              "fromcurrent": true,
              "mode": "immediate",
              "transition": {
               "duration": 0,
               "easing": "linear"
              }
             }
            ],
            "label": "2020-02-13",
            "method": "animate"
           },
           {
            "args": [
             [
              "2020-02-14"
             ],
             {
              "frame": {
               "duration": 0,
               "redraw": true
              },
              "fromcurrent": true,
              "mode": "immediate",
              "transition": {
               "duration": 0,
               "easing": "linear"
              }
             }
            ],
            "label": "2020-02-14",
            "method": "animate"
           },
           {
            "args": [
             [
              "2020-02-15"
             ],
             {
              "frame": {
               "duration": 0,
               "redraw": true
              },
              "fromcurrent": true,
              "mode": "immediate",
              "transition": {
               "duration": 0,
               "easing": "linear"
              }
             }
            ],
            "label": "2020-02-15",
            "method": "animate"
           },
           {
            "args": [
             [
              "2020-02-16"
             ],
             {
              "frame": {
               "duration": 0,
               "redraw": true
              },
              "fromcurrent": true,
              "mode": "immediate",
              "transition": {
               "duration": 0,
               "easing": "linear"
              }
             }
            ],
            "label": "2020-02-16",
            "method": "animate"
           },
           {
            "args": [
             [
              "2020-02-17"
             ],
             {
              "frame": {
               "duration": 0,
               "redraw": true
              },
              "fromcurrent": true,
              "mode": "immediate",
              "transition": {
               "duration": 0,
               "easing": "linear"
              }
             }
            ],
            "label": "2020-02-17",
            "method": "animate"
           },
           {
            "args": [
             [
              "2020-02-18"
             ],
             {
              "frame": {
               "duration": 0,
               "redraw": true
              },
              "fromcurrent": true,
              "mode": "immediate",
              "transition": {
               "duration": 0,
               "easing": "linear"
              }
             }
            ],
            "label": "2020-02-18",
            "method": "animate"
           },
           {
            "args": [
             [
              "2020-02-19"
             ],
             {
              "frame": {
               "duration": 0,
               "redraw": true
              },
              "fromcurrent": true,
              "mode": "immediate",
              "transition": {
               "duration": 0,
               "easing": "linear"
              }
             }
            ],
            "label": "2020-02-19",
            "method": "animate"
           },
           {
            "args": [
             [
              "2020-02-20"
             ],
             {
              "frame": {
               "duration": 0,
               "redraw": true
              },
              "fromcurrent": true,
              "mode": "immediate",
              "transition": {
               "duration": 0,
               "easing": "linear"
              }
             }
            ],
            "label": "2020-02-20",
            "method": "animate"
           },
           {
            "args": [
             [
              "2020-02-21"
             ],
             {
              "frame": {
               "duration": 0,
               "redraw": true
              },
              "fromcurrent": true,
              "mode": "immediate",
              "transition": {
               "duration": 0,
               "easing": "linear"
              }
             }
            ],
            "label": "2020-02-21",
            "method": "animate"
           },
           {
            "args": [
             [
              "2020-02-22"
             ],
             {
              "frame": {
               "duration": 0,
               "redraw": true
              },
              "fromcurrent": true,
              "mode": "immediate",
              "transition": {
               "duration": 0,
               "easing": "linear"
              }
             }
            ],
            "label": "2020-02-22",
            "method": "animate"
           },
           {
            "args": [
             [
              "2020-02-23"
             ],
             {
              "frame": {
               "duration": 0,
               "redraw": true
              },
              "fromcurrent": true,
              "mode": "immediate",
              "transition": {
               "duration": 0,
               "easing": "linear"
              }
             }
            ],
            "label": "2020-02-23",
            "method": "animate"
           },
           {
            "args": [
             [
              "2020-02-24"
             ],
             {
              "frame": {
               "duration": 0,
               "redraw": true
              },
              "fromcurrent": true,
              "mode": "immediate",
              "transition": {
               "duration": 0,
               "easing": "linear"
              }
             }
            ],
            "label": "2020-02-24",
            "method": "animate"
           },
           {
            "args": [
             [
              "2020-02-25"
             ],
             {
              "frame": {
               "duration": 0,
               "redraw": true
              },
              "fromcurrent": true,
              "mode": "immediate",
              "transition": {
               "duration": 0,
               "easing": "linear"
              }
             }
            ],
            "label": "2020-02-25",
            "method": "animate"
           },
           {
            "args": [
             [
              "2020-02-26"
             ],
             {
              "frame": {
               "duration": 0,
               "redraw": true
              },
              "fromcurrent": true,
              "mode": "immediate",
              "transition": {
               "duration": 0,
               "easing": "linear"
              }
             }
            ],
            "label": "2020-02-26",
            "method": "animate"
           },
           {
            "args": [
             [
              "2020-02-27"
             ],
             {
              "frame": {
               "duration": 0,
               "redraw": true
              },
              "fromcurrent": true,
              "mode": "immediate",
              "transition": {
               "duration": 0,
               "easing": "linear"
              }
             }
            ],
            "label": "2020-02-27",
            "method": "animate"
           },
           {
            "args": [
             [
              "2020-02-28"
             ],
             {
              "frame": {
               "duration": 0,
               "redraw": true
              },
              "fromcurrent": true,
              "mode": "immediate",
              "transition": {
               "duration": 0,
               "easing": "linear"
              }
             }
            ],
            "label": "2020-02-28",
            "method": "animate"
           },
           {
            "args": [
             [
              "2020-02-29"
             ],
             {
              "frame": {
               "duration": 0,
               "redraw": true
              },
              "fromcurrent": true,
              "mode": "immediate",
              "transition": {
               "duration": 0,
               "easing": "linear"
              }
             }
            ],
            "label": "2020-02-29",
            "method": "animate"
           },
           {
            "args": [
             [
              "2020-03-01"
             ],
             {
              "frame": {
               "duration": 0,
               "redraw": true
              },
              "fromcurrent": true,
              "mode": "immediate",
              "transition": {
               "duration": 0,
               "easing": "linear"
              }
             }
            ],
            "label": "2020-03-01",
            "method": "animate"
           },
           {
            "args": [
             [
              "2020-03-02"
             ],
             {
              "frame": {
               "duration": 0,
               "redraw": true
              },
              "fromcurrent": true,
              "mode": "immediate",
              "transition": {
               "duration": 0,
               "easing": "linear"
              }
             }
            ],
            "label": "2020-03-02",
            "method": "animate"
           },
           {
            "args": [
             [
              "2020-03-03"
             ],
             {
              "frame": {
               "duration": 0,
               "redraw": true
              },
              "fromcurrent": true,
              "mode": "immediate",
              "transition": {
               "duration": 0,
               "easing": "linear"
              }
             }
            ],
            "label": "2020-03-03",
            "method": "animate"
           },
           {
            "args": [
             [
              "2020-03-04"
             ],
             {
              "frame": {
               "duration": 0,
               "redraw": true
              },
              "fromcurrent": true,
              "mode": "immediate",
              "transition": {
               "duration": 0,
               "easing": "linear"
              }
             }
            ],
            "label": "2020-03-04",
            "method": "animate"
           },
           {
            "args": [
             [
              "2020-03-05"
             ],
             {
              "frame": {
               "duration": 0,
               "redraw": true
              },
              "fromcurrent": true,
              "mode": "immediate",
              "transition": {
               "duration": 0,
               "easing": "linear"
              }
             }
            ],
            "label": "2020-03-05",
            "method": "animate"
           },
           {
            "args": [
             [
              "2020-03-06"
             ],
             {
              "frame": {
               "duration": 0,
               "redraw": true
              },
              "fromcurrent": true,
              "mode": "immediate",
              "transition": {
               "duration": 0,
               "easing": "linear"
              }
             }
            ],
            "label": "2020-03-06",
            "method": "animate"
           },
           {
            "args": [
             [
              "2020-03-07"
             ],
             {
              "frame": {
               "duration": 0,
               "redraw": true
              },
              "fromcurrent": true,
              "mode": "immediate",
              "transition": {
               "duration": 0,
               "easing": "linear"
              }
             }
            ],
            "label": "2020-03-07",
            "method": "animate"
           },
           {
            "args": [
             [
              "2020-03-08"
             ],
             {
              "frame": {
               "duration": 0,
               "redraw": true
              },
              "fromcurrent": true,
              "mode": "immediate",
              "transition": {
               "duration": 0,
               "easing": "linear"
              }
             }
            ],
            "label": "2020-03-08",
            "method": "animate"
           },
           {
            "args": [
             [
              "2020-03-09"
             ],
             {
              "frame": {
               "duration": 0,
               "redraw": true
              },
              "fromcurrent": true,
              "mode": "immediate",
              "transition": {
               "duration": 0,
               "easing": "linear"
              }
             }
            ],
            "label": "2020-03-09",
            "method": "animate"
           },
           {
            "args": [
             [
              "2020-03-10"
             ],
             {
              "frame": {
               "duration": 0,
               "redraw": true
              },
              "fromcurrent": true,
              "mode": "immediate",
              "transition": {
               "duration": 0,
               "easing": "linear"
              }
             }
            ],
            "label": "2020-03-10",
            "method": "animate"
           },
           {
            "args": [
             [
              "2020-03-11"
             ],
             {
              "frame": {
               "duration": 0,
               "redraw": true
              },
              "fromcurrent": true,
              "mode": "immediate",
              "transition": {
               "duration": 0,
               "easing": "linear"
              }
             }
            ],
            "label": "2020-03-11",
            "method": "animate"
           },
           {
            "args": [
             [
              "2020-03-12"
             ],
             {
              "frame": {
               "duration": 0,
               "redraw": true
              },
              "fromcurrent": true,
              "mode": "immediate",
              "transition": {
               "duration": 0,
               "easing": "linear"
              }
             }
            ],
            "label": "2020-03-12",
            "method": "animate"
           },
           {
            "args": [
             [
              "2020-03-13"
             ],
             {
              "frame": {
               "duration": 0,
               "redraw": true
              },
              "fromcurrent": true,
              "mode": "immediate",
              "transition": {
               "duration": 0,
               "easing": "linear"
              }
             }
            ],
            "label": "2020-03-13",
            "method": "animate"
           },
           {
            "args": [
             [
              "2020-03-14"
             ],
             {
              "frame": {
               "duration": 0,
               "redraw": true
              },
              "fromcurrent": true,
              "mode": "immediate",
              "transition": {
               "duration": 0,
               "easing": "linear"
              }
             }
            ],
            "label": "2020-03-14",
            "method": "animate"
           },
           {
            "args": [
             [
              "2020-03-15"
             ],
             {
              "frame": {
               "duration": 0,
               "redraw": true
              },
              "fromcurrent": true,
              "mode": "immediate",
              "transition": {
               "duration": 0,
               "easing": "linear"
              }
             }
            ],
            "label": "2020-03-15",
            "method": "animate"
           },
           {
            "args": [
             [
              "2020-03-16"
             ],
             {
              "frame": {
               "duration": 0,
               "redraw": true
              },
              "fromcurrent": true,
              "mode": "immediate",
              "transition": {
               "duration": 0,
               "easing": "linear"
              }
             }
            ],
            "label": "2020-03-16",
            "method": "animate"
           },
           {
            "args": [
             [
              "2020-03-17"
             ],
             {
              "frame": {
               "duration": 0,
               "redraw": true
              },
              "fromcurrent": true,
              "mode": "immediate",
              "transition": {
               "duration": 0,
               "easing": "linear"
              }
             }
            ],
            "label": "2020-03-17",
            "method": "animate"
           },
           {
            "args": [
             [
              "2020-03-18"
             ],
             {
              "frame": {
               "duration": 0,
               "redraw": true
              },
              "fromcurrent": true,
              "mode": "immediate",
              "transition": {
               "duration": 0,
               "easing": "linear"
              }
             }
            ],
            "label": "2020-03-18",
            "method": "animate"
           },
           {
            "args": [
             [
              "2020-03-19"
             ],
             {
              "frame": {
               "duration": 0,
               "redraw": true
              },
              "fromcurrent": true,
              "mode": "immediate",
              "transition": {
               "duration": 0,
               "easing": "linear"
              }
             }
            ],
            "label": "2020-03-19",
            "method": "animate"
           },
           {
            "args": [
             [
              "2020-03-20"
             ],
             {
              "frame": {
               "duration": 0,
               "redraw": true
              },
              "fromcurrent": true,
              "mode": "immediate",
              "transition": {
               "duration": 0,
               "easing": "linear"
              }
             }
            ],
            "label": "2020-03-20",
            "method": "animate"
           },
           {
            "args": [
             [
              "2020-03-21"
             ],
             {
              "frame": {
               "duration": 0,
               "redraw": true
              },
              "fromcurrent": true,
              "mode": "immediate",
              "transition": {
               "duration": 0,
               "easing": "linear"
              }
             }
            ],
            "label": "2020-03-21",
            "method": "animate"
           },
           {
            "args": [
             [
              "2020-03-22"
             ],
             {
              "frame": {
               "duration": 0,
               "redraw": true
              },
              "fromcurrent": true,
              "mode": "immediate",
              "transition": {
               "duration": 0,
               "easing": "linear"
              }
             }
            ],
            "label": "2020-03-22",
            "method": "animate"
           },
           {
            "args": [
             [
              "2020-03-23"
             ],
             {
              "frame": {
               "duration": 0,
               "redraw": true
              },
              "fromcurrent": true,
              "mode": "immediate",
              "transition": {
               "duration": 0,
               "easing": "linear"
              }
             }
            ],
            "label": "2020-03-23",
            "method": "animate"
           },
           {
            "args": [
             [
              "2020-03-24"
             ],
             {
              "frame": {
               "duration": 0,
               "redraw": true
              },
              "fromcurrent": true,
              "mode": "immediate",
              "transition": {
               "duration": 0,
               "easing": "linear"
              }
             }
            ],
            "label": "2020-03-24",
            "method": "animate"
           },
           {
            "args": [
             [
              "2020-03-25"
             ],
             {
              "frame": {
               "duration": 0,
               "redraw": true
              },
              "fromcurrent": true,
              "mode": "immediate",
              "transition": {
               "duration": 0,
               "easing": "linear"
              }
             }
            ],
            "label": "2020-03-25",
            "method": "animate"
           },
           {
            "args": [
             [
              "2020-03-26"
             ],
             {
              "frame": {
               "duration": 0,
               "redraw": true
              },
              "fromcurrent": true,
              "mode": "immediate",
              "transition": {
               "duration": 0,
               "easing": "linear"
              }
             }
            ],
            "label": "2020-03-26",
            "method": "animate"
           },
           {
            "args": [
             [
              "2020-03-27"
             ],
             {
              "frame": {
               "duration": 0,
               "redraw": true
              },
              "fromcurrent": true,
              "mode": "immediate",
              "transition": {
               "duration": 0,
               "easing": "linear"
              }
             }
            ],
            "label": "2020-03-27",
            "method": "animate"
           },
           {
            "args": [
             [
              "2020-03-28"
             ],
             {
              "frame": {
               "duration": 0,
               "redraw": true
              },
              "fromcurrent": true,
              "mode": "immediate",
              "transition": {
               "duration": 0,
               "easing": "linear"
              }
             }
            ],
            "label": "2020-03-28",
            "method": "animate"
           },
           {
            "args": [
             [
              "2020-03-29"
             ],
             {
              "frame": {
               "duration": 0,
               "redraw": true
              },
              "fromcurrent": true,
              "mode": "immediate",
              "transition": {
               "duration": 0,
               "easing": "linear"
              }
             }
            ],
            "label": "2020-03-29",
            "method": "animate"
           },
           {
            "args": [
             [
              "2020-03-30"
             ],
             {
              "frame": {
               "duration": 0,
               "redraw": true
              },
              "fromcurrent": true,
              "mode": "immediate",
              "transition": {
               "duration": 0,
               "easing": "linear"
              }
             }
            ],
            "label": "2020-03-30",
            "method": "animate"
           },
           {
            "args": [
             [
              "2020-03-31"
             ],
             {
              "frame": {
               "duration": 0,
               "redraw": true
              },
              "fromcurrent": true,
              "mode": "immediate",
              "transition": {
               "duration": 0,
               "easing": "linear"
              }
             }
            ],
            "label": "2020-03-31",
            "method": "animate"
           },
           {
            "args": [
             [
              "2020-04-01"
             ],
             {
              "frame": {
               "duration": 0,
               "redraw": true
              },
              "fromcurrent": true,
              "mode": "immediate",
              "transition": {
               "duration": 0,
               "easing": "linear"
              }
             }
            ],
            "label": "2020-04-01",
            "method": "animate"
           },
           {
            "args": [
             [
              "2020-04-02"
             ],
             {
              "frame": {
               "duration": 0,
               "redraw": true
              },
              "fromcurrent": true,
              "mode": "immediate",
              "transition": {
               "duration": 0,
               "easing": "linear"
              }
             }
            ],
            "label": "2020-04-02",
            "method": "animate"
           },
           {
            "args": [
             [
              "2020-04-03"
             ],
             {
              "frame": {
               "duration": 0,
               "redraw": true
              },
              "fromcurrent": true,
              "mode": "immediate",
              "transition": {
               "duration": 0,
               "easing": "linear"
              }
             }
            ],
            "label": "2020-04-03",
            "method": "animate"
           },
           {
            "args": [
             [
              "2020-04-04"
             ],
             {
              "frame": {
               "duration": 0,
               "redraw": true
              },
              "fromcurrent": true,
              "mode": "immediate",
              "transition": {
               "duration": 0,
               "easing": "linear"
              }
             }
            ],
            "label": "2020-04-04",
            "method": "animate"
           },
           {
            "args": [
             [
              "2020-04-05"
             ],
             {
              "frame": {
               "duration": 0,
               "redraw": true
              },
              "fromcurrent": true,
              "mode": "immediate",
              "transition": {
               "duration": 0,
               "easing": "linear"
              }
             }
            ],
            "label": "2020-04-05",
            "method": "animate"
           },
           {
            "args": [
             [
              "2020-04-06"
             ],
             {
              "frame": {
               "duration": 0,
               "redraw": true
              },
              "fromcurrent": true,
              "mode": "immediate",
              "transition": {
               "duration": 0,
               "easing": "linear"
              }
             }
            ],
            "label": "2020-04-06",
            "method": "animate"
           },
           {
            "args": [
             [
              "2020-04-07"
             ],
             {
              "frame": {
               "duration": 0,
               "redraw": true
              },
              "fromcurrent": true,
              "mode": "immediate",
              "transition": {
               "duration": 0,
               "easing": "linear"
              }
             }
            ],
            "label": "2020-04-07",
            "method": "animate"
           },
           {
            "args": [
             [
              "2020-04-08"
             ],
             {
              "frame": {
               "duration": 0,
               "redraw": true
              },
              "fromcurrent": true,
              "mode": "immediate",
              "transition": {
               "duration": 0,
               "easing": "linear"
              }
             }
            ],
            "label": "2020-04-08",
            "method": "animate"
           },
           {
            "args": [
             [
              "2020-04-09"
             ],
             {
              "frame": {
               "duration": 0,
               "redraw": true
              },
              "fromcurrent": true,
              "mode": "immediate",
              "transition": {
               "duration": 0,
               "easing": "linear"
              }
             }
            ],
            "label": "2020-04-09",
            "method": "animate"
           },
           {
            "args": [
             [
              "2020-04-10"
             ],
             {
              "frame": {
               "duration": 0,
               "redraw": true
              },
              "fromcurrent": true,
              "mode": "immediate",
              "transition": {
               "duration": 0,
               "easing": "linear"
              }
             }
            ],
            "label": "2020-04-10",
            "method": "animate"
           },
           {
            "args": [
             [
              "2020-04-11"
             ],
             {
              "frame": {
               "duration": 0,
               "redraw": true
              },
              "fromcurrent": true,
              "mode": "immediate",
              "transition": {
               "duration": 0,
               "easing": "linear"
              }
             }
            ],
            "label": "2020-04-11",
            "method": "animate"
           },
           {
            "args": [
             [
              "2020-04-12"
             ],
             {
              "frame": {
               "duration": 0,
               "redraw": true
              },
              "fromcurrent": true,
              "mode": "immediate",
              "transition": {
               "duration": 0,
               "easing": "linear"
              }
             }
            ],
            "label": "2020-04-12",
            "method": "animate"
           },
           {
            "args": [
             [
              "2020-04-13"
             ],
             {
              "frame": {
               "duration": 0,
               "redraw": true
              },
              "fromcurrent": true,
              "mode": "immediate",
              "transition": {
               "duration": 0,
               "easing": "linear"
              }
             }
            ],
            "label": "2020-04-13",
            "method": "animate"
           },
           {
            "args": [
             [
              "2020-04-14"
             ],
             {
              "frame": {
               "duration": 0,
               "redraw": true
              },
              "fromcurrent": true,
              "mode": "immediate",
              "transition": {
               "duration": 0,
               "easing": "linear"
              }
             }
            ],
            "label": "2020-04-14",
            "method": "animate"
           },
           {
            "args": [
             [
              "2020-04-15"
             ],
             {
              "frame": {
               "duration": 0,
               "redraw": true
              },
              "fromcurrent": true,
              "mode": "immediate",
              "transition": {
               "duration": 0,
               "easing": "linear"
              }
             }
            ],
            "label": "2020-04-15",
            "method": "animate"
           },
           {
            "args": [
             [
              "2020-04-16"
             ],
             {
              "frame": {
               "duration": 0,
               "redraw": true
              },
              "fromcurrent": true,
              "mode": "immediate",
              "transition": {
               "duration": 0,
               "easing": "linear"
              }
             }
            ],
            "label": "2020-04-16",
            "method": "animate"
           },
           {
            "args": [
             [
              "2020-04-17"
             ],
             {
              "frame": {
               "duration": 0,
               "redraw": true
              },
              "fromcurrent": true,
              "mode": "immediate",
              "transition": {
               "duration": 0,
               "easing": "linear"
              }
             }
            ],
            "label": "2020-04-17",
            "method": "animate"
           },
           {
            "args": [
             [
              "2020-04-18"
             ],
             {
              "frame": {
               "duration": 0,
               "redraw": true
              },
              "fromcurrent": true,
              "mode": "immediate",
              "transition": {
               "duration": 0,
               "easing": "linear"
              }
             }
            ],
            "label": "2020-04-18",
            "method": "animate"
           },
           {
            "args": [
             [
              "2020-04-19"
             ],
             {
              "frame": {
               "duration": 0,
               "redraw": true
              },
              "fromcurrent": true,
              "mode": "immediate",
              "transition": {
               "duration": 0,
               "easing": "linear"
              }
             }
            ],
            "label": "2020-04-19",
            "method": "animate"
           },
           {
            "args": [
             [
              "2020-04-20"
             ],
             {
              "frame": {
               "duration": 0,
               "redraw": true
              },
              "fromcurrent": true,
              "mode": "immediate",
              "transition": {
               "duration": 0,
               "easing": "linear"
              }
             }
            ],
            "label": "2020-04-20",
            "method": "animate"
           },
           {
            "args": [
             [
              "2020-04-21"
             ],
             {
              "frame": {
               "duration": 0,
               "redraw": true
              },
              "fromcurrent": true,
              "mode": "immediate",
              "transition": {
               "duration": 0,
               "easing": "linear"
              }
             }
            ],
            "label": "2020-04-21",
            "method": "animate"
           },
           {
            "args": [
             [
              "2020-04-22"
             ],
             {
              "frame": {
               "duration": 0,
               "redraw": true
              },
              "fromcurrent": true,
              "mode": "immediate",
              "transition": {
               "duration": 0,
               "easing": "linear"
              }
             }
            ],
            "label": "2020-04-22",
            "method": "animate"
           },
           {
            "args": [
             [
              "2020-04-23"
             ],
             {
              "frame": {
               "duration": 0,
               "redraw": true
              },
              "fromcurrent": true,
              "mode": "immediate",
              "transition": {
               "duration": 0,
               "easing": "linear"
              }
             }
            ],
            "label": "2020-04-23",
            "method": "animate"
           },
           {
            "args": [
             [
              "2020-04-24"
             ],
             {
              "frame": {
               "duration": 0,
               "redraw": true
              },
              "fromcurrent": true,
              "mode": "immediate",
              "transition": {
               "duration": 0,
               "easing": "linear"
              }
             }
            ],
            "label": "2020-04-24",
            "method": "animate"
           },
           {
            "args": [
             [
              "2020-04-25"
             ],
             {
              "frame": {
               "duration": 0,
               "redraw": true
              },
              "fromcurrent": true,
              "mode": "immediate",
              "transition": {
               "duration": 0,
               "easing": "linear"
              }
             }
            ],
            "label": "2020-04-25",
            "method": "animate"
           },
           {
            "args": [
             [
              "2020-04-26"
             ],
             {
              "frame": {
               "duration": 0,
               "redraw": true
              },
              "fromcurrent": true,
              "mode": "immediate",
              "transition": {
               "duration": 0,
               "easing": "linear"
              }
             }
            ],
            "label": "2020-04-26",
            "method": "animate"
           },
           {
            "args": [
             [
              "2020-04-27"
             ],
             {
              "frame": {
               "duration": 0,
               "redraw": true
              },
              "fromcurrent": true,
              "mode": "immediate",
              "transition": {
               "duration": 0,
               "easing": "linear"
              }
             }
            ],
            "label": "2020-04-27",
            "method": "animate"
           },
           {
            "args": [
             [
              "2020-04-28"
             ],
             {
              "frame": {
               "duration": 0,
               "redraw": true
              },
              "fromcurrent": true,
              "mode": "immediate",
              "transition": {
               "duration": 0,
               "easing": "linear"
              }
             }
            ],
            "label": "2020-04-28",
            "method": "animate"
           },
           {
            "args": [
             [
              "2020-04-29"
             ],
             {
              "frame": {
               "duration": 0,
               "redraw": true
              },
              "fromcurrent": true,
              "mode": "immediate",
              "transition": {
               "duration": 0,
               "easing": "linear"
              }
             }
            ],
            "label": "2020-04-29",
            "method": "animate"
           },
           {
            "args": [
             [
              "2020-04-30"
             ],
             {
              "frame": {
               "duration": 0,
               "redraw": true
              },
              "fromcurrent": true,
              "mode": "immediate",
              "transition": {
               "duration": 0,
               "easing": "linear"
              }
             }
            ],
            "label": "2020-04-30",
            "method": "animate"
           },
           {
            "args": [
             [
              "2020-05-01"
             ],
             {
              "frame": {
               "duration": 0,
               "redraw": true
              },
              "fromcurrent": true,
              "mode": "immediate",
              "transition": {
               "duration": 0,
               "easing": "linear"
              }
             }
            ],
            "label": "2020-05-01",
            "method": "animate"
           },
           {
            "args": [
             [
              "2020-05-02"
             ],
             {
              "frame": {
               "duration": 0,
               "redraw": true
              },
              "fromcurrent": true,
              "mode": "immediate",
              "transition": {
               "duration": 0,
               "easing": "linear"
              }
             }
            ],
            "label": "2020-05-02",
            "method": "animate"
           },
           {
            "args": [
             [
              "2020-05-03"
             ],
             {
              "frame": {
               "duration": 0,
               "redraw": true
              },
              "fromcurrent": true,
              "mode": "immediate",
              "transition": {
               "duration": 0,
               "easing": "linear"
              }
             }
            ],
            "label": "2020-05-03",
            "method": "animate"
           },
           {
            "args": [
             [
              "2020-05-04"
             ],
             {
              "frame": {
               "duration": 0,
               "redraw": true
              },
              "fromcurrent": true,
              "mode": "immediate",
              "transition": {
               "duration": 0,
               "easing": "linear"
              }
             }
            ],
            "label": "2020-05-04",
            "method": "animate"
           },
           {
            "args": [
             [
              "2020-05-05"
             ],
             {
              "frame": {
               "duration": 0,
               "redraw": true
              },
              "fromcurrent": true,
              "mode": "immediate",
              "transition": {
               "duration": 0,
               "easing": "linear"
              }
             }
            ],
            "label": "2020-05-05",
            "method": "animate"
           },
           {
            "args": [
             [
              "2020-05-06"
             ],
             {
              "frame": {
               "duration": 0,
               "redraw": true
              },
              "fromcurrent": true,
              "mode": "immediate",
              "transition": {
               "duration": 0,
               "easing": "linear"
              }
             }
            ],
            "label": "2020-05-06",
            "method": "animate"
           },
           {
            "args": [
             [
              "2020-05-07"
             ],
             {
              "frame": {
               "duration": 0,
               "redraw": true
              },
              "fromcurrent": true,
              "mode": "immediate",
              "transition": {
               "duration": 0,
               "easing": "linear"
              }
             }
            ],
            "label": "2020-05-07",
            "method": "animate"
           },
           {
            "args": [
             [
              "2020-05-08"
             ],
             {
              "frame": {
               "duration": 0,
               "redraw": true
              },
              "fromcurrent": true,
              "mode": "immediate",
              "transition": {
               "duration": 0,
               "easing": "linear"
              }
             }
            ],
            "label": "2020-05-08",
            "method": "animate"
           },
           {
            "args": [
             [
              "2020-05-09"
             ],
             {
              "frame": {
               "duration": 0,
               "redraw": true
              },
              "fromcurrent": true,
              "mode": "immediate",
              "transition": {
               "duration": 0,
               "easing": "linear"
              }
             }
            ],
            "label": "2020-05-09",
            "method": "animate"
           },
           {
            "args": [
             [
              "2020-05-10"
             ],
             {
              "frame": {
               "duration": 0,
               "redraw": true
              },
              "fromcurrent": true,
              "mode": "immediate",
              "transition": {
               "duration": 0,
               "easing": "linear"
              }
             }
            ],
            "label": "2020-05-10",
            "method": "animate"
           },
           {
            "args": [
             [
              "2020-05-11"
             ],
             {
              "frame": {
               "duration": 0,
               "redraw": true
              },
              "fromcurrent": true,
              "mode": "immediate",
              "transition": {
               "duration": 0,
               "easing": "linear"
              }
             }
            ],
            "label": "2020-05-11",
            "method": "animate"
           },
           {
            "args": [
             [
              "2020-05-12"
             ],
             {
              "frame": {
               "duration": 0,
               "redraw": true
              },
              "fromcurrent": true,
              "mode": "immediate",
              "transition": {
               "duration": 0,
               "easing": "linear"
              }
             }
            ],
            "label": "2020-05-12",
            "method": "animate"
           },
           {
            "args": [
             [
              "2020-05-13"
             ],
             {
              "frame": {
               "duration": 0,
               "redraw": true
              },
              "fromcurrent": true,
              "mode": "immediate",
              "transition": {
               "duration": 0,
               "easing": "linear"
              }
             }
            ],
            "label": "2020-05-13",
            "method": "animate"
           },
           {
            "args": [
             [
              "2020-05-14"
             ],
             {
              "frame": {
               "duration": 0,
               "redraw": true
              },
              "fromcurrent": true,
              "mode": "immediate",
              "transition": {
               "duration": 0,
               "easing": "linear"
              }
             }
            ],
            "label": "2020-05-14",
            "method": "animate"
           },
           {
            "args": [
             [
              "2020-05-15"
             ],
             {
              "frame": {
               "duration": 0,
               "redraw": true
              },
              "fromcurrent": true,
              "mode": "immediate",
              "transition": {
               "duration": 0,
               "easing": "linear"
              }
             }
            ],
            "label": "2020-05-15",
            "method": "animate"
           },
           {
            "args": [
             [
              "2020-05-16"
             ],
             {
              "frame": {
               "duration": 0,
               "redraw": true
              },
              "fromcurrent": true,
              "mode": "immediate",
              "transition": {
               "duration": 0,
               "easing": "linear"
              }
             }
            ],
            "label": "2020-05-16",
            "method": "animate"
           },
           {
            "args": [
             [
              "2020-05-17"
             ],
             {
              "frame": {
               "duration": 0,
               "redraw": true
              },
              "fromcurrent": true,
              "mode": "immediate",
              "transition": {
               "duration": 0,
               "easing": "linear"
              }
             }
            ],
            "label": "2020-05-17",
            "method": "animate"
           },
           {
            "args": [
             [
              "2020-05-18"
             ],
             {
              "frame": {
               "duration": 0,
               "redraw": true
              },
              "fromcurrent": true,
              "mode": "immediate",
              "transition": {
               "duration": 0,
               "easing": "linear"
              }
             }
            ],
            "label": "2020-05-18",
            "method": "animate"
           },
           {
            "args": [
             [
              "2020-05-19"
             ],
             {
              "frame": {
               "duration": 0,
               "redraw": true
              },
              "fromcurrent": true,
              "mode": "immediate",
              "transition": {
               "duration": 0,
               "easing": "linear"
              }
             }
            ],
            "label": "2020-05-19",
            "method": "animate"
           },
           {
            "args": [
             [
              "2020-05-20"
             ],
             {
              "frame": {
               "duration": 0,
               "redraw": true
              },
              "fromcurrent": true,
              "mode": "immediate",
              "transition": {
               "duration": 0,
               "easing": "linear"
              }
             }
            ],
            "label": "2020-05-20",
            "method": "animate"
           },
           {
            "args": [
             [
              "2020-05-21"
             ],
             {
              "frame": {
               "duration": 0,
               "redraw": true
              },
              "fromcurrent": true,
              "mode": "immediate",
              "transition": {
               "duration": 0,
               "easing": "linear"
              }
             }
            ],
            "label": "2020-05-21",
            "method": "animate"
           },
           {
            "args": [
             [
              "2020-05-22"
             ],
             {
              "frame": {
               "duration": 0,
               "redraw": true
              },
              "fromcurrent": true,
              "mode": "immediate",
              "transition": {
               "duration": 0,
               "easing": "linear"
              }
             }
            ],
            "label": "2020-05-22",
            "method": "animate"
           },
           {
            "args": [
             [
              "2020-05-23"
             ],
             {
              "frame": {
               "duration": 0,
               "redraw": true
              },
              "fromcurrent": true,
              "mode": "immediate",
              "transition": {
               "duration": 0,
               "easing": "linear"
              }
             }
            ],
            "label": "2020-05-23",
            "method": "animate"
           },
           {
            "args": [
             [
              "2020-05-24"
             ],
             {
              "frame": {
               "duration": 0,
               "redraw": true
              },
              "fromcurrent": true,
              "mode": "immediate",
              "transition": {
               "duration": 0,
               "easing": "linear"
              }
             }
            ],
            "label": "2020-05-24",
            "method": "animate"
           },
           {
            "args": [
             [
              "2020-05-25"
             ],
             {
              "frame": {
               "duration": 0,
               "redraw": true
              },
              "fromcurrent": true,
              "mode": "immediate",
              "transition": {
               "duration": 0,
               "easing": "linear"
              }
             }
            ],
            "label": "2020-05-25",
            "method": "animate"
           }
          ],
          "x": 0.1,
          "xanchor": "left",
          "y": 0,
          "yanchor": "top"
         }
        ],
        "template": {
         "data": {
          "bar": [
           {
            "error_x": {
             "color": "#2a3f5f"
            },
            "error_y": {
             "color": "#2a3f5f"
            },
            "marker": {
             "line": {
              "color": "#E5ECF6",
              "width": 0.5
             }
            },
            "type": "bar"
           }
          ],
          "barpolar": [
           {
            "marker": {
             "line": {
              "color": "#E5ECF6",
              "width": 0.5
             }
            },
            "type": "barpolar"
           }
          ],
          "carpet": [
           {
            "aaxis": {
             "endlinecolor": "#2a3f5f",
             "gridcolor": "white",
             "linecolor": "white",
             "minorgridcolor": "white",
             "startlinecolor": "#2a3f5f"
            },
            "baxis": {
             "endlinecolor": "#2a3f5f",
             "gridcolor": "white",
             "linecolor": "white",
             "minorgridcolor": "white",
             "startlinecolor": "#2a3f5f"
            },
            "type": "carpet"
           }
          ],
          "choropleth": [
           {
            "colorbar": {
             "outlinewidth": 0,
             "ticks": ""
            },
            "type": "choropleth"
           }
          ],
          "contour": [
           {
            "colorbar": {
             "outlinewidth": 0,
             "ticks": ""
            },
            "colorscale": [
             [
              0,
              "#0d0887"
             ],
             [
              0.1111111111111111,
              "#46039f"
             ],
             [
              0.2222222222222222,
              "#7201a8"
             ],
             [
              0.3333333333333333,
              "#9c179e"
             ],
             [
              0.4444444444444444,
              "#bd3786"
             ],
             [
              0.5555555555555556,
              "#d8576b"
             ],
             [
              0.6666666666666666,
              "#ed7953"
             ],
             [
              0.7777777777777778,
              "#fb9f3a"
             ],
             [
              0.8888888888888888,
              "#fdca26"
             ],
             [
              1,
              "#f0f921"
             ]
            ],
            "type": "contour"
           }
          ],
          "contourcarpet": [
           {
            "colorbar": {
             "outlinewidth": 0,
             "ticks": ""
            },
            "type": "contourcarpet"
           }
          ],
          "heatmap": [
           {
            "colorbar": {
             "outlinewidth": 0,
             "ticks": ""
            },
            "colorscale": [
             [
              0,
              "#0d0887"
             ],
             [
              0.1111111111111111,
              "#46039f"
             ],
             [
              0.2222222222222222,
              "#7201a8"
             ],
             [
              0.3333333333333333,
              "#9c179e"
             ],
             [
              0.4444444444444444,
              "#bd3786"
             ],
             [
              0.5555555555555556,
              "#d8576b"
             ],
             [
              0.6666666666666666,
              "#ed7953"
             ],
             [
              0.7777777777777778,
              "#fb9f3a"
             ],
             [
              0.8888888888888888,
              "#fdca26"
             ],
             [
              1,
              "#f0f921"
             ]
            ],
            "type": "heatmap"
           }
          ],
          "heatmapgl": [
           {
            "colorbar": {
             "outlinewidth": 0,
             "ticks": ""
            },
            "colorscale": [
             [
              0,
              "#0d0887"
             ],
             [
              0.1111111111111111,
              "#46039f"
             ],
             [
              0.2222222222222222,
              "#7201a8"
             ],
             [
              0.3333333333333333,
              "#9c179e"
             ],
             [
              0.4444444444444444,
              "#bd3786"
             ],
             [
              0.5555555555555556,
              "#d8576b"
             ],
             [
              0.6666666666666666,
              "#ed7953"
             ],
             [
              0.7777777777777778,
              "#fb9f3a"
             ],
             [
              0.8888888888888888,
              "#fdca26"
             ],
             [
              1,
              "#f0f921"
             ]
            ],
            "type": "heatmapgl"
           }
          ],
          "histogram": [
           {
            "marker": {
             "colorbar": {
              "outlinewidth": 0,
              "ticks": ""
             }
            },
            "type": "histogram"
           }
          ],
          "histogram2d": [
           {
            "colorbar": {
             "outlinewidth": 0,
             "ticks": ""
            },
            "colorscale": [
             [
              0,
              "#0d0887"
             ],
             [
              0.1111111111111111,
              "#46039f"
             ],
             [
              0.2222222222222222,
              "#7201a8"
             ],
             [
              0.3333333333333333,
              "#9c179e"
             ],
             [
              0.4444444444444444,
              "#bd3786"
             ],
             [
              0.5555555555555556,
              "#d8576b"
             ],
             [
              0.6666666666666666,
              "#ed7953"
             ],
             [
              0.7777777777777778,
              "#fb9f3a"
             ],
             [
              0.8888888888888888,
              "#fdca26"
             ],
             [
              1,
              "#f0f921"
             ]
            ],
            "type": "histogram2d"
           }
          ],
          "histogram2dcontour": [
           {
            "colorbar": {
             "outlinewidth": 0,
             "ticks": ""
            },
            "colorscale": [
             [
              0,
              "#0d0887"
             ],
             [
              0.1111111111111111,
              "#46039f"
             ],
             [
              0.2222222222222222,
              "#7201a8"
             ],
             [
              0.3333333333333333,
              "#9c179e"
             ],
             [
              0.4444444444444444,
              "#bd3786"
             ],
             [
              0.5555555555555556,
              "#d8576b"
             ],
             [
              0.6666666666666666,
              "#ed7953"
             ],
             [
              0.7777777777777778,
              "#fb9f3a"
             ],
             [
              0.8888888888888888,
              "#fdca26"
             ],
             [
              1,
              "#f0f921"
             ]
            ],
            "type": "histogram2dcontour"
           }
          ],
          "mesh3d": [
           {
            "colorbar": {
             "outlinewidth": 0,
             "ticks": ""
            },
            "type": "mesh3d"
           }
          ],
          "parcoords": [
           {
            "line": {
             "colorbar": {
              "outlinewidth": 0,
              "ticks": ""
             }
            },
            "type": "parcoords"
           }
          ],
          "pie": [
           {
            "automargin": true,
            "type": "pie"
           }
          ],
          "scatter": [
           {
            "marker": {
             "colorbar": {
              "outlinewidth": 0,
              "ticks": ""
             }
            },
            "type": "scatter"
           }
          ],
          "scatter3d": [
           {
            "line": {
             "colorbar": {
              "outlinewidth": 0,
              "ticks": ""
             }
            },
            "marker": {
             "colorbar": {
              "outlinewidth": 0,
              "ticks": ""
             }
            },
            "type": "scatter3d"
           }
          ],
          "scattercarpet": [
           {
            "marker": {
             "colorbar": {
              "outlinewidth": 0,
              "ticks": ""
             }
            },
            "type": "scattercarpet"
           }
          ],
          "scattergeo": [
           {
            "marker": {
             "colorbar": {
              "outlinewidth": 0,
              "ticks": ""
             }
            },
            "type": "scattergeo"
           }
          ],
          "scattergl": [
           {
            "marker": {
             "colorbar": {
              "outlinewidth": 0,
              "ticks": ""
             }
            },
            "type": "scattergl"
           }
          ],
          "scattermapbox": [
           {
            "marker": {
             "colorbar": {
              "outlinewidth": 0,
              "ticks": ""
             }
            },
            "type": "scattermapbox"
           }
          ],
          "scatterpolar": [
           {
            "marker": {
             "colorbar": {
              "outlinewidth": 0,
              "ticks": ""
             }
            },
            "type": "scatterpolar"
           }
          ],
          "scatterpolargl": [
           {
            "marker": {
             "colorbar": {
              "outlinewidth": 0,
              "ticks": ""
             }
            },
            "type": "scatterpolargl"
           }
          ],
          "scatterternary": [
           {
            "marker": {
             "colorbar": {
              "outlinewidth": 0,
              "ticks": ""
             }
            },
            "type": "scatterternary"
           }
          ],
          "surface": [
           {
            "colorbar": {
             "outlinewidth": 0,
             "ticks": ""
            },
            "colorscale": [
             [
              0,
              "#0d0887"
             ],
             [
              0.1111111111111111,
              "#46039f"
             ],
             [
              0.2222222222222222,
              "#7201a8"
             ],
             [
              0.3333333333333333,
              "#9c179e"
             ],
             [
              0.4444444444444444,
              "#bd3786"
             ],
             [
              0.5555555555555556,
              "#d8576b"
             ],
             [
              0.6666666666666666,
              "#ed7953"
             ],
             [
              0.7777777777777778,
              "#fb9f3a"
             ],
             [
              0.8888888888888888,
              "#fdca26"
             ],
             [
              1,
              "#f0f921"
             ]
            ],
            "type": "surface"
           }
          ],
          "table": [
           {
            "cells": {
             "fill": {
              "color": "#EBF0F8"
             },
             "line": {
              "color": "white"
             }
            },
            "header": {
             "fill": {
              "color": "#C8D4E3"
             },
             "line": {
              "color": "white"
             }
            },
            "type": "table"
           }
          ]
         },
         "layout": {
          "annotationdefaults": {
           "arrowcolor": "#2a3f5f",
           "arrowhead": 0,
           "arrowwidth": 1
          },
          "coloraxis": {
           "colorbar": {
            "outlinewidth": 0,
            "ticks": ""
           }
          },
          "colorscale": {
           "diverging": [
            [
             0,
             "#8e0152"
            ],
            [
             0.1,
             "#c51b7d"
            ],
            [
             0.2,
             "#de77ae"
            ],
            [
             0.3,
             "#f1b6da"
            ],
            [
             0.4,
             "#fde0ef"
            ],
            [
             0.5,
             "#f7f7f7"
            ],
            [
             0.6,
             "#e6f5d0"
            ],
            [
             0.7,
             "#b8e186"
            ],
            [
             0.8,
             "#7fbc41"
            ],
            [
             0.9,
             "#4d9221"
            ],
            [
             1,
             "#276419"
            ]
           ],
           "sequential": [
            [
             0,
             "#0d0887"
            ],
            [
             0.1111111111111111,
             "#46039f"
            ],
            [
             0.2222222222222222,
             "#7201a8"
            ],
            [
             0.3333333333333333,
             "#9c179e"
            ],
            [
             0.4444444444444444,
             "#bd3786"
            ],
            [
             0.5555555555555556,
             "#d8576b"
            ],
            [
             0.6666666666666666,
             "#ed7953"
            ],
            [
             0.7777777777777778,
             "#fb9f3a"
            ],
            [
             0.8888888888888888,
             "#fdca26"
            ],
            [
             1,
             "#f0f921"
            ]
           ],
           "sequentialminus": [
            [
             0,
             "#0d0887"
            ],
            [
             0.1111111111111111,
             "#46039f"
            ],
            [
             0.2222222222222222,
             "#7201a8"
            ],
            [
             0.3333333333333333,
             "#9c179e"
            ],
            [
             0.4444444444444444,
             "#bd3786"
            ],
            [
             0.5555555555555556,
             "#d8576b"
            ],
            [
             0.6666666666666666,
             "#ed7953"
            ],
            [
             0.7777777777777778,
             "#fb9f3a"
            ],
            [
             0.8888888888888888,
             "#fdca26"
            ],
            [
             1,
             "#f0f921"
            ]
           ]
          },
          "colorway": [
           "#636efa",
           "#EF553B",
           "#00cc96",
           "#ab63fa",
           "#FFA15A",
           "#19d3f3",
           "#FF6692",
           "#B6E880",
           "#FF97FF",
           "#FECB52"
          ],
          "font": {
           "color": "#2a3f5f"
          },
          "geo": {
           "bgcolor": "white",
           "lakecolor": "white",
           "landcolor": "#E5ECF6",
           "showlakes": true,
           "showland": true,
           "subunitcolor": "white"
          },
          "hoverlabel": {
           "align": "left"
          },
          "hovermode": "closest",
          "mapbox": {
           "style": "light"
          },
          "paper_bgcolor": "white",
          "plot_bgcolor": "#E5ECF6",
          "polar": {
           "angularaxis": {
            "gridcolor": "white",
            "linecolor": "white",
            "ticks": ""
           },
           "bgcolor": "#E5ECF6",
           "radialaxis": {
            "gridcolor": "white",
            "linecolor": "white",
            "ticks": ""
           }
          },
          "scene": {
           "xaxis": {
            "backgroundcolor": "#E5ECF6",
            "gridcolor": "white",
            "gridwidth": 2,
            "linecolor": "white",
            "showbackground": true,
            "ticks": "",
            "zerolinecolor": "white"
           },
           "yaxis": {
            "backgroundcolor": "#E5ECF6",
            "gridcolor": "white",
            "gridwidth": 2,
            "linecolor": "white",
            "showbackground": true,
            "ticks": "",
            "zerolinecolor": "white"
           },
           "zaxis": {
            "backgroundcolor": "#E5ECF6",
            "gridcolor": "white",
            "gridwidth": 2,
            "linecolor": "white",
            "showbackground": true,
            "ticks": "",
            "zerolinecolor": "white"
           }
          },
          "shapedefaults": {
           "line": {
            "color": "#2a3f5f"
           }
          },
          "ternary": {
           "aaxis": {
            "gridcolor": "white",
            "linecolor": "white",
            "ticks": ""
           },
           "baxis": {
            "gridcolor": "white",
            "linecolor": "white",
            "ticks": ""
           },
           "bgcolor": "#E5ECF6",
           "caxis": {
            "gridcolor": "white",
            "linecolor": "white",
            "ticks": ""
           }
          },
          "title": {
           "x": 0.05
          },
          "xaxis": {
           "automargin": true,
           "gridcolor": "white",
           "linecolor": "white",
           "ticks": "",
           "title": {
            "standoff": 15
           },
           "zerolinecolor": "white",
           "zerolinewidth": 2
          },
          "yaxis": {
           "automargin": true,
           "gridcolor": "white",
           "linecolor": "white",
           "ticks": "",
           "title": {
            "standoff": 15
           },
           "zerolinecolor": "white",
           "zerolinewidth": 2
          }
         }
        },
        "updatemenus": [
         {
          "buttons": [
           {
            "args": [
             null,
             {
              "frame": {
               "duration": 500,
               "redraw": true
              },
              "fromcurrent": true,
              "mode": "immediate",
              "transition": {
               "duration": 500,
               "easing": "linear"
              }
             }
            ],
            "label": "&#9654;",
            "method": "animate"
           },
           {
            "args": [
             [
              null
             ],
             {
              "frame": {
               "duration": 0,
               "redraw": true
              },
              "fromcurrent": true,
              "mode": "immediate",
              "transition": {
               "duration": 0,
               "easing": "linear"
              }
             }
            ],
            "label": "&#9724;",
            "method": "animate"
           }
          ],
          "direction": "left",
          "pad": {
           "r": 10,
           "t": 70
          },
          "showactive": false,
          "type": "buttons",
          "x": 0.1,
          "xanchor": "right",
          "y": 0,
          "yanchor": "top"
         }
        ]
       }
      },
      "text/html": [
       "<div>\n",
       "        \n",
       "        \n",
       "            <div id=\"b7e051a3-98ac-4725-a13a-c7e5835c02d1\" class=\"plotly-graph-div\" style=\"height:525px; width:100%;\"></div>\n",
       "            <script type=\"text/javascript\">\n",
       "                require([\"plotly\"], function(Plotly) {\n",
       "                    window.PLOTLYENV=window.PLOTLYENV || {};\n",
       "                    \n",
       "                if (document.getElementById(\"b7e051a3-98ac-4725-a13a-c7e5835c02d1\")) {\n",
       "                    Plotly.newPlot(\n",
       "                        'b7e051a3-98ac-4725-a13a-c7e5835c02d1',\n",
       "                        [{\"coloraxis\": \"coloraxis\", \"geo\": \"geo\", \"hovertemplate\": \"<b>%{hovertext}</b><br><br>date=2020-01-04<br>iso_alpha=%{location}<br>Cases=%{z}<extra></extra>\", \"hovertext\": [\"Thailand\"], \"locations\": [\"THA\"], \"name\": \"\", \"type\": \"choropleth\", \"z\": [52.0]}],\n",
       "                        {\"coloraxis\": {\"cmax\": 1000, \"cmin\": 0, \"colorbar\": {\"title\": {\"text\": \"Cases\"}}, \"colorscale\": [[0.0, \"rgb(49,54,149)\"], [0.1, \"rgb(69,117,180)\"], [0.2, \"rgb(116,173,209)\"], [0.3, \"rgb(171,217,233)\"], [0.4, \"rgb(224,243,248)\"], [0.5, \"rgb(255,255,191)\"], [0.6, \"rgb(254,224,144)\"], [0.7, \"rgb(253,174,97)\"], [0.8, \"rgb(244,109,67)\"], [0.9, \"rgb(215,48,39)\"], [1.0, \"rgb(165,0,38)\"]]}, \"geo\": {\"center\": {}, \"domain\": {\"x\": [0.0, 1.0], \"y\": [0.0, 1.0]}}, \"legend\": {\"tracegroupgap\": 0}, \"margin\": {\"t\": 60}, \"sliders\": [{\"active\": 0, \"currentvalue\": {\"prefix\": \"date=\"}, \"len\": 0.9, \"pad\": {\"b\": 10, \"t\": 60}, \"steps\": [{\"args\": [[\"2020-01-04\"], {\"frame\": {\"duration\": 0, \"redraw\": true}, \"fromcurrent\": true, \"mode\": \"immediate\", \"transition\": {\"duration\": 0, \"easing\": \"linear\"}}], \"label\": \"2020-01-04\", \"method\": \"animate\"}, {\"args\": [[\"2020-01-05\"], {\"frame\": {\"duration\": 0, \"redraw\": true}, \"fromcurrent\": true, \"mode\": \"immediate\", \"transition\": {\"duration\": 0, \"easing\": \"linear\"}}], \"label\": \"2020-01-05\", \"method\": \"animate\"}, {\"args\": [[\"2020-01-15\"], {\"frame\": {\"duration\": 0, \"redraw\": true}, \"fromcurrent\": true, \"mode\": \"immediate\", \"transition\": {\"duration\": 0, \"easing\": \"linear\"}}], \"label\": \"2020-01-15\", \"method\": \"animate\"}, {\"args\": [[\"2020-01-20\"], {\"frame\": {\"duration\": 0, \"redraw\": true}, \"fromcurrent\": true, \"mode\": \"immediate\", \"transition\": {\"duration\": 0, \"easing\": \"linear\"}}], \"label\": \"2020-01-20\", \"method\": \"animate\"}, {\"args\": [[\"2020-01-21\"], {\"frame\": {\"duration\": 0, \"redraw\": true}, \"fromcurrent\": true, \"mode\": \"immediate\", \"transition\": {\"duration\": 0, \"easing\": \"linear\"}}], \"label\": \"2020-01-21\", \"method\": \"animate\"}, {\"args\": [[\"2020-01-22\"], {\"frame\": {\"duration\": 0, \"redraw\": true}, \"fromcurrent\": true, \"mode\": \"immediate\", \"transition\": {\"duration\": 0, \"easing\": \"linear\"}}], \"label\": \"2020-01-22\", \"method\": \"animate\"}, {\"args\": [[\"2020-01-23\"], {\"frame\": {\"duration\": 0, \"redraw\": true}, \"fromcurrent\": true, \"mode\": \"immediate\", \"transition\": {\"duration\": 0, \"easing\": \"linear\"}}], \"label\": \"2020-01-23\", \"method\": \"animate\"}, {\"args\": [[\"2020-01-24\"], {\"frame\": {\"duration\": 0, \"redraw\": true}, \"fromcurrent\": true, \"mode\": \"immediate\", \"transition\": {\"duration\": 0, \"easing\": \"linear\"}}], \"label\": \"2020-01-24\", \"method\": \"animate\"}, {\"args\": [[\"2020-01-25\"], {\"frame\": {\"duration\": 0, \"redraw\": true}, \"fromcurrent\": true, \"mode\": \"immediate\", \"transition\": {\"duration\": 0, \"easing\": \"linear\"}}], \"label\": \"2020-01-25\", \"method\": \"animate\"}, {\"args\": [[\"2020-01-26\"], {\"frame\": {\"duration\": 0, \"redraw\": true}, \"fromcurrent\": true, \"mode\": \"immediate\", \"transition\": {\"duration\": 0, \"easing\": \"linear\"}}], \"label\": \"2020-01-26\", \"method\": \"animate\"}, {\"args\": [[\"2020-01-27\"], {\"frame\": {\"duration\": 0, \"redraw\": true}, \"fromcurrent\": true, \"mode\": \"immediate\", \"transition\": {\"duration\": 0, \"easing\": \"linear\"}}], \"label\": \"2020-01-27\", \"method\": \"animate\"}, {\"args\": [[\"2020-01-28\"], {\"frame\": {\"duration\": 0, \"redraw\": true}, \"fromcurrent\": true, \"mode\": \"immediate\", \"transition\": {\"duration\": 0, \"easing\": \"linear\"}}], \"label\": \"2020-01-28\", \"method\": \"animate\"}, {\"args\": [[\"2020-01-29\"], {\"frame\": {\"duration\": 0, \"redraw\": true}, \"fromcurrent\": true, \"mode\": \"immediate\", \"transition\": {\"duration\": 0, \"easing\": \"linear\"}}], \"label\": \"2020-01-29\", \"method\": \"animate\"}, {\"args\": [[\"2020-01-30\"], {\"frame\": {\"duration\": 0, \"redraw\": true}, \"fromcurrent\": true, \"mode\": \"immediate\", \"transition\": {\"duration\": 0, \"easing\": \"linear\"}}], \"label\": \"2020-01-30\", \"method\": \"animate\"}, {\"args\": [[\"2020-01-31\"], {\"frame\": {\"duration\": 0, \"redraw\": true}, \"fromcurrent\": true, \"mode\": \"immediate\", \"transition\": {\"duration\": 0, \"easing\": \"linear\"}}], \"label\": \"2020-01-31\", \"method\": \"animate\"}, {\"args\": [[\"2020-02-01\"], {\"frame\": {\"duration\": 0, \"redraw\": true}, \"fromcurrent\": true, \"mode\": \"immediate\", \"transition\": {\"duration\": 0, \"easing\": \"linear\"}}], \"label\": \"2020-02-01\", \"method\": \"animate\"}, {\"args\": [[\"2020-02-02\"], {\"frame\": {\"duration\": 0, \"redraw\": true}, \"fromcurrent\": true, \"mode\": \"immediate\", \"transition\": {\"duration\": 0, \"easing\": \"linear\"}}], \"label\": \"2020-02-02\", \"method\": \"animate\"}, {\"args\": [[\"2020-02-03\"], {\"frame\": {\"duration\": 0, \"redraw\": true}, \"fromcurrent\": true, \"mode\": \"immediate\", \"transition\": {\"duration\": 0, \"easing\": \"linear\"}}], \"label\": \"2020-02-03\", \"method\": \"animate\"}, {\"args\": [[\"2020-02-04\"], {\"frame\": {\"duration\": 0, \"redraw\": true}, \"fromcurrent\": true, \"mode\": \"immediate\", \"transition\": {\"duration\": 0, \"easing\": \"linear\"}}], \"label\": \"2020-02-04\", \"method\": \"animate\"}, {\"args\": [[\"2020-02-05\"], {\"frame\": {\"duration\": 0, \"redraw\": true}, \"fromcurrent\": true, \"mode\": \"immediate\", \"transition\": {\"duration\": 0, \"easing\": \"linear\"}}], \"label\": \"2020-02-05\", \"method\": \"animate\"}, {\"args\": [[\"2020-02-06\"], {\"frame\": {\"duration\": 0, \"redraw\": true}, \"fromcurrent\": true, \"mode\": \"immediate\", \"transition\": {\"duration\": 0, \"easing\": \"linear\"}}], \"label\": \"2020-02-06\", \"method\": \"animate\"}, {\"args\": [[\"2020-02-07\"], {\"frame\": {\"duration\": 0, \"redraw\": true}, \"fromcurrent\": true, \"mode\": \"immediate\", \"transition\": {\"duration\": 0, \"easing\": \"linear\"}}], \"label\": \"2020-02-07\", \"method\": \"animate\"}, {\"args\": [[\"2020-02-08\"], {\"frame\": {\"duration\": 0, \"redraw\": true}, \"fromcurrent\": true, \"mode\": \"immediate\", \"transition\": {\"duration\": 0, \"easing\": \"linear\"}}], \"label\": \"2020-02-08\", \"method\": \"animate\"}, {\"args\": [[\"2020-02-09\"], {\"frame\": {\"duration\": 0, \"redraw\": true}, \"fromcurrent\": true, \"mode\": \"immediate\", \"transition\": {\"duration\": 0, \"easing\": \"linear\"}}], \"label\": \"2020-02-09\", \"method\": \"animate\"}, {\"args\": [[\"2020-02-10\"], {\"frame\": {\"duration\": 0, \"redraw\": true}, \"fromcurrent\": true, \"mode\": \"immediate\", \"transition\": {\"duration\": 0, \"easing\": \"linear\"}}], \"label\": \"2020-02-10\", \"method\": \"animate\"}, {\"args\": [[\"2020-02-11\"], {\"frame\": {\"duration\": 0, \"redraw\": true}, \"fromcurrent\": true, \"mode\": \"immediate\", \"transition\": {\"duration\": 0, \"easing\": \"linear\"}}], \"label\": \"2020-02-11\", \"method\": \"animate\"}, {\"args\": [[\"2020-02-12\"], {\"frame\": {\"duration\": 0, \"redraw\": true}, \"fromcurrent\": true, \"mode\": \"immediate\", \"transition\": {\"duration\": 0, \"easing\": \"linear\"}}], \"label\": \"2020-02-12\", \"method\": \"animate\"}, {\"args\": [[\"2020-02-13\"], {\"frame\": {\"duration\": 0, \"redraw\": true}, \"fromcurrent\": true, \"mode\": \"immediate\", \"transition\": {\"duration\": 0, \"easing\": \"linear\"}}], \"label\": \"2020-02-13\", \"method\": \"animate\"}, {\"args\": [[\"2020-02-14\"], {\"frame\": {\"duration\": 0, \"redraw\": true}, \"fromcurrent\": true, \"mode\": \"immediate\", \"transition\": {\"duration\": 0, \"easing\": \"linear\"}}], \"label\": \"2020-02-14\", \"method\": \"animate\"}, {\"args\": [[\"2020-02-15\"], {\"frame\": {\"duration\": 0, \"redraw\": true}, \"fromcurrent\": true, \"mode\": \"immediate\", \"transition\": {\"duration\": 0, \"easing\": \"linear\"}}], \"label\": \"2020-02-15\", \"method\": \"animate\"}, {\"args\": [[\"2020-02-16\"], {\"frame\": {\"duration\": 0, \"redraw\": true}, \"fromcurrent\": true, \"mode\": \"immediate\", \"transition\": {\"duration\": 0, \"easing\": \"linear\"}}], \"label\": \"2020-02-16\", \"method\": \"animate\"}, {\"args\": [[\"2020-02-17\"], {\"frame\": {\"duration\": 0, \"redraw\": true}, \"fromcurrent\": true, \"mode\": \"immediate\", \"transition\": {\"duration\": 0, \"easing\": \"linear\"}}], \"label\": \"2020-02-17\", \"method\": \"animate\"}, {\"args\": [[\"2020-02-18\"], {\"frame\": {\"duration\": 0, \"redraw\": true}, \"fromcurrent\": true, \"mode\": \"immediate\", \"transition\": {\"duration\": 0, \"easing\": \"linear\"}}], \"label\": \"2020-02-18\", \"method\": \"animate\"}, {\"args\": [[\"2020-02-19\"], {\"frame\": {\"duration\": 0, \"redraw\": true}, \"fromcurrent\": true, \"mode\": \"immediate\", \"transition\": {\"duration\": 0, \"easing\": \"linear\"}}], \"label\": \"2020-02-19\", \"method\": \"animate\"}, {\"args\": [[\"2020-02-20\"], {\"frame\": {\"duration\": 0, \"redraw\": true}, \"fromcurrent\": true, \"mode\": \"immediate\", \"transition\": {\"duration\": 0, \"easing\": \"linear\"}}], \"label\": \"2020-02-20\", \"method\": \"animate\"}, {\"args\": [[\"2020-02-21\"], {\"frame\": {\"duration\": 0, \"redraw\": true}, \"fromcurrent\": true, \"mode\": \"immediate\", \"transition\": {\"duration\": 0, \"easing\": \"linear\"}}], \"label\": \"2020-02-21\", \"method\": \"animate\"}, {\"args\": [[\"2020-02-22\"], {\"frame\": {\"duration\": 0, \"redraw\": true}, \"fromcurrent\": true, \"mode\": \"immediate\", \"transition\": {\"duration\": 0, \"easing\": \"linear\"}}], \"label\": \"2020-02-22\", \"method\": \"animate\"}, {\"args\": [[\"2020-02-23\"], {\"frame\": {\"duration\": 0, \"redraw\": true}, \"fromcurrent\": true, \"mode\": \"immediate\", \"transition\": {\"duration\": 0, \"easing\": \"linear\"}}], \"label\": \"2020-02-23\", \"method\": \"animate\"}, {\"args\": [[\"2020-02-24\"], {\"frame\": {\"duration\": 0, \"redraw\": true}, \"fromcurrent\": true, \"mode\": \"immediate\", \"transition\": {\"duration\": 0, \"easing\": \"linear\"}}], \"label\": \"2020-02-24\", \"method\": \"animate\"}, {\"args\": [[\"2020-02-25\"], {\"frame\": {\"duration\": 0, \"redraw\": true}, \"fromcurrent\": true, \"mode\": \"immediate\", \"transition\": {\"duration\": 0, \"easing\": \"linear\"}}], \"label\": \"2020-02-25\", \"method\": \"animate\"}, {\"args\": [[\"2020-02-26\"], {\"frame\": {\"duration\": 0, \"redraw\": true}, \"fromcurrent\": true, \"mode\": \"immediate\", \"transition\": {\"duration\": 0, \"easing\": \"linear\"}}], \"label\": \"2020-02-26\", \"method\": \"animate\"}, {\"args\": [[\"2020-02-27\"], {\"frame\": {\"duration\": 0, \"redraw\": true}, \"fromcurrent\": true, \"mode\": \"immediate\", \"transition\": {\"duration\": 0, \"easing\": \"linear\"}}], \"label\": \"2020-02-27\", \"method\": \"animate\"}, {\"args\": [[\"2020-02-28\"], {\"frame\": {\"duration\": 0, \"redraw\": true}, \"fromcurrent\": true, \"mode\": \"immediate\", \"transition\": {\"duration\": 0, \"easing\": \"linear\"}}], \"label\": \"2020-02-28\", \"method\": \"animate\"}, {\"args\": [[\"2020-02-29\"], {\"frame\": {\"duration\": 0, \"redraw\": true}, \"fromcurrent\": true, \"mode\": \"immediate\", \"transition\": {\"duration\": 0, \"easing\": \"linear\"}}], \"label\": \"2020-02-29\", \"method\": \"animate\"}, {\"args\": [[\"2020-03-01\"], {\"frame\": {\"duration\": 0, \"redraw\": true}, \"fromcurrent\": true, \"mode\": \"immediate\", \"transition\": {\"duration\": 0, \"easing\": \"linear\"}}], \"label\": \"2020-03-01\", \"method\": \"animate\"}, {\"args\": [[\"2020-03-02\"], {\"frame\": {\"duration\": 0, \"redraw\": true}, \"fromcurrent\": true, \"mode\": \"immediate\", \"transition\": {\"duration\": 0, \"easing\": \"linear\"}}], \"label\": \"2020-03-02\", \"method\": \"animate\"}, {\"args\": [[\"2020-03-03\"], {\"frame\": {\"duration\": 0, \"redraw\": true}, \"fromcurrent\": true, \"mode\": \"immediate\", \"transition\": {\"duration\": 0, \"easing\": \"linear\"}}], \"label\": \"2020-03-03\", \"method\": \"animate\"}, {\"args\": [[\"2020-03-04\"], {\"frame\": {\"duration\": 0, \"redraw\": true}, \"fromcurrent\": true, \"mode\": \"immediate\", \"transition\": {\"duration\": 0, \"easing\": \"linear\"}}], \"label\": \"2020-03-04\", \"method\": \"animate\"}, {\"args\": [[\"2020-03-05\"], {\"frame\": {\"duration\": 0, \"redraw\": true}, \"fromcurrent\": true, \"mode\": \"immediate\", \"transition\": {\"duration\": 0, \"easing\": \"linear\"}}], \"label\": \"2020-03-05\", \"method\": \"animate\"}, {\"args\": [[\"2020-03-06\"], {\"frame\": {\"duration\": 0, \"redraw\": true}, \"fromcurrent\": true, \"mode\": \"immediate\", \"transition\": {\"duration\": 0, \"easing\": \"linear\"}}], \"label\": \"2020-03-06\", \"method\": \"animate\"}, {\"args\": [[\"2020-03-07\"], {\"frame\": {\"duration\": 0, \"redraw\": true}, \"fromcurrent\": true, \"mode\": \"immediate\", \"transition\": {\"duration\": 0, \"easing\": \"linear\"}}], \"label\": \"2020-03-07\", \"method\": \"animate\"}, {\"args\": [[\"2020-03-08\"], {\"frame\": {\"duration\": 0, \"redraw\": true}, \"fromcurrent\": true, \"mode\": \"immediate\", \"transition\": {\"duration\": 0, \"easing\": \"linear\"}}], \"label\": \"2020-03-08\", \"method\": \"animate\"}, {\"args\": [[\"2020-03-09\"], {\"frame\": {\"duration\": 0, \"redraw\": true}, \"fromcurrent\": true, \"mode\": \"immediate\", \"transition\": {\"duration\": 0, \"easing\": \"linear\"}}], \"label\": \"2020-03-09\", \"method\": \"animate\"}, {\"args\": [[\"2020-03-10\"], {\"frame\": {\"duration\": 0, \"redraw\": true}, \"fromcurrent\": true, \"mode\": \"immediate\", \"transition\": {\"duration\": 0, \"easing\": \"linear\"}}], \"label\": \"2020-03-10\", \"method\": \"animate\"}, {\"args\": [[\"2020-03-11\"], {\"frame\": {\"duration\": 0, \"redraw\": true}, \"fromcurrent\": true, \"mode\": \"immediate\", \"transition\": {\"duration\": 0, \"easing\": \"linear\"}}], \"label\": \"2020-03-11\", \"method\": \"animate\"}, {\"args\": [[\"2020-03-12\"], {\"frame\": {\"duration\": 0, \"redraw\": true}, \"fromcurrent\": true, \"mode\": \"immediate\", \"transition\": {\"duration\": 0, \"easing\": \"linear\"}}], \"label\": \"2020-03-12\", \"method\": \"animate\"}, {\"args\": [[\"2020-03-13\"], {\"frame\": {\"duration\": 0, \"redraw\": true}, \"fromcurrent\": true, \"mode\": \"immediate\", \"transition\": {\"duration\": 0, \"easing\": \"linear\"}}], \"label\": \"2020-03-13\", \"method\": \"animate\"}, {\"args\": [[\"2020-03-14\"], {\"frame\": {\"duration\": 0, \"redraw\": true}, \"fromcurrent\": true, \"mode\": \"immediate\", \"transition\": {\"duration\": 0, \"easing\": \"linear\"}}], \"label\": \"2020-03-14\", \"method\": \"animate\"}, {\"args\": [[\"2020-03-15\"], {\"frame\": {\"duration\": 0, \"redraw\": true}, \"fromcurrent\": true, \"mode\": \"immediate\", \"transition\": {\"duration\": 0, \"easing\": \"linear\"}}], \"label\": \"2020-03-15\", \"method\": \"animate\"}, {\"args\": [[\"2020-03-16\"], {\"frame\": {\"duration\": 0, \"redraw\": true}, \"fromcurrent\": true, \"mode\": \"immediate\", \"transition\": {\"duration\": 0, \"easing\": \"linear\"}}], \"label\": \"2020-03-16\", \"method\": \"animate\"}, {\"args\": [[\"2020-03-17\"], {\"frame\": {\"duration\": 0, \"redraw\": true}, \"fromcurrent\": true, \"mode\": \"immediate\", \"transition\": {\"duration\": 0, \"easing\": \"linear\"}}], \"label\": \"2020-03-17\", \"method\": \"animate\"}, {\"args\": [[\"2020-03-18\"], {\"frame\": {\"duration\": 0, \"redraw\": true}, \"fromcurrent\": true, \"mode\": \"immediate\", \"transition\": {\"duration\": 0, \"easing\": \"linear\"}}], \"label\": \"2020-03-18\", \"method\": \"animate\"}, {\"args\": [[\"2020-03-19\"], {\"frame\": {\"duration\": 0, \"redraw\": true}, \"fromcurrent\": true, \"mode\": \"immediate\", \"transition\": {\"duration\": 0, \"easing\": \"linear\"}}], \"label\": \"2020-03-19\", \"method\": \"animate\"}, {\"args\": [[\"2020-03-20\"], {\"frame\": {\"duration\": 0, \"redraw\": true}, \"fromcurrent\": true, \"mode\": \"immediate\", \"transition\": {\"duration\": 0, \"easing\": \"linear\"}}], \"label\": \"2020-03-20\", \"method\": \"animate\"}, {\"args\": [[\"2020-03-21\"], {\"frame\": {\"duration\": 0, \"redraw\": true}, \"fromcurrent\": true, \"mode\": \"immediate\", \"transition\": {\"duration\": 0, \"easing\": \"linear\"}}], \"label\": \"2020-03-21\", \"method\": \"animate\"}, {\"args\": [[\"2020-03-22\"], {\"frame\": {\"duration\": 0, \"redraw\": true}, \"fromcurrent\": true, \"mode\": \"immediate\", \"transition\": {\"duration\": 0, \"easing\": \"linear\"}}], \"label\": \"2020-03-22\", \"method\": \"animate\"}, {\"args\": [[\"2020-03-23\"], {\"frame\": {\"duration\": 0, \"redraw\": true}, \"fromcurrent\": true, \"mode\": \"immediate\", \"transition\": {\"duration\": 0, \"easing\": \"linear\"}}], \"label\": \"2020-03-23\", \"method\": \"animate\"}, {\"args\": [[\"2020-03-24\"], {\"frame\": {\"duration\": 0, \"redraw\": true}, \"fromcurrent\": true, \"mode\": \"immediate\", \"transition\": {\"duration\": 0, \"easing\": \"linear\"}}], \"label\": \"2020-03-24\", \"method\": \"animate\"}, {\"args\": [[\"2020-03-25\"], {\"frame\": {\"duration\": 0, \"redraw\": true}, \"fromcurrent\": true, \"mode\": \"immediate\", \"transition\": {\"duration\": 0, \"easing\": \"linear\"}}], \"label\": \"2020-03-25\", \"method\": \"animate\"}, {\"args\": [[\"2020-03-26\"], {\"frame\": {\"duration\": 0, \"redraw\": true}, \"fromcurrent\": true, \"mode\": \"immediate\", \"transition\": {\"duration\": 0, \"easing\": \"linear\"}}], \"label\": \"2020-03-26\", \"method\": \"animate\"}, {\"args\": [[\"2020-03-27\"], {\"frame\": {\"duration\": 0, \"redraw\": true}, \"fromcurrent\": true, \"mode\": \"immediate\", \"transition\": {\"duration\": 0, \"easing\": \"linear\"}}], \"label\": \"2020-03-27\", \"method\": \"animate\"}, {\"args\": [[\"2020-03-28\"], {\"frame\": {\"duration\": 0, \"redraw\": true}, \"fromcurrent\": true, \"mode\": \"immediate\", \"transition\": {\"duration\": 0, \"easing\": \"linear\"}}], \"label\": \"2020-03-28\", \"method\": \"animate\"}, {\"args\": [[\"2020-03-29\"], {\"frame\": {\"duration\": 0, \"redraw\": true}, \"fromcurrent\": true, \"mode\": \"immediate\", \"transition\": {\"duration\": 0, \"easing\": \"linear\"}}], \"label\": \"2020-03-29\", \"method\": \"animate\"}, {\"args\": [[\"2020-03-30\"], {\"frame\": {\"duration\": 0, \"redraw\": true}, \"fromcurrent\": true, \"mode\": \"immediate\", \"transition\": {\"duration\": 0, \"easing\": \"linear\"}}], \"label\": \"2020-03-30\", \"method\": \"animate\"}, {\"args\": [[\"2020-03-31\"], {\"frame\": {\"duration\": 0, \"redraw\": true}, \"fromcurrent\": true, \"mode\": \"immediate\", \"transition\": {\"duration\": 0, \"easing\": \"linear\"}}], \"label\": \"2020-03-31\", \"method\": \"animate\"}, {\"args\": [[\"2020-04-01\"], {\"frame\": {\"duration\": 0, \"redraw\": true}, \"fromcurrent\": true, \"mode\": \"immediate\", \"transition\": {\"duration\": 0, \"easing\": \"linear\"}}], \"label\": \"2020-04-01\", \"method\": \"animate\"}, {\"args\": [[\"2020-04-02\"], {\"frame\": {\"duration\": 0, \"redraw\": true}, \"fromcurrent\": true, \"mode\": \"immediate\", \"transition\": {\"duration\": 0, \"easing\": \"linear\"}}], \"label\": \"2020-04-02\", \"method\": \"animate\"}, {\"args\": [[\"2020-04-03\"], {\"frame\": {\"duration\": 0, \"redraw\": true}, \"fromcurrent\": true, \"mode\": \"immediate\", \"transition\": {\"duration\": 0, \"easing\": \"linear\"}}], \"label\": \"2020-04-03\", \"method\": \"animate\"}, {\"args\": [[\"2020-04-04\"], {\"frame\": {\"duration\": 0, \"redraw\": true}, \"fromcurrent\": true, \"mode\": \"immediate\", \"transition\": {\"duration\": 0, \"easing\": \"linear\"}}], \"label\": \"2020-04-04\", \"method\": \"animate\"}, {\"args\": [[\"2020-04-05\"], {\"frame\": {\"duration\": 0, \"redraw\": true}, \"fromcurrent\": true, \"mode\": \"immediate\", \"transition\": {\"duration\": 0, \"easing\": \"linear\"}}], \"label\": \"2020-04-05\", \"method\": \"animate\"}, {\"args\": [[\"2020-04-06\"], {\"frame\": {\"duration\": 0, \"redraw\": true}, \"fromcurrent\": true, \"mode\": \"immediate\", \"transition\": {\"duration\": 0, \"easing\": \"linear\"}}], \"label\": \"2020-04-06\", \"method\": \"animate\"}, {\"args\": [[\"2020-04-07\"], {\"frame\": {\"duration\": 0, \"redraw\": true}, \"fromcurrent\": true, \"mode\": \"immediate\", \"transition\": {\"duration\": 0, \"easing\": \"linear\"}}], \"label\": \"2020-04-07\", \"method\": \"animate\"}, {\"args\": [[\"2020-04-08\"], {\"frame\": {\"duration\": 0, \"redraw\": true}, \"fromcurrent\": true, \"mode\": \"immediate\", \"transition\": {\"duration\": 0, \"easing\": \"linear\"}}], \"label\": \"2020-04-08\", \"method\": \"animate\"}, {\"args\": [[\"2020-04-09\"], {\"frame\": {\"duration\": 0, \"redraw\": true}, \"fromcurrent\": true, \"mode\": \"immediate\", \"transition\": {\"duration\": 0, \"easing\": \"linear\"}}], \"label\": \"2020-04-09\", \"method\": \"animate\"}, {\"args\": [[\"2020-04-10\"], {\"frame\": {\"duration\": 0, \"redraw\": true}, \"fromcurrent\": true, \"mode\": \"immediate\", \"transition\": {\"duration\": 0, \"easing\": \"linear\"}}], \"label\": \"2020-04-10\", \"method\": \"animate\"}, {\"args\": [[\"2020-04-11\"], {\"frame\": {\"duration\": 0, \"redraw\": true}, \"fromcurrent\": true, \"mode\": \"immediate\", \"transition\": {\"duration\": 0, \"easing\": \"linear\"}}], \"label\": \"2020-04-11\", \"method\": \"animate\"}, {\"args\": [[\"2020-04-12\"], {\"frame\": {\"duration\": 0, \"redraw\": true}, \"fromcurrent\": true, \"mode\": \"immediate\", \"transition\": {\"duration\": 0, \"easing\": \"linear\"}}], \"label\": \"2020-04-12\", \"method\": \"animate\"}, {\"args\": [[\"2020-04-13\"], {\"frame\": {\"duration\": 0, \"redraw\": true}, \"fromcurrent\": true, \"mode\": \"immediate\", \"transition\": {\"duration\": 0, \"easing\": \"linear\"}}], \"label\": \"2020-04-13\", \"method\": \"animate\"}, {\"args\": [[\"2020-04-14\"], {\"frame\": {\"duration\": 0, \"redraw\": true}, \"fromcurrent\": true, \"mode\": \"immediate\", \"transition\": {\"duration\": 0, \"easing\": \"linear\"}}], \"label\": \"2020-04-14\", \"method\": \"animate\"}, {\"args\": [[\"2020-04-15\"], {\"frame\": {\"duration\": 0, \"redraw\": true}, \"fromcurrent\": true, \"mode\": \"immediate\", \"transition\": {\"duration\": 0, \"easing\": \"linear\"}}], \"label\": \"2020-04-15\", \"method\": \"animate\"}, {\"args\": [[\"2020-04-16\"], {\"frame\": {\"duration\": 0, \"redraw\": true}, \"fromcurrent\": true, \"mode\": \"immediate\", \"transition\": {\"duration\": 0, \"easing\": \"linear\"}}], \"label\": \"2020-04-16\", \"method\": \"animate\"}, {\"args\": [[\"2020-04-17\"], {\"frame\": {\"duration\": 0, \"redraw\": true}, \"fromcurrent\": true, \"mode\": \"immediate\", \"transition\": {\"duration\": 0, \"easing\": \"linear\"}}], \"label\": \"2020-04-17\", \"method\": \"animate\"}, {\"args\": [[\"2020-04-18\"], {\"frame\": {\"duration\": 0, \"redraw\": true}, \"fromcurrent\": true, \"mode\": \"immediate\", \"transition\": {\"duration\": 0, \"easing\": \"linear\"}}], \"label\": \"2020-04-18\", \"method\": \"animate\"}, {\"args\": [[\"2020-04-19\"], {\"frame\": {\"duration\": 0, \"redraw\": true}, \"fromcurrent\": true, \"mode\": \"immediate\", \"transition\": {\"duration\": 0, \"easing\": \"linear\"}}], \"label\": \"2020-04-19\", \"method\": \"animate\"}, {\"args\": [[\"2020-04-20\"], {\"frame\": {\"duration\": 0, \"redraw\": true}, \"fromcurrent\": true, \"mode\": \"immediate\", \"transition\": {\"duration\": 0, \"easing\": \"linear\"}}], \"label\": \"2020-04-20\", \"method\": \"animate\"}, {\"args\": [[\"2020-04-21\"], {\"frame\": {\"duration\": 0, \"redraw\": true}, \"fromcurrent\": true, \"mode\": \"immediate\", \"transition\": {\"duration\": 0, \"easing\": \"linear\"}}], \"label\": \"2020-04-21\", \"method\": \"animate\"}, {\"args\": [[\"2020-04-22\"], {\"frame\": {\"duration\": 0, \"redraw\": true}, \"fromcurrent\": true, \"mode\": \"immediate\", \"transition\": {\"duration\": 0, \"easing\": \"linear\"}}], \"label\": \"2020-04-22\", \"method\": \"animate\"}, {\"args\": [[\"2020-04-23\"], {\"frame\": {\"duration\": 0, \"redraw\": true}, \"fromcurrent\": true, \"mode\": \"immediate\", \"transition\": {\"duration\": 0, \"easing\": \"linear\"}}], \"label\": \"2020-04-23\", \"method\": \"animate\"}, {\"args\": [[\"2020-04-24\"], {\"frame\": {\"duration\": 0, \"redraw\": true}, \"fromcurrent\": true, \"mode\": \"immediate\", \"transition\": {\"duration\": 0, \"easing\": \"linear\"}}], \"label\": \"2020-04-24\", \"method\": \"animate\"}, {\"args\": [[\"2020-04-25\"], {\"frame\": {\"duration\": 0, \"redraw\": true}, \"fromcurrent\": true, \"mode\": \"immediate\", \"transition\": {\"duration\": 0, \"easing\": \"linear\"}}], \"label\": \"2020-04-25\", \"method\": \"animate\"}, {\"args\": [[\"2020-04-26\"], {\"frame\": {\"duration\": 0, \"redraw\": true}, \"fromcurrent\": true, \"mode\": \"immediate\", \"transition\": {\"duration\": 0, \"easing\": \"linear\"}}], \"label\": \"2020-04-26\", \"method\": \"animate\"}, {\"args\": [[\"2020-04-27\"], {\"frame\": {\"duration\": 0, \"redraw\": true}, \"fromcurrent\": true, \"mode\": \"immediate\", \"transition\": {\"duration\": 0, \"easing\": \"linear\"}}], \"label\": \"2020-04-27\", \"method\": \"animate\"}, {\"args\": [[\"2020-04-28\"], {\"frame\": {\"duration\": 0, \"redraw\": true}, \"fromcurrent\": true, \"mode\": \"immediate\", \"transition\": {\"duration\": 0, \"easing\": \"linear\"}}], \"label\": \"2020-04-28\", \"method\": \"animate\"}, {\"args\": [[\"2020-04-29\"], {\"frame\": {\"duration\": 0, \"redraw\": true}, \"fromcurrent\": true, \"mode\": \"immediate\", \"transition\": {\"duration\": 0, \"easing\": \"linear\"}}], \"label\": \"2020-04-29\", \"method\": \"animate\"}, {\"args\": [[\"2020-04-30\"], {\"frame\": {\"duration\": 0, \"redraw\": true}, \"fromcurrent\": true, \"mode\": \"immediate\", \"transition\": {\"duration\": 0, \"easing\": \"linear\"}}], \"label\": \"2020-04-30\", \"method\": \"animate\"}, {\"args\": [[\"2020-05-01\"], {\"frame\": {\"duration\": 0, \"redraw\": true}, \"fromcurrent\": true, \"mode\": \"immediate\", \"transition\": {\"duration\": 0, \"easing\": \"linear\"}}], \"label\": \"2020-05-01\", \"method\": \"animate\"}, {\"args\": [[\"2020-05-02\"], {\"frame\": {\"duration\": 0, \"redraw\": true}, \"fromcurrent\": true, \"mode\": \"immediate\", \"transition\": {\"duration\": 0, \"easing\": \"linear\"}}], \"label\": \"2020-05-02\", \"method\": \"animate\"}, {\"args\": [[\"2020-05-03\"], {\"frame\": {\"duration\": 0, \"redraw\": true}, \"fromcurrent\": true, \"mode\": \"immediate\", \"transition\": {\"duration\": 0, \"easing\": \"linear\"}}], \"label\": \"2020-05-03\", \"method\": \"animate\"}, {\"args\": [[\"2020-05-04\"], {\"frame\": {\"duration\": 0, \"redraw\": true}, \"fromcurrent\": true, \"mode\": \"immediate\", \"transition\": {\"duration\": 0, \"easing\": \"linear\"}}], \"label\": \"2020-05-04\", \"method\": \"animate\"}, {\"args\": [[\"2020-05-05\"], {\"frame\": {\"duration\": 0, \"redraw\": true}, \"fromcurrent\": true, \"mode\": \"immediate\", \"transition\": {\"duration\": 0, \"easing\": \"linear\"}}], \"label\": \"2020-05-05\", \"method\": \"animate\"}, {\"args\": [[\"2020-05-06\"], {\"frame\": {\"duration\": 0, \"redraw\": true}, \"fromcurrent\": true, \"mode\": \"immediate\", \"transition\": {\"duration\": 0, \"easing\": \"linear\"}}], \"label\": \"2020-05-06\", \"method\": \"animate\"}, {\"args\": [[\"2020-05-07\"], {\"frame\": {\"duration\": 0, \"redraw\": true}, \"fromcurrent\": true, \"mode\": \"immediate\", \"transition\": {\"duration\": 0, \"easing\": \"linear\"}}], \"label\": \"2020-05-07\", \"method\": \"animate\"}, {\"args\": [[\"2020-05-08\"], {\"frame\": {\"duration\": 0, \"redraw\": true}, \"fromcurrent\": true, \"mode\": \"immediate\", \"transition\": {\"duration\": 0, \"easing\": \"linear\"}}], \"label\": \"2020-05-08\", \"method\": \"animate\"}, {\"args\": [[\"2020-05-09\"], {\"frame\": {\"duration\": 0, \"redraw\": true}, \"fromcurrent\": true, \"mode\": \"immediate\", \"transition\": {\"duration\": 0, \"easing\": \"linear\"}}], \"label\": \"2020-05-09\", \"method\": \"animate\"}, {\"args\": [[\"2020-05-10\"], {\"frame\": {\"duration\": 0, \"redraw\": true}, \"fromcurrent\": true, \"mode\": \"immediate\", \"transition\": {\"duration\": 0, \"easing\": \"linear\"}}], \"label\": \"2020-05-10\", \"method\": \"animate\"}, {\"args\": [[\"2020-05-11\"], {\"frame\": {\"duration\": 0, \"redraw\": true}, \"fromcurrent\": true, \"mode\": \"immediate\", \"transition\": {\"duration\": 0, \"easing\": \"linear\"}}], \"label\": \"2020-05-11\", \"method\": \"animate\"}, {\"args\": [[\"2020-05-12\"], {\"frame\": {\"duration\": 0, \"redraw\": true}, \"fromcurrent\": true, \"mode\": \"immediate\", \"transition\": {\"duration\": 0, \"easing\": \"linear\"}}], \"label\": \"2020-05-12\", \"method\": \"animate\"}, {\"args\": [[\"2020-05-13\"], {\"frame\": {\"duration\": 0, \"redraw\": true}, \"fromcurrent\": true, \"mode\": \"immediate\", \"transition\": {\"duration\": 0, \"easing\": \"linear\"}}], \"label\": \"2020-05-13\", \"method\": \"animate\"}, {\"args\": [[\"2020-05-14\"], {\"frame\": {\"duration\": 0, \"redraw\": true}, \"fromcurrent\": true, \"mode\": \"immediate\", \"transition\": {\"duration\": 0, \"easing\": \"linear\"}}], \"label\": \"2020-05-14\", \"method\": \"animate\"}, {\"args\": [[\"2020-05-15\"], {\"frame\": {\"duration\": 0, \"redraw\": true}, \"fromcurrent\": true, \"mode\": \"immediate\", \"transition\": {\"duration\": 0, \"easing\": \"linear\"}}], \"label\": \"2020-05-15\", \"method\": \"animate\"}, {\"args\": [[\"2020-05-16\"], {\"frame\": {\"duration\": 0, \"redraw\": true}, \"fromcurrent\": true, \"mode\": \"immediate\", \"transition\": {\"duration\": 0, \"easing\": \"linear\"}}], \"label\": \"2020-05-16\", \"method\": \"animate\"}, {\"args\": [[\"2020-05-17\"], {\"frame\": {\"duration\": 0, \"redraw\": true}, \"fromcurrent\": true, \"mode\": \"immediate\", \"transition\": {\"duration\": 0, \"easing\": \"linear\"}}], \"label\": \"2020-05-17\", \"method\": \"animate\"}, {\"args\": [[\"2020-05-18\"], {\"frame\": {\"duration\": 0, \"redraw\": true}, \"fromcurrent\": true, \"mode\": \"immediate\", \"transition\": {\"duration\": 0, \"easing\": \"linear\"}}], \"label\": \"2020-05-18\", \"method\": \"animate\"}, {\"args\": [[\"2020-05-19\"], {\"frame\": {\"duration\": 0, \"redraw\": true}, \"fromcurrent\": true, \"mode\": \"immediate\", \"transition\": {\"duration\": 0, \"easing\": \"linear\"}}], \"label\": \"2020-05-19\", \"method\": \"animate\"}, {\"args\": [[\"2020-05-20\"], {\"frame\": {\"duration\": 0, \"redraw\": true}, \"fromcurrent\": true, \"mode\": \"immediate\", \"transition\": {\"duration\": 0, \"easing\": \"linear\"}}], \"label\": \"2020-05-20\", \"method\": \"animate\"}, {\"args\": [[\"2020-05-21\"], {\"frame\": {\"duration\": 0, \"redraw\": true}, \"fromcurrent\": true, \"mode\": \"immediate\", \"transition\": {\"duration\": 0, \"easing\": \"linear\"}}], \"label\": \"2020-05-21\", \"method\": \"animate\"}, {\"args\": [[\"2020-05-22\"], {\"frame\": {\"duration\": 0, \"redraw\": true}, \"fromcurrent\": true, \"mode\": \"immediate\", \"transition\": {\"duration\": 0, \"easing\": \"linear\"}}], \"label\": \"2020-05-22\", \"method\": \"animate\"}, {\"args\": [[\"2020-05-23\"], {\"frame\": {\"duration\": 0, \"redraw\": true}, \"fromcurrent\": true, \"mode\": \"immediate\", \"transition\": {\"duration\": 0, \"easing\": \"linear\"}}], \"label\": \"2020-05-23\", \"method\": \"animate\"}, {\"args\": [[\"2020-05-24\"], {\"frame\": {\"duration\": 0, \"redraw\": true}, \"fromcurrent\": true, \"mode\": \"immediate\", \"transition\": {\"duration\": 0, \"easing\": \"linear\"}}], \"label\": \"2020-05-24\", \"method\": \"animate\"}, {\"args\": [[\"2020-05-25\"], {\"frame\": {\"duration\": 0, \"redraw\": true}, \"fromcurrent\": true, \"mode\": \"immediate\", \"transition\": {\"duration\": 0, \"easing\": \"linear\"}}], \"label\": \"2020-05-25\", \"method\": \"animate\"}], \"x\": 0.1, \"xanchor\": \"left\", \"y\": 0, \"yanchor\": \"top\"}], \"template\": {\"data\": {\"bar\": [{\"error_x\": {\"color\": \"#2a3f5f\"}, \"error_y\": {\"color\": \"#2a3f5f\"}, \"marker\": {\"line\": {\"color\": \"#E5ECF6\", \"width\": 0.5}}, \"type\": \"bar\"}], \"barpolar\": [{\"marker\": {\"line\": {\"color\": \"#E5ECF6\", \"width\": 0.5}}, \"type\": \"barpolar\"}], \"carpet\": [{\"aaxis\": {\"endlinecolor\": \"#2a3f5f\", \"gridcolor\": \"white\", \"linecolor\": \"white\", \"minorgridcolor\": \"white\", \"startlinecolor\": \"#2a3f5f\"}, \"baxis\": {\"endlinecolor\": \"#2a3f5f\", \"gridcolor\": \"white\", \"linecolor\": \"white\", \"minorgridcolor\": \"white\", \"startlinecolor\": \"#2a3f5f\"}, \"type\": \"carpet\"}], \"choropleth\": [{\"colorbar\": {\"outlinewidth\": 0, \"ticks\": \"\"}, \"type\": \"choropleth\"}], \"contour\": [{\"colorbar\": {\"outlinewidth\": 0, \"ticks\": \"\"}, \"colorscale\": [[0.0, \"#0d0887\"], [0.1111111111111111, \"#46039f\"], [0.2222222222222222, \"#7201a8\"], [0.3333333333333333, \"#9c179e\"], [0.4444444444444444, \"#bd3786\"], [0.5555555555555556, \"#d8576b\"], [0.6666666666666666, \"#ed7953\"], [0.7777777777777778, \"#fb9f3a\"], [0.8888888888888888, \"#fdca26\"], [1.0, \"#f0f921\"]], \"type\": \"contour\"}], \"contourcarpet\": [{\"colorbar\": {\"outlinewidth\": 0, \"ticks\": \"\"}, \"type\": \"contourcarpet\"}], \"heatmap\": [{\"colorbar\": {\"outlinewidth\": 0, \"ticks\": \"\"}, \"colorscale\": [[0.0, \"#0d0887\"], [0.1111111111111111, \"#46039f\"], [0.2222222222222222, \"#7201a8\"], [0.3333333333333333, \"#9c179e\"], [0.4444444444444444, \"#bd3786\"], [0.5555555555555556, \"#d8576b\"], [0.6666666666666666, \"#ed7953\"], [0.7777777777777778, \"#fb9f3a\"], [0.8888888888888888, \"#fdca26\"], [1.0, \"#f0f921\"]], \"type\": \"heatmap\"}], \"heatmapgl\": [{\"colorbar\": {\"outlinewidth\": 0, \"ticks\": \"\"}, \"colorscale\": [[0.0, \"#0d0887\"], [0.1111111111111111, \"#46039f\"], [0.2222222222222222, \"#7201a8\"], [0.3333333333333333, \"#9c179e\"], [0.4444444444444444, \"#bd3786\"], [0.5555555555555556, \"#d8576b\"], [0.6666666666666666, \"#ed7953\"], [0.7777777777777778, \"#fb9f3a\"], [0.8888888888888888, \"#fdca26\"], [1.0, \"#f0f921\"]], \"type\": \"heatmapgl\"}], \"histogram\": [{\"marker\": {\"colorbar\": {\"outlinewidth\": 0, \"ticks\": \"\"}}, \"type\": \"histogram\"}], \"histogram2d\": [{\"colorbar\": {\"outlinewidth\": 0, \"ticks\": \"\"}, \"colorscale\": [[0.0, \"#0d0887\"], [0.1111111111111111, \"#46039f\"], [0.2222222222222222, \"#7201a8\"], [0.3333333333333333, \"#9c179e\"], [0.4444444444444444, \"#bd3786\"], [0.5555555555555556, \"#d8576b\"], [0.6666666666666666, \"#ed7953\"], [0.7777777777777778, \"#fb9f3a\"], [0.8888888888888888, \"#fdca26\"], [1.0, \"#f0f921\"]], \"type\": \"histogram2d\"}], \"histogram2dcontour\": [{\"colorbar\": {\"outlinewidth\": 0, \"ticks\": \"\"}, \"colorscale\": [[0.0, \"#0d0887\"], [0.1111111111111111, \"#46039f\"], [0.2222222222222222, \"#7201a8\"], [0.3333333333333333, \"#9c179e\"], [0.4444444444444444, \"#bd3786\"], [0.5555555555555556, \"#d8576b\"], [0.6666666666666666, \"#ed7953\"], [0.7777777777777778, \"#fb9f3a\"], [0.8888888888888888, \"#fdca26\"], [1.0, \"#f0f921\"]], \"type\": \"histogram2dcontour\"}], \"mesh3d\": [{\"colorbar\": {\"outlinewidth\": 0, \"ticks\": \"\"}, \"type\": \"mesh3d\"}], \"parcoords\": [{\"line\": {\"colorbar\": {\"outlinewidth\": 0, \"ticks\": \"\"}}, \"type\": \"parcoords\"}], \"pie\": [{\"automargin\": true, \"type\": \"pie\"}], \"scatter\": [{\"marker\": {\"colorbar\": {\"outlinewidth\": 0, \"ticks\": \"\"}}, \"type\": \"scatter\"}], \"scatter3d\": [{\"line\": {\"colorbar\": {\"outlinewidth\": 0, \"ticks\": \"\"}}, \"marker\": {\"colorbar\": {\"outlinewidth\": 0, \"ticks\": \"\"}}, \"type\": \"scatter3d\"}], \"scattercarpet\": [{\"marker\": {\"colorbar\": {\"outlinewidth\": 0, \"ticks\": \"\"}}, \"type\": \"scattercarpet\"}], \"scattergeo\": [{\"marker\": {\"colorbar\": {\"outlinewidth\": 0, \"ticks\": \"\"}}, \"type\": \"scattergeo\"}], \"scattergl\": [{\"marker\": {\"colorbar\": {\"outlinewidth\": 0, \"ticks\": \"\"}}, \"type\": \"scattergl\"}], \"scattermapbox\": [{\"marker\": {\"colorbar\": {\"outlinewidth\": 0, \"ticks\": \"\"}}, \"type\": \"scattermapbox\"}], \"scatterpolar\": [{\"marker\": {\"colorbar\": {\"outlinewidth\": 0, \"ticks\": \"\"}}, \"type\": \"scatterpolar\"}], \"scatterpolargl\": [{\"marker\": {\"colorbar\": {\"outlinewidth\": 0, \"ticks\": \"\"}}, \"type\": \"scatterpolargl\"}], \"scatterternary\": [{\"marker\": {\"colorbar\": {\"outlinewidth\": 0, \"ticks\": \"\"}}, \"type\": \"scatterternary\"}], \"surface\": [{\"colorbar\": {\"outlinewidth\": 0, \"ticks\": \"\"}, \"colorscale\": [[0.0, \"#0d0887\"], [0.1111111111111111, \"#46039f\"], [0.2222222222222222, \"#7201a8\"], [0.3333333333333333, \"#9c179e\"], [0.4444444444444444, \"#bd3786\"], [0.5555555555555556, \"#d8576b\"], [0.6666666666666666, \"#ed7953\"], [0.7777777777777778, \"#fb9f3a\"], [0.8888888888888888, \"#fdca26\"], [1.0, \"#f0f921\"]], \"type\": \"surface\"}], \"table\": [{\"cells\": {\"fill\": {\"color\": \"#EBF0F8\"}, \"line\": {\"color\": \"white\"}}, \"header\": {\"fill\": {\"color\": \"#C8D4E3\"}, \"line\": {\"color\": \"white\"}}, \"type\": \"table\"}]}, \"layout\": {\"annotationdefaults\": {\"arrowcolor\": \"#2a3f5f\", \"arrowhead\": 0, \"arrowwidth\": 1}, \"coloraxis\": {\"colorbar\": {\"outlinewidth\": 0, \"ticks\": \"\"}}, \"colorscale\": {\"diverging\": [[0, \"#8e0152\"], [0.1, \"#c51b7d\"], [0.2, \"#de77ae\"], [0.3, \"#f1b6da\"], [0.4, \"#fde0ef\"], [0.5, \"#f7f7f7\"], [0.6, \"#e6f5d0\"], [0.7, \"#b8e186\"], [0.8, \"#7fbc41\"], [0.9, \"#4d9221\"], [1, \"#276419\"]], \"sequential\": [[0.0, \"#0d0887\"], [0.1111111111111111, \"#46039f\"], [0.2222222222222222, \"#7201a8\"], [0.3333333333333333, \"#9c179e\"], [0.4444444444444444, \"#bd3786\"], [0.5555555555555556, \"#d8576b\"], [0.6666666666666666, \"#ed7953\"], [0.7777777777777778, \"#fb9f3a\"], [0.8888888888888888, \"#fdca26\"], [1.0, \"#f0f921\"]], \"sequentialminus\": [[0.0, \"#0d0887\"], [0.1111111111111111, \"#46039f\"], [0.2222222222222222, \"#7201a8\"], [0.3333333333333333, \"#9c179e\"], [0.4444444444444444, \"#bd3786\"], [0.5555555555555556, \"#d8576b\"], [0.6666666666666666, \"#ed7953\"], [0.7777777777777778, \"#fb9f3a\"], [0.8888888888888888, \"#fdca26\"], [1.0, \"#f0f921\"]]}, \"colorway\": [\"#636efa\", \"#EF553B\", \"#00cc96\", \"#ab63fa\", \"#FFA15A\", \"#19d3f3\", \"#FF6692\", \"#B6E880\", \"#FF97FF\", \"#FECB52\"], \"font\": {\"color\": \"#2a3f5f\"}, \"geo\": {\"bgcolor\": \"white\", \"lakecolor\": \"white\", \"landcolor\": \"#E5ECF6\", \"showlakes\": true, \"showland\": true, \"subunitcolor\": \"white\"}, \"hoverlabel\": {\"align\": \"left\"}, \"hovermode\": \"closest\", \"mapbox\": {\"style\": \"light\"}, \"paper_bgcolor\": \"white\", \"plot_bgcolor\": \"#E5ECF6\", \"polar\": {\"angularaxis\": {\"gridcolor\": \"white\", \"linecolor\": \"white\", \"ticks\": \"\"}, \"bgcolor\": \"#E5ECF6\", \"radialaxis\": {\"gridcolor\": \"white\", \"linecolor\": \"white\", \"ticks\": \"\"}}, \"scene\": {\"xaxis\": {\"backgroundcolor\": \"#E5ECF6\", \"gridcolor\": \"white\", \"gridwidth\": 2, \"linecolor\": \"white\", \"showbackground\": true, \"ticks\": \"\", \"zerolinecolor\": \"white\"}, \"yaxis\": {\"backgroundcolor\": \"#E5ECF6\", \"gridcolor\": \"white\", \"gridwidth\": 2, \"linecolor\": \"white\", \"showbackground\": true, \"ticks\": \"\", \"zerolinecolor\": \"white\"}, \"zaxis\": {\"backgroundcolor\": \"#E5ECF6\", \"gridcolor\": \"white\", \"gridwidth\": 2, \"linecolor\": \"white\", \"showbackground\": true, \"ticks\": \"\", \"zerolinecolor\": \"white\"}}, \"shapedefaults\": {\"line\": {\"color\": \"#2a3f5f\"}}, \"ternary\": {\"aaxis\": {\"gridcolor\": \"white\", \"linecolor\": \"white\", \"ticks\": \"\"}, \"baxis\": {\"gridcolor\": \"white\", \"linecolor\": \"white\", \"ticks\": \"\"}, \"bgcolor\": \"#E5ECF6\", \"caxis\": {\"gridcolor\": \"white\", \"linecolor\": \"white\", \"ticks\": \"\"}}, \"title\": {\"x\": 0.05}, \"xaxis\": {\"automargin\": true, \"gridcolor\": \"white\", \"linecolor\": \"white\", \"ticks\": \"\", \"title\": {\"standoff\": 15}, \"zerolinecolor\": \"white\", \"zerolinewidth\": 2}, \"yaxis\": {\"automargin\": true, \"gridcolor\": \"white\", \"linecolor\": \"white\", \"ticks\": \"\", \"title\": {\"standoff\": 15}, \"zerolinecolor\": \"white\", \"zerolinewidth\": 2}}}, \"updatemenus\": [{\"buttons\": [{\"args\": [null, {\"frame\": {\"duration\": 500, \"redraw\": true}, \"fromcurrent\": true, \"mode\": \"immediate\", \"transition\": {\"duration\": 500, \"easing\": \"linear\"}}], \"label\": \"&#9654;\", \"method\": \"animate\"}, {\"args\": [[null], {\"frame\": {\"duration\": 0, \"redraw\": true}, \"fromcurrent\": true, \"mode\": \"immediate\", \"transition\": {\"duration\": 0, \"easing\": \"linear\"}}], \"label\": \"&#9724;\", \"method\": \"animate\"}], \"direction\": \"left\", \"pad\": {\"r\": 10, \"t\": 70}, \"showactive\": false, \"type\": \"buttons\", \"x\": 0.1, \"xanchor\": \"right\", \"y\": 0, \"yanchor\": \"top\"}]},\n",
       "                        {\"responsive\": true}\n",
       "                    ).then(function(){\n",
       "                            Plotly.addFrames('b7e051a3-98ac-4725-a13a-c7e5835c02d1', [{\"data\": [{\"coloraxis\": \"coloraxis\", \"geo\": \"geo\", \"hovertemplate\": \"<b>%{hovertext}</b><br><br>date=2020-01-04<br>iso_alpha=%{location}<br>Cases=%{z}<extra></extra>\", \"hovertext\": [\"Thailand\"], \"locations\": [\"THA\"], \"name\": \"\", \"z\": [52.0], \"type\": \"choropleth\"}], \"name\": \"2020-01-04\"}, {\"data\": [{\"coloraxis\": \"coloraxis\", \"geo\": \"geo\", \"hovertemplate\": \"<b>%{hovertext}</b><br><br>date=2020-01-05<br>iso_alpha=%{location}<br>Cases=%{z}<extra></extra>\", \"hovertext\": [\"Thailand\"], \"locations\": [\"THA\"], \"name\": \"\", \"z\": [6.0], \"type\": \"choropleth\"}], \"name\": \"2020-01-05\"}, {\"data\": [{\"coloraxis\": \"coloraxis\", \"geo\": \"geo\", \"hovertemplate\": \"<b>%{hovertext}</b><br><br>date=2020-01-15<br>iso_alpha=%{location}<br>Cases=%{z}<extra></extra>\", \"hovertext\": [\"Japan\"], \"locations\": [\"JPN\"], \"name\": \"\", \"z\": [1.0], \"type\": \"choropleth\"}], \"name\": \"2020-01-15\"}, {\"data\": [{\"coloraxis\": \"coloraxis\", \"geo\": \"geo\", \"hovertemplate\": \"<b>%{hovertext}</b><br><br>date=2020-01-20<br>iso_alpha=%{location}<br>Cases=%{z}<extra></extra>\", \"hovertext\": [\"Korea, Republic of\"], \"locations\": [\"KOR\"], \"name\": \"\", \"z\": [1.0], \"type\": \"choropleth\"}], \"name\": \"2020-01-20\"}, {\"data\": [{\"coloraxis\": \"coloraxis\", \"geo\": \"geo\", \"hovertemplate\": \"<b>%{hovertext}</b><br><br>date=2020-01-21<br>iso_alpha=%{location}<br>Cases=%{z}<extra></extra>\", \"hovertext\": [\"United States\", \"China\"], \"locations\": [\"USA\", \"CHN\"], \"name\": \"\", \"z\": [1.0, 278.0], \"type\": \"choropleth\"}], \"name\": \"2020-01-21\"}, {\"data\": [{\"coloraxis\": \"coloraxis\", \"geo\": \"geo\", \"hovertemplate\": \"<b>%{hovertext}</b><br><br>date=2020-01-22<br>iso_alpha=%{location}<br>Cases=%{z}<extra></extra>\", \"hovertext\": [\"China\"], \"locations\": [\"CHN\"], \"name\": \"\", \"z\": [31.0], \"type\": \"choropleth\"}], \"name\": \"2020-01-22\"}, {\"data\": [{\"coloraxis\": \"coloraxis\", \"geo\": \"geo\", \"hovertemplate\": \"<b>%{hovertext}</b><br><br>date=2020-01-23<br>iso_alpha=%{location}<br>Cases=%{z}<extra></extra>\", \"hovertext\": [\"China\"], \"locations\": [\"CHN\"], \"name\": \"\", \"z\": [134.0], \"type\": \"choropleth\"}], \"name\": \"2020-01-23\"}, {\"data\": [{\"coloraxis\": \"coloraxis\", \"geo\": \"geo\", \"hovertemplate\": \"<b>%{hovertext}</b><br><br>date=2020-01-24<br>iso_alpha=%{location}<br>Cases=%{z}<extra></extra>\", \"hovertext\": [\"United States\", \"Korea, Republic of\", \"China\", \"Japan\"], \"locations\": [\"USA\", \"KOR\", \"CHN\", \"JPN\"], \"name\": \"\", \"z\": [1.0, 1.0, 8.0, 1.0], \"type\": \"choropleth\"}], \"name\": \"2020-01-24\"}, {\"data\": [{\"coloraxis\": \"coloraxis\", \"geo\": \"geo\", \"hovertemplate\": \"<b>%{hovertext}</b><br><br>date=2020-01-25<br>iso_alpha=%{location}<br>Cases=%{z}<extra></extra>\", \"hovertext\": [\"China\", \"Japan\", \"United States\", \"Canada\", \"Australia\"], \"locations\": [\"CHN\", \"JPN\", \"USA\", \"CAN\", \"AUS\"], \"name\": \"\", \"z\": [5.0, 1.0, 1.0, 1.0, 4.0], \"type\": \"choropleth\"}], \"name\": \"2020-01-25\"}, {\"data\": [{\"coloraxis\": \"coloraxis\", \"geo\": \"geo\", \"hovertemplate\": \"<b>%{hovertext}</b><br><br>date=2020-01-26<br>iso_alpha=%{location}<br>Cases=%{z}<extra></extra>\", \"hovertext\": [\"United States\", \"Korea, Republic of\", \"Japan\"], \"locations\": [\"USA\", \"KOR\", \"JPN\"], \"name\": \"\", \"z\": [2.0, 1.0, 1.0], \"type\": \"choropleth\"}], \"name\": \"2020-01-26\"}, {\"data\": [{\"coloraxis\": \"coloraxis\", \"geo\": \"geo\", \"hovertemplate\": \"<b>%{hovertext}</b><br><br>date=2020-01-27<br>iso_alpha=%{location}<br>Cases=%{z}<extra></extra>\", \"hovertext\": [\"Korea, Republic of\", \"China\", \"Canada\", \"Australia\"], \"locations\": [\"KOR\", \"CHN\", \"CAN\", \"AUS\"], \"name\": \"\", \"z\": [1.0, 7.0, 1.0, 1.0], \"type\": \"choropleth\"}], \"name\": \"2020-01-27\"}, {\"data\": [{\"coloraxis\": \"coloraxis\", \"geo\": \"geo\", \"hovertemplate\": \"<b>%{hovertext}</b><br><br>date=2020-01-28<br>iso_alpha=%{location}<br>Cases=%{z}<extra></extra>\", \"hovertext\": [\"Canada\", \"China\", \"Japan\", \"Germany\"], \"locations\": [\"CAN\", \"CHN\", \"JPN\", \"DEU\"], \"name\": \"\", \"z\": [1.0, 5.0, 3.0, 4.0], \"type\": \"choropleth\"}], \"name\": \"2020-01-28\"}, {\"data\": [{\"coloraxis\": \"coloraxis\", \"geo\": \"geo\", \"hovertemplate\": \"<b>%{hovertext}</b><br><br>date=2020-01-29<br>iso_alpha=%{location}<br>Cases=%{z}<extra></extra>\", \"hovertext\": [\"Australia\", \"Japan\", \"China\", \"Germany\"], \"locations\": [\"AUS\", \"JPN\", \"CHN\", \"DEU\"], \"name\": \"\", \"z\": [4.0, 1.0, 1.0, 2.0], \"type\": \"choropleth\"}], \"name\": \"2020-01-29\"}, {\"data\": [{\"coloraxis\": \"coloraxis\", \"geo\": \"geo\", \"hovertemplate\": \"<b>%{hovertext}</b><br><br>date=2020-01-30<br>iso_alpha=%{location}<br>Cases=%{z}<extra></extra>\", \"hovertext\": [\"United States\", \"Korea, Republic of\", \"Japan\", \"United Kingdom\", \"China\", \"India\"], \"locations\": [\"USA\", \"KOR\", \"JPN\", \"GBR\", \"CHN\", \"IND\"], \"name\": \"\", \"z\": [1.0, 3.0, 3.0, 1.0, 2.0, 1.0], \"type\": \"choropleth\"}], \"name\": \"2020-01-30\"}, {\"data\": [{\"coloraxis\": \"coloraxis\", \"geo\": \"geo\", \"hovertemplate\": \"<b>%{hovertext}</b><br><br>date=2020-01-31<br>iso_alpha=%{location}<br>Cases=%{z}<extra></extra>\", \"hovertext\": [\"Germany\", \"Korea, Republic of\", \"Canada\", \"Japan\", \"United Kingdom\", \"China\", \"United States\"], \"locations\": [\"DEU\", \"KOR\", \"CAN\", \"JPN\", \"GBR\", \"CHN\", \"USA\"], \"name\": \"\", \"z\": [3.0, 4.0, 1.0, 1.0, 4.0, 3.0, 1.0], \"type\": \"choropleth\"}], \"name\": \"2020-01-31\"}, {\"data\": [{\"coloraxis\": \"coloraxis\", \"geo\": \"geo\", \"hovertemplate\": \"<b>%{hovertext}</b><br><br>date=2020-02-01<br>iso_alpha=%{location}<br>Cases=%{z}<extra></extra>\", \"hovertext\": [\"Korea, Republic of\", \"Australia\", \"China\", \"United States\"], \"locations\": [\"KOR\", \"AUS\", \"CHN\", \"USA\"], \"name\": \"\", \"z\": [1.0, 1.0, 11347.0, 1.0], \"type\": \"choropleth\"}], \"name\": \"2020-02-01\"}, {\"data\": [{\"coloraxis\": \"coloraxis\", \"geo\": \"geo\", \"hovertemplate\": \"<b>%{hovertext}</b><br><br>date=2020-02-02<br>iso_alpha=%{location}<br>Cases=%{z}<extra></extra>\", \"hovertext\": [\"Australia\", \"China\", \"United States\", \"India\", \"Korea, Republic of\"], \"locations\": [\"AUS\", \"CHN\", \"USA\", \"IND\", \"KOR\"], \"name\": \"\", \"z\": [2.0, 2590.0, 3.0, 1.0, 3.0], \"type\": \"choropleth\"}], \"name\": \"2020-02-02\"}, {\"data\": [{\"coloraxis\": \"coloraxis\", \"geo\": \"geo\", \"hovertemplate\": \"<b>%{hovertext}</b><br><br>date=2020-02-03<br>iso_alpha=%{location}<br>Cases=%{z}<extra></extra>\", \"hovertext\": [\"India\", \"United Kingdom\", \"Germany\", \"China\"], \"locations\": [\"IND\", \"GBR\", \"DEU\", \"CHN\"], \"name\": \"\", \"z\": [1.0, 8.0, 1.0, 2827.0], \"type\": \"choropleth\"}], \"name\": \"2020-02-03\"}, {\"data\": [{\"coloraxis\": \"coloraxis\", \"geo\": \"geo\", \"hovertemplate\": \"<b>%{hovertext}</b><br><br>date=2020-02-04<br>iso_alpha=%{location}<br>Cases=%{z}<extra></extra>\", \"hovertext\": [\"Germany\", \"Thailand\", \"Canada\", \"China\", \"Korea, Republic of\", \"Japan\", \"Australia\"], \"locations\": [\"DEU\", \"THA\", \"CAN\", \"CHN\", \"KOR\", \"JPN\", \"AUS\"], \"name\": \"\", \"z\": [5.0, 38.0, 1.0, 3233.0, 1.0, 2.0, 1.0], \"type\": \"choropleth\"}], \"name\": \"2020-02-04\"}, {\"data\": [{\"coloraxis\": \"coloraxis\", \"geo\": \"geo\", \"hovertemplate\": \"<b>%{hovertext}</b><br><br>date=2020-02-05<br>iso_alpha=%{location}<br>Cases=%{z}<extra></extra>\", \"hovertext\": [\"Korea, Republic of\", \"Japan\", \"Thailand\", \"Australia\", \"China\", \"United States\", \"United Kingdom\"], \"locations\": [\"KOR\", \"JPN\", \"THA\", \"AUS\", \"CHN\", \"USA\", \"GBR\"], \"name\": \"\", \"z\": [5.0, 2.0, 6.0, 1.0, 3892.0, 1.0, 1.0], \"type\": \"choropleth\"}], \"name\": \"2020-02-05\"}, {\"data\": [{\"coloraxis\": \"coloraxis\", \"geo\": \"geo\", \"hovertemplate\": \"<b>%{hovertext}</b><br><br>date=2020-02-06<br>iso_alpha=%{location}<br>Cases=%{z}<extra></extra>\", \"hovertext\": [\"Australia\", \"Canada\", \"Germany\", \"Korea, Republic of\", \"China\"], \"locations\": [\"AUS\", \"CAN\", \"DEU\", \"KOR\", \"CHN\"], \"name\": \"\", \"z\": [1.0, 2.0, 1.0, 3.0, 3697.0], \"type\": \"choropleth\"}], \"name\": \"2020-02-06\"}, {\"data\": [{\"coloraxis\": \"coloraxis\", \"geo\": \"geo\", \"hovertemplate\": \"<b>%{hovertext}</b><br><br>date=2020-02-07<br>iso_alpha=%{location}<br>Cases=%{z}<extra></extra>\", \"hovertext\": [\"Germany\", \"China\"], \"locations\": [\"DEU\", \"CHN\"], \"name\": \"\", \"z\": [1.0, 3166.0], \"type\": \"choropleth\"}], \"name\": \"2020-02-07\"}, {\"data\": [{\"coloraxis\": \"coloraxis\", \"geo\": \"geo\", \"hovertemplate\": \"<b>%{hovertext}</b><br><br>date=2020-02-08<br>iso_alpha=%{location}<br>Cases=%{z}<extra></extra>\", \"hovertext\": [\"Thailand\", \"China\", \"United Kingdom\"], \"locations\": [\"THA\", \"CHN\", \"GBR\"], \"name\": \"\", \"z\": [1.0, 3385.0, 3.0], \"type\": \"choropleth\"}], \"name\": \"2020-02-08\"}, {\"data\": [{\"coloraxis\": \"coloraxis\", \"geo\": \"geo\", \"hovertemplate\": \"<b>%{hovertext}</b><br><br>date=2020-02-09<br>iso_alpha=%{location}<br>Cases=%{z}<extra></extra>\", \"hovertext\": [\"China\", \"United Kingdom\", \"Korea, Republic of\"], \"locations\": [\"CHN\", \"GBR\", \"KOR\"], \"name\": \"\", \"z\": [2653.0, 1.0, 3.0], \"type\": \"choropleth\"}], \"name\": \"2020-02-09\"}, {\"data\": [{\"coloraxis\": \"coloraxis\", \"geo\": \"geo\", \"hovertemplate\": \"<b>%{hovertext}</b><br><br>date=2020-02-10<br>iso_alpha=%{location}<br>Cases=%{z}<extra></extra>\", \"hovertext\": [\"United States\", \"China\", \"Korea, Republic of\"], \"locations\": [\"USA\", \"CHN\", \"KOR\"], \"name\": \"\", \"z\": [1.0, 2984.0, 1.0], \"type\": \"choropleth\"}], \"name\": \"2020-02-10\"}, {\"data\": [{\"coloraxis\": \"coloraxis\", \"geo\": \"geo\", \"hovertemplate\": \"<b>%{hovertext}</b><br><br>date=2020-02-11<br>iso_alpha=%{location}<br>Cases=%{z}<extra></extra>\", \"hovertext\": [\"China\", \"Germany\"], \"locations\": [\"CHN\", \"DEU\"], \"name\": \"\", \"z\": [2473.0, 3.0], \"type\": \"choropleth\"}], \"name\": \"2020-02-11\"}, {\"data\": [{\"coloraxis\": \"coloraxis\", \"geo\": \"geo\", \"hovertemplate\": \"<b>%{hovertext}</b><br><br>date=2020-02-12<br>iso_alpha=%{location}<br>Cases=%{z}<extra></extra>\", \"hovertext\": [\"United Kingdom\", \"China\", \"Germany\", \"United States\"], \"locations\": [\"GBR\", \"CHN\", \"DEU\", \"USA\"], \"name\": \"\", \"z\": [1.0, 2022.0, 2.0, 1.0], \"type\": \"choropleth\"}], \"name\": \"2020-02-12\"}, {\"data\": [{\"coloraxis\": \"coloraxis\", \"geo\": \"geo\", \"hovertemplate\": \"<b>%{hovertext}</b><br><br>date=2020-02-13<br>iso_alpha=%{location}<br>Cases=%{z}<extra></extra>\", \"hovertext\": [\"Japan\", \"United States\", \"China\"], \"locations\": [\"JPN\", \"USA\", \"CHN\"], \"name\": \"\", \"z\": [4.0, 1.0, 1820.0], \"type\": \"choropleth\"}], \"name\": \"2020-02-13\"}, {\"data\": [{\"coloraxis\": \"coloraxis\", \"geo\": \"geo\", \"hovertemplate\": \"<b>%{hovertext}</b><br><br>date=2020-02-14<br>iso_alpha=%{location}<br>Cases=%{z}<extra></extra>\", \"hovertext\": [\"China\", \"Japan\", \"Canada\"], \"locations\": [\"CHN\", \"JPN\", \"CAN\"], \"name\": \"\", \"z\": [17364.0, 6.0, 1.0], \"type\": \"choropleth\"}], \"name\": \"2020-02-14\"}, {\"data\": [{\"coloraxis\": \"coloraxis\", \"geo\": \"geo\", \"hovertemplate\": \"<b>%{hovertext}</b><br><br>date=2020-02-15<br>iso_alpha=%{location}<br>Cases=%{z}<extra></extra>\", \"hovertext\": [\"Japan\", \"China\"], \"locations\": [\"JPN\", \"CHN\"], \"name\": \"\", \"z\": [12.0, 2663.0], \"type\": \"choropleth\"}], \"name\": \"2020-02-15\"}, {\"data\": [{\"coloraxis\": \"coloraxis\", \"geo\": \"geo\", \"hovertemplate\": \"<b>%{hovertext}</b><br><br>date=2020-02-16<br>iso_alpha=%{location}<br>Cases=%{z}<extra></extra>\", \"hovertext\": [\"Japan\", \"China\", \"Korea, Republic of\"], \"locations\": [\"JPN\", \"CHN\", \"KOR\"], \"name\": \"\", \"z\": [6.0, 2006.0, 2.0], \"type\": \"choropleth\"}], \"name\": \"2020-02-16\"}, {\"data\": [{\"coloraxis\": \"coloraxis\", \"geo\": \"geo\", \"hovertemplate\": \"<b>%{hovertext}</b><br><br>date=2020-02-17<br>iso_alpha=%{location}<br>Cases=%{z}<extra></extra>\", \"hovertext\": [\"Mexico\", \"China\", \"Japan\", \"United States\"], \"locations\": [\"MEX\", \"CHN\", \"JPN\", \"USA\"], \"name\": \"\", \"z\": [2.0, 2052.0, 6.0, 10.0], \"type\": \"choropleth\"}], \"name\": \"2020-02-17\"}, {\"data\": [{\"coloraxis\": \"coloraxis\", \"geo\": \"geo\", \"hovertemplate\": \"<b>%{hovertext}</b><br><br>date=2020-02-18<br>iso_alpha=%{location}<br>Cases=%{z}<extra></extra>\", \"hovertext\": [\"China\", \"Japan\", \"Korea, Republic of\"], \"locations\": [\"CHN\", \"JPN\", \"KOR\"], \"name\": \"\", \"z\": [1893.0, 8.0, 1.0], \"type\": \"choropleth\"}], \"name\": \"2020-02-18\"}, {\"data\": [{\"coloraxis\": \"coloraxis\", \"geo\": \"geo\", \"hovertemplate\": \"<b>%{hovertext}</b><br><br>date=2020-02-19<br>iso_alpha=%{location}<br>Cases=%{z}<extra></extra>\", \"hovertext\": [\"Mexico\", \"Japan\", \"China\", \"Korea, Republic of\"], \"locations\": [\"MEX\", \"JPN\", \"CHN\", \"KOR\"], \"name\": \"\", \"z\": [2.0, 9.0, 1751.0, 20.0], \"type\": \"choropleth\"}], \"name\": \"2020-02-19\"}, {\"data\": [{\"coloraxis\": \"coloraxis\", \"geo\": \"geo\", \"hovertemplate\": \"<b>%{hovertext}</b><br><br>date=2020-02-20<br>iso_alpha=%{location}<br>Cases=%{z}<extra></extra>\", \"hovertext\": [\"Canada\", \"Japan\", \"United States\", \"Germany\", \"China\", \"Korea, Republic of\"], \"locations\": [\"CAN\", \"JPN\", \"USA\", \"DEU\", \"CHN\", \"KOR\"], \"name\": \"\", \"z\": [1.0, 8.0, 2.0, 2.0, 402.0, 53.0], \"type\": \"choropleth\"}], \"name\": \"2020-02-20\"}, {\"data\": [{\"coloraxis\": \"coloraxis\", \"geo\": \"geo\", \"hovertemplate\": \"<b>%{hovertext}</b><br><br>date=2020-02-21<br>iso_alpha=%{location}<br>Cases=%{z}<extra></extra>\", \"hovertext\": [\"Lebanon\", \"Australia\", \"Korea, Republic of\", \"China\", \"Japan\", \"United Kingdom\", \"United States\", \"Mexico\"], \"locations\": [\"LBN\", \"AUS\", \"KOR\", \"CHN\", \"JPN\", \"GBR\", \"USA\", \"MEX\"], \"name\": \"\", \"z\": [1.0, 4.0, 100.0, 894.0, 15.0, 2.0, 3.0, 1.0], \"type\": \"choropleth\"}], \"name\": \"2020-02-21\"}, {\"data\": [{\"coloraxis\": \"coloraxis\", \"geo\": \"geo\", \"hovertemplate\": \"<b>%{hovertext}</b><br><br>date=2020-02-22<br>iso_alpha=%{location}<br>Cases=%{z}<extra></extra>\", \"hovertext\": [\"Mexico\", \"Australia\", \"Germany\", \"Japan\", \"China\", \"Korea, Republic of\"], \"locations\": [\"MEX\", \"AUS\", \"DEU\", \"JPN\", \"CHN\", \"KOR\"], \"name\": \"\", \"z\": [2.0, 1.0, 1.0, 26.0, 823.0, 229.0], \"type\": \"choropleth\"}], \"name\": \"2020-02-22\"}, {\"data\": [{\"coloraxis\": \"coloraxis\", \"geo\": \"geo\", \"hovertemplate\": \"<b>%{hovertext}</b><br><br>date=2020-02-23<br>iso_alpha=%{location}<br>Cases=%{z}<extra></extra>\", \"hovertext\": [\"United Kingdom\", \"Mexico\", \"Japan\", \"Canada\", \"Korea, Republic of\", \"China\"], \"locations\": [\"GBR\", \"MEX\", \"JPN\", \"CAN\", \"KOR\", \"CHN\"], \"name\": \"\", \"z\": [2.0, 2.0, 12.0, 1.0, 169.0, 650.0], \"type\": \"choropleth\"}], \"name\": \"2020-02-23\"}, {\"data\": [{\"coloraxis\": \"coloraxis\", \"geo\": \"geo\", \"hovertemplate\": \"<b>%{hovertext}</b><br><br>date=2020-02-24<br>iso_alpha=%{location}<br>Cases=%{z}<extra></extra>\", \"hovertext\": [\"Canada\", \"United Kingdom\", \"United States\", \"Germany\", \"China\", \"Italy\", \"Bahrain\", \"Korea, Republic of\", \"Japan\"], \"locations\": [\"CAN\", \"GBR\", \"USA\", \"DEU\", \"CHN\", \"ITA\", \"BHR\", \"KOR\", \"JPN\"], \"name\": \"\", \"z\": [1.0, 2.0, 13.0, 2.0, 224.0, 221.0, 1.0, 231.0, 11.0], \"type\": \"choropleth\"}], \"name\": \"2020-02-24\"}, {\"data\": [{\"coloraxis\": \"coloraxis\", \"geo\": \"geo\", \"hovertemplate\": \"<b>%{hovertext}</b><br><br>date=2020-02-25<br>iso_alpha=%{location}<br>Cases=%{z}<extra></extra>\", \"hovertext\": [\"United States\", \"Korea, Republic of\", \"Japan\", \"United Kingdom\", \"Mexico\", \"China\", \"Italy\", \"Sweden\", \"Germany\", \"Algeria\", \"Bahrain\", \"Austria\"], \"locations\": [\"USA\", \"KOR\", \"JPN\", \"GBR\", \"MEX\", \"CHN\", \"ITA\", \"SWE\", \"DEU\", \"DZA\", \"BHR\", \"AUT\"], \"name\": \"\", \"z\": [2.0, 144.0, 11.0, 4.0, 2.0, 518.0, 89.0, 1.0, 2.0, 1.0, 22.0, 2.0], \"type\": \"choropleth\"}], \"name\": \"2020-02-25\"}, {\"data\": [{\"coloraxis\": \"coloraxis\", \"geo\": \"geo\", \"hovertemplate\": \"<b>%{hovertext}</b><br><br>date=2020-02-26<br>iso_alpha=%{location}<br>Cases=%{z}<extra></extra>\", \"hovertext\": [\"Germany\", \"New Zealand\", \"China\", \"Sweden\", \"Japan\", \"Mexico\", \"Bahrain\", \"Thailand\", \"Italy\", \"Korea, Republic of\", \"Canada\", \"United States\", \"Lebanon\", \"United Kingdom\"], \"locations\": [\"DEU\", \"NZL\", \"CHN\", \"SWE\", \"JPN\", \"MEX\", \"BHR\", \"THA\", \"ITA\", \"KOR\", \"CAN\", \"USA\", \"LBN\", \"GBR\"], \"name\": \"\", \"z\": [7.0, 1.0, 411.0, 1.0, 18.0, 1.0, 10.0, 3.0, 79.0, 284.0, 1.0, 15.0, 1.0, 1.0], \"type\": \"choropleth\"}], \"name\": \"2020-02-26\"}, {\"data\": [{\"coloraxis\": \"coloraxis\", \"geo\": \"geo\", \"hovertemplate\": \"<b>%{hovertext}</b><br><br>date=2020-02-27<br>iso_alpha=%{location}<br>Cases=%{z}<extra></extra>\", \"hovertext\": [\"Germany\", \"Canada\", \"Spain\", \"United Kingdom\", \"Australia\", \"Austria\", \"Netherlands\", \"Mexico\", \"Italy\", \"Korea, Republic of\", \"Sweden\", \"Japan\", \"China\"], \"locations\": [\"DEU\", \"CAN\", \"ESP\", \"GBR\", \"AUS\", \"AUT\", \"NLD\", \"MEX\", \"ITA\", \"KOR\", \"SWE\", \"JPN\", \"CHN\"], \"name\": \"\", \"z\": [23.0, 1.0, 21.0, 7.0, 3.0, 1.0, 1.0, 1.0, 251.0, 505.0, 5.0, 24.0, 439.0], \"type\": \"choropleth\"}], \"name\": \"2020-02-27\"}, {\"data\": [{\"coloraxis\": \"coloraxis\", \"geo\": \"geo\", \"hovertemplate\": \"<b>%{hovertext}</b><br><br>date=2020-02-28<br>iso_alpha=%{location}<br>Cases=%{z}<extra></extra>\", \"hovertext\": [\"Korea, Republic of\", \"Bahrain\", \"Mexico\", \"Netherlands\", \"Spain\", \"United Kingdom\", \"China\", \"Germany\", \"United States\", \"Japan\", \"Canada\", \"Sweden\", \"Italy\", \"Australia\", \"Austria\"], \"locations\": [\"KOR\", \"BHR\", \"MEX\", \"NLD\", \"ESP\", \"GBR\", \"CHN\", \"DEU\", \"USA\", \"JPN\", \"CAN\", \"SWE\", \"ITA\", \"AUS\", \"AUT\"], \"name\": \"\", \"z\": [571.0, 3.0, 2.0, 1.0, 10.0, 10.0, 331.0, 47.0, 5.0, 18.0, 2.0, 4.0, 239.0, 2.0, 2.0], \"type\": \"choropleth\"}], \"name\": \"2020-02-28\"}, {\"data\": [{\"coloraxis\": \"coloraxis\", \"geo\": \"geo\", \"hovertemplate\": \"<b>%{hovertext}</b><br><br>date=2020-02-29<br>iso_alpha=%{location}<br>Cases=%{z}<extra></extra>\", \"hovertext\": [\"Brazil\", \"Japan\", \"Spain\", \"Mexico\", \"Sweden\", \"Bahrain\", \"Czechia\", \"Canada\", \"Austria\", \"United Kingdom\", \"Luxembourg\", \"Netherlands\", \"United States\", \"Lebanon\", \"Italy\", \"Korea, Republic of\", \"Germany\", \"Qatar\", \"China\"], \"locations\": [\"BRA\", \"JPN\", \"ESP\", \"MEX\", \"SWE\", \"BHR\", \"CZE\", \"CAN\", \"AUT\", \"GBR\", \"LUX\", \"NLD\", \"USA\", \"LBN\", \"ITA\", \"KOR\", \"DEU\", \"QAT\", \"CHN\"], \"name\": \"\", \"z\": [1.0, 9.0, 17.0, 2.0, 2.0, 5.0, 3.0, 4.0, 2.0, 3.0, 1.0, 5.0, 5.0, 2.0, 245.0, 814.0, 22.0, 1.0, 433.0], \"type\": \"choropleth\"}], \"name\": \"2020-02-29\"}, {\"data\": [{\"coloraxis\": \"coloraxis\", \"geo\": \"geo\", \"hovertemplate\": \"<b>%{hovertext}</b><br><br>date=2020-03-01<br>iso_alpha=%{location}<br>Cases=%{z}<extra></extra>\", \"hovertext\": [\"Qatar\", \"Canada\", \"Sweden\", \"Algeria\", \"Japan\", \"United Kingdom\", \"Australia\", \"Bahrain\", \"Belgium\", \"Netherlands\", \"China\", \"Korea, Republic of\", \"Lebanon\", \"Czechia\", \"United States\", \"Austria\", \"Mexico\", \"Spain\", \"Germany\", \"Italy\"], \"locations\": [\"QAT\", \"CAN\", \"SWE\", \"DZA\", \"JPN\", \"GBR\", \"AUS\", \"BHR\", \"BEL\", \"NLD\", \"CHN\", \"KOR\", \"LBN\", \"CZE\", \"USA\", \"AUT\", \"MEX\", \"ESP\", \"DEU\", \"ITA\"], \"name\": \"\", \"z\": [2.0, 4.0, 1.0, 2.0, 14.0, 31.0, 3.0, 6.0, 17.0, 2.0, 574.0, 586.0, 6.0, 1.0, 18.0, 3.0, 6.0, 14.0, 38.0, 586.0], \"type\": \"choropleth\"}], \"name\": \"2020-03-01\"}, {\"data\": [{\"coloraxis\": \"coloraxis\", \"geo\": \"geo\", \"hovertemplate\": \"<b>%{hovertext}</b><br><br>date=2020-03-02<br>iso_alpha=%{location}<br>Cases=%{z}<extra></extra>\", \"hovertext\": [\"Colombia\", \"Spain\", \"Australia\", \"Mexico\", \"China\", \"Korea, Republic of\", \"Germany\", \"Lebanon\", \"Argentina\", \"India\", \"Senegal\", \"Belgium\", \"United Kingdom\", \"United States\", \"Austria\", \"Japan\", \"New Zealand\", \"Algeria\", \"Italy\", \"Bahrain\", \"Sweden\"], \"locations\": [\"COL\", \"ESP\", \"AUS\", \"MEX\", \"CHN\", \"KOR\", \"DEU\", \"LBN\", \"ARG\", \"IND\", \"SEN\", \"BEL\", \"GBR\", \"USA\", \"AUT\", \"JPN\", \"NZL\", \"DZA\", \"ITA\", \"BHR\", \"SWE\"], \"name\": \"\", \"z\": [1.0, 48.0, 4.0, 7.0, 206.0, 476.0, 41.0, 3.0, 1.0, 2.0, 1.0, 17.0, 25.0, 16.0, 4.0, 18.0, 1.0, 2.0, 353.0, 2.0, 1.0], \"type\": \"choropleth\"}], \"name\": \"2020-03-02\"}, {\"data\": [{\"coloraxis\": \"coloraxis\", \"geo\": \"geo\", \"hovertemplate\": \"<b>%{hovertext}</b><br><br>date=2020-03-03<br>iso_alpha=%{location}<br>Cases=%{z}<extra></extra>\", \"hovertext\": [\"United States\", \"India\", \"Senegal\", \"China\", \"United Kingdom\", \"Qatar\", \"Korea, Republic of\", \"Canada\", \"Netherlands\", \"Italy\", \"Czechia\", \"Germany\", \"Belgium\", \"Austria\", \"Mexico\", \"Japan\", \"Sweden\", \"Chile\", \"Spain\", \"Australia\"], \"locations\": [\"USA\", \"IND\", \"SEN\", \"CHN\", \"GBR\", \"QAT\", \"KOR\", \"CAN\", \"NLD\", \"ITA\", \"CZE\", \"DEU\", \"BEL\", \"AUT\", \"MEX\", \"JPN\", \"SWE\", \"CHL\", \"ESP\", \"AUS\"], \"name\": \"\", \"z\": [21.0, 1.0, 1.0, 130.0, 60.0, 4.0, 600.0, 9.0, 14.0, 482.0, 3.0, 83.0, 36.0, 4.0, 4.0, 19.0, 15.0, 1.0, 54.0, 8.0], \"type\": \"choropleth\"}], \"name\": \"2020-03-03\"}, {\"data\": [{\"coloraxis\": \"coloraxis\", \"geo\": \"geo\", \"hovertemplate\": \"<b>%{hovertext}</b><br><br>date=2020-03-04<br>iso_alpha=%{location}<br>Cases=%{z}<extra></extra>\", \"hovertext\": [\"Australia\", \"Germany\", \"Italy\", \"Netherlands\", \"Brazil\", \"Bahrain\", \"Japan\", \"Belgium\", \"Sweden\", \"United States\", \"New Zealand\", \"Thailand\", \"China\", \"Korea, Republic of\", \"Mexico\", \"United Kingdom\", \"Czechia\", \"Qatar\", \"India\", \"Austria\", \"Senegal\", \"Algeria\", \"Spain\", \"Canada\", \"Chile\"], \"locations\": [\"AUS\", \"DEU\", \"ITA\", \"NLD\", \"BRA\", \"BHR\", \"JPN\", \"BEL\", \"SWE\", \"USA\", \"NZL\", \"THA\", \"CHN\", \"KOR\", \"MEX\", \"GBR\", \"CZE\", \"QAT\", \"IND\", \"AUT\", \"SEN\", \"DZA\", \"ESP\", \"CAN\", \"CHL\"], \"name\": \"\", \"z\": [11.0, 158.0, 590.0, 12.0, 1.0, 3.0, 35.0, 49.0, 22.0, 36.0, 2.0, 48.0, 119.0, 516.0, 7.0, 39.0, 3.0, 1.0, 22.0, 11.0, 2.0, 7.0, 69.0, 1.0, 2.0], \"type\": \"choropleth\"}], \"name\": \"2020-03-04\"}, {\"data\": [{\"coloraxis\": \"coloraxis\", \"geo\": \"geo\", \"hovertemplate\": \"<b>%{hovertext}</b><br><br>date=2020-03-05<br>iso_alpha=%{location}<br>Cases=%{z}<extra></extra>\", \"hovertext\": [\"Chile\", \"Bahrain\", \"Japan\", \"Sweden\", \"Lebanon\", \"Austria\", \"Italy\", \"Canada\", \"Korea, Republic of\", \"United States\", \"Brazil\", \"Argentina\", \"India\", \"United Kingdom\", \"Czechia\", \"Algeria\", \"Spain\", \"China\", \"South Africa\", \"Australia\", \"Germany\", \"Netherlands\", \"Thailand\", \"Belgium\", \"New Zealand\", \"Mexico\"], \"locations\": [\"CHL\", \"BHR\", \"JPN\", \"SWE\", \"LBN\", \"AUT\", \"ITA\", \"CAN\", \"KOR\", \"USA\", \"BRA\", \"ARG\", \"IND\", \"GBR\", \"CZE\", \"DZA\", \"ESP\", \"CHN\", \"ZAF\", \"AUS\", \"DEU\", \"NLD\", \"THA\", \"BEL\", \"NZL\", \"MEX\"], \"name\": \"\", \"z\": [1.0, 3.0, 31.0, 42.0, 3.0, 11.0, 799.0, 11.0, 440.0, 67.0, 4.0, 1.0, 2.0, 47.0, 3.0, 7.0, 96.0, 142.0, 1.0, 8.0, 190.0, 37.0, 3.0, 81.0, 2.0, 7.0], \"type\": \"choropleth\"}], \"name\": \"2020-03-05\"}, {\"data\": [{\"coloraxis\": \"coloraxis\", \"geo\": \"geo\", \"hovertemplate\": \"<b>%{hovertext}</b><br><br>date=2020-03-06<br>iso_alpha=%{location}<br>Cases=%{z}<extra></extra>\", \"hovertext\": [\"Mexico\", \"Chile\", \"Colombia\", \"Lebanon\", \"United Kingdom\", \"Canada\", \"China\", \"Brazil\", \"Thailand\", \"Germany\", \"New Zealand\", \"Poland\", \"Italy\", \"Czechia\", \"Sweden\", \"Australia\", \"United States\", \"Korea, Republic of\", \"Netherlands\", \"Luxembourg\", \"Austria\", \"Japan\", \"Bahrain\", \"Belgium\", \"India\", \"Spain\"], \"locations\": [\"MEX\", \"CHL\", \"COL\", \"LBN\", \"GBR\", \"CAN\", \"CHN\", \"BRA\", \"THA\", \"DEU\", \"NZL\", \"POL\", \"ITA\", \"CZE\", \"SWE\", \"AUS\", \"USA\", \"KOR\", \"NLD\", \"LUX\", \"AUT\", \"JPN\", \"BHR\", \"BEL\", \"IND\", \"ESP\"], \"name\": \"\", \"z\": [9.0, 1.0, 1.0, 6.0, 67.0, 7.0, 147.0, 6.0, 1.0, 188.0, 1.0, 4.0, 788.0, 5.0, 43.0, 4.0, 83.0, 519.0, 40.0, 1.0, 14.0, 55.0, 5.0, 109.0, 1.0, 147.0], \"type\": \"choropleth\"}], \"name\": \"2020-03-06\"}, {\"data\": [{\"coloraxis\": \"coloraxis\", \"geo\": \"geo\", \"hovertemplate\": \"<b>%{hovertext}</b><br><br>date=2020-03-07<br>iso_alpha=%{location}<br>Cases=%{z}<extra></extra>\", \"hovertext\": [\"Poland\", \"Colombia\", \"Germany\", \"China\", \"Japan\", \"Sweden\", \"Paraguay\", \"India\", \"Belgium\", \"Spain\", \"Italy\", \"Austria\", \"Thailand\", \"United Kingdom\", \"Netherlands\", \"Korea, Republic of\", \"Chile\", \"Brazil\", \"United States\", \"Mexico\", \"Australia\", \"Canada\", \"Czechia\", \"Bahrain\", \"South Africa\"], \"locations\": [\"POL\", \"COL\", \"DEU\", \"CHN\", \"JPN\", \"SWE\", \"PRY\", \"IND\", \"BEL\", \"ESP\", \"ITA\", \"AUT\", \"THA\", \"GBR\", \"NLD\", \"KOR\", \"CHL\", \"BRA\", \"USA\", \"MEX\", \"AUS\", \"CAN\", \"CZE\", \"BHR\", \"ZAF\"], \"name\": \"\", \"z\": [1.0, 1.0, 139.0, 102.0, 44.0, 24.0, 1.0, 3.0, 27.0, 256.0, 1255.0, 24.0, 1.0, 35.0, 53.0, 483.0, 2.0, 6.0, 117.0, 18.0, 10.0, 6.0, 9.0, 25.0, 1.0], \"type\": \"choropleth\"}], \"name\": \"2020-03-07\"}, {\"data\": [{\"coloraxis\": \"coloraxis\", \"geo\": \"geo\", \"hovertemplate\": \"<b>%{hovertext}</b><br><br>date=2020-03-08<br>iso_alpha=%{location}<br>Cases=%{z}<extra></extra>\", \"hovertext\": [\"Sweden\", \"Luxembourg\", \"Belgium\", \"India\", \"Korea, Republic of\", \"Qatar\", \"Netherlands\", \"Canada\", \"Australia\", \"Italy\", \"Colombia\", \"South Africa\", \"Czechia\", \"Austria\", \"Lebanon\", \"Poland\", \"United States\", \"Mexico\", \"Argentina\", \"Spain\", \"Chile\", \"United Kingdom\", \"Germany\", \"China\", \"Japan\", \"Brazil\"], \"locations\": [\"SWE\", \"LUX\", \"BEL\", \"IND\", \"KOR\", \"QAT\", \"NLD\", \"CAN\", \"AUS\", \"ITA\", \"COL\", \"ZAF\", \"CZE\", \"AUT\", \"LBN\", \"POL\", \"USA\", \"MEX\", \"ARG\", \"ESP\", \"CHL\", \"GBR\", \"DEU\", \"CHN\", \"JPN\", \"BRA\"], \"name\": \"\", \"z\": [42.0, 1.0, 64.0, 5.0, 367.0, 7.0, 73.0, 6.0, 7.0, 1501.0, 2.0, 1.0, 9.0, 23.0, 10.0, 6.0, 119.0, 21.0, 8.0, 297.0, 3.0, 39.0, 101.0, 46.0, 33.0, 6.0], \"type\": \"choropleth\"}], \"name\": \"2020-03-08\"}, {\"data\": [{\"coloraxis\": \"coloraxis\", \"geo\": \"geo\", \"hovertemplate\": \"<b>%{hovertext}</b><br><br>date=2020-03-09<br>iso_alpha=%{location}<br>Cases=%{z}<extra></extra>\", \"hovertext\": [\"Chile\", \"Bahrain\", \"Netherlands\", \"Australia\", \"Belgium\", \"India\", \"Sweden\", \"Italy\", \"Germany\", \"Spain\", \"Poland\", \"Austria\", \"Japan\", \"Argentina\", \"Czechia\", \"United States\", \"Brazil\", \"South Africa\", \"Korea, Republic of\", \"China\", \"Qatar\", \"Canada\", \"United Kingdom\", \"Colombia\", \"Mexico\"], \"locations\": [\"CHL\", \"BHR\", \"NLD\", \"AUS\", \"BEL\", \"IND\", \"SWE\", \"ITA\", \"DEU\", \"ESP\", \"POL\", \"AUT\", \"JPN\", \"ARG\", \"CZE\", \"USA\", \"BRA\", \"ZAF\", \"KOR\", \"CHN\", \"QAT\", \"CAN\", \"GBR\", \"COL\", \"MEX\"], \"name\": \"\", \"z\": [3.0, 10.0, 49.0, 12.0, 91.0, 9.0, 57.0, 1801.0, 344.0, 356.0, 5.0, 29.0, 28.0, 9.0, 8.0, 201.0, 5.0, 4.0, 249.0, 45.0, 3.0, 18.0, 105.0, 3.0, 56.0], \"type\": \"choropleth\"}], \"name\": \"2020-03-09\"}, {\"data\": [{\"coloraxis\": \"coloraxis\", \"geo\": \"geo\", \"hovertemplate\": \"<b>%{hovertext}</b><br><br>date=2020-03-10<br>iso_alpha=%{location}<br>Cases=%{z}<extra></extra>\", \"hovertext\": [\"Bahrain\", \"Australia\", \"India\", \"China\", \"Sweden\", \"Colombia\", \"Spain\", \"Germany\", \"United Kingdom\", \"Austria\", \"Japan\", \"Thailand\", \"Czechia\", \"Qatar\", \"Korea, Republic of\", \"Italy\", \"Luxembourg\", \"Lebanon\", \"Chile\", \"United States\", \"Brazil\", \"Mexico\", \"Paraguay\", \"Canada\", \"Argentina\", \"Poland\", \"Belgium\", \"Netherlands\"], \"locations\": [\"BHR\", \"AUS\", \"IND\", \"CHN\", \"SWE\", \"COL\", \"ESP\", \"DEU\", \"GBR\", \"AUT\", \"JPN\", \"THA\", \"CZE\", \"QAT\", \"KOR\", \"ITA\", \"LUX\", \"LBN\", \"CHL\", \"USA\", \"BRA\", \"MEX\", \"PRY\", \"CAN\", \"ARG\", \"POL\", \"BEL\", \"NLD\"], \"name\": \"\", \"z\": [15.0, 20.0, 15.0, 20.0, 96.0, 4.0, 694.0, 594.0, 172.0, 51.0, 59.0, 1.0, 16.0, 6.0, 132.0, 960.0, 2.0, 9.0, 4.0, 270.0, 4.0, 47.0, 4.0, 9.0, 2.0, 3.0, 92.0, 55.0], \"type\": \"choropleth\"}], \"name\": \"2020-03-10\"}, {\"data\": [{\"coloraxis\": \"coloraxis\", \"geo\": \"geo\", \"hovertemplate\": \"<b>%{hovertext}</b><br><br>date=2020-03-11<br>iso_alpha=%{location}<br>Cases=%{z}<extra></extra>\", \"hovertext\": [\"Poland\", \"United States\", \"Algeria\", \"Brazil\", \"Bahrain\", \"Korea, Republic of\", \"Spain\", \"Lebanon\", \"Austria\", \"China\", \"Argentina\", \"Germany\", \"Qatar\", \"Sweden\", \"Australia\", \"Cuba\", \"Senegal\", \"India\", \"Chile\", \"Czechia\", \"Colombia\", \"Canada\", \"Belgium\", \"South Africa\", \"United Kingdom\", \"Mexico\", \"Japan\", \"Netherlands\", \"Italy\", \"Luxembourg\"], \"locations\": [\"POL\", \"USA\", \"DZA\", \"BRA\", \"BHR\", \"KOR\", \"ESP\", \"LBN\", \"AUT\", \"CHN\", \"ARG\", \"DEU\", \"QAT\", \"SWE\", \"AUS\", \"CUB\", \"SEN\", \"IND\", \"CHL\", \"CZE\", \"COL\", \"CAN\", \"BEL\", \"ZAF\", \"GBR\", \"MEX\", \"JPN\", \"NLD\", \"ITA\", \"LUX\"], \"name\": \"\", \"z\": [7.0, 245.0, 1.0, 18.0, 85.0, 242.0, 986.0, 20.0, 62.0, 31.0, 2.0, 746.0, 238.0, 144.0, 15.0, 3.0, 2.0, 8.0, 6.0, 31.0, 7.0, 17.0, 171.0, 6.0, 253.0, 48.0, 53.0, 106.0, 2287.0, 2.0], \"type\": \"choropleth\"}], \"name\": \"2020-03-11\"}, {\"data\": [{\"coloraxis\": \"coloraxis\", \"geo\": \"geo\", \"hovertemplate\": \"<b>%{hovertext}</b><br><br>date=2020-03-12<br>iso_alpha=%{location}<br>Cases=%{z}<extra></extra>\", \"hovertext\": [\"Japan\", \"Senegal\", \"Netherlands\", \"Paraguay\", \"Germany\", \"United Kingdom\", \"New Zealand\", \"India\", \"Luxembourg\", \"Korea, Republic of\", \"South Africa\", \"Austria\", \"Czechia\", \"Spain\", \"Algeria\", \"Italy\", \"Poland\", \"Sweden\", \"China\", \"Colombia\", \"Brazil\", \"Australia\", \"Argentina\", \"Canada\", \"Belgium\", \"Chile\", \"Mexico\", \"Ghana\", \"United States\", \"Thailand\"], \"locations\": [\"JPN\", \"SEN\", \"NLD\", \"PRY\", \"DEU\", \"GBR\", \"NZL\", \"IND\", \"LUX\", \"KOR\", \"ZAF\", \"AUT\", \"CZE\", \"ESP\", \"DZA\", \"ITA\", \"POL\", \"SWE\", \"CHN\", \"COL\", \"BRA\", \"AUS\", \"ARG\", \"CAN\", \"BEL\", \"CHL\", \"MEX\", \"GHA\", \"USA\", \"THA\"], \"name\": \"\", \"z\": [56.0, 4.0, 97.0, 1.0, 982.0, 404.0, 1.0, 10.0, 12.0, 114.0, 3.0, 115.0, 29.0, 1376.0, 6.0, 2605.0, 22.0, 187.0, 26.0, 11.0, 25.0, 30.0, 10.0, 31.0, 247.0, 10.0, 54.0, 2.0, 405.0, 3.0], \"type\": \"choropleth\"}], \"name\": \"2020-03-12\"}, {\"data\": [{\"coloraxis\": \"coloraxis\", \"geo\": \"geo\", \"hovertemplate\": \"<b>%{hovertext}</b><br><br>date=2020-03-13<br>iso_alpha=%{location}<br>Cases=%{z}<extra></extra>\", \"hovertext\": [\"Korea, Republic of\", \"Mexico\", \"Sweden\", \"Colombia\", \"Peru\", \"Spain\", \"India\", \"Lebanon\", \"Qatar\", \"Germany\", \"Paraguay\", \"United Kingdom\", \"Ghana\", \"Cuba\", \"Italy\", \"Canada\", \"Luxembourg\", \"Belgium\", \"Ethiopia\", \"Netherlands\", \"Brazil\", \"Czechia\", \"United States\", \"Malaysia\", \"Poland\", \"Austria\", \"Australia\", \"Algeria\", \"Argentina\", \"South Africa\", \"China\", \"Chile\", \"Japan\", \"New Zealand\", \"Senegal\"], \"locations\": [\"KOR\", \"MEX\", \"SWE\", \"COL\", \"PER\", \"ESP\", \"IND\", \"LBN\", \"QAT\", \"DEU\", \"PRY\", \"GBR\", \"GHA\", \"CUB\", \"ITA\", \"CAN\", \"LUX\", \"BEL\", \"ETH\", \"NLD\", \"BRA\", \"CZE\", \"USA\", \"MYS\", \"POL\", \"AUT\", \"AUS\", \"DZA\", \"ARG\", \"ZAF\", \"CHN\", \"CHL\", \"JPN\", \"NZL\", \"SEN\"], \"name\": \"\", \"z\": [110.0, 80.0, 132.0, 13.0, 38.0, 1748.0, 10.0, 16.0, 58.0, 1434.0, 1.0, 392.0, 2.0, 1.0, 2473.0, 41.0, 15.0, 319.0, 1.0, 152.0, 21.0, 38.0, 553.0, 197.0, 17.0, 142.0, 41.0, 11.0, 3.0, 8.0, 10.0, 10.0, 33.0, 1.0, 11.0], \"type\": \"choropleth\"}], \"name\": \"2020-03-13\"}, {\"data\": [{\"coloraxis\": \"coloraxis\", \"geo\": \"geo\", \"hovertemplate\": \"<b>%{hovertext}</b><br><br>date=2020-03-14<br>iso_alpha=%{location}<br>Cases=%{z}<extra></extra>\", \"hovertext\": [\"Bahrain\", \"Chile\", \"Czechia\", \"Sweden\", \"Mexico\", \"New Zealand\", \"Thailand\", \"Belgium\", \"Peru\", \"Malaysia\", \"United States\", \"Canada\", \"United Kingdom\", \"Italy\", \"South Africa\", \"Luxembourg\", \"Brazil\", \"Lebanon\", \"Netherlands\", \"Colombia\", \"China\", \"Korea, Republic of\", \"Austria\", \"India\", \"Poland\", \"Germany\", \"Australia\", \"Japan\", \"Ghana\", \"Senegal\", \"Qatar\", \"Spain\", \"Argentina\"], \"locations\": [\"BHR\", \"CHL\", \"CZE\", \"SWE\", \"MEX\", \"NZL\", \"THA\", \"BEL\", \"PER\", \"MYS\", \"USA\", \"CAN\", \"GBR\", \"ITA\", \"ZAF\", \"LUX\", \"BRA\", \"LBN\", \"NLD\", \"COL\", \"CHN\", \"KOR\", \"AUT\", \"IND\", \"POL\", \"DEU\", \"AUS\", \"JPN\", \"GHA\", \"SEN\", \"QAT\", \"ESP\", \"ARG\"], \"name\": \"\", \"z\": [21.0, 18.0, 63.0, 144.0, 85.0, 1.0, 1.0, 172.0, 5.0, 41.0, 672.0, 50.0, 256.0, 3473.0, 14.0, 17.0, 23.0, 16.0, 130.0, 19.0, 30.0, 107.0, 150.0, 11.0, 33.0, 1308.0, 51.0, 61.0, 2.0, 3.0, 17.0, 1830.0, 11.0], \"type\": \"choropleth\"}], \"name\": \"2020-03-14\"}, {\"data\": [{\"coloraxis\": \"coloraxis\", \"geo\": \"geo\", \"hovertemplate\": \"<b>%{hovertext}</b><br><br>date=2020-03-15<br>iso_alpha=%{location}<br>Cases=%{z}<extra></extra>\", \"hovertext\": [\"Senegal\", \"South Africa\", \"Austria\", \"Italy\", \"Korea, Republic of\", \"United States\", \"Costa Rica\", \"Czechia\", \"Qatar\", \"Poland\", \"Netherlands\", \"New Zealand\", \"Germany\", \"Spain\", \"Mexico\", \"Ethiopia\", \"Argentina\", \"Canada\", \"Brazil\", \"Japan\", \"Colombia\", \"India\", \"Lebanon\", \"Sweden\", \"China\", \"Algeria\", \"Australia\", \"Chile\", \"Bahrain\", \"United Kingdom\", \"Thailand\", \"Luxembourg\", \"Belgium\", \"Paraguay\", \"Peru\"], \"locations\": [\"SEN\", \"ZAF\", \"AUT\", \"ITA\", \"KOR\", \"USA\", \"CRI\", \"CZE\", \"QAT\", \"POL\", \"NLD\", \"NZL\", \"DEU\", \"ESP\", \"MEX\", \"ETH\", \"ARG\", \"CAN\", \"BRA\", \"JPN\", \"COL\", \"IND\", \"LBN\", \"SWE\", \"CHN\", \"DZA\", \"AUS\", \"CHL\", \"BHR\", \"GBR\", \"THA\", \"LUX\", \"BEL\", \"PRY\", \"PER\"], \"name\": \"\", \"z\": [1.0, 13.0, 204.0, 3479.0, 76.0, 698.0, 15.0, 80.0, 64.0, 21.0, 129.0, 1.0, 972.0, 2276.0, 89.0, 4.0, 12.0, 69.0, 79.0, 29.0, 18.0, 10.0, 17.0, 69.0, 27.0, 17.0, 48.0, 14.0, 4.0, 322.0, 1.0, 8.0, 203.0, 1.0, 28.0], \"type\": \"choropleth\"}], \"name\": \"2020-03-15\"}, {\"data\": [{\"coloraxis\": \"coloraxis\", \"geo\": \"geo\", \"hovertemplate\": \"<b>%{hovertext}</b><br><br>date=2020-03-16<br>iso_alpha=%{location}<br>Cases=%{z}<extra></extra>\", \"hovertext\": [\"Thailand\", \"Cuba\", \"Germany\", \"Luxembourg\", \"India\", \"Korea, Republic of\", \"Colombia\", \"South Africa\", \"New Zealand\", \"Paraguay\", \"Algeria\", \"Poland\", \"Netherlands\", \"Argentina\", \"Brazil\", \"Malaysia\", \"Czechia\", \"Chile\", \"Belgium\", \"United States\", \"Australia\", \"Canada\", \"Spain\", \"Peru\", \"Japan\", \"Italy\", \"Sweden\", \"Qatar\", \"United Kingdom\", \"Mexico\", \"Costa Rica\", \"Austria\"], \"locations\": [\"THA\", \"CUB\", \"DEU\", \"LUX\", \"IND\", \"KOR\", \"COL\", \"ZAF\", \"NZL\", \"PRY\", \"DZA\", \"POL\", \"NLD\", \"ARG\", \"BRA\", \"MYS\", \"CZE\", \"CHL\", \"BEL\", \"USA\", \"AUS\", \"CAN\", \"ESP\", \"PER\", \"JPN\", \"ITA\", \"SWE\", \"QAT\", \"GBR\", \"MEX\", \"CRI\", \"AUT\"], \"name\": \"\", \"z\": [3.0, 1.0, 2052.0, 18.0, 14.0, 70.0, 27.0, 11.0, 7.0, 1.0, 6.0, 49.0, 239.0, 9.0, 34.0, 316.0, 94.0, 81.0, 378.0, 906.0, 79.0, 85.0, 2332.0, 15.0, 17.0, 3241.0, 89.0, 38.0, 463.0, 119.0, 6.0, 144.0], \"type\": \"choropleth\"}], \"name\": \"2020-03-16\"}, {\"data\": [{\"coloraxis\": \"coloraxis\", \"geo\": \"geo\", \"hovertemplate\": \"<b>%{hovertext}</b><br><br>date=2020-03-17<br>iso_alpha=%{location}<br>Cases=%{z}<extra></extra>\", \"hovertext\": [\"Poland\", \"Peru\", \"Korea, Republic of\", \"Belgium\", \"Bahrain\", \"Colombia\", \"Mexico\", \"Australia\", \"Netherlands\", \"India\", \"United Kingdom\", \"Malaysia\", \"Italy\", \"Sweden\", \"Brazil\", \"Algeria\", \"New Zealand\", \"Canada\", \"Chile\", \"Cuba\", \"Luxembourg\", \"Costa Rica\", \"Argentina\", \"Japan\", \"United States\", \"Ghana\", \"Germany\", \"Paraguay\", \"Ethiopia\", \"South Africa\", \"Thailand\", \"Czechia\", \"Lebanon\", \"Austria\", \"Spain\"], \"locations\": [\"POL\", \"PER\", \"KOR\", \"BEL\", \"BHR\", \"COL\", \"MEX\", \"AUS\", \"NLD\", \"IND\", \"GBR\", \"MYS\", \"ITA\", \"SWE\", \"BRA\", \"DZA\", \"NZL\", \"CAN\", \"CHL\", \"CUB\", \"LUX\", \"CRI\", \"ARG\", \"JPN\", \"USA\", \"GHA\", \"DEU\", \"PRY\", \"ETH\", \"ZAF\", \"THA\", \"CZE\", \"LBN\", \"AUT\", \"ESP\"], \"name\": \"\", \"z\": [56.0, 31.0, 82.0, 407.0, 14.0, 42.0, 101.0, 78.0, 239.0, 20.0, 514.0, 120.0, 3456.0, 75.0, 57.0, 2.0, 12.0, 131.0, 45.0, 2.0, 63.0, 9.0, 13.0, 44.0, 1399.0, 1.0, 3035.0, 2.0, 1.0, 23.0, 1.0, 94.0, 21.0, 307.0, 2821.0], \"type\": \"choropleth\"}], \"name\": \"2020-03-17\"}, {\"data\": [{\"coloraxis\": \"coloraxis\", \"geo\": \"geo\", \"hovertemplate\": \"<b>%{hovertext}</b><br><br>date=2020-03-18<br>iso_alpha=%{location}<br>Cases=%{z}<extra></extra>\", \"hovertext\": [\"Italy\", \"South Africa\", \"Australia\", \"Brazil\", \"Peru\", \"Malaysia\", \"Chile\", \"United Kingdom\", \"Luxembourg\", \"Costa Rica\", \"Japan\", \"Bahrain\", \"Indonesia\", \"Czechia\", \"Belgium\", \"Netherlands\", \"Mexico\", \"New Zealand\", \"Ghana\", \"Argentina\", \"Cuba\", \"Germany\", \"Lebanon\", \"Austria\", \"Qatar\", \"United States\", \"Korea, Republic of\", \"Colombia\", \"Poland\", \"India\", \"Thailand\", \"Spain\", \"Canada\", \"Sweden\", \"Algeria\"], \"locations\": [\"ITA\", \"ZAF\", \"AUS\", \"BRA\", \"PER\", \"MYS\", \"CHL\", \"GBR\", \"LUX\", \"CRI\", \"JPN\", \"BHR\", \"IDN\", \"CZE\", \"BEL\", \"NLD\", \"MEX\", \"NZL\", \"GHA\", \"ARG\", \"CUB\", \"DEU\", \"LBN\", \"AUT\", \"QAT\", \"USA\", \"KOR\", \"COL\", \"POL\", \"IND\", \"THA\", \"ESP\", \"CAN\", \"SWE\", \"DZA\"], \"name\": \"\", \"z\": [4093.0, 31.0, 113.0, 137.0, 28.0, 117.0, 37.0, 770.0, 63.0, 18.0, 40.0, 28.0, 224.0, 103.0, 529.0, 284.0, 115.0, 5.0, 2.0, 19.0, 4.0, 3591.0, 13.0, 300.0, 13.0, 2438.0, 88.0, 42.0, 40.0, 25.0, 3.0, 4200.0, 110.0, 99.0, 10.0], \"type\": \"choropleth\"}], \"name\": \"2020-03-18\"}, {\"data\": [{\"coloraxis\": \"coloraxis\", \"geo\": \"geo\", \"hovertemplate\": \"<b>%{hovertext}</b><br><br>date=2020-03-19<br>iso_alpha=%{location}<br>Cases=%{z}<extra></extra>\", \"hovertext\": [\"Spain\", \"Austria\", \"Thailand\", \"Costa Rica\", \"Japan\", \"Germany\", \"Paraguay\", \"Cuba\", \"Luxembourg\", \"Italy\", \"Lebanon\", \"Ghana\", \"South Africa\", \"Mexico\", \"Canada\", \"Indonesia\", \"Algeria\", \"Brazil\", \"Argentina\", \"Malaysia\", \"India\", \"Belgium\", \"United Kingdom\", \"Niger\", \"Colombia\", \"Bahrain\", \"Poland\", \"Sweden\", \"Korea, Republic of\", \"Netherlands\", \"New Zealand\", \"Chile\", \"Australia\", \"Qatar\", \"Czechia\", \"Peru\", \"Ethiopia\", \"United States\"], \"locations\": [\"ESP\", \"AUT\", \"THA\", \"CRI\", \"JPN\", \"DEU\", \"PRY\", \"CUB\", \"LUX\", \"ITA\", \"LBN\", \"GHA\", \"ZAF\", \"MEX\", \"CAN\", \"IDN\", \"DZA\", \"BRA\", \"ARG\", \"MYS\", \"IND\", \"BEL\", \"GBR\", \"NGA\", \"COL\", \"BHR\", \"POL\", \"SWE\", \"KOR\", \"NLD\", \"NZL\", \"CHL\", \"AUS\", \"QAT\", \"CZE\", \"PER\", \"ETH\", \"USA\"], \"name\": \"\", \"z\": [4549.0, 358.0, 3.0, 20.0, 39.0, 4069.0, 2.0, 5.0, 132.0, 5073.0, 24.0, 7.0, 34.0, 106.0, 118.0, 80.0, 22.0, 193.0, 30.0, 110.0, 27.0, 680.0, 849.0, 1.0, 67.0, 22.0, 60.0, 148.0, 147.0, 342.0, 18.0, 104.0, 142.0, 8.0, 113.0, 89.0, 3.0, 4038.0], \"type\": \"choropleth\"}], \"name\": \"2020-03-19\"}, {\"data\": [{\"coloraxis\": \"coloraxis\", \"geo\": \"geo\", \"hovertemplate\": \"<b>%{hovertext}</b><br><br>date=2020-03-20<br>iso_alpha=%{location}<br>Cases=%{z}<extra></extra>\", \"hovertext\": [\"Peru\", \"Netherlands\", \"New Zealand\", \"Germany\", \"Italy\", \"Sweden\", \"Ghana\", \"Austria\", \"Belgium\", \"India\", \"Spain\", \"Indonesia\", \"Paraguay\", \"United States\", \"Thailand\", \"Czechia\", \"Colombia\", \"Korea, Republic of\", \"Bahrain\", \"Malaysia\", \"Qatar\", \"Australia\", \"Brazil\", \"Costa Rica\", \"South Africa\", \"Canada\", \"Algeria\", \"Argentina\", \"Mexico\", \"Chile\", \"Cuba\", \"Luxembourg\", \"Lebanon\", \"United Kingdom\", \"Japan\", \"Poland\"], \"locations\": [\"PER\", \"NLD\", \"NZL\", \"DEU\", \"ITA\", \"SWE\", \"GHA\", \"AUT\", \"BEL\", \"IND\", \"ESP\", \"IDN\", \"PRY\", \"USA\", \"THA\", \"CZE\", \"COL\", \"KOR\", \"BHR\", \"MYS\", \"QAT\", \"AUS\", \"BRA\", \"CRI\", \"ZAF\", \"CAN\", \"DZA\", \"ARG\", \"MEX\", \"CHL\", \"CUB\", \"LUX\", \"LBN\", \"GBR\", \"JPN\", \"POL\"], \"name\": \"\", \"z\": [29.0, 1035.0, 11.0, 4048.0, 5771.0, 208.0, 3.0, 354.0, 652.0, 58.0, 5477.0, 49.0, 5.0, 5595.0, 11.0, 117.0, 72.0, 86.0, 7.0, 130.0, 10.0, 167.0, 283.0, 22.0, 52.0, 194.0, 5.0, 29.0, 167.0, 92.0, 9.0, 149.0, 6.0, 1001.0, 50.0, 55.0], \"type\": \"choropleth\"}], \"name\": \"2020-03-20\"}, {\"data\": [{\"coloraxis\": \"coloraxis\", \"geo\": \"geo\", \"hovertemplate\": \"<b>%{hovertext}</b><br><br>date=2020-03-21<br>iso_alpha=%{location}<br>Cases=%{z}<extra></extra>\", \"hovertext\": [\"Sweden\", \"Ireland\", \"Algeria\", \"New Zealand\", \"India\", \"Qatar\", \"Lebanon\", \"Cuba\", \"Netherlands\", \"Mexico\", \"Austria\", \"Brazil\", \"Argentina\", \"Malaysia\", \"Bahrain\", \"Chile\", \"Niger\", \"Spain\", \"Thailand\", \"Paraguay\", \"Japan\", \"Australia\", \"United Kingdom\", \"Luxembourg\", \"Germany\", \"Bolivia, Plurinational State of\", \"Czechia\", \"Canada\", \"Belgium\", \"South Africa\", \"Peru\", \"Poland\", \"Indonesia\", \"Costa Rica\", \"Colombia\", \"Korea, Republic of\", \"United States\", \"Italy\"], \"locations\": [\"SWE\", \"IRL\", \"DZA\", \"NZL\", \"IND\", \"QAT\", \"LBN\", \"CUB\", \"NLD\", \"MEX\", \"AUT\", \"BRA\", \"ARG\", \"MYS\", \"BHR\", \"CHL\", \"NGA\", \"ESP\", \"THA\", \"PRY\", \"JPN\", \"AUS\", \"GBR\", \"LUX\", \"DEU\", \"BOL\", \"CZE\", \"CAN\", \"BEL\", \"ZAF\", \"PER\", \"POL\", \"IDN\", \"CRI\", \"COL\", \"KOR\", \"USA\", \"ITA\"], \"name\": \"\", \"z\": [134.0, 841.0, 40.0, 24.0, 78.0, 11.0, 24.0, 10.0, 269.0, 118.0, 414.0, 224.0, 67.0, 153.0, 20.0, 103.0, 1.0, 5840.0, 15.0, 4.0, 35.0, 196.0, 932.0, 186.0, 3338.0, 20.0, 105.0, 201.0, 456.0, 38.0, 55.0, 94.0, 85.0, 14.0, 70.0, 141.0, 6517.0, 6206.0], \"type\": \"choropleth\"}], \"name\": \"2020-03-21\"}, {\"data\": [{\"coloraxis\": \"coloraxis\", \"geo\": \"geo\", \"hovertemplate\": \"<b>%{hovertext}</b><br><br>date=2020-03-22<br>iso_alpha=%{location}<br>Cases=%{z}<extra></extra>\", \"hovertext\": [\"Niger\", \"Mexico\", \"United Kingdom\", \"India\", \"Austria\", \"New Zealand\", \"Lebanon\", \"Colombia\", \"Belgium\", \"Germany\", \"Australia\", \"Korea, Republic of\", \"Bolivia, Plurinational State of\", \"Brazil\", \"Spain\", \"Thailand\", \"Japan\", \"Luxembourg\", \"Canada\", \"United States\", \"South Africa\", \"Peru\", \"Indonesia\", \"Chile\", \"Costa Rica\", \"Czechia\", \"Qatar\", \"Ethiopia\", \"Cuba\", \"Poland\", \"Sweden\", \"Malaysia\", \"Bahrain\", \"Italy\", \"Netherlands\", \"Algeria\", \"Ireland\", \"Argentina\"], \"locations\": [\"NGA\", \"MEX\", \"GBR\", \"IND\", \"AUT\", \"NZL\", \"LBN\", \"COL\", \"BEL\", \"DEU\", \"AUS\", \"KOR\", \"BOL\", \"BRA\", \"ESP\", \"THA\", \"JPN\", \"LUX\", \"CAN\", \"USA\", \"ZAF\", \"PER\", \"IDN\", \"CHL\", \"CRI\", \"CZE\", \"QAT\", \"ETH\", \"CUB\", \"POL\", \"SWE\", \"MYS\", \"BHR\", \"ITA\", \"NLD\", \"DZA\", \"IRL\", \"ARG\"], \"name\": \"\", \"z\": [1.0, 127.0, 1155.0, 69.0, 408.0, 44.0, 61.0, 76.0, 474.0, 2281.0, 281.0, 87.0, 7.0, 418.0, 4597.0, 33.0, 46.0, 128.0, 102.0, 8512.0, 34.0, 43.0, 68.0, 95.0, 17.0, 92.0, 13.0, 2.0, 5.0, 93.0, 145.0, 123.0, 29.0, 5264.0, 478.0, 62.0, 128.0, 39.0], \"type\": \"choropleth\"}], \"name\": \"2020-03-22\"}, {\"data\": [{\"coloraxis\": \"coloraxis\", \"geo\": \"geo\", \"hovertemplate\": \"<b>%{hovertext}</b><br><br>date=2020-03-23<br>iso_alpha=%{location}<br>Cases=%{z}<extra></extra>\", \"hovertext\": [\"Italy\", \"Canada\", \"Sweden\", \"Lebanon\", \"United Kingdom\", \"Poland\", \"Germany\", \"Bahrain\", \"Costa Rica\", \"Mexico\", \"Chile\", \"Czechia\", \"Qatar\", \"Netherlands\", \"Malaysia\", \"South Africa\", \"Brazil\", \"Cuba\", \"Algeria\", \"Argentina\", \"Ireland\", \"Paraguay\", \"Indonesia\", \"Spain\", \"Luxembourg\", \"Australia\", \"Thailand\", \"Belgium\", \"Peru\", \"Japan\", \"Bolivia, Plurinational State of\", \"United States\", \"New Zealand\", \"Korea, Republic of\", \"Austria\", \"India\", \"Colombia\"], \"locations\": [\"ITA\", \"CAN\", \"SWE\", \"LBN\", \"GBR\", \"POL\", \"DEU\", \"BHR\", \"CRI\", \"MEX\", \"CHL\", \"CZE\", \"QAT\", \"NLD\", \"MYS\", \"ZAF\", \"BRA\", \"CUB\", \"DZA\", \"ARG\", \"IRL\", \"PRY\", \"IDN\", \"ESP\", \"LUX\", \"AUS\", \"THA\", \"BEL\", \"PER\", \"JPN\", \"BOL\", \"USA\", \"NZL\", \"KOR\", \"AUT\", \"IND\", \"COL\"], \"name\": \"\", \"z\": [4555.0, 211.0, 129.0, 19.0, 1974.0, 106.0, 3719.0, 43.0, 24.0, 188.0, 114.0, 141.0, 7.0, 462.0, 212.0, 127.0, 345.0, 8.0, 29.0, 37.0, 196.0, 5.0, 63.0, 5131.0, 77.0, 328.0, 37.0, 1316.0, 35.0, 38.0, 1.0, 10427.0, 42.0, 51.0, 663.0, 94.0, 81.0], \"type\": \"choropleth\"}], \"name\": \"2020-03-23\"}, {\"data\": [{\"coloraxis\": \"coloraxis\", \"geo\": \"geo\", \"hovertemplate\": \"<b>%{hovertext}</b><br><br>date=2020-03-24<br>iso_alpha=%{location}<br>Cases=%{z}<extra></extra>\", \"hovertext\": [\"Indonesia\", \"Sweden\", \"Chile\", \"Luxembourg\", \"Australia\", \"United Kingdom\", \"Ireland\", \"Spain\", \"Poland\", \"India\", \"Lebanon\", \"Colombia\", \"Belgium\", \"Malaysia\", \"Algeria\", \"Thailand\", \"Niger\", \"Peru\", \"New Zealand\", \"Korea, Republic of\", \"Austria\", \"Bolivia, Plurinational State of\", \"Mexico\", \"Argentina\", \"Brazil\", \"Netherlands\", \"Qatar\", \"Ethiopia\", \"Czechia\", \"United States\", \"South Africa\", \"Japan\", \"Cuba\", \"Germany\", \"Paraguay\", \"Bahrain\", \"Canada\", \"Costa Rica\", \"Italy\"], \"locations\": [\"IDN\", \"SWE\", \"CHL\", \"LUX\", \"AUS\", \"GBR\", \"IRL\", \"ESP\", \"POL\", \"IND\", \"LBN\", \"COL\", \"BEL\", \"MYS\", \"DZA\", \"THA\", \"NGA\", \"PER\", \"NZL\", \"KOR\", \"AUT\", \"BOL\", \"MEX\", \"ARG\", \"BRA\", \"NLD\", \"QAT\", \"ETH\", \"CZE\", \"USA\", \"ZAF\", \"JPN\", \"CUB\", \"DEU\", \"PRY\", \"BHR\", \"CAN\", \"CRI\", \"ITA\"], \"name\": \"\", \"z\": [109.0, 240.0, 176.0, 224.0, 370.0, 1986.0, 218.0, 7390.0, 144.0, 74.0, 51.0, 116.0, 1188.0, 106.0, 34.0, 22.0, 5.0, 21.0, 58.0, 56.0, 933.0, 4.0, 154.0, 84.0, 310.0, 702.0, 25.0, 1.0, 220.0, 10413.0, 134.0, 72.0, 9.0, 4861.0, 10.0, 15.0, 316.0, 20.0, 4986.0], \"type\": \"choropleth\"}], \"name\": \"2020-03-24\"}, {\"data\": [{\"coloraxis\": \"coloraxis\", \"geo\": \"geo\", \"hovertemplate\": \"<b>%{hovertext}</b><br><br>date=2020-03-25<br>iso_alpha=%{location}<br>Cases=%{z}<extra></extra>\", \"hovertext\": [\"Mexico\", \"India\", \"Malaysia\", \"Canada\", \"Bolivia, Plurinational State of\", \"Spain\", \"Ireland\", \"United Kingdom\", \"Argentina\", \"Brazil\", \"Algeria\", \"Costa Rica\", \"Qatar\", \"Thailand\", \"Czechia\", \"United States\", \"Indonesia\", \"Sweden\", \"South Africa\", \"Chile\", \"Luxembourg\", \"Japan\", \"Netherlands\", \"New Zealand\", \"Austria\", \"Poland\", \"Cuba\", \"Belgium\", \"Australia\", \"Korea, Republic of\", \"Bahrain\", \"Paraguay\", \"Peru\", \"Lebanon\", \"Italy\", \"Germany\", \"Colombia\"], \"locations\": [\"MEX\", \"IND\", \"MYS\", \"CAN\", \"BOL\", \"ESP\", \"IRL\", \"GBR\", \"ARG\", \"BRA\", \"DZA\", \"CRI\", \"QAT\", \"THA\", \"CZE\", \"USA\", \"IDN\", \"SWE\", \"ZAF\", \"CHL\", \"LUX\", \"JPN\", \"NLD\", \"NZL\", \"AUT\", \"POL\", \"CUB\", \"BEL\", \"AUS\", \"KOR\", \"BHR\", \"PRY\", \"PER\", \"LBN\", \"ITA\", \"DEU\", \"COL\"], \"name\": \"\", \"z\": [162.0, 86.0, 172.0, 291.0, 7.0, 8347.0, 257.0, 2273.0, 117.0, 232.0, 38.0, 24.0, 11.0, 36.0, 237.0, 14594.0, 87.0, 232.0, 110.0, 220.0, 234.0, 91.0, 738.0, 83.0, 664.0, 146.0, 10.0, 1186.0, 380.0, 66.0, 27.0, 4.0, 64.0, 15.0, 4836.0, 5701.0, 136.0], \"type\": \"choropleth\"}], \"name\": \"2020-03-25\"}, {\"data\": [{\"coloraxis\": \"coloraxis\", \"geo\": \"geo\", \"hovertemplate\": \"<b>%{hovertext}</b><br><br>date=2020-03-26<br>iso_alpha=%{location}<br>Cases=%{z}<extra></extra>\", \"hovertext\": [\"Lebanon\", \"Brazil\", \"Indonesia\", \"Luxembourg\", \"Italy\", \"Algeria\", \"Netherlands\", \"Bahrain\", \"Costa Rica\", \"Australia\", \"Chile\", \"Czechia\", \"Germany\", \"Qatar\", \"United States\", \"Norway\", \"Argentina\", \"South Africa\", \"Paraguay\", \"New Zealand\", \"Colombia\", \"Poland\", \"Thailand\", \"Sweden\", \"Peru\", \"Canada\", \"Niger\", \"Austria\", \"India\", \"Cuba\", \"Malaysia\", \"Bolivia, Plurinational State of\", \"United Kingdom\", \"Spain\", \"Japan\", \"Ireland\", \"Belgium\", \"Mexico\", \"Korea, Republic of\"], \"locations\": [\"LBN\", \"BRA\", \"IDN\", \"LUX\", \"ITA\", \"DZA\", \"NLD\", \"BHR\", \"CRI\", \"AUS\", \"CHL\", \"CZE\", \"DEU\", \"QAT\", \"USA\", \"NOR\", \"ARG\", \"ZAF\", \"PRY\", \"NZL\", \"COL\", \"POL\", \"THA\", \"SWE\", \"PER\", \"CAN\", \"NGA\", \"AUT\", \"IND\", \"CUB\", \"MYS\", \"BOL\", \"GBR\", \"ESP\", \"JPN\", \"IRL\", \"BEL\", \"MEX\", \"KOR\"], \"name\": \"\", \"z\": [35.0, 482.0, 97.0, 120.0, 5867.0, 65.0, 870.0, 39.0, 30.0, 374.0, 164.0, 239.0, 5890.0, 12.0, 16998.0, 3048.0, 86.0, 204.0, 11.0, 79.0, 110.0, 172.0, 25.0, 324.0, 100.0, 344.0, 2.0, 816.0, 73.0, 13.0, 235.0, 22.0, 2967.0, 9189.0, 93.0, 265.0, 1346.0, 204.0, 74.0], \"type\": \"choropleth\"}], \"name\": \"2020-03-26\"}, {\"data\": [{\"coloraxis\": \"coloraxis\", \"geo\": \"geo\", \"hovertemplate\": \"<b>%{hovertext}</b><br><br>date=2020-03-27<br>iso_alpha=%{location}<br>Cases=%{z}<extra></extra>\", \"hovertext\": [\"Paraguay\", \"Luxembourg\", \"Japan\", \"New Zealand\", \"Australia\", \"Lebanon\", \"Netherlands\", \"Peru\", \"Korea, Republic of\", \"Mexico\", \"Ireland\", \"Spain\", \"Norway\", \"Malaysia\", \"Poland\", \"Qatar\", \"Italy\", \"Indonesia\", \"Austria\", \"United States\", \"Colombia\", \"Argentina\", \"Cuba\", \"Algeria\", \"Brazil\", \"Bolivia, Plurinational State of\", \"Bahrain\", \"Canada\", \"Czechia\", \"United Kingdom\", \"Germany\", \"Ethiopia\", \"Sweden\", \"Belgium\", \"Ghana\", \"India\", \"Thailand\", \"Costa Rica\", \"Chile\"], \"locations\": [\"PRY\", \"LUX\", \"JPN\", \"NZL\", \"AUS\", \"LBN\", \"NLD\", \"PER\", \"KOR\", \"MEX\", \"IRL\", \"ESP\", \"NOR\", \"MYS\", \"POL\", \"QAT\", \"ITA\", \"IDN\", \"AUT\", \"USA\", \"COL\", \"ARG\", \"CUB\", \"DZA\", \"BRA\", \"BOL\", \"BHR\", \"CAN\", \"CZE\", \"GBR\", \"DEU\", \"ETH\", \"SWE\", \"BEL\", \"GHA\", \"IND\", \"THA\", \"CRI\", \"CHL\"], \"name\": \"\", \"z\": [4.0, 152.0, 116.0, 75.0, 374.0, 23.0, 1006.0, 55.0, 78.0, 221.0, 310.0, 8938.0, 521.0, 116.0, 143.0, 13.0, 5518.0, 140.0, 982.0, 17250.0, 99.0, 102.0, 39.0, 42.0, 502.0, 13.0, 8.0, 322.0, 298.0, 2700.0, 5996.0, 4.0, 214.0, 1494.0, 1.0, 153.0, 29.0, 34.0, 304.0], \"type\": \"choropleth\"}], \"name\": \"2020-03-27\"}, {\"data\": [{\"coloraxis\": \"coloraxis\", \"geo\": \"geo\", \"hovertemplate\": \"<b>%{hovertext}</b><br><br>date=2020-03-28<br>iso_alpha=%{location}<br>Cases=%{z}<extra></extra>\", \"hovertext\": [\"Costa Rica\", \"India\", \"Indonesia\", \"Germany\", \"Paraguay\", \"Niger\", \"Korea, Republic of\", \"Norway\", \"Lebanon\", \"Italy\", \"Cuba\", \"Australia\", \"Ireland\", \"Mexico\", \"Bahrain\", \"Sweden\", \"Canada\", \"United Kingdom\", \"Brazil\", \"Poland\", \"Japan\", \"Spain\", \"Algeria\", \"Czechia\", \"Malaysia\", \"Austria\", \"Qatar\", \"New Zealand\", \"Luxembourg\", \"Netherlands\", \"Ethiopia\", \"Argentina\", \"Bolivia, Plurinational State of\", \"Belgium\", \"Peru\", \"Chile\", \"Thailand\", \"Colombia\", \"United States\", \"South Africa\"], \"locations\": [\"CRI\", \"IND\", \"IDN\", \"DEU\", \"PRY\", \"NGA\", \"KOR\", \"NOR\", \"LBN\", \"ITA\", \"CUB\", \"AUS\", \"IRL\", \"MEX\", \"BHR\", \"SWE\", \"CAN\", \"GBR\", \"BRA\", \"POL\", \"JPN\", \"ESP\", \"DZA\", \"CZE\", \"MYS\", \"AUT\", \"QAT\", \"NZL\", \"LUX\", \"NLD\", \"ETH\", \"ARG\", \"BOL\", \"BEL\", \"PER\", \"CHL\", \"THA\", \"COL\", \"USA\", \"ZAF\"], \"name\": \"\", \"z\": [31.0, 136.0, 107.0, 4751.0, 3.0, 11.0, 122.0, 275.0, 21.0, 5579.0, 20.0, 461.0, 260.0, 214.0, 10.0, 391.0, 421.0, 2670.0, 487.0, 178.0, 200.0, 7924.0, 45.0, 224.0, 173.0, 559.0, 28.0, 72.0, 226.0, 999.0, 3.0, 54.0, 7.0, 831.0, 36.0, 299.0, 32.0, 108.0, 20867.0, 222.0], \"type\": \"choropleth\"}], \"name\": \"2020-03-28\"}, {\"data\": [{\"coloraxis\": \"coloraxis\", \"geo\": \"geo\", \"hovertemplate\": \"<b>%{hovertext}</b><br><br>date=2020-03-29<br>iso_alpha=%{location}<br>Cases=%{z}<extra></extra>\", \"hovertext\": [\"Bolivia, Plurinational State of\", \"Czechia\", \"South Africa\", \"Sweden\", \"Ghana\", \"Canada\", \"Thailand\", \"Ethiopia\", \"India\", \"Bahrain\", \"Japan\", \"New Zealand\", \"Netherlands\", \"Italy\", \"Brazil\", \"Argentina\", \"Korea, Republic of\", \"Peru\", \"Niger\", \"United States\", \"Cuba\", \"Germany\", \"Austria\", \"Qatar\", \"Mexico\", \"Norway\", \"Ireland\", \"Costa Rica\", \"Algeria\", \"Poland\", \"Australia\", \"Chile\", \"Malaysia\", \"United Kingdom\", \"Paraguay\", \"Luxembourg\", \"Spain\", \"Belgium\", \"Colombia\", \"Lebanon\", \"Indonesia\"], \"locations\": [\"BOL\", \"CZE\", \"ZAF\", \"SWE\", \"GHA\", \"CAN\", \"THA\", \"ETH\", \"IND\", \"BHR\", \"JPN\", \"NZL\", \"NLD\", \"ITA\", \"BRA\", \"ARG\", \"KOR\", \"PER\", \"NGA\", \"USA\", \"CUB\", \"DEU\", \"AUT\", \"QAT\", \"MEX\", \"NOR\", \"IRL\", \"CRI\", \"DZA\", \"POL\", \"AUS\", \"CHL\", \"MYS\", \"GBR\", \"PRY\", \"LUX\", \"ESP\", \"BEL\", \"COL\", \"LBN\", \"IDN\"], \"name\": \"\", \"z\": [15.0, 139.0, 110.0, 259.0, 11.0, 323.0, 28.0, 2.0, 120.0, 23.0, 173.0, 74.0, 925.0, 4972.0, 352.0, 75.0, 84.0, 181.0, 1.0, 18642.0, 31.0, 3103.0, 541.0, 44.0, 175.0, 262.0, 203.0, 22.0, 57.0, 203.0, 344.0, 230.0, 150.0, 2623.0, 5.0, 119.0, 5904.0, 670.0, 68.0, 26.0, 127.0], \"type\": \"choropleth\"}], \"name\": \"2020-03-29\"}, {\"data\": [{\"coloraxis\": \"coloraxis\", \"geo\": \"geo\", \"hovertemplate\": \"<b>%{hovertext}</b><br><br>date=2020-03-30<br>iso_alpha=%{location}<br>Cases=%{z}<extra></extra>\", \"hovertext\": [\"Colombia\", \"Indonesia\", \"Austria\", \"Cuba\", \"Paraguay\", \"Niger\", \"Korea, Republic of\", \"Brazil\", \"Germany\", \"United States\", \"Netherlands\", \"Peru\", \"Japan\", \"Thailand\", \"South Africa\", \"Luxembourg\", \"Ethiopia\", \"Czechia\", \"Spain\", \"Belgium\", \"Qatar\", \"Bolivia, Plurinational State of\", \"Malaysia\", \"New Zealand\", \"Italy\", \"Argentina\", \"Chile\", \"Lebanon\", \"Algeria\", \"Canada\", \"Bahrain\", \"Mexico\", \"Costa Rica\", \"Ireland\", \"Sweden\", \"Poland\", \"India\", \"Norway\", \"United Kingdom\", \"Australia\"], \"locations\": [\"COL\", \"IDN\", \"AUT\", \"CUB\", \"PRY\", \"NGA\", \"KOR\", \"BRA\", \"DEU\", \"USA\", \"NLD\", \"PER\", \"JPN\", \"THA\", \"ZAF\", \"LUX\", \"ETH\", \"CZE\", \"ESP\", \"BEL\", \"QAT\", \"BOL\", \"MYS\", \"NZL\", \"ITA\", \"ARG\", \"CHL\", \"LBN\", \"DZA\", \"CAN\", \"BHR\", \"MEX\", \"CRI\", \"IRL\", \"SWE\", \"POL\", \"IND\", \"NOR\", \"GBR\", \"AUS\"], \"name\": \"\", \"z\": [114.0, 129.0, 819.0, 16.0, 1.0, 5.0, 65.0, 323.0, 4072.0, 21410.0, 783.0, 103.0, 73.0, 25.0, 54.0, 38.0, 2.0, 298.0, 6067.0, 1710.0, 59.0, 11.0, 156.0, 52.0, 3698.0, 146.0, 310.0, 8.0, 73.0, 538.0, 16.0, 216.0, 17.0, 313.0, 394.0, 182.0, 187.0, 119.0, 4154.0, 266.0], \"type\": \"choropleth\"}], \"name\": \"2020-03-30\"}, {\"data\": [{\"coloraxis\": \"coloraxis\", \"geo\": \"geo\", \"hovertemplate\": \"<b>%{hovertext}</b><br><br>date=2020-03-31<br>iso_alpha=%{location}<br>Cases=%{z}<extra></extra>\", \"hovertext\": [\"United States\", \"Ireland\", \"Australia\", \"Poland\", \"Austria\", \"Bahrain\", \"Colombia\", \"Germany\", \"Czechia\", \"Peru\", \"Qatar\", \"Spain\", \"Bolivia, Plurinational State of\", \"Chile\", \"Argentina\", \"Sweden\", \"Netherlands\", \"Malaysia\", \"Costa Rica\", \"New Zealand\", \"Indonesia\", \"Korea, Republic of\", \"Japan\", \"Lebanon\", \"Italy\", \"Thailand\", \"Brazil\", \"South Africa\", \"Canada\", \"Algeria\", \"Paraguay\", \"United Kingdom\", \"Luxembourg\", \"Mexico\", \"Norway\", \"Belgium\", \"India\", \"Cuba\", \"Ethiopia\"], \"locations\": [\"USA\", \"IRL\", \"AUS\", \"POL\", \"AUT\", \"BHR\", \"COL\", \"DEU\", \"CZE\", \"PER\", \"QAT\", \"ESP\", \"BOL\", \"CHL\", \"ARG\", \"SWE\", \"NLD\", \"MYS\", \"CRI\", \"NZL\", \"IDN\", \"KOR\", \"JPN\", \"LBN\", \"ITA\", \"THA\", \"BRA\", \"ZAF\", \"CAN\", \"DZA\", \"PRY\", \"GBR\", \"LUX\", \"MEX\", \"NOR\", \"BEL\", \"IND\", \"CUB\", \"ETH\"], \"name\": \"\", \"z\": [24406.0, 292.0, 311.0, 238.0, 585.0, 52.0, 103.0, 6058.0, 300.0, 115.0, 88.0, 7642.0, 8.0, 289.0, 88.0, 412.0, 748.0, 140.0, 20.0, 77.0, 118.0, 110.0, 237.0, 24.0, 3809.0, 36.0, 1138.0, 33.0, 411.0, 132.0, 4.0, 4217.0, 190.0, 186.0, 221.0, 1664.0, 309.0, 26.0, 4.0], \"type\": \"choropleth\"}], \"name\": \"2020-03-31\"}, {\"data\": [{\"coloraxis\": \"coloraxis\", \"geo\": \"geo\", \"hovertemplate\": \"<b>%{hovertext}</b><br><br>date=2020-04-01<br>iso_alpha=%{location}<br>Cases=%{z}<extra></extra>\", \"hovertext\": [\"Japan\", \"Netherlands\", \"Sweden\", \"Australia\", \"Chile\", \"Canada\", \"Algeria\", \"South Africa\", \"India\", \"Ethiopia\", \"Qatar\", \"Luxembourg\", \"Bolivia, Plurinational State of\", \"Czechia\", \"Argentina\", \"United Kingdom\", \"Bahrain\", \"Italy\", \"Brazil\", \"Lebanon\", \"Korea, Republic of\", \"Paraguay\", \"Niger\", \"Mexico\", \"Colombia\", \"Cuba\", \"New Zealand\", \"Norway\", \"Indonesia\", \"Costa Rica\", \"Austria\", \"Belgium\", \"United States\", \"Poland\", \"Ireland\", \"Peru\", \"Malaysia\", \"Spain\", \"Germany\"], \"locations\": [\"JPN\", \"NLD\", \"SWE\", \"AUS\", \"CHL\", \"CAN\", \"DZA\", \"ZAF\", \"IND\", \"ETH\", \"QAT\", \"LUX\", \"BOL\", \"CZE\", \"ARG\", \"GBR\", \"BHR\", \"ITA\", \"BRA\", \"LBN\", \"KOR\", \"PRY\", \"NGA\", \"MEX\", \"COL\", \"CUB\", \"NZL\", \"NOR\", \"IDN\", \"CRI\", \"AUT\", \"BEL\", \"USA\", \"POL\", \"IRL\", \"PER\", \"MYS\", \"ESP\", \"DEU\"], \"name\": \"\", \"z\": [263.0, 872.0, 484.0, 303.0, 293.0, 1150.0, 131.0, 27.0, 424.0, 3.0, 54.0, 141.0, 8.0, 266.0, 79.0, 4608.0, 2.0, 4442.0, 1119.0, 9.0, 94.0, 8.0, 45.0, 183.0, 106.0, 21.0, 73.0, 207.0, 145.0, 30.0, 488.0, 1480.0, 26689.0, 235.0, 373.0, 258.0, 142.0, 7227.0, 6311.0], \"type\": \"choropleth\"}], \"name\": \"2020-04-01\"}, {\"data\": [{\"coloraxis\": \"coloraxis\", \"geo\": \"geo\", \"hovertemplate\": \"<b>%{hovertext}</b><br><br>date=2020-04-02<br>iso_alpha=%{location}<br>Cases=%{z}<extra></extra>\", \"hovertext\": [\"Canada\", \"Brazil\", \"Netherlands\", \"Malaysia\", \"Argentina\", \"Algeria\", \"Luxembourg\", \"Japan\", \"South Africa\", \"Chile\", \"Korea, Republic of\", \"Cuba\", \"Mexico\", \"Colombia\", \"United Kingdom\", \"Poland\", \"Costa Rica\", \"United States\", \"Czechia\", \"Qatar\", \"Lebanon\", \"Australia\", \"Bahrain\", \"Norway\", \"Spain\", \"Indonesia\", \"Belgium\", \"Ireland\", \"New Zealand\", \"Italy\", \"Bolivia, Plurinational State of\", \"Germany\", \"Paraguay\", \"Peru\", \"Sweden\", \"India\", \"Austria\"], \"locations\": [\"CAN\", \"BRA\", \"NLD\", \"MYS\", \"ARG\", \"DZA\", \"LUX\", \"JPN\", \"ZAF\", \"CHL\", \"KOR\", \"CUB\", \"MEX\", \"COL\", \"GBR\", \"POL\", \"CRI\", \"USA\", \"CZE\", \"QAT\", \"LBN\", \"AUS\", \"BHR\", \"NOR\", \"ESP\", \"IDN\", \"BEL\", \"IRL\", \"NZL\", \"ITA\", \"BOL\", \"DEU\", \"PRY\", \"PER\", \"SWE\", \"IND\", \"AUT\"], \"name\": \"\", \"z\": [681.0, 1074.0, 948.0, 208.0, 132.0, 139.0, 168.0, 278.0, 78.0, 373.0, 71.0, 36.0, 143.0, 68.0, 4289.0, 368.0, 22.0, 29414.0, 293.0, 114.0, 15.0, 272.0, 74.0, 280.0, 6806.0, 114.0, 1431.0, 360.0, 82.0, 4292.0, 9.0, 6558.0, 15.0, 91.0, 558.0, 486.0, 478.0], \"type\": \"choropleth\"}], \"name\": \"2020-04-02\"}, {\"data\": [{\"coloraxis\": \"coloraxis\", \"geo\": \"geo\", \"hovertemplate\": \"<b>%{hovertext}</b><br><br>date=2020-04-03<br>iso_alpha=%{location}<br>Cases=%{z}<extra></extra>\", \"hovertext\": [\"Czechia\", \"Lebanon\", \"Belgium\", \"Indonesia\", \"Paraguay\", \"Ethiopia\", \"Poland\", \"Malaysia\", \"Spain\", \"Norway\", \"Chile\", \"Colombia\", \"New Zealand\", \"Netherlands\", \"Sweden\", \"Canada\", \"Qatar\", \"United States\", \"Australia\", \"Luxembourg\", \"India\", \"Mexico\", \"Bolivia, Plurinational State of\", \"Bahrain\", \"Italy\", \"Korea, Republic of\", \"United Kingdom\", \"Brazil\", \"Algeria\", \"Austria\", \"Argentina\", \"Peru\", \"South Africa\", \"Cuba\", \"Germany\", \"Costa Rica\", \"Ireland\", \"Japan\"], \"locations\": [\"CZE\", \"LBN\", \"BEL\", \"IDN\", \"PRY\", \"ETH\", \"POL\", \"MYS\", \"ESP\", \"NOR\", \"CHL\", \"COL\", \"NZL\", \"NLD\", \"SWE\", \"CAN\", \"QAT\", \"USA\", \"AUS\", \"LUX\", \"IND\", \"MEX\", \"BOL\", \"BHR\", \"ITA\", \"KOR\", \"GBR\", \"BRA\", \"DZA\", \"AUT\", \"ARG\", \"PER\", \"ZAF\", \"CUB\", \"DEU\", \"CRI\", \"IRL\", \"JPN\"], \"name\": \"\", \"z\": [325.0, 14.0, 1665.0, 193.0, 4.0, 6.0, 412.0, 217.0, 6499.0, 273.0, 333.0, 102.0, 75.0, 890.0, 560.0, 619.0, 126.0, 32578.0, 222.0, 125.0, 560.0, 142.0, 7.0, 29.0, 4278.0, 64.0, 4618.0, 1146.0, 185.0, 412.0, 88.0, 183.0, 43.0, 19.0, 6209.0, 22.0, 429.0, 353.0], \"type\": \"choropleth\"}], \"name\": \"2020-04-03\"}, {\"data\": [{\"coloraxis\": \"coloraxis\", \"geo\": \"geo\", \"hovertemplate\": \"<b>%{hovertext}</b><br><br>date=2020-04-04<br>iso_alpha=%{location}<br>Cases=%{z}<extra></extra>\", \"hovertext\": [\"Brazil\", \"Italy\", \"Spain\", \"Pakistan\", \"New Zealand\", \"Mexico\", \"Korea, Republic of\", \"Malaysia\", \"United States\", \"Austria\", \"Belgium\", \"Costa Rica\", \"Indonesia\", \"Cuba\", \"Norway\", \"Poland\", \"Sweden\", \"United Kingdom\", \"India\", \"Argentina\", \"Paraguay\", \"Canada\", \"Ethiopia\", \"Ireland\", \"South Africa\", \"Algeria\", \"Thailand\", \"Czechia\", \"Australia\", \"Bahrain\", \"Japan\", \"Peru\", \"Colombia\", \"Netherlands\", \"Chile\", \"Germany\", \"Qatar\", \"Luxembourg\", \"Bolivia, Plurinational State of\", \"Lebanon\"], \"locations\": [\"BRA\", \"ITA\", \"ESP\", \"PAK\", \"NZL\", \"MEX\", \"KOR\", \"MYS\", \"USA\", \"AUT\", \"BEL\", \"CRI\", \"IDN\", \"CUB\", \"NOR\", \"POL\", \"SWE\", \"GBR\", \"IND\", \"ARG\", \"PRY\", \"CAN\", \"ETH\", \"IRL\", \"ZAF\", \"DZA\", \"THA\", \"CZE\", \"AUS\", \"BHR\", \"JPN\", \"PER\", \"COL\", \"NLD\", \"CHL\", \"DEU\", \"QAT\", \"LUX\", \"BOL\", \"LBN\"], \"name\": \"\", \"z\": [1222.0, 4534.0, 6089.0, 339.0, 77.0, 98.0, 79.0, 150.0, 35089.0, 276.0, 901.0, 20.0, 100.0, 32.0, 309.0, 356.0, 434.0, 3790.0, 579.0, 98.0, 8.0, 533.0, 3.0, 473.0, 111.0, 80.0, 32.0, 222.0, 194.0, 16.0, 368.0, 151.0, 70.0, 785.0, 424.0, 4314.0, 250.0, 117.0, 18.0, 12.0], \"type\": \"choropleth\"}], \"name\": \"2020-04-04\"}, {\"data\": [{\"coloraxis\": \"coloraxis\", \"geo\": \"geo\", \"hovertemplate\": \"<b>%{hovertext}</b><br><br>date=2020-04-05<br>iso_alpha=%{location}<br>Cases=%{z}<extra></extra>\", \"hovertext\": [\"Costa Rica\", \"Belgium\", \"Luxembourg\", \"Ireland\", \"India\", \"Austria\", \"Canada\", \"Bolivia, Plurinational State of\", \"Bahrain\", \"Italy\", \"Colombia\", \"Japan\", \"Brazil\", \"Mexico\", \"Peru\", \"United Kingdom\", \"Korea, Republic of\", \"Cuba\", \"Germany\", \"Australia\", \"South Africa\", \"Argentina\", \"Lebanon\", \"Spain\", \"Netherlands\", \"United States\", \"New Zealand\", \"Ethiopia\", \"Norway\", \"Czechia\", \"Qatar\", \"Indonesia\", \"Paraguay\", \"Poland\", \"Chile\", \"Malaysia\", \"Sweden\"], \"locations\": [\"CRI\", \"BEL\", \"LUX\", \"IRL\", \"IND\", \"AUT\", \"CAN\", \"BOL\", \"BHR\", \"ITA\", \"COL\", \"JPN\", \"BRA\", \"MEX\", \"PER\", \"GBR\", \"KOR\", \"CUB\", \"DEU\", \"AUS\", \"ZAF\", \"ARG\", \"LBN\", \"ESP\", \"NLD\", \"USA\", \"NZL\", \"ETH\", \"NOR\", \"CZE\", \"QAT\", \"IDN\", \"PRY\", \"POL\", \"CHL\", \"MYS\", \"SWE\"], \"name\": \"\", \"z\": [19.0, 642.0, 75.0, 677.0, 609.0, 233.0, 559.0, 26.0, 12.0, 4121.0, 43.0, 352.0, 852.0, 74.0, 535.0, 3612.0, 57.0, 30.0, 2548.0, 141.0, 56.0, 103.0, 7.0, 4215.0, 1039.0, 25396.0, 70.0, 5.0, 126.0, 159.0, 279.0, 175.0, 9.0, 380.0, 320.0, 179.0, 427.0], \"type\": \"choropleth\"}], \"name\": \"2020-04-05\"}, {\"data\": [{\"coloraxis\": \"coloraxis\", \"geo\": \"geo\", \"hovertemplate\": \"<b>%{hovertext}</b><br><br>date=2020-04-06<br>iso_alpha=%{location}<br>Cases=%{z}<extra></extra>\", \"hovertext\": [\"Mexico\", \"Australia\", \"Ireland\", \"Norway\", \"Lebanon\", \"Germany\", \"Austria\", \"Paraguay\", \"Costa Rica\", \"Indonesia\", \"Colombia\", \"Canada\", \"India\", \"Chile\", \"Japan\", \"Malaysia\", \"New Zealand\", \"United States\", \"Argentina\", \"Spain\", \"Qatar\", \"Netherlands\", \"Bahrain\", \"Pakistan\", \"Thailand\", \"South Africa\", \"Ethiopia\", \"Czechia\", \"Bolivia, Plurinational State of\", \"Sweden\", \"Poland\", \"Luxembourg\", \"Cuba\", \"Korea, Republic of\", \"Peru\", \"Italy\", \"Brazil\", \"Belgium\", \"United Kingdom\"], \"locations\": [\"MEX\", \"AUS\", \"IRL\", \"NOR\", \"LBN\", \"DEU\", \"AUT\", \"PRY\", \"CRI\", \"IDN\", \"COL\", \"CAN\", \"IND\", \"CHL\", \"JPN\", \"MYS\", \"NZL\", \"USA\", \"ARG\", \"ESP\", \"QAT\", \"NLD\", \"BHR\", \"PAK\", \"THA\", \"ZAF\", \"ETH\", \"CZE\", \"BOL\", \"SWE\", \"POL\", \"LUX\", \"CUB\", \"KOR\", \"PER\", \"ITA\", \"BRA\", \"BEL\", \"GBR\"], \"name\": \"\", \"z\": [57.0, 107.0, 388.0, 117.0, 14.0, 3672.0, 290.0, 2.0, 13.0, 220.0, 39.0, 614.0, 484.0, 344.0, 239.0, 131.0, 53.0, 29569.0, 73.0, 3964.0, 228.0, 857.0, 56.0, 596.0, 33.0, 31.0, 1.0, 235.0, 11.0, 352.0, 305.0, 39.0, 46.0, 40.0, 280.0, 3374.0, 926.0, 1880.0, 5249.0], \"type\": \"choropleth\"}], \"name\": \"2020-04-06\"}, {\"data\": [{\"coloraxis\": \"coloraxis\", \"geo\": \"geo\", \"hovertemplate\": \"<b>%{hovertext}</b><br><br>date=2020-04-07<br>iso_alpha=%{location}<br>Cases=%{z}<extra></extra>\", \"hovertext\": [\"Pakistan\", \"Ethiopia\", \"Lebanon\", \"Brazil\", \"Czechia\", \"Mexico\", \"Bolivia, Plurinational State of\", \"Netherlands\", \"Paraguay\", \"Bahrain\", \"Luxembourg\", \"India\", \"Argentina\", \"Ireland\", \"Korea, Republic of\", \"Australia\", \"Austria\", \"Cuba\", \"Peru\", \"Sweden\", \"Poland\", \"Colombia\", \"Belgium\", \"Malaysia\", \"New Zealand\", \"Germany\", \"Norway\", \"United Kingdom\", \"Italy\", \"Spain\", \"Japan\", \"Canada\", \"Chile\", \"Indonesia\", \"Qatar\", \"Costa Rica\", \"United States\"], \"locations\": [\"PAK\", \"ETH\", \"LBN\", \"BRA\", \"CZE\", \"MEX\", \"BOL\", \"NLD\", \"PRY\", \"BHR\", \"LUX\", \"IND\", \"ARG\", \"IRL\", \"KOR\", \"AUS\", \"AUT\", \"CUB\", \"PER\", \"SWE\", \"POL\", \"COL\", \"BEL\", \"MYS\", \"NZL\", \"DEU\", \"NOR\", \"GBR\", \"ITA\", \"ESP\", \"JPN\", \"CAN\", \"CHL\", \"IDN\", \"QAT\", \"CRI\", \"USA\"], \"name\": \"\", \"z\": [483.0, 8.0, 7.0, 1661.0, 222.0, 14.0, 16.0, 688.0, 4.0, 55.0, 127.0, 573.0, 88.0, 463.0, 33.0, 119.0, 300.0, 61.0, 393.0, 497.0, 437.0, 54.0, 1470.0, 170.0, 37.0, 5209.0, 108.0, 5200.0, 2747.0, 4984.0, 368.0, 637.0, 301.0, 248.0, 225.0, 16.0, 31714.0], \"type\": \"choropleth\"}], \"name\": \"2020-04-07\"}, {\"data\": [{\"coloraxis\": \"coloraxis\", \"geo\": \"geo\", \"hovertemplate\": \"<b>%{hovertext}</b><br><br>date=2020-04-08<br>iso_alpha=%{location}<br>Cases=%{z}<extra></extra>\", \"hovertext\": [\"Luxembourg\", \"Colombia\", \"Austria\", \"Bahrain\", \"Argentina\", \"Pakistan\", \"Lebanon\", \"Chile\", \"Spain\", \"Malaysia\", \"Poland\", \"United Kingdom\", \"Indonesia\", \"India\", \"Peru\", \"Czechia\", \"South Africa\", \"Germany\", \"United States\", \"Mexico\", \"Belgium\", \"Norway\", \"Ethiopia\", \"Australia\", \"Qatar\", \"Thailand\", \"Costa Rica\", \"Brazil\", \"Paraguay\", \"Netherlands\", \"Korea, Republic of\", \"Italy\", \"Bolivia, Plurinational State of\", \"Ireland\", \"Canada\", \"Cuba\", \"Japan\", \"Sweden\", \"New Zealand\"], \"locations\": [\"LUX\", \"COL\", \"AUT\", \"BHR\", \"ARG\", \"PAK\", \"LBN\", \"CHL\", \"ESP\", \"MYS\", \"POL\", \"GBR\", \"IDN\", \"IND\", \"PER\", \"CZE\", \"ZAF\", \"DEU\", \"USA\", \"MEX\", \"BEL\", \"NOR\", \"ETH\", \"AUS\", \"QAT\", \"THA\", \"CRI\", \"BRA\", \"PRY\", \"NLD\", \"KOR\", \"ITA\", \"BOL\", \"IRL\", \"CAN\", \"CUB\", \"JPN\", \"SWE\", \"NZL\"], \"name\": \"\", \"z\": [64.0, 44.0, 321.0, 12.0, 80.0, 257.0, 28.0, 430.0, 5205.0, 156.0, 410.0, 4906.0, 218.0, 565.0, 1388.0, 308.0, 226.0, 5284.0, 31632.0, 5.0, 1549.0, 147.0, 3.0, 105.0, 153.0, 54.0, 20.0, 2210.0, 5.0, 833.0, 39.0, 3588.0, 54.0, 627.0, 600.0, 58.0, 513.0, 733.0, 28.0], \"type\": \"choropleth\"}], \"name\": \"2020-04-08\"}, {\"data\": [{\"coloraxis\": \"coloraxis\", \"geo\": \"geo\", \"hovertemplate\": \"<b>%{hovertext}</b><br><br>date=2020-04-09<br>iso_alpha=%{location}<br>Cases=%{z}<extra></extra>\", \"hovertext\": [\"Sweden\", \"Poland\", \"Malaysia\", \"Cuba\", \"New Zealand\", \"Colombia\", \"United States\", \"Spain\", \"Chile\", \"Ethiopia\", \"Thailand\", \"Czechia\", \"Pakistan\", \"Indonesia\", \"Netherlands\", \"Bolivia, Plurinational State of\", \"Peru\", \"Japan\", \"South Africa\", \"Belgium\", \"Argentina\", \"United Kingdom\", \"Paraguay\", \"Brazil\", \"India\", \"Austria\", \"Costa Rica\", \"Ireland\", \"Germany\", \"Canada\", \"Korea, Republic of\", \"Australia\", \"Italy\", \"Norway\"], \"locations\": [\"SWE\", \"POL\", \"MYS\", \"CUB\", \"NZL\", \"COL\", \"USA\", \"ESP\", \"CHL\", \"ETH\", \"THA\", \"CZE\", \"PAK\", \"IDN\", \"NLD\", \"BOL\", \"PER\", \"JPN\", \"ZAF\", \"BEL\", \"ARG\", \"GBR\", \"PRY\", \"BRA\", \"IND\", \"AUT\", \"CRI\", \"IRL\", \"DEU\", \"CAN\", \"KOR\", \"AUS\", \"ITA\", \"NOR\"], \"name\": \"\", \"z\": [683.0, 400.0, 109.0, 49.0, 44.0, 61.0, 34493.0, 5538.0, 426.0, 1.0, 33.0, 250.0, 213.0, 337.0, 1028.0, 4.0, 915.0, 580.0, 90.0, 2178.0, 98.0, 4736.0, 5.0, 1930.0, 813.0, 274.0, 38.0, 716.0, 4907.0, 669.0, 29.0, 85.0, 3890.0, 145.0], \"type\": \"choropleth\"}], \"name\": \"2020-04-09\"}, {\"data\": [{\"coloraxis\": \"coloraxis\", \"geo\": \"geo\", \"hovertemplate\": \"<b>%{hovertext}</b><br><br>date=2020-04-10<br>iso_alpha=%{location}<br>Cases=%{z}<extra></extra>\", \"hovertext\": [\"Pakistan\", \"Norway\", \"Paraguay\", \"Australia\", \"Thailand\", \"India\", \"Indonesia\", \"Netherlands\", \"Bolivia, Plurinational State of\", \"Ireland\", \"Peru\", \"Japan\", \"Canada\", \"Czechia\", \"United Kingdom\", \"Ethiopia\", \"Chile\", \"Italy\", \"Cuba\", \"Korea, Republic of\", \"Austria\", \"Colombia\", \"Malaysia\", \"Sweden\", \"Brazil\", \"New Zealand\", \"Belgium\", \"Poland\", \"South Africa\", \"Spain\", \"Argentina\", \"Germany\", \"United States\", \"Costa Rica\"], \"locations\": [\"PAK\", \"NOR\", \"PRY\", \"AUS\", \"THA\", \"IND\", \"IDN\", \"NLD\", \"BOL\", \"IRL\", \"PER\", \"JPN\", \"CAN\", \"CZE\", \"GBR\", \"ETH\", \"CHL\", \"ITA\", \"CUB\", \"KOR\", \"AUT\", \"COL\", \"MYS\", \"SWE\", \"BRA\", \"NZL\", \"BEL\", \"POL\", \"ZAF\", \"ESP\", \"ARG\", \"DEU\", \"USA\", \"CRI\"], \"name\": \"\", \"z\": [206.0, 87.0, 4.0, 106.0, 32.0, 871.0, 220.0, 1190.0, 7.0, 709.0, 641.0, 642.0, 547.0, 210.0, 4375.0, 9.0, 529.0, 3707.0, 56.0, 23.0, 346.0, 42.0, 118.0, 533.0, 1781.0, 27.0, 2274.0, 387.0, 70.0, 4710.0, 81.0, 3336.0, 33389.0, 20.0], \"type\": \"choropleth\"}], \"name\": \"2020-04-10\"}, {\"data\": [{\"coloraxis\": \"coloraxis\", \"geo\": \"geo\", \"hovertemplate\": \"<b>%{hovertext}</b><br><br>date=2020-04-11<br>iso_alpha=%{location}<br>Cases=%{z}<extra></extra>\", \"hovertext\": [\"Canada\", \"Brazil\", \"Peru\", \"Pakistan\", \"Bolivia, Plurinational State of\", \"Netherlands\", \"United States\", \"Norway\", \"Paraguay\", \"Belgium\", \"New Zealand\", \"Poland\", \"Malaysia\", \"Colombia\", \"United Kingdom\", \"Chile\", \"Japan\", \"Ethiopia\", \"Cuba\", \"Korea, Republic of\", \"South Africa\", \"Costa Rica\", \"Argentina\", \"Thailand\", \"Italy\", \"Sweden\", \"India\", \"Austria\", \"Indonesia\", \"Spain\", \"Germany\", \"Ireland\", \"Czechia\", \"Australia\"], \"locations\": [\"CAN\", \"BRA\", \"PER\", \"PAK\", \"BOL\", \"NLD\", \"USA\", \"NOR\", \"PRY\", \"BEL\", \"NZL\", \"POL\", \"MYS\", \"COL\", \"GBR\", \"CHL\", \"JPN\", \"ETH\", \"CUB\", \"KOR\", \"ZAF\", \"CRI\", \"ARG\", \"THA\", \"ITA\", \"SWE\", \"IND\", \"AUT\", \"IDN\", \"ESP\", \"DEU\", \"IRL\", \"CZE\", \"AUS\"], \"name\": \"\", \"z\": [632.0, 1089.0, 951.0, 316.0, 25.0, 1110.0, 31545.0, 76.0, 1.0, 1004.0, 25.0, 400.0, 184.0, 95.0, 3493.0, 426.0, 691.0, 4.0, 49.0, 24.0, 26.0, 18.0, 167.0, 23.0, 4464.0, 516.0, 854.0, 275.0, 330.0, 3859.0, 2914.0, 988.0, 151.0, 88.0], \"type\": \"choropleth\"}], \"name\": \"2020-04-11\"}, {\"data\": [{\"coloraxis\": \"coloraxis\", \"geo\": \"geo\", \"hovertemplate\": \"<b>%{hovertext}</b><br><br>date=2020-04-12<br>iso_alpha=%{location}<br>Cases=%{z}<extra></extra>\", \"hovertext\": [\"Costa Rica\", \"Canada\", \"Colombia\", \"Australia\", \"Cuba\", \"Thailand\", \"Argentina\", \"Korea, Republic of\", \"Brazil\", \"Chile\", \"Netherlands\", \"Pakistan\", \"Spain\", \"India\", \"Ireland\", \"Paraguay\", \"Norway\", \"Germany\", \"Italy\", \"Sweden\", \"Belgium\", \"New Zealand\", \"South Africa\", \"United States\", \"Ethiopia\", \"Austria\", \"Peru\", \"Bolivia, Plurinational State of\", \"Czechia\", \"Japan\", \"Indonesia\", \"United Kingdom\", \"Malaysia\", \"Poland\"], \"locations\": [\"CRI\", \"CAN\", \"COL\", \"AUS\", \"CUB\", \"THA\", \"ARG\", \"KOR\", \"BRA\", \"CHL\", \"NLD\", \"PAK\", \"ESP\", \"IND\", \"IRL\", \"PRY\", \"NOR\", \"DEU\", \"ITA\", \"SWE\", \"BEL\", \"NZL\", \"ZAF\", \"USA\", \"ETH\", \"AUT\", \"PER\", \"BOL\", \"CZE\", \"JPN\", \"IDN\", \"GBR\", \"MYS\", \"POL\"], \"name\": \"\", \"z\": [19.0, 544.0, 48.0, 26.0, 57.0, 18.0, 67.0, 14.0, 1442.0, 286.0, 1003.0, 219.0, 3416.0, 758.0, 901.0, 13.0, 92.0, 1839.0, 3785.0, 346.0, 499.0, 20.0, 140.0, 27154.0, 2.0, 169.0, 677.0, 30.0, 123.0, 507.0, 399.0, 3376.0, 153.0, 346.0], \"type\": \"choropleth\"}], \"name\": \"2020-04-12\"}, {\"data\": [{\"coloraxis\": \"coloraxis\", \"geo\": \"geo\", \"hovertemplate\": \"<b>%{hovertext}</b><br><br>date=2020-04-13<br>iso_alpha=%{location}<br>Cases=%{z}<extra></extra>\", \"hovertext\": [\"Austria\", \"Argentina\", \"Poland\", \"Costa Rica\", \"Korea, Republic of\", \"Cuba\", \"Thailand\", \"Czechia\", \"Netherlands\", \"Bolivia, Plurinational State of\", \"Peru\", \"Japan\", \"Ethiopia\", \"United States\", \"New Zealand\", \"Sweden\", \"Belgium\", \"Italy\", \"Germany\", \"Norway\", \"Paraguay\", \"Ireland\", \"India\", \"Spain\", \"Chile\", \"Pakistan\", \"Indonesia\", \"South Africa\", \"Brazil\", \"Malaysia\", \"Canada\", \"United Kingdom\", \"Colombia\", \"Australia\"], \"locations\": [\"AUT\", \"ARG\", \"POL\", \"CRI\", \"KOR\", \"CUB\", \"THA\", \"CZE\", \"NLD\", \"BOL\", \"PER\", \"JPN\", \"ETH\", \"USA\", \"NZL\", \"SWE\", \"BEL\", \"ITA\", \"DEU\", \"NOR\", \"PRY\", \"IRL\", \"IND\", \"ESP\", \"CHL\", \"PAK\", \"IDN\", \"ZAF\", \"BRA\", \"MYS\", \"CAN\", \"GBR\", \"COL\", \"AUS\"], \"name\": \"\", \"z\": [112.0, 69.0, 283.0, 17.0, 19.0, 40.0, 10.0, 62.0, 822.0, 24.0, 2265.0, 301.0, 3.0, 25749.0, 11.0, 399.0, 522.0, 2938.0, 1592.0, 73.0, 12.0, 876.0, 1243.0, 3015.0, 312.0, 266.0, 313.0, 97.0, 1261.0, 134.0, 657.0, 4034.0, 58.0, 41.0], \"type\": \"choropleth\"}], \"name\": \"2020-04-13\"}, {\"data\": [{\"coloraxis\": \"coloraxis\", \"geo\": \"geo\", \"hovertemplate\": \"<b>%{hovertext}</b><br><br>date=2020-04-14<br>iso_alpha=%{location}<br>Cases=%{z}<extra></extra>\", \"hovertext\": [\"Chile\", \"Spain\", \"Sweden\", \"Belgium\", \"Ethiopia\", \"Czechia\", \"Cuba\", \"Paraguay\", \"Malaysia\", \"United Kingdom\", \"Australia\", \"Korea, Republic of\", \"Ireland\", \"Thailand\", \"Italy\", \"Netherlands\", \"Costa Rica\", \"Canada\", \"Indonesia\", \"Japan\", \"Norway\", \"Bolivia, Plurinational State of\", \"United States\", \"Brazil\", \"Colombia\", \"Peru\", \"South Africa\", \"Argentina\", \"Pakistan\", \"Germany\", \"Poland\", \"India\", \"New Zealand\"], \"locations\": [\"CHL\", \"ESP\", \"SWE\", \"BEL\", \"ETH\", \"CZE\", \"CUB\", \"PRY\", \"MYS\", \"GBR\", \"AUS\", \"KOR\", \"IRL\", \"THA\", \"ITA\", \"NLD\", \"CRI\", \"CAN\", \"IDN\", \"JPN\", \"NOR\", \"BOL\", \"USA\", \"BRA\", \"COL\", \"PER\", \"ZAF\", \"ARG\", \"PAK\", \"DEU\", \"POL\", \"IND\", \"NZL\"], \"name\": \"\", \"z\": [392.0, 3829.0, 504.0, 1460.0, 8.0, 95.0, 48.0, 2.0, 170.0, 3976.0, 49.0, 20.0, 1164.0, 25.0, 2833.0, 780.0, 8.0, 769.0, 291.0, 479.0, 77.0, 43.0, 26651.0, 1832.0, 128.0, 522.0, 142.0, 165.0, 341.0, 2481.0, 307.0, 1031.0, 16.0], \"type\": \"choropleth\"}], \"name\": \"2020-04-14\"}, {\"data\": [{\"coloraxis\": \"coloraxis\", \"geo\": \"geo\", \"hovertemplate\": \"<b>%{hovertext}</b><br><br>date=2020-04-15<br>iso_alpha=%{location}<br>Cases=%{z}<extra></extra>\", \"hovertext\": [\"United States\", \"Ethiopia\", \"India\", \"United Kingdom\", \"Chile\", \"Spain\", \"Netherlands\", \"Czechia\", \"Malaysia\", \"Bolivia, Plurinational State of\", \"Peru\", \"Thailand\", \"Pakistan\", \"South Africa\", \"Belgium\", \"Costa Rica\", \"Italy\", \"Germany\", \"Argentina\", \"Paraguay\", \"Indonesia\", \"Brazil\", \"Ireland\", \"Canada\", \"Korea, Republic of\", \"Australia\", \"Cuba\", \"Norway\", \"Japan\", \"Colombia\", \"Sweden\", \"New Zealand\", \"Poland\"], \"locations\": [\"USA\", \"ETH\", \"IND\", \"GBR\", \"CHL\", \"ESP\", \"NLD\", \"CZE\", \"MYS\", \"BOL\", \"PER\", \"THA\", \"PAK\", \"ZAF\", \"BEL\", \"CRI\", \"ITA\", \"DEU\", \"ARG\", \"PRY\", \"IDN\", \"BRA\", \"IRL\", \"CAN\", \"KOR\", \"AUS\", \"CUB\", \"NOR\", \"JPN\", \"COL\", \"SWE\", \"NZL\", \"POL\"], \"name\": \"\", \"z\": [29942.0, 3.0, 886.0, 5025.0, 356.0, 4382.0, 656.0, 142.0, 85.0, 44.0, 1173.0, 15.0, 546.0, 92.0, 1568.0, 8.0, 2501.0, 3308.0, 128.0, 13.0, 298.0, 3058.0, 587.0, 734.0, 23.0, 34.0, 48.0, 110.0, 543.0, 61.0, 488.0, 11.0, 443.0], \"type\": \"choropleth\"}], \"name\": \"2020-04-15\"}, {\"data\": [{\"coloraxis\": \"coloraxis\", \"geo\": \"geo\", \"hovertemplate\": \"<b>%{hovertext}</b><br><br>date=2020-04-16<br>iso_alpha=%{location}<br>Cases=%{z}<extra></extra>\", \"hovertext\": [\"Norway\", \"Peru\", \"Germany\", \"Malaysia\", \"India\", \"Canada\", \"United States\", \"Italy\", \"Sweden\", \"Belgium\", \"Paraguay\", \"Chile\", \"Ireland\", \"New Zealand\", \"South Africa\", \"Ethiopia\", \"Colombia\", \"United Kingdom\", \"Czechia\", \"Japan\", \"Argentina\", \"Indonesia\", \"Cuba\", \"Thailand\", \"Pakistan\", \"Brazil\", \"Netherlands\", \"Spain\", \"Australia\", \"Costa Rica\", \"Korea, Republic of\", \"Bolivia, Plurinational State of\", \"Poland\"], \"locations\": [\"NOR\", \"PER\", \"DEU\", \"MYS\", \"IND\", \"CAN\", \"USA\", \"ITA\", \"SWE\", \"BEL\", \"PRY\", \"CHL\", \"IRL\", \"NZL\", \"ZAF\", \"ETH\", \"COL\", \"GBR\", \"CZE\", \"JPN\", \"ARG\", \"IDN\", \"CUB\", \"THA\", \"PAK\", \"BRA\", \"NLD\", \"ESP\", \"AUS\", \"CRI\", \"KOR\", \"BOL\", \"POL\"], \"name\": \"\", \"z\": [111.0, 1019.0, 3412.0, 110.0, 1061.0, 735.0, 31497.0, 3558.0, 665.0, 1625.0, 25.0, 534.0, 734.0, 17.0, 101.0, 7.0, 128.0, 4427.0, 137.0, 579.0, 99.0, 380.0, 61.0, 12.0, 536.0, 2105.0, 918.0, 4617.0, 30.0, 16.0, 18.0, 24.0, 389.0], \"type\": \"choropleth\"}], \"name\": \"2020-04-16\"}, {\"data\": [{\"coloraxis\": \"coloraxis\", \"geo\": \"geo\", \"hovertemplate\": \"<b>%{hovertext}</b><br><br>date=2020-04-17<br>iso_alpha=%{location}<br>Cases=%{z}<extra></extra>\", \"hovertext\": [\"South Africa\", \"Bolivia, Plurinational State of\", \"Colombia\", \"Paraguay\", \"Canada\", \"United States\", \"Korea, Republic of\", \"Ireland\", \"Argentina\", \"Ethiopia\", \"Sweden\", \"Pakistan\", \"New Zealand\", \"United Kingdom\", \"Poland\", \"Cuba\", \"Chile\", \"Belgium\", \"Indonesia\", \"Australia\", \"Norway\", \"Thailand\", \"Netherlands\", \"Czechia\", \"Costa Rica\", \"Germany\", \"Malaysia\", \"Italy\", \"India\", \"Spain\", \"Brazil\", \"Japan\", \"Peru\"], \"locations\": [\"ZAF\", \"BOL\", \"COL\", \"PRY\", \"CAN\", \"USA\", \"KOR\", \"IRL\", \"ARG\", \"ETH\", \"SWE\", \"PAK\", \"NZL\", \"GBR\", \"POL\", \"CUB\", \"CHL\", \"BEL\", \"IDN\", \"AUS\", \"NOR\", \"THA\", \"NLD\", \"CZE\", \"CRI\", \"DEU\", \"MYS\", \"ITA\", \"IND\", \"ESP\", \"BRA\", \"JPN\", \"PER\"], \"name\": \"\", \"z\": [172.0, 28.0, 61.0, 3.0, 942.0, 31465.0, 11.0, 867.0, 89.0, 4.0, 633.0, 121.0, 12.0, 4348.0, 505.0, 63.0, 445.0, 1349.0, 406.0, 47.0, 106.0, 14.0, 1100.0, 125.0, 8.0, 3043.0, 69.0, 3312.0, 922.0, 5051.0, 3257.0, 555.0, 998.0], \"type\": \"choropleth\"}], \"name\": \"2020-04-17\"}, {\"data\": [{\"coloraxis\": \"coloraxis\", \"geo\": \"geo\", \"hovertemplate\": \"<b>%{hovertext}</b><br><br>date=2020-04-18<br>iso_alpha=%{location}<br>Cases=%{z}<extra></extra>\", \"hovertext\": [\"Poland\", \"Brazil\", \"New Zealand\", \"Germany\", \"Indonesia\", \"Norway\", \"Costa Rica\", \"Korea, Republic of\", \"Italy\", \"Ireland\", \"Belgium\", \"Paraguay\", \"Australia\", \"Spain\", \"Japan\", \"South Africa\", \"Malaysia\", \"India\", \"Peru\", \"Netherlands\", \"Czechia\", \"Argentina\", \"United Kingdom\", \"Colombia\", \"Thailand\", \"Ethiopia\", \"Bolivia, Plurinational State of\", \"Chile\", \"United States\", \"Cuba\", \"Pakistan\", \"Canada\", \"Sweden\"], \"locations\": [\"POL\", \"BRA\", \"NZL\", \"DEU\", \"IDN\", \"NOR\", \"CRI\", \"KOR\", \"ITA\", \"IRL\", \"BEL\", \"PRY\", \"AUS\", \"ESP\", \"JPN\", \"ZAF\", \"MYS\", \"IND\", \"PER\", \"NLD\", \"CZE\", \"ARG\", \"GBR\", \"COL\", \"THA\", \"ETH\", \"BOL\", \"CHL\", \"USA\", \"CUB\", \"PAK\", \"CAN\", \"SWE\"], \"name\": \"\", \"z\": [393.0, 2917.0, 10.0, 2083.0, 322.0, 92.0, 6.0, 15.0, 3275.0, 573.0, 690.0, 4.0, 42.0, 3666.0, 585.0, 241.0, 54.0, 1371.0, 931.0, 989.0, 114.0, 81.0, 3279.0, 71.0, 11.0, 9.0, 27.0, 478.0, 28320.0, 49.0, 613.0, 808.0, 652.0], \"type\": \"choropleth\"}], \"name\": \"2020-04-18\"}, {\"data\": [{\"coloraxis\": \"coloraxis\", \"geo\": \"geo\", \"hovertemplate\": \"<b>%{hovertext}</b><br><br>date=2020-04-19<br>iso_alpha=%{location}<br>Cases=%{z}<extra></extra>\", \"hovertext\": [\"Pakistan\", \"Netherlands\", \"Norway\", \"Chile\", \"Ireland\", \"India\", \"Argentina\", \"Malaysia\", \"Cuba\", \"Peru\", \"Germany\", \"Poland\", \"Japan\", \"Brazil\", \"Czechia\", \"Australia\", \"Canada\", \"Italy\", \"Bolivia, Plurinational State of\", \"United States\", \"Korea, Republic of\", \"Ethiopia\", \"Belgium\", \"Thailand\", \"Indonesia\", \"New Zealand\", \"South Africa\", \"United Kingdom\", \"Paraguay\", \"Sweden\", \"Costa Rica\", \"Colombia\"], \"locations\": [\"PAK\", \"NLD\", \"NOR\", \"CHL\", \"IRL\", \"IND\", \"ARG\", \"MYS\", \"CUB\", \"PER\", \"DEU\", \"POL\", \"JPN\", \"BRA\", \"CZE\", \"AUS\", \"CAN\", \"ITA\", \"BOL\", \"USA\", \"KOR\", \"ETH\", \"BEL\", \"THA\", \"IDN\", \"NZL\", \"ZAF\", \"GBR\", \"PRY\", \"SWE\", \"CRI\", \"COL\"], \"name\": \"\", \"z\": [710.0, 919.0, 84.0, 358.0, 279.0, 1580.0, 102.0, 84.0, 52.0, 1208.0, 1393.0, 600.0, 375.0, 2055.0, 64.0, 42.0, 800.0, 2760.0, 44.0, 25256.0, 6.0, 3.0, 440.0, 11.0, 327.0, 10.0, 116.0, 2665.0, 2.0, 521.0, 5.0, 98.0], \"type\": \"choropleth\"}], \"name\": \"2020-04-19\"}, {\"data\": [{\"coloraxis\": \"coloraxis\", \"geo\": \"geo\", \"hovertemplate\": \"<b>%{hovertext}</b><br><br>date=2020-04-20<br>iso_alpha=%{location}<br>Cases=%{z}<extra></extra>\", \"hovertext\": [\"India\", \"Canada\", \"Indonesia\", \"Norway\", \"Ethiopia\", \"Japan\", \"Malaysia\", \"Argentina\", \"Ireland\", \"Peru\", \"Colombia\", \"Czechia\", \"Thailand\", \"Bolivia, Plurinational State of\", \"Sweden\", \"New Zealand\", \"South Africa\", \"Netherlands\", \"United States\", \"Poland\", \"Cuba\", \"Korea, Republic of\", \"Germany\", \"Chile\", \"Brazil\", \"Italy\", \"Costa Rica\", \"Australia\", \"United Kingdom\", \"Belgium\"], \"locations\": [\"IND\", \"CAN\", \"IDN\", \"NOR\", \"ETH\", \"JPN\", \"MYS\", \"ARG\", \"IRL\", \"PER\", \"COL\", \"CZE\", \"THA\", \"BOL\", \"SWE\", \"NZL\", \"ZAF\", \"NLD\", \"USA\", \"POL\", \"CUB\", \"KOR\", \"DEU\", \"CHL\", \"BRA\", \"ITA\", \"CRI\", \"AUS\", \"GBR\", \"BEL\"], \"name\": \"\", \"z\": [1239.0, 882.0, 182.0, 44.0, 3.0, 342.0, 36.0, 90.0, 407.0, 697.0, 98.0, 98.0, 9.0, 34.0, 364.0, 3.0, 141.0, 656.0, 27243.0, 390.0, 50.0, 9.0, 1738.0, 419.0, 1927.0, 2131.0, 1.0, 13.0, 3865.0, 1228.0], \"type\": \"choropleth\"}], \"name\": \"2020-04-20\"}, {\"data\": [{\"coloraxis\": \"coloraxis\", \"geo\": \"geo\", \"hovertemplate\": \"<b>%{hovertext}</b><br><br>date=2020-04-21<br>iso_alpha=%{location}<br>Cases=%{z}<extra></extra>\", \"hovertext\": [\"Costa Rica\", \"Bolivia, Plurinational State of\", \"Korea, Republic of\", \"Indonesia\", \"Cuba\", \"Australia\", \"Poland\", \"Malaysia\", \"Pakistan\", \"Japan\", \"Brazil\", \"Thailand\", \"Argentina\", \"Ireland\", \"India\", \"Germany\", \"Chile\", \"Norway\", \"Italy\", \"Paraguay\", \"United Kingdom\", \"Belgium\", \"United States\", \"Canada\", \"New Zealand\", \"South Africa\", \"Ethiopia\", \"Sweden\", \"Czechia\", \"Colombia\", \"Peru\", \"Netherlands\"], \"locations\": [\"CRI\", \"BOL\", \"KOR\", \"IDN\", \"CUB\", \"AUS\", \"POL\", \"MYS\", \"PAK\", \"JPN\", \"BRA\", \"THA\", \"ARG\", \"IRL\", \"IND\", \"DEU\", \"CHL\", \"NOR\", \"ITA\", \"PRY\", \"GBR\", \"BEL\", \"USA\", \"CAN\", \"NZL\", \"ZAF\", \"ETH\", \"SWE\", \"CZE\", \"COL\", \"PER\", \"NLD\"], \"name\": \"\", \"z\": [7.0, 11.0, 6.0, 372.0, 52.0, 22.0, 358.0, 57.0, 1217.0, 389.0, 2498.0, 12.0, 113.0, 568.0, 1537.0, 2202.0, 325.0, 51.0, 2592.0, 5.0, 3868.0, 1213.0, 25784.0, 725.0, 6.0, 168.0, 3.0, 499.0, 116.0, 83.0, 1517.0, 651.0], \"type\": \"choropleth\"}], \"name\": \"2020-04-21\"}, {\"data\": [{\"coloraxis\": \"coloraxis\", \"geo\": \"geo\", \"hovertemplate\": \"<b>%{hovertext}</b><br><br>date=2020-04-22<br>iso_alpha=%{location}<br>Cases=%{z}<extra></extra>\", \"hovertext\": [\"South Africa\", \"United States\", \"Sweden\", \"Poland\", \"Argentina\", \"United Kingdom\", \"Thailand\", \"Peru\", \"Korea, Republic of\", \"Colombia\", \"Belgium\", \"Ethiopia\", \"Brazil\", \"Norway\", \"Italy\", \"Cuba\", \"Australia\", \"New Zealand\", \"Indonesia\", \"Costa Rica\", \"Malaysia\", \"Ireland\", \"Germany\", \"Czechia\", \"Canada\", \"Japan\", \"Chile\", \"Netherlands\", \"Bolivia, Plurinational State of\", \"India\"], \"locations\": [\"ZAF\", \"USA\", \"SWE\", \"POL\", \"ARG\", \"GBR\", \"THA\", \"PER\", \"KOR\", \"COL\", \"BEL\", \"ETH\", \"BRA\", \"NOR\", \"ITA\", \"CUB\", \"AUS\", \"NZL\", \"IDN\", \"CRI\", \"MYS\", \"IRL\", \"DEU\", \"CZE\", \"CAN\", \"JPN\", \"CHL\", \"NLD\", \"BOL\", \"IND\"], \"name\": \"\", \"z\": [213.0, 28709.0, 718.0, 379.0, 143.0, 3784.0, 6.0, 1413.0, 9.0, 74.0, 750.0, 2.0, 2678.0, 85.0, 3198.0, 46.0, 7.0, 5.0, 284.0, 11.0, 50.0, 981.0, 2499.0, 114.0, 1132.0, 406.0, 464.0, 621.0, 63.0, 1292.0], \"type\": \"choropleth\"}], \"name\": \"2020-04-22\"}, {\"data\": [{\"coloraxis\": \"coloraxis\", \"geo\": \"geo\", \"hovertemplate\": \"<b>%{hovertext}</b><br><br>date=2020-04-23<br>iso_alpha=%{location}<br>Cases=%{z}<extra></extra>\", \"hovertext\": [\"Peru\", \"Indonesia\", \"India\", \"United Kingdom\", \"New Zealand\", \"Italy\", \"Ireland\", \"Belgium\", \"Australia\", \"Costa Rica\", \"South Africa\", \"Colombia\", \"Bolivia, Plurinational State of\", \"Japan\", \"Korea, Republic of\", \"United States\", \"Cuba\", \"Chile\", \"Malaysia\", \"Sweden\", \"Brazil\", \"Poland\", \"Norway\", \"Paraguay\", \"Czechia\", \"Netherlands\", \"Germany\", \"Thailand\", \"Canada\", \"Argentina\"], \"locations\": [\"PER\", \"IDN\", \"IND\", \"GBR\", \"NZL\", \"ITA\", \"IRL\", \"BEL\", \"AUS\", \"CRI\", \"ZAF\", \"COL\", \"BOL\", \"JPN\", \"KOR\", \"USA\", \"CUB\", \"CHL\", \"MYS\", \"SWE\", \"BRA\", \"POL\", \"NOR\", \"PRY\", \"CZE\", \"NLD\", \"DEU\", \"THA\", \"CAN\", \"ARG\"], \"name\": \"\", \"z\": [1678.0, 357.0, 1667.0, 3495.0, 5.0, 2381.0, 559.0, 940.0, 8.0, 5.0, 318.0, 91.0, 31.0, 421.0, 6.0, 33405.0, 50.0, 516.0, 71.0, 743.0, 3735.0, 464.0, 97.0, 7.0, 118.0, 791.0, 2086.0, 8.0, 990.0, 147.0], \"type\": \"choropleth\"}], \"name\": \"2020-04-23\"}, {\"data\": [{\"coloraxis\": \"coloraxis\", \"geo\": \"geo\", \"hovertemplate\": \"<b>%{hovertext}</b><br><br>date=2020-04-24<br>iso_alpha=%{location}<br>Cases=%{z}<extra></extra>\", \"hovertext\": [\"New Zealand\", \"South Africa\", \"Netherlands\", \"Canada\", \"Colombia\", \"Australia\", \"Costa Rica\", \"Bolivia, Plurinational State of\", \"Korea, Republic of\", \"Malaysia\", \"Thailand\", \"Chile\", \"Czechia\", \"Japan\", \"Cuba\", \"Belgium\", \"Argentina\", \"United States\", \"Germany\", \"India\", \"Ethiopia\", \"Sweden\", \"Indonesia\", \"United Kingdom\", \"Poland\", \"Paraguay\", \"Norway\", \"Ireland\", \"Brazil\", \"Italy\", \"Peru\"], \"locations\": [\"NZL\", \"ZAF\", \"NLD\", \"CAN\", \"COL\", \"AUS\", \"CRI\", \"BOL\", \"KOR\", \"MYS\", \"THA\", \"CHL\", \"CZE\", \"JPN\", \"CUB\", \"BEL\", \"ARG\", \"USA\", \"DEU\", \"IND\", \"ETH\", \"SWE\", \"IDN\", \"GBR\", \"POL\", \"PRY\", \"NOR\", \"IRL\", \"BRA\", \"ITA\", \"PER\"], \"name\": \"\", \"z\": [6.0, 268.0, 689.0, 850.0, 101.0, 17.0, 1.0, 104.0, 5.0, 88.0, 7.0, 494.0, 104.0, 399.0, 52.0, 771.0, 173.0, 36661.0, 1890.0, 1408.0, 1.0, 844.0, 435.0, 3652.0, 499.0, 3.0, 63.0, 456.0, 3503.0, 2906.0, 734.0], \"type\": \"choropleth\"}], \"name\": \"2020-04-24\"}, {\"data\": [{\"coloraxis\": \"coloraxis\", \"geo\": \"geo\", \"hovertemplate\": \"<b>%{hovertext}</b><br><br>date=2020-04-25<br>iso_alpha=%{location}<br>Cases=%{z}<extra></extra>\", \"hovertext\": [\"Australia\", \"Netherlands\", \"Poland\", \"United States\", \"Malaysia\", \"Colombia\", \"Korea, Republic of\", \"Argentina\", \"Peru\", \"United Kingdom\", \"Belgium\", \"India\", \"Canada\", \"Czechia\", \"Brazil\", \"Sweden\", \"Norway\", \"Paraguay\", \"Ethiopia\", \"Germany\", \"Cuba\", \"Thailand\", \"Indonesia\", \"Costa Rica\", \"Ireland\", \"Chile\", \"Italy\", \"New Zealand\", \"Japan\", \"Bolivia, Plurinational State of\", \"South Africa\"], \"locations\": [\"AUS\", \"NLD\", \"POL\", \"USA\", \"MYS\", \"COL\", \"KOR\", \"ARG\", \"PER\", \"GBR\", \"BEL\", \"IND\", \"CAN\", \"CZE\", \"BRA\", \"SWE\", \"NOR\", \"PRY\", \"ETH\", \"DEU\", \"CUB\", \"THA\", \"IDN\", \"CRI\", \"IRL\", \"CHL\", \"ITA\", \"NZL\", \"JPN\", \"BOL\", \"ZAF\"], \"name\": \"\", \"z\": [18.0, 572.0, 445.0, 34240.0, 51.0, 137.0, 6.0, 173.0, 3683.0, 2574.0, 377.0, 1835.0, 766.0, 89.0, 5514.0, 595.0, 58.0, 5.0, 5.0, 1303.0, 32.0, 9.0, 394.0, 10.0, 668.0, 552.0, 2214.0, 6.0, 324.0, 59.0, 136.0], \"type\": \"choropleth\"}], \"name\": \"2020-04-25\"}, {\"data\": [{\"coloraxis\": \"coloraxis\", \"geo\": \"geo\", \"hovertemplate\": \"<b>%{hovertext}</b><br><br>date=2020-04-26<br>iso_alpha=%{location}<br>Cases=%{z}<extra></extra>\", \"hovertext\": [\"Japan\", \"Korea, Republic of\", \"Czechia\", \"Brazil\", \"Malaysia\", \"Colombia\", \"Sweden\", \"Bolivia, Plurinational State of\", \"Poland\", \"United States\", \"Ethiopia\", \"Australia\", \"Argentina\", \"Germany\", \"Cuba\", \"South Africa\", \"Canada\", \"India\", \"Indonesia\", \"Costa Rica\", \"Italy\", \"Ireland\", \"Belgium\", \"Thailand\", \"Netherlands\", \"Norway\", \"Peru\", \"Chile\", \"New Zealand\", \"United Kingdom\"], \"locations\": [\"JPN\", \"KOR\", \"CZE\", \"BRA\", \"MYS\", \"COL\", \"SWE\", \"BOL\", \"POL\", \"USA\", \"ETH\", \"AUS\", \"ARG\", \"DEU\", \"CUB\", \"ZAF\", \"CAN\", \"IND\", \"IDN\", \"CRI\", \"ITA\", \"IRL\", \"BEL\", \"THA\", \"NLD\", \"NOR\", \"PER\", \"CHL\", \"NZL\", \"GBR\"], \"name\": \"\", \"z\": [217.0, 9.0, 49.0, 3379.0, 38.0, 89.0, 486.0, 84.0, 433.0, 26541.0, 1.0, 19.0, 112.0, 697.0, 20.0, 192.0, 747.0, 1607.0, 272.0, 2.0, 2231.0, 291.0, 198.0, 8.0, 569.0, 38.0, 2186.0, 473.0, 3.0, 2017.0], \"type\": \"choropleth\"}], \"name\": \"2020-04-26\"}, {\"data\": [{\"coloraxis\": \"coloraxis\", \"geo\": \"geo\", \"hovertemplate\": \"<b>%{hovertext}</b><br><br>date=2020-04-27<br>iso_alpha=%{location}<br>Cases=%{z}<extra></extra>\", \"hovertext\": [\"Poland\", \"Norway\", \"Paraguay\", \"Ethiopia\", \"United States\", \"Germany\", \"Cuba\", \"Costa Rica\", \"Argentina\", \"Ireland\", \"Chile\", \"Sweden\", \"Australia\", \"Italy\", \"Colombia\", \"Canada\", \"South Africa\", \"Korea, Republic of\", \"Peru\", \"Bolivia, Plurinational State of\", \"Japan\", \"Belgium\", \"United Kingdom\", \"New Zealand\", \"Indonesia\", \"Brazil\", \"Czechia\", \"Malaysia\", \"Netherlands\", \"Thailand\"], \"locations\": [\"POL\", \"NOR\", \"PRY\", \"ETH\", \"USA\", \"DEU\", \"CUB\", \"CRI\", \"ARG\", \"IRL\", \"CHL\", \"SWE\", \"AUS\", \"ITA\", \"COL\", \"CAN\", \"ZAF\", \"KOR\", \"PER\", \"BOL\", \"JPN\", \"BEL\", \"GBR\", \"NZL\", \"IDN\", \"BRA\", \"CZE\", \"MYS\", \"NLD\", \"THA\"], \"name\": \"\", \"z\": [393.0, 28.0, 2.0, 1.0, 23203.0, 1122.0, 48.0, 2.0, 111.0, 342.0, 482.0, 275.0, 7.0, 1539.0, 89.0, 762.0, 250.0, 5.0, 1189.0, 64.0, 173.0, 717.0, 2946.0, 3.0, 214.0, 4613.0, 39.0, 40.0, 356.0, 7.0], \"type\": \"choropleth\"}], \"name\": \"2020-04-27\"}, {\"data\": [{\"coloraxis\": \"coloraxis\", \"geo\": \"geo\", \"hovertemplate\": \"<b>%{hovertext}</b><br><br>date=2020-04-28<br>iso_alpha=%{location}<br>Cases=%{z}<extra></extra>\", \"hovertext\": [\"United Kingdom\", \"South Africa\", \"United States\", \"Germany\", \"Bolivia, Plurinational State of\", \"Cuba\", \"Netherlands\", \"Canada\", \"Ireland\", \"Costa Rica\", \"Brazil\", \"Korea, Republic of\", \"Indonesia\", \"Peru\", \"Thailand\", \"Colombia\", \"Argentina\", \"New Zealand\", \"Czechia\", \"Paraguay\", \"Japan\", \"Australia\", \"Norway\", \"Belgium\", \"Chile\", \"Ethiopia\", \"Italy\", \"Sweden\", \"Malaysia\", \"Poland\"], \"locations\": [\"GBR\", \"ZAF\", \"USA\", \"DEU\", \"BOL\", \"CUB\", \"NLD\", \"CAN\", \"IRL\", \"CRI\", \"BRA\", \"KOR\", \"IDN\", \"PER\", \"THA\", \"COL\", \"ARG\", \"NZL\", \"CZE\", \"PRY\", \"JPN\", \"AUS\", \"NOR\", \"BEL\", \"CHL\", \"ETH\", \"ITA\", \"SWE\", \"MYS\", \"POL\"], \"name\": \"\", \"z\": [2980.0, 204.0, 24639.0, 1452.0, 39.0, 30.0, 167.0, 689.0, 388.0, 8.0, 5385.0, 11.0, 404.0, 2496.0, 5.0, 166.0, 124.0, 1.0, 55.0, 9.0, 279.0, 12.0, 72.0, 543.0, 552.0, 2.0, 2032.0, 707.0, 31.0, 562.0], \"type\": \"choropleth\"}], \"name\": \"2020-04-28\"}, {\"data\": [{\"coloraxis\": \"coloraxis\", \"geo\": \"geo\", \"hovertemplate\": \"<b>%{hovertext}</b><br><br>date=2020-04-29<br>iso_alpha=%{location}<br>Cases=%{z}<extra></extra>\", \"hovertext\": [\"Brazil\", \"Peru\", \"United States\", \"Canada\", \"Korea, Republic of\", \"Czechia\", \"Australia\", \"Ireland\", \"South Africa\", \"Italy\", \"New Zealand\", \"Chile\", \"Colombia\", \"Malaysia\", \"Cuba\", \"Paraguay\", \"Argentina\", \"Ethiopia\", \"United Kingdom\", \"Norway\", \"Poland\", \"Germany\", \"Bolivia, Plurinational State of\", \"Sweden\", \"Costa Rica\", \"Belgium\", \"Indonesia\", \"Netherlands\", \"Thailand\", \"Japan\"], \"locations\": [\"BRA\", \"PER\", \"USA\", \"CAN\", \"KOR\", \"CZE\", \"AUS\", \"IRL\", \"ZAF\", \"ITA\", \"NZL\", \"CHL\", \"COL\", \"MYS\", \"CUB\", \"PRY\", \"ARG\", \"ETH\", \"GBR\", \"NOR\", \"POL\", \"DEU\", \"BOL\", \"SWE\", \"CRI\", \"BEL\", \"IDN\", \"NLD\", \"THA\", \"JPN\"], \"name\": \"\", \"z\": [6276.0, 2741.0, 26631.0, 850.0, 6.0, 52.0, 13.0, 399.0, 352.0, 1984.0, 2.0, 520.0, 63.0, 94.0, 34.0, 10.0, 158.0, 4.0, 3001.0, 62.0, 578.0, 1435.0, 57.0, 646.0, 6.0, 495.0, 259.0, 346.0, 7.0, 220.0], \"type\": \"choropleth\"}], \"name\": \"2020-04-29\"}, {\"data\": [{\"coloraxis\": \"coloraxis\", \"geo\": \"geo\", \"hovertemplate\": \"<b>%{hovertext}</b><br><br>date=2020-04-30<br>iso_alpha=%{location}<br>Cases=%{z}<extra></extra>\", \"hovertext\": [\"Japan\", \"United States\", \"Colombia\", \"United Kingdom\", \"Bolivia, Plurinational State of\", \"Thailand\", \"South Africa\", \"Canada\", \"Ireland\", \"Italy\", \"Netherlands\", \"Poland\", \"Norway\", \"Malaysia\", \"Sweden\", \"Ethiopia\", \"Paraguay\", \"Cuba\", \"Germany\", \"Costa Rica\", \"Indonesia\", \"Belgium\", \"Chile\", \"Peru\", \"Australia\", \"Brazil\", \"Czechia\", \"New Zealand\", \"Argentina\"], \"locations\": [\"JPN\", \"USA\", \"COL\", \"GBR\", \"BOL\", \"THA\", \"ZAF\", \"CAN\", \"IRL\", \"ITA\", \"NLD\", \"POL\", \"NOR\", \"MYS\", \"SWE\", \"ETH\", \"PRY\", \"CUB\", \"DEU\", \"CRI\", \"IDN\", \"BEL\", \"CHL\", \"PER\", \"AUS\", \"BRA\", \"CZE\", \"NZL\", \"ARG\"], \"name\": \"\", \"z\": [199.0, 30342.0, 143.0, 2771.0, 57.0, 3.0, 297.0, 626.0, 232.0, 1767.0, 458.0, 482.0, 43.0, 57.0, 804.0, 1.0, 17.0, 36.0, 1466.0, 7.0, 347.0, 542.0, 1138.0, 3045.0, 9.0, 7218.0, 56.0, 3.0, 142.0], \"type\": \"choropleth\"}], \"name\": \"2020-04-30\"}, {\"data\": [{\"coloraxis\": \"coloraxis\", \"geo\": \"geo\", \"hovertemplate\": \"<b>%{hovertext}</b><br><br>date=2020-05-01<br>iso_alpha=%{location}<br>Cases=%{z}<extra></extra>\", \"hovertext\": [\"Indonesia\", \"Belgium\", \"Japan\", \"Norway\", \"Brazil\", \"Sweden\", \"Ethiopia\", \"Paraguay\", \"United Kingdom\", \"Cuba\", \"Czechia\", \"Italy\", \"Costa Rica\", \"Bolivia, Plurinational State of\", \"Canada\", \"New Zealand\", \"Ireland\", \"Germany\", \"South Africa\", \"Poland\", \"Colombia\", \"Peru\", \"Argentina\", \"United States\", \"Malaysia\", \"Chile\", \"Netherlands\", \"Australia\", \"Korea, Republic of\"], \"locations\": [\"IDN\", \"BEL\", \"JPN\", \"NOR\", \"BRA\", \"SWE\", \"ETH\", \"PRY\", \"GBR\", \"CUB\", \"CZE\", \"ITA\", \"CRI\", \"BOL\", \"CAN\", \"NZL\", \"IRL\", \"DEU\", \"ZAF\", \"POL\", \"COL\", \"PER\", \"ARG\", \"USA\", \"MYS\", \"CHL\", \"NLD\", \"AUS\", \"KOR\"], \"name\": \"\", \"z\": [424.0, 228.0, 265.0, 48.0, 5919.0, 447.0, 2.0, 67.0, 2578.0, 74.0, 57.0, 1896.0, 5.0, 62.0, 846.0, 6.0, 324.0, 912.0, 305.0, 367.0, 151.0, 3483.0, 104.0, 33923.0, 69.0, 985.0, 424.0, 12.0, 5.0], \"type\": \"choropleth\"}], \"name\": \"2020-05-01\"}, {\"data\": [{\"coloraxis\": \"coloraxis\", \"geo\": \"geo\", \"hovertemplate\": \"<b>%{hovertext}</b><br><br>date=2020-05-02<br>iso_alpha=%{location}<br>Cases=%{z}<extra></extra>\", \"hovertext\": [\"Sweden\", \"Malaysia\", \"Australia\", \"Bolivia, Plurinational State of\", \"Netherlands\", \"Canada\", \"Belgium\", \"United Kingdom\", \"South Africa\", \"Poland\", \"Paraguay\", \"Germany\", \"Italy\", \"Argentina\", \"Peru\", \"Indonesia\", \"Ireland\", \"Korea, Republic of\", \"Cuba\", \"Norway\", \"Czechia\", \"United States\", \"Colombia\", \"Chile\", \"Japan\"], \"locations\": [\"SWE\", \"MYS\", \"AUS\", \"BOL\", \"NLD\", \"CAN\", \"BEL\", \"GBR\", \"ZAF\", \"POL\", \"PRY\", \"DEU\", \"ITA\", \"ARG\", \"PER\", \"IDN\", \"IRL\", \"KOR\", \"CUB\", \"NOR\", \"CZE\", \"USA\", \"COL\", \"CHL\", \"JPN\"], \"name\": \"\", \"z\": [531.0, 105.0, 16.0, 241.0, 412.0, 570.0, 270.0, 1682.0, 385.0, 398.0, 37.0, 622.0, 1796.0, 148.0, 2075.0, 284.0, 373.0, 3.0, 38.0, 20.0, 31.0, 29284.0, 105.0, 1427.0, 302.0], \"type\": \"choropleth\"}], \"name\": \"2020-05-02\"}, {\"data\": [{\"coloraxis\": \"coloraxis\", \"geo\": \"geo\", \"hovertemplate\": \"<b>%{hovertext}</b><br><br>date=2020-05-03<br>iso_alpha=%{location}<br>Cases=%{z}<extra></extra>\", \"hovertext\": [\"Ethiopia\", \"South Africa\", \"Chile\", \"Poland\", \"Cuba\", \"Paraguay\", \"Bolivia, Plurinational State of\", \"Germany\", \"Canada\", \"Argentina\", \"Italy\", \"Thailand\", \"United States\", \"Peru\", \"Indonesia\", \"Ireland\", \"Belgium\", \"Czechia\", \"Korea, Republic of\", \"New Zealand\", \"Japan\", \"Malaysia\", \"Norway\", \"Australia\", \"United Kingdom\", \"Netherlands\", \"Colombia\", \"Sweden\"], \"locations\": [\"ETH\", \"ZAF\", \"CHL\", \"POL\", \"CUB\", \"PRY\", \"BOL\", \"DEU\", \"CAN\", \"ARG\", \"ITA\", \"THA\", \"USA\", \"PER\", \"IDN\", \"IRL\", \"BEL\", \"CZE\", \"KOR\", \"NZL\", \"JPN\", \"MYS\", \"NOR\", \"AUS\", \"GBR\", \"NLD\", \"COL\", \"SWE\"], \"name\": \"\", \"z\": [2.0, 447.0, 1228.0, 435.0, 19.0, 26.0, 124.0, 427.0, 357.0, 103.0, 1292.0, 1.0, 26019.0, 3394.0, 348.0, 225.0, 124.0, 17.0, 8.0, 1.0, 201.0, 122.0, 62.0, 18.0, 2484.0, 293.0, 126.0, 250.0], \"type\": \"choropleth\"}], \"name\": \"2020-05-03\"}, {\"data\": [{\"coloraxis\": \"coloraxis\", \"geo\": \"geo\", \"hovertemplate\": \"<b>%{hovertext}</b><br><br>date=2020-05-04<br>iso_alpha=%{location}<br>Cases=%{z}<extra></extra>\", \"hovertext\": [\"Malaysia\", \"Germany\", \"Czechia\", \"Peru\", \"Argentina\", \"Canada\", \"Norway\", \"Thailand\", \"Italy\", \"Australia\", \"United States\", \"Bolivia, Plurinational State of\", \"Belgium\", \"Colombia\", \"Paraguay\", \"Sweden\", \"Indonesia\", \"Ethiopia\", \"Netherlands\", \"Ireland\", \"Chile\", \"Poland\", \"South Africa\", \"United Kingdom\", \"Korea, Republic of\", \"Japan\", \"Cuba\"], \"locations\": [\"MYS\", \"DEU\", \"CZE\", \"PER\", \"ARG\", \"CAN\", \"NOR\", \"THA\", \"ITA\", \"AUS\", \"USA\", \"BOL\", \"BEL\", \"COL\", \"PRY\", \"SWE\", \"IDN\", \"ETH\", \"NLD\", \"IRL\", \"CHL\", \"POL\", \"ZAF\", \"GBR\", \"KOR\", \"JPN\", \"CUB\"], \"name\": \"\", \"z\": [55.0, 730.0, 44.0, 1444.0, 104.0, 724.0, 37.0, 55.0, 1223.0, 26.0, 21883.0, 87.0, 469.0, 63.0, 19.0, 370.0, 397.0, 5.0, 178.0, 249.0, 980.0, 472.0, 428.0, 2128.0, 4.0, 175.0, 17.0], \"type\": \"choropleth\"}], \"name\": \"2020-05-04\"}, {\"data\": [{\"coloraxis\": \"coloraxis\", \"geo\": \"geo\", \"hovertemplate\": \"<b>%{hovertext}</b><br><br>date=2020-05-05<br>iso_alpha=%{location}<br>Cases=%{z}<extra></extra>\", \"hovertext\": [\"Indonesia\", \"Sweden\", \"Czechia\", \"Canada\", \"Argentina\", \"Paraguay\", \"United States\", \"Norway\", \"Malaysia\", \"Ethiopia\", \"Chile\", \"Poland\", \"New Zealand\", \"Cuba\", \"Germany\", \"South Africa\", \"Netherlands\", \"United Kingdom\", \"Korea, Republic of\", \"Peru\", \"Australia\", \"Colombia\", \"Belgium\", \"Japan\", \"Italy\", \"Bolivia, Plurinational State of\"], \"locations\": [\"IDN\", \"SWE\", \"CZE\", \"CAN\", \"ARG\", \"PRY\", \"USA\", \"NOR\", \"MYS\", \"ETH\", \"CHL\", \"POL\", \"NZL\", \"CUB\", \"DEU\", \"ZAF\", \"NLD\", \"GBR\", \"KOR\", \"PER\", \"AUS\", \"COL\", \"BEL\", \"JPN\", \"ITA\", \"BOL\"], \"name\": \"\", \"z\": [478.0, 539.0, 74.0, 473.0, 134.0, 16.0, 23655.0, 56.0, 30.0, 5.0, 1373.0, 552.0, 2.0, 18.0, 1097.0, 362.0, 292.0, 2173.0, 1.0, 3817.0, 26.0, 286.0, 127.0, 119.0, 1062.0, 121.0], \"type\": \"choropleth\"}], \"name\": \"2020-05-05\"}, {\"data\": [{\"coloraxis\": \"coloraxis\", \"geo\": \"geo\", \"hovertemplate\": \"<b>%{hovertext}</b><br><br>date=2020-05-06<br>iso_alpha=%{location}<br>Cases=%{z}<extra></extra>\", \"hovertext\": [\"Chile\", \"Norway\", \"United States\", \"Belgium\", \"Colombia\", \"Canada\", \"Poland\", \"South Africa\", \"Netherlands\", \"Paraguay\", \"Bolivia, Plurinational State of\", \"Germany\", \"Argentina\", \"Ethiopia\", \"Italy\", \"Malaysia\", \"Peru\", \"Australia\", \"Indonesia\", \"Czechia\", \"Sweden\", \"Japan\", \"New Zealand\", \"United Kingdom\", \"Cuba\"], \"locations\": [\"CHL\", \"NOR\", \"USA\", \"BEL\", \"COL\", \"CAN\", \"POL\", \"ZAF\", \"NLD\", \"PRY\", \"BOL\", \"DEU\", \"ARG\", \"ETH\", \"ITA\", \"MYS\", \"PER\", \"AUS\", \"IDN\", \"CZE\", \"SWE\", \"JPN\", \"NZL\", \"GBR\", \"CUB\"], \"name\": \"\", \"z\": [1032.0, 51.0, 24460.0, 6.0, 138.0, 577.0, 458.0, 196.0, 224.0, 9.0, 84.0, 1204.0, 188.0, 17.0, 1404.0, 45.0, 3754.0, 24.0, 366.0, 72.0, 691.0, 102.0, 2.0, 2009.0, 26.0], \"type\": \"choropleth\"}], \"name\": \"2020-05-06\"}, {\"data\": [{\"coloraxis\": \"coloraxis\", \"geo\": \"geo\", \"hovertemplate\": \"<b>%{hovertext}</b><br><br>date=2020-05-07<br>iso_alpha=%{location}<br>Cases=%{z}<extra></extra>\", \"hovertext\": [\"Japan\", \"Bolivia, Plurinational State of\", \"Czechia\", \"Thailand\", \"United States\", \"Colombia\", \"Malaysia\", \"Netherlands\", \"Chile\", \"Sweden\", \"Australia\", \"South Africa\", \"Korea, Republic of\", \"United Kingdom\", \"Germany\", \"Poland\", \"Norway\", \"Italy\", \"Cuba\", \"Paraguay\", \"New Zealand\", \"Argentina\", \"Peru\", \"Indonesia\", \"Canada\"], \"locations\": [\"JPN\", \"BOL\", \"CZE\", \"THA\", \"USA\", \"COL\", \"MYS\", \"NLD\", \"CHL\", \"SWE\", \"AUS\", \"ZAF\", \"KOR\", \"GBR\", \"DEU\", \"POL\", \"NOR\", \"ITA\", \"CUB\", \"PRY\", \"NZL\", \"ARG\", \"PER\", \"IDN\", \"CAN\"], \"name\": \"\", \"z\": [94.0, 195.0, 60.0, 21.0, 28431.0, 182.0, 39.0, 402.0, 1533.0, 711.0, 21.0, 464.0, 3.0, 1961.0, 1184.0, 462.0, 41.0, 1367.0, 12.0, 22.0, 1.0, 163.0, 3714.0, 323.0, 595.0], \"type\": \"choropleth\"}], \"name\": \"2020-05-07\"}, {\"data\": [{\"coloraxis\": \"coloraxis\", \"geo\": \"geo\", \"hovertemplate\": \"<b>%{hovertext}</b><br><br>date=2020-05-08<br>iso_alpha=%{location}<br>Cases=%{z}<extra></extra>\", \"hovertext\": [\"South Africa\", \"Italy\", \"Cuba\", \"United States\", \"Australia\", \"Sweden\", \"Canada\", \"Netherlands\", \"Colombia\", \"New Zealand\", \"Thailand\", \"Czechia\", \"Japan\", \"Malaysia\", \"Norway\", \"Indonesia\", \"Poland\", \"Germany\", \"Peru\", \"Argentina\", \"Chile\", \"Paraguay\", \"Korea, Republic of\", \"Bolivia, Plurinational State of\", \"United Kingdom\"], \"locations\": [\"ZAF\", \"ITA\", \"CUB\", \"USA\", \"AUS\", \"SWE\", \"CAN\", \"NLD\", \"COL\", \"NZL\", \"THA\", \"CZE\", \"JPN\", \"MYS\", \"NOR\", \"IDN\", \"POL\", \"DEU\", \"PER\", \"ARG\", \"CHL\", \"PRY\", \"KOR\", \"BOL\", \"GBR\"], \"name\": \"\", \"z\": [664.0, 1305.0, 13.0, 27532.0, 17.0, 667.0, 555.0, 281.0, 222.0, 1.0, 3.0, 53.0, 88.0, 68.0, 38.0, 331.0, 456.0, 983.0, 3321.0, 240.0, 1391.0, 101.0, 9.0, 185.0, 1439.0], \"type\": \"choropleth\"}], \"name\": \"2020-05-08\"}, {\"data\": [{\"coloraxis\": \"coloraxis\", \"geo\": \"geo\", \"hovertemplate\": \"<b>%{hovertext}</b><br><br>date=2020-05-09<br>iso_alpha=%{location}<br>Cases=%{z}<extra></extra>\", \"hovertext\": [\"United States\", \"Czechia\", \"Peru\", \"Bolivia, Plurinational State of\", \"Thailand\", \"United Kingdom\", \"Colombia\", \"Japan\", \"New Zealand\", \"Paraguay\", \"Malaysia\", \"Argentina\", \"Sweden\", \"Norway\", \"Poland\", \"Australia\", \"Cuba\", \"South Africa\", \"Italy\", \"Indonesia\", \"Korea, Republic of\", \"Canada\", \"Germany\", \"Netherlands\", \"Chile\"], \"locations\": [\"USA\", \"CZE\", \"PER\", \"BOL\", \"THA\", \"GBR\", \"COL\", \"JPN\", \"NZL\", \"PRY\", \"MYS\", \"ARG\", \"SWE\", \"NOR\", \"POL\", \"AUS\", \"CUB\", \"ZAF\", \"ITA\", \"IDN\", \"KOR\", \"CAN\", \"DEU\", \"NLD\", \"CHL\"], \"name\": \"\", \"z\": [24819.0, 30.0, 3168.0, 171.0, 3.0, 1213.0, 230.0, 113.0, 1.0, 126.0, 54.0, 165.0, 586.0, 36.0, 457.0, 14.0, 12.0, 526.0, 1040.0, 530.0, 18.0, 406.0, 671.0, 257.0, 1247.0], \"type\": \"choropleth\"}], \"name\": \"2020-05-09\"}, {\"data\": [{\"coloraxis\": \"coloraxis\", \"geo\": \"geo\", \"hovertemplate\": \"<b>%{hovertext}</b><br><br>date=2020-05-10<br>iso_alpha=%{location}<br>Cases=%{z}<extra></extra>\", \"hovertext\": [\"Colombia\", \"Germany\", \"Malaysia\", \"Sweden\", \"Japan\", \"United Kingdom\", \"South Africa\", \"United States\", \"Paraguay\", \"Peru\", \"Argentina\", \"Poland\", \"Cuba\", \"Norway\", \"Italy\", \"New Zealand\", \"Australia\", \"Thailand\", \"Canada\", \"Chile\", \"Netherlands\", \"Bolivia, Plurinational State of\", \"Indonesia\", \"Czechia\", \"Korea, Republic of\"], \"locations\": [\"COL\", \"DEU\", \"MYS\", \"SWE\", \"JPN\", \"GBR\", \"ZAF\", \"USA\", \"PRY\", \"PER\", \"ARG\", \"POL\", \"CUB\", \"NOR\", \"ITA\", \"NZL\", \"AUS\", \"THA\", \"CAN\", \"CHL\", \"NLD\", \"BOL\", \"IDN\", \"CZE\", \"KOR\"], \"name\": \"\", \"z\": [67.0, 339.0, 67.0, 418.0, 68.0, 1095.0, 595.0, 20286.0, 24.0, 2292.0, 258.0, 407.0, 17.0, 30.0, 790.0, 3.0, 12.0, 2.0, 432.0, 1647.0, 226.0, 119.0, 380.0, 23.0, 28.0], \"type\": \"choropleth\"}], \"name\": \"2020-05-10\"}, {\"data\": [{\"coloraxis\": \"coloraxis\", \"geo\": \"geo\", \"hovertemplate\": \"<b>%{hovertext}</b><br><br>date=2020-05-11<br>iso_alpha=%{location}<br>Cases=%{z}<extra></extra>\", \"hovertext\": [\"Norway\", \"Cuba\", \"Canada\", \"United States\", \"Malaysia\", \"Indonesia\", \"Korea, Republic of\", \"United Kingdom\", \"Paraguay\", \"Bolivia, Plurinational State of\", \"Argentina\", \"Germany\", \"Chile\", \"Japan\", \"South Africa\", \"Peru\", \"Italy\", \"Colombia\", \"Sweden\", \"Netherlands\", \"Australia\", \"Thailand\", \"Czechia\", \"Poland\"], \"locations\": [\"NOR\", \"CUB\", \"CAN\", \"USA\", \"MYS\", \"IDN\", \"KOR\", \"GBR\", \"PRY\", \"BOL\", \"ARG\", \"DEU\", \"CHL\", \"JPN\", \"ZAF\", \"PER\", \"ITA\", \"COL\", \"SWE\", \"NLD\", \"AUS\", \"THA\", \"CZE\", \"POL\"], \"name\": \"\", \"z\": [6.0, 21.0, 439.0, 17557.0, 70.0, 227.0, 32.0, 1763.0, 11.0, 275.0, 244.0, 686.0, 1197.0, 43.0, 637.0, 1515.0, 715.0, 112.0, 393.0, 156.0, 7.0, 3.0, 47.0, 446.0], \"type\": \"choropleth\"}], \"name\": \"2020-05-11\"}, {\"data\": [{\"coloraxis\": \"coloraxis\", \"geo\": \"geo\", \"hovertemplate\": \"<b>%{hovertext}</b><br><br>date=2020-05-12<br>iso_alpha=%{location}<br>Cases=%{z}<extra></extra>\", \"hovertext\": [\"Colombia\", \"Canada\", \"United Kingdom\", \"Indonesia\", \"Sweden\", \"Korea, Republic of\", \"Germany\", \"Poland\", \"South Africa\", \"Malaysia\", \"Australia\", \"Peru\", \"Netherlands\", \"Cuba\", \"Argentina\", \"Japan\", \"Bolivia, Plurinational State of\", \"Czechia\", \"Paraguay\", \"Norway\", \"Italy\", \"United States\"], \"locations\": [\"COL\", \"CAN\", \"GBR\", \"IDN\", \"SWE\", \"KOR\", \"DEU\", \"POL\", \"ZAF\", \"MYS\", \"AUS\", \"PER\", \"NLD\", \"CUB\", \"ARG\", \"JPN\", \"BOL\", \"CZE\", \"PRY\", \"NOR\", \"ITA\", \"USA\"], \"name\": \"\", \"z\": [80.0, 402.0, 1557.0, 474.0, 581.0, 26.0, 842.0, 793.0, 698.0, 16.0, 22.0, 3237.0, 178.0, 6.0, 285.0, 79.0, 133.0, 42.0, 13.0, 28.0, 1397.0, 22248.0], \"type\": \"choropleth\"}], \"name\": \"2020-05-12\"}, {\"data\": [{\"coloraxis\": \"coloraxis\", \"geo\": \"geo\", \"hovertemplate\": \"<b>%{hovertext}</b><br><br>date=2020-05-13<br>iso_alpha=%{location}<br>Cases=%{z}<extra></extra>\", \"hovertext\": [\"Colombia\", \"Australia\", \"Italy\", \"Japan\", \"Cuba\", \"Poland\", \"Malaysia\", \"Peru\", \"Netherlands\", \"United States\", \"United Kingdom\", \"Paraguay\", \"Norway\", \"Canada\", \"Argentina\", \"South Africa\", \"Korea, Republic of\", \"Indonesia\", \"Germany\", \"Sweden\", \"Czechia\", \"Bolivia, Plurinational State of\"], \"locations\": [\"COL\", \"AUS\", \"ITA\", \"JPN\", \"CUB\", \"POL\", \"MYS\", \"PER\", \"NLD\", \"USA\", \"GBR\", \"PRY\", \"NOR\", \"CAN\", \"ARG\", \"ZAF\", \"KOR\", \"IDN\", \"DEU\", \"SWE\", \"CZE\", \"BOL\"], \"name\": \"\", \"z\": [97.0, 12.0, 866.0, 52.0, 20.0, 532.0, 35.0, 4247.0, 200.0, 21102.0, 1503.0, 3.0, 23.0, 444.0, 316.0, 724.0, 25.0, 677.0, 895.0, 641.0, 42.0, 184.0], \"type\": \"choropleth\"}], \"name\": \"2020-05-13\"}, {\"data\": [{\"coloraxis\": \"coloraxis\", \"geo\": \"geo\", \"hovertemplate\": \"<b>%{hovertext}</b><br><br>date=2020-05-14<br>iso_alpha=%{location}<br>Cases=%{z}<extra></extra>\", \"hovertext\": [\"South Africa\", \"Korea, Republic of\", \"Germany\", \"Czechia\", \"Poland\", \"Malaysia\", \"Norway\", \"Argentina\", \"Paraguay\", \"Peru\", \"Netherlands\", \"United States\", \"New Zealand\", \"Sweden\", \"Australia\", \"United Kingdom\", \"Japan\", \"Colombia\", \"Bolivia, Plurinational State of\", \"Canada\", \"Cuba\", \"Indonesia\", \"Italy\"], \"locations\": [\"ZAF\", \"KOR\", \"DEU\", \"CZE\", \"POL\", \"MYS\", \"NOR\", \"ARG\", \"PRY\", \"PER\", \"NLD\", \"USA\", \"NZL\", \"SWE\", \"AUS\", \"GBR\", \"JPN\", \"COL\", \"BOL\", \"CAN\", \"CUB\", \"IDN\", \"ITA\"], \"name\": \"\", \"z\": [665.0, 29.0, 801.0, 83.0, 605.0, 40.0, 17.0, 255.0, 14.0, 4298.0, 242.0, 26856.0, 1.0, 677.0, 14.0, 1228.0, 99.0, 168.0, 224.0, 433.0, 10.0, 565.0, 975.0], \"type\": \"choropleth\"}], \"name\": \"2020-05-14\"}, {\"data\": [{\"coloraxis\": \"coloraxis\", \"geo\": \"geo\", \"hovertemplate\": \"<b>%{hovertext}</b><br><br>date=2020-05-15<br>iso_alpha=%{location}<br>Cases=%{z}<extra></extra>\", \"hovertext\": [\"Peru\", \"Argentina\", \"Netherlands\", \"South Africa\", \"Malaysia\", \"Colombia\", \"Sweden\", \"Italy\", \"Czechia\", \"Canada\", \"Paraguay\", \"United States\", \"Bolivia, Plurinational State of\", \"Germany\", \"Cuba\", \"New Zealand\", \"Australia\", \"Korea, Republic of\", \"Poland\", \"Japan\", \"Norway\", \"United Kingdom\"], \"locations\": [\"PER\", \"ARG\", \"NLD\", \"ZAF\", \"MYS\", \"COL\", \"SWE\", \"ITA\", \"CZE\", \"CAN\", \"PRY\", \"USA\", \"BOL\", \"DEU\", \"CUB\", \"NZL\", \"AUS\", \"KOR\", \"POL\", \"JPN\", \"NOR\", \"GBR\"], \"name\": \"\", \"z\": [3891.0, 346.0, 184.0, 785.0, 36.0, 118.0, 658.0, 771.0, 43.0, 482.0, 5.0, 26109.0, 205.0, 696.0, 22.0, 1.0, 31.0, 26.0, 651.0, 48.0, 21.0, 1257.0], \"type\": \"choropleth\"}], \"name\": \"2020-05-15\"}, {\"data\": [{\"coloraxis\": \"coloraxis\", \"geo\": \"geo\", \"hovertemplate\": \"<b>%{hovertext}</b><br><br>date=2020-05-16<br>iso_alpha=%{location}<br>Cases=%{z}<extra></extra>\", \"hovertext\": [\"Paraguay\", \"South Africa\", \"United Kingdom\", \"Netherlands\", \"Czechia\", \"United States\", \"Canada\", \"Norway\", \"Colombia\", \"Peru\", \"Argentina\", \"Malaysia\", \"Italy\", \"Cuba\", \"Korea, Republic of\", \"Germany\", \"Bolivia, Plurinational State of\", \"Japan\", \"Australia\", \"Sweden\", \"Poland\"], \"locations\": [\"PRY\", \"ZAF\", \"GBR\", \"NLD\", \"CZE\", \"USA\", \"CAN\", \"NOR\", \"COL\", \"PER\", \"ARG\", \"MYS\", \"ITA\", \"CUB\", \"KOR\", \"DEU\", \"BOL\", \"JPN\", \"AUS\", \"SWE\", \"POL\"], \"name\": \"\", \"z\": [19.0, 831.0, 942.0, 177.0, 55.0, 23602.0, 470.0, 23.0, 62.0, 4046.0, 327.0, 19.0, 866.0, 10.0, 11.0, 459.0, 249.0, 54.0, 17.0, 457.0, 330.0], \"type\": \"choropleth\"}], \"name\": \"2020-05-16\"}, {\"data\": [{\"coloraxis\": \"coloraxis\", \"geo\": \"geo\", \"hovertemplate\": \"<b>%{hovertext}</b><br><br>date=2020-05-17<br>iso_alpha=%{location}<br>Cases=%{z}<extra></extra>\", \"hovertext\": [\"Norway\", \"United Kingdom\", \"Cuba\", \"Malaysia\", \"United States\", \"South Africa\", \"Colombia\", \"Italy\", \"Japan\", \"Australia\", \"Bolivia, Plurinational State of\", \"Germany\", \"Korea, Republic of\", \"Poland\", \"Argentina\", \"Peru\", \"Sweden\", \"Czechia\", \"Netherlands\", \"Canada\"], \"locations\": [\"NOR\", \"GBR\", \"CUB\", \"MYS\", \"USA\", \"ZAF\", \"COL\", \"ITA\", \"JPN\", \"AUS\", \"BOL\", \"DEU\", \"KOR\", \"POL\", \"ARG\", \"PER\", \"SWE\", \"CZE\", \"NLD\", \"CAN\"], \"name\": \"\", \"z\": [16.0, 928.0, 9.0, 22.0, 18942.0, 1160.0, 45.0, 666.0, 23.0, 9.0, 262.0, 310.0, 9.0, 421.0, 263.0, 3732.0, 423.0, 21.0, 113.0, 391.0], \"type\": \"choropleth\"}], \"name\": \"2020-05-17\"}, {\"data\": [{\"coloraxis\": \"coloraxis\", \"geo\": \"geo\", \"hovertemplate\": \"<b>%{hovertext}</b><br><br>date=2020-05-18<br>iso_alpha=%{location}<br>Cases=%{z}<extra></extra>\", \"hovertext\": [\"Bolivia, Plurinational State of\", \"United States\", \"Norway\", \"South Africa\", \"Czechia\", \"Germany\", \"Canada\", \"Cuba\", \"Italy\", \"Japan\", \"Colombia\", \"United Kingdom\", \"Poland\", \"Australia\", \"Sweden\", \"Argentina\", \"Netherlands\", \"Malaysia\", \"Peru\"], \"locations\": [\"BOL\", \"USA\", \"NOR\", \"ZAF\", \"CZE\", \"DEU\", \"CAN\", \"CUB\", \"ITA\", \"JPN\", \"COL\", \"GBR\", \"POL\", \"AUS\", \"SWE\", \"ARG\", \"NLD\", \"MYS\", \"PER\"], \"name\": \"\", \"z\": [175.0, 21763.0, 12.0, 918.0, 65.0, 531.0, 367.0, 6.0, 427.0, 31.0, 84.0, 1370.0, 594.0, 9.0, 264.0, 304.0, 132.0, 47.0, 2677.0], \"type\": \"choropleth\"}], \"name\": \"2020-05-18\"}, {\"data\": [{\"coloraxis\": \"coloraxis\", \"geo\": \"geo\", \"hovertemplate\": \"<b>%{hovertext}</b><br><br>date=2020-05-19<br>iso_alpha=%{location}<br>Cases=%{z}<extra></extra>\", \"hovertext\": [\"United States\", \"Netherlands\", \"Germany\", \"Norway\", \"South Africa\", \"Poland\", \"Japan\", \"Australia\", \"Bolivia, Plurinational State of\", \"Argentina\", \"Malaysia\", \"Italy\", \"Peru\", \"Canada\", \"Colombia\", \"United Kingdom\", \"Czechia\", \"Cuba\"], \"locations\": [\"USA\", \"NLD\", \"DEU\", \"NOR\", \"ZAF\", \"POL\", \"JPN\", \"AUS\", \"BOL\", \"ARG\", \"MYS\", \"ITA\", \"PER\", \"CAN\", \"COL\", \"GBR\", \"CZE\", \"CUB\"], \"name\": \"\", \"z\": [20857.0, 99.0, 727.0, 9.0, 767.0, 408.0, 27.0, 8.0, 218.0, 438.0, 37.0, 781.0, 4556.0, 545.0, 62.0, 1616.0, 80.0, 13.0], \"type\": \"choropleth\"}], \"name\": \"2020-05-19\"}, {\"data\": [{\"coloraxis\": \"coloraxis\", \"geo\": \"geo\", \"hovertemplate\": \"<b>%{hovertext}</b><br><br>date=2020-05-20<br>iso_alpha=%{location}<br>Cases=%{z}<extra></extra>\", \"hovertext\": [\"Czechia\", \"Poland\", \"Australia\", \"Argentina\", \"Canada\", \"Germany\", \"Cuba\", \"Italy\", \"Peru\", \"United States\", \"Bolivia, Plurinational State of\", \"United Kingdom\", \"Japan\", \"Netherlands\", \"South Africa\", \"Colombia\", \"Malaysia\"], \"locations\": [\"CZE\", \"POL\", \"AUS\", \"ARG\", \"CAN\", \"DEU\", \"CUB\", \"ITA\", \"PER\", \"USA\", \"BOL\", \"GBR\", \"JPN\", \"NLD\", \"ZAF\", \"COL\", \"MYS\"], \"name\": \"\", \"z\": [62.0, 602.0, 11.0, 476.0, 501.0, 787.0, 8.0, 632.0, 4537.0, 22802.0, 438.0, 1111.0, 38.0, 166.0, 804.0, 59.0, 32.0], \"type\": \"choropleth\"}], \"name\": \"2020-05-20\"}, {\"data\": [{\"coloraxis\": \"coloraxis\", \"geo\": \"geo\", \"hovertemplate\": \"<b>%{hovertext}</b><br><br>date=2020-05-21<br>iso_alpha=%{location}<br>Cases=%{z}<extra></extra>\", \"hovertext\": [\"Czechia\", \"Poland\", \"Colombia\", \"Japan\", \"Italy\", \"Argentina\", \"United Kingdom\", \"Australia\", \"United States\", \"Netherlands\", \"Canada\", \"Bolivia, Plurinational State of\", \"South Africa\", \"Peru\", \"Malaysia\", \"Cuba\", \"Germany\"], \"locations\": [\"CZE\", \"POL\", \"COL\", \"JPN\", \"ITA\", \"ARG\", \"GBR\", \"AUS\", \"USA\", \"NLD\", \"CAN\", \"BOL\", \"ZAF\", \"PER\", \"MYS\", \"CUB\", \"DEU\"], \"name\": \"\", \"z\": [53.0, 79.0, 72.0, 37.0, 626.0, 646.0, 702.0, 2.0, 25775.0, 201.0, 453.0, 268.0, 1135.0, 4750.0, 50.0, 8.0, 416.0], \"type\": \"choropleth\"}], \"name\": \"2020-05-21\"}, {\"data\": [{\"coloraxis\": \"coloraxis\", \"geo\": \"geo\", \"hovertemplate\": \"<b>%{hovertext}</b><br><br>date=2020-05-22<br>iso_alpha=%{location}<br>Cases=%{z}<extra></extra>\", \"hovertext\": [\"Argentina\", \"Peru\", \"Canada\", \"Malaysia\", \"Netherlands\", \"United Kingdom\", \"Australia\", \"Japan\", \"South Africa\", \"Colombia\", \"Cuba\", \"Germany\", \"Czechia\", \"United States\", \"Italy\", \"Bolivia, Plurinational State of\"], \"locations\": [\"ARG\", \"PER\", \"CAN\", \"MYS\", \"NLD\", \"GBR\", \"AUS\", \"JPN\", \"ZAF\", \"COL\", \"CUB\", \"DEU\", \"CZE\", \"USA\", \"ITA\", \"BOL\"], \"name\": \"\", \"z\": [718.0, 2929.0, 566.0, 78.0, 170.0, 362.0, 14.0, 23.0, 989.0, 35.0, 15.0, 510.0, 37.0, 23772.0, 604.0, 392.0], \"type\": \"choropleth\"}], \"name\": \"2020-05-22\"}, {\"data\": [{\"coloraxis\": \"coloraxis\", \"geo\": \"geo\", \"hovertemplate\": \"<b>%{hovertext}</b><br><br>date=2020-05-23<br>iso_alpha=%{location}<br>Cases=%{z}<extra></extra>\", \"hovertext\": [\"Cuba\", \"Peru\", \"Bolivia, Plurinational State of\", \"United Kingdom\", \"Germany\", \"Netherlands\", \"United States\", \"South Africa\", \"Colombia\", \"Italy\", \"Czechia\", \"Argentina\", \"Australia\", \"Japan\", \"Canada\"], \"locations\": [\"CUB\", \"PER\", \"BOL\", \"GBR\", \"DEU\", \"NLD\", \"USA\", \"ZAF\", \"COL\", \"ITA\", \"CZE\", \"ARG\", \"AUS\", \"JPN\", \"CAN\"], \"name\": \"\", \"z\": [10.0, 4134.0, 336.0, 73.0, 263.0, 166.0, 22117.0, 1219.0, 171.0, 652.0, 60.0, 704.0, 16.0, 24.0, 503.0], \"type\": \"choropleth\"}], \"name\": \"2020-05-23\"}, {\"data\": [{\"coloraxis\": \"coloraxis\", \"geo\": \"geo\", \"hovertemplate\": \"<b>%{hovertext}</b><br><br>date=2020-05-24<br>iso_alpha=%{location}<br>Cases=%{z}<extra></extra>\", \"hovertext\": [\"Czechia\", \"Bolivia, Plurinational State of\", \"Netherlands\", \"Japan\", \"Canada\", \"Peru\", \"Germany\", \"South Africa\", \"Italy\", \"Australia\", \"United Kingdom\"], \"locations\": [\"CZE\", \"BOL\", \"NLD\", \"JPN\", \"CAN\", \"PER\", \"DEU\", \"ZAF\", \"ITA\", \"AUS\", \"GBR\"], \"name\": \"\", \"z\": [31.0, 348.0, 133.0, 39.0, 383.0, 4205.0, 160.0, 1240.0, 517.0, 3.0, 26.0], \"type\": \"choropleth\"}], \"name\": \"2020-05-24\"}, {\"data\": [{\"coloraxis\": \"coloraxis\", \"geo\": \"geo\", \"hovertemplate\": \"<b>%{hovertext}</b><br><br>date=2020-05-25<br>iso_alpha=%{location}<br>Cases=%{z}<extra></extra>\", \"hovertext\": [\"Japan\", \"Czechia\"], \"locations\": [\"JPN\", \"CZE\"], \"name\": \"\", \"z\": [16.0, 2.0], \"type\": \"choropleth\"}], \"name\": \"2020-05-25\"}]);\n",
       "                        }).then(function(){\n",
       "                            \n",
       "var gd = document.getElementById('b7e051a3-98ac-4725-a13a-c7e5835c02d1');\n",
       "var x = new MutationObserver(function (mutations, observer) {{\n",
       "        var display = window.getComputedStyle(gd).display;\n",
       "        if (!display || display === 'none') {{\n",
       "            console.log([gd, 'removed!']);\n",
       "            Plotly.purge(gd);\n",
       "            observer.disconnect();\n",
       "        }}\n",
       "}});\n",
       "\n",
       "// Listen for the removal of the full notebook cells\n",
       "var notebookContainer = gd.closest('#notebook-container');\n",
       "if (notebookContainer) {{\n",
       "    x.observe(notebookContainer, {childList: true});\n",
       "}}\n",
       "\n",
       "// Listen for the clearing of the current output cell\n",
       "var outputEl = gd.closest('.output');\n",
       "if (outputEl) {{\n",
       "    x.observe(outputEl, {childList: true});\n",
       "}}\n",
       "\n",
       "                        })\n",
       "                };\n",
       "                });\n",
       "            </script>\n",
       "        </div>"
      ]
     },
     "metadata": {},
     "output_type": "display_data"
    }
   ],
   "source": [
    "fig = px.choropleth(data_frame = df_dailycases,\n",
    "                    locations= \"iso_alpha\",\n",
    "                    color= \"Cases\",  \n",
    "                    hover_name= \"state\",\n",
    "                    color_continuous_scale= 'rdylbu_r',\n",
    "                    range_color=[0,1000], # red also over 1k of cases\n",
    "                    animation_frame= \"date\")\n",
    "\n",
    "fig.show()"
   ]
  },
  {
   "cell_type": "markdown",
   "metadata": {},
   "source": [
    "-------------"
   ]
  }
 ],
 "metadata": {
  "kernelspec": {
   "display_name": "Python 3",
   "language": "python",
   "name": "python3"
  },
  "language_info": {
   "codemirror_mode": {
    "name": "ipython",
    "version": 3
   },
   "file_extension": ".py",
   "mimetype": "text/x-python",
   "name": "python",
   "nbconvert_exporter": "python",
   "pygments_lexer": "ipython3",
   "version": "3.7.6"
  }
 },
 "nbformat": 4,
 "nbformat_minor": 4
}
